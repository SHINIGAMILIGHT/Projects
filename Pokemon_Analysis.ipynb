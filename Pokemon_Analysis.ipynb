{
  "nbformat": 4,
  "nbformat_minor": 0,
  "metadata": {
    "colab": {
      "provenance": [],
      "authorship_tag": "ABX9TyNN6CJvA2/VnsgIbFjuCeDD",
      "include_colab_link": true
    },
    "kernelspec": {
      "name": "python3",
      "display_name": "Python 3"
    },
    "language_info": {
      "name": "python"
    }
  },
  "cells": [
    {
      "cell_type": "markdown",
      "metadata": {
        "id": "view-in-github",
        "colab_type": "text"
      },
      "source": [
        "<a href=\"https://colab.research.google.com/github/SHINIGAMILIGHT/Projects/blob/main/Pokemon_Analysis.ipynb\" target=\"_parent\"><img src=\"https://colab.research.google.com/assets/colab-badge.svg\" alt=\"Open In Colab\"/></a>"
      ]
    },
    {
      "cell_type": "code",
      "execution_count": null,
      "metadata": {
        "id": "nH-UvVZylW0o"
      },
      "outputs": [],
      "source": [
        "import numpy as np\n",
        "import pandas as pd\n",
        "import requests\n",
        "import plotly.express as px\n",
        "from plotly.subplots import make_subplots\n",
        "import seaborn as sns\n",
        "import matplotlib.pyplot as plt\n",
        "%matplotlib inline\n",
        "import os\n",
        "from sklearn.cluster import KMeans"
      ]
    },
    {
      "cell_type": "code",
      "source": [
        "from google.colab import drive\n",
        "drive.mount('/content/drive')\n"
      ],
      "metadata": {
        "colab": {
          "base_uri": "https://localhost:8080/"
        },
        "id": "g95lw6T5tFTx",
        "outputId": "c01beeb1-9fef-46df-d0d2-60454c1ac61e"
      },
      "execution_count": null,
      "outputs": [
        {
          "output_type": "stream",
          "name": "stdout",
          "text": [
            "Mounted at /content/drive\n"
          ]
        }
      ]
    },
    {
      "cell_type": "code",
      "source": [
        "pok =pd.read_csv(\"drive/My Drive/Colab/Pokemon.csv\")\n",
        "pok"
      ],
      "metadata": {
        "colab": {
          "base_uri": "https://localhost:8080/",
          "height": 424
        },
        "id": "JTNyLHC8trPy",
        "outputId": "92edf971-2329-415b-d0e5-57239988f826"
      },
      "execution_count": null,
      "outputs": [
        {
          "output_type": "execute_result",
          "data": {
            "text/plain": [
              "       #                   Name   Type 1  Type 2  Total  HP  Attack  Defense  \\\n",
              "0      1              Bulbasaur    Grass  Poison    318  45      49       49   \n",
              "1      2                Ivysaur    Grass  Poison    405  60      62       63   \n",
              "2      3               Venusaur    Grass  Poison    525  80      82       83   \n",
              "3      3  VenusaurMega Venusaur    Grass  Poison    625  80     100      123   \n",
              "4      4             Charmander     Fire     NaN    309  39      52       43   \n",
              "..   ...                    ...      ...     ...    ...  ..     ...      ...   \n",
              "795  719                Diancie     Rock   Fairy    600  50     100      150   \n",
              "796  719    DiancieMega Diancie     Rock   Fairy    700  50     160      110   \n",
              "797  720    HoopaHoopa Confined  Psychic   Ghost    600  80     110       60   \n",
              "798  720     HoopaHoopa Unbound  Psychic    Dark    680  80     160       60   \n",
              "799  721              Volcanion     Fire   Water    600  80     110      120   \n",
              "\n",
              "     Sp. Atk  Sp. Def  Speed  Generation  Legendary  \n",
              "0         65       65     45           1      False  \n",
              "1         80       80     60           1      False  \n",
              "2        100      100     80           1      False  \n",
              "3        122      120     80           1      False  \n",
              "4         60       50     65           1      False  \n",
              "..       ...      ...    ...         ...        ...  \n",
              "795      100      150     50           6       True  \n",
              "796      160      110    110           6       True  \n",
              "797      150      130     70           6       True  \n",
              "798      170      130     80           6       True  \n",
              "799      130       90     70           6       True  \n",
              "\n",
              "[800 rows x 13 columns]"
            ],
            "text/html": [
              "\n",
              "  <div id=\"df-73f812a2-2bfb-42b5-bba7-62f71f2fd9dc\">\n",
              "    <div class=\"colab-df-container\">\n",
              "      <div>\n",
              "<style scoped>\n",
              "    .dataframe tbody tr th:only-of-type {\n",
              "        vertical-align: middle;\n",
              "    }\n",
              "\n",
              "    .dataframe tbody tr th {\n",
              "        vertical-align: top;\n",
              "    }\n",
              "\n",
              "    .dataframe thead th {\n",
              "        text-align: right;\n",
              "    }\n",
              "</style>\n",
              "<table border=\"1\" class=\"dataframe\">\n",
              "  <thead>\n",
              "    <tr style=\"text-align: right;\">\n",
              "      <th></th>\n",
              "      <th>#</th>\n",
              "      <th>Name</th>\n",
              "      <th>Type 1</th>\n",
              "      <th>Type 2</th>\n",
              "      <th>Total</th>\n",
              "      <th>HP</th>\n",
              "      <th>Attack</th>\n",
              "      <th>Defense</th>\n",
              "      <th>Sp. Atk</th>\n",
              "      <th>Sp. Def</th>\n",
              "      <th>Speed</th>\n",
              "      <th>Generation</th>\n",
              "      <th>Legendary</th>\n",
              "    </tr>\n",
              "  </thead>\n",
              "  <tbody>\n",
              "    <tr>\n",
              "      <th>0</th>\n",
              "      <td>1</td>\n",
              "      <td>Bulbasaur</td>\n",
              "      <td>Grass</td>\n",
              "      <td>Poison</td>\n",
              "      <td>318</td>\n",
              "      <td>45</td>\n",
              "      <td>49</td>\n",
              "      <td>49</td>\n",
              "      <td>65</td>\n",
              "      <td>65</td>\n",
              "      <td>45</td>\n",
              "      <td>1</td>\n",
              "      <td>False</td>\n",
              "    </tr>\n",
              "    <tr>\n",
              "      <th>1</th>\n",
              "      <td>2</td>\n",
              "      <td>Ivysaur</td>\n",
              "      <td>Grass</td>\n",
              "      <td>Poison</td>\n",
              "      <td>405</td>\n",
              "      <td>60</td>\n",
              "      <td>62</td>\n",
              "      <td>63</td>\n",
              "      <td>80</td>\n",
              "      <td>80</td>\n",
              "      <td>60</td>\n",
              "      <td>1</td>\n",
              "      <td>False</td>\n",
              "    </tr>\n",
              "    <tr>\n",
              "      <th>2</th>\n",
              "      <td>3</td>\n",
              "      <td>Venusaur</td>\n",
              "      <td>Grass</td>\n",
              "      <td>Poison</td>\n",
              "      <td>525</td>\n",
              "      <td>80</td>\n",
              "      <td>82</td>\n",
              "      <td>83</td>\n",
              "      <td>100</td>\n",
              "      <td>100</td>\n",
              "      <td>80</td>\n",
              "      <td>1</td>\n",
              "      <td>False</td>\n",
              "    </tr>\n",
              "    <tr>\n",
              "      <th>3</th>\n",
              "      <td>3</td>\n",
              "      <td>VenusaurMega Venusaur</td>\n",
              "      <td>Grass</td>\n",
              "      <td>Poison</td>\n",
              "      <td>625</td>\n",
              "      <td>80</td>\n",
              "      <td>100</td>\n",
              "      <td>123</td>\n",
              "      <td>122</td>\n",
              "      <td>120</td>\n",
              "      <td>80</td>\n",
              "      <td>1</td>\n",
              "      <td>False</td>\n",
              "    </tr>\n",
              "    <tr>\n",
              "      <th>4</th>\n",
              "      <td>4</td>\n",
              "      <td>Charmander</td>\n",
              "      <td>Fire</td>\n",
              "      <td>NaN</td>\n",
              "      <td>309</td>\n",
              "      <td>39</td>\n",
              "      <td>52</td>\n",
              "      <td>43</td>\n",
              "      <td>60</td>\n",
              "      <td>50</td>\n",
              "      <td>65</td>\n",
              "      <td>1</td>\n",
              "      <td>False</td>\n",
              "    </tr>\n",
              "    <tr>\n",
              "      <th>...</th>\n",
              "      <td>...</td>\n",
              "      <td>...</td>\n",
              "      <td>...</td>\n",
              "      <td>...</td>\n",
              "      <td>...</td>\n",
              "      <td>...</td>\n",
              "      <td>...</td>\n",
              "      <td>...</td>\n",
              "      <td>...</td>\n",
              "      <td>...</td>\n",
              "      <td>...</td>\n",
              "      <td>...</td>\n",
              "      <td>...</td>\n",
              "    </tr>\n",
              "    <tr>\n",
              "      <th>795</th>\n",
              "      <td>719</td>\n",
              "      <td>Diancie</td>\n",
              "      <td>Rock</td>\n",
              "      <td>Fairy</td>\n",
              "      <td>600</td>\n",
              "      <td>50</td>\n",
              "      <td>100</td>\n",
              "      <td>150</td>\n",
              "      <td>100</td>\n",
              "      <td>150</td>\n",
              "      <td>50</td>\n",
              "      <td>6</td>\n",
              "      <td>True</td>\n",
              "    </tr>\n",
              "    <tr>\n",
              "      <th>796</th>\n",
              "      <td>719</td>\n",
              "      <td>DiancieMega Diancie</td>\n",
              "      <td>Rock</td>\n",
              "      <td>Fairy</td>\n",
              "      <td>700</td>\n",
              "      <td>50</td>\n",
              "      <td>160</td>\n",
              "      <td>110</td>\n",
              "      <td>160</td>\n",
              "      <td>110</td>\n",
              "      <td>110</td>\n",
              "      <td>6</td>\n",
              "      <td>True</td>\n",
              "    </tr>\n",
              "    <tr>\n",
              "      <th>797</th>\n",
              "      <td>720</td>\n",
              "      <td>HoopaHoopa Confined</td>\n",
              "      <td>Psychic</td>\n",
              "      <td>Ghost</td>\n",
              "      <td>600</td>\n",
              "      <td>80</td>\n",
              "      <td>110</td>\n",
              "      <td>60</td>\n",
              "      <td>150</td>\n",
              "      <td>130</td>\n",
              "      <td>70</td>\n",
              "      <td>6</td>\n",
              "      <td>True</td>\n",
              "    </tr>\n",
              "    <tr>\n",
              "      <th>798</th>\n",
              "      <td>720</td>\n",
              "      <td>HoopaHoopa Unbound</td>\n",
              "      <td>Psychic</td>\n",
              "      <td>Dark</td>\n",
              "      <td>680</td>\n",
              "      <td>80</td>\n",
              "      <td>160</td>\n",
              "      <td>60</td>\n",
              "      <td>170</td>\n",
              "      <td>130</td>\n",
              "      <td>80</td>\n",
              "      <td>6</td>\n",
              "      <td>True</td>\n",
              "    </tr>\n",
              "    <tr>\n",
              "      <th>799</th>\n",
              "      <td>721</td>\n",
              "      <td>Volcanion</td>\n",
              "      <td>Fire</td>\n",
              "      <td>Water</td>\n",
              "      <td>600</td>\n",
              "      <td>80</td>\n",
              "      <td>110</td>\n",
              "      <td>120</td>\n",
              "      <td>130</td>\n",
              "      <td>90</td>\n",
              "      <td>70</td>\n",
              "      <td>6</td>\n",
              "      <td>True</td>\n",
              "    </tr>\n",
              "  </tbody>\n",
              "</table>\n",
              "<p>800 rows × 13 columns</p>\n",
              "</div>\n",
              "      <button class=\"colab-df-convert\" onclick=\"convertToInteractive('df-73f812a2-2bfb-42b5-bba7-62f71f2fd9dc')\"\n",
              "              title=\"Convert this dataframe to an interactive table.\"\n",
              "              style=\"display:none;\">\n",
              "        \n",
              "  <svg xmlns=\"http://www.w3.org/2000/svg\" height=\"24px\"viewBox=\"0 0 24 24\"\n",
              "       width=\"24px\">\n",
              "    <path d=\"M0 0h24v24H0V0z\" fill=\"none\"/>\n",
              "    <path d=\"M18.56 5.44l.94 2.06.94-2.06 2.06-.94-2.06-.94-.94-2.06-.94 2.06-2.06.94zm-11 1L8.5 8.5l.94-2.06 2.06-.94-2.06-.94L8.5 2.5l-.94 2.06-2.06.94zm10 10l.94 2.06.94-2.06 2.06-.94-2.06-.94-.94-2.06-.94 2.06-2.06.94z\"/><path d=\"M17.41 7.96l-1.37-1.37c-.4-.4-.92-.59-1.43-.59-.52 0-1.04.2-1.43.59L10.3 9.45l-7.72 7.72c-.78.78-.78 2.05 0 2.83L4 21.41c.39.39.9.59 1.41.59.51 0 1.02-.2 1.41-.59l7.78-7.78 2.81-2.81c.8-.78.8-2.07 0-2.86zM5.41 20L4 18.59l7.72-7.72 1.47 1.35L5.41 20z\"/>\n",
              "  </svg>\n",
              "      </button>\n",
              "      \n",
              "  <style>\n",
              "    .colab-df-container {\n",
              "      display:flex;\n",
              "      flex-wrap:wrap;\n",
              "      gap: 12px;\n",
              "    }\n",
              "\n",
              "    .colab-df-convert {\n",
              "      background-color: #E8F0FE;\n",
              "      border: none;\n",
              "      border-radius: 50%;\n",
              "      cursor: pointer;\n",
              "      display: none;\n",
              "      fill: #1967D2;\n",
              "      height: 32px;\n",
              "      padding: 0 0 0 0;\n",
              "      width: 32px;\n",
              "    }\n",
              "\n",
              "    .colab-df-convert:hover {\n",
              "      background-color: #E2EBFA;\n",
              "      box-shadow: 0px 1px 2px rgba(60, 64, 67, 0.3), 0px 1px 3px 1px rgba(60, 64, 67, 0.15);\n",
              "      fill: #174EA6;\n",
              "    }\n",
              "\n",
              "    [theme=dark] .colab-df-convert {\n",
              "      background-color: #3B4455;\n",
              "      fill: #D2E3FC;\n",
              "    }\n",
              "\n",
              "    [theme=dark] .colab-df-convert:hover {\n",
              "      background-color: #434B5C;\n",
              "      box-shadow: 0px 1px 3px 1px rgba(0, 0, 0, 0.15);\n",
              "      filter: drop-shadow(0px 1px 2px rgba(0, 0, 0, 0.3));\n",
              "      fill: #FFFFFF;\n",
              "    }\n",
              "  </style>\n",
              "\n",
              "      <script>\n",
              "        const buttonEl =\n",
              "          document.querySelector('#df-73f812a2-2bfb-42b5-bba7-62f71f2fd9dc button.colab-df-convert');\n",
              "        buttonEl.style.display =\n",
              "          google.colab.kernel.accessAllowed ? 'block' : 'none';\n",
              "\n",
              "        async function convertToInteractive(key) {\n",
              "          const element = document.querySelector('#df-73f812a2-2bfb-42b5-bba7-62f71f2fd9dc');\n",
              "          const dataTable =\n",
              "            await google.colab.kernel.invokeFunction('convertToInteractive',\n",
              "                                                     [key], {});\n",
              "          if (!dataTable) return;\n",
              "\n",
              "          const docLinkHtml = 'Like what you see? Visit the ' +\n",
              "            '<a target=\"_blank\" href=https://colab.research.google.com/notebooks/data_table.ipynb>data table notebook</a>'\n",
              "            + ' to learn more about interactive tables.';\n",
              "          element.innerHTML = '';\n",
              "          dataTable['output_type'] = 'display_data';\n",
              "          await google.colab.output.renderOutput(dataTable, element);\n",
              "          const docLink = document.createElement('div');\n",
              "          docLink.innerHTML = docLinkHtml;\n",
              "          element.appendChild(docLink);\n",
              "        }\n",
              "      </script>\n",
              "    </div>\n",
              "  </div>\n",
              "  "
            ]
          },
          "metadata": {},
          "execution_count": 4
        }
      ]
    },
    {
      "cell_type": "code",
      "source": [
        "px.parallel_categories(pok, color=\"Generation\",color_continuous_scale=px.colors.sequential.Purpor)"
      ],
      "metadata": {
        "colab": {
          "base_uri": "https://localhost:8080/",
          "height": 542
        },
        "id": "4DL57nIQy1pf",
        "outputId": "03ad7704-d8e0-47df-cba6-989bb8017b53"
      },
      "execution_count": null,
      "outputs": [
        {
          "output_type": "display_data",
          "data": {
            "text/html": [
              "<html>\n",
              "<head><meta charset=\"utf-8\" /></head>\n",
              "<body>\n",
              "    <div>            <script src=\"https://cdnjs.cloudflare.com/ajax/libs/mathjax/2.7.5/MathJax.js?config=TeX-AMS-MML_SVG\"></script><script type=\"text/javascript\">if (window.MathJax) {MathJax.Hub.Config({SVG: {font: \"STIX-Web\"}});}</script>                <script type=\"text/javascript\">window.PlotlyConfig = {MathJaxConfig: 'local'};</script>\n",
              "        <script src=\"https://cdn.plot.ly/plotly-2.8.3.min.js\"></script>                <div id=\"f63e63f6-8c02-4bd5-ac86-56e1d282b433\" class=\"plotly-graph-div\" style=\"height:525px; width:100%;\"></div>            <script type=\"text/javascript\">                                    window.PLOTLYENV=window.PLOTLYENV || {};                                    if (document.getElementById(\"f63e63f6-8c02-4bd5-ac86-56e1d282b433\")) {                    Plotly.newPlot(                        \"f63e63f6-8c02-4bd5-ac86-56e1d282b433\",                        [{\"dimensions\":[{\"label\":\"Type 1\",\"values\":[\"Grass\",\"Grass\",\"Grass\",\"Grass\",\"Fire\",\"Fire\",\"Fire\",\"Fire\",\"Fire\",\"Water\",\"Water\",\"Water\",\"Water\",\"Bug\",\"Bug\",\"Bug\",\"Bug\",\"Bug\",\"Bug\",\"Bug\",\"Normal\",\"Normal\",\"Normal\",\"Normal\",\"Normal\",\"Normal\",\"Normal\",\"Normal\",\"Poison\",\"Poison\",\"Electric\",\"Electric\",\"Ground\",\"Ground\",\"Poison\",\"Poison\",\"Poison\",\"Poison\",\"Poison\",\"Poison\",\"Fairy\",\"Fairy\",\"Fire\",\"Fire\",\"Normal\",\"Normal\",\"Poison\",\"Poison\",\"Grass\",\"Grass\",\"Grass\",\"Bug\",\"Bug\",\"Bug\",\"Bug\",\"Ground\",\"Ground\",\"Normal\",\"Normal\",\"Water\",\"Water\",\"Fighting\",\"Fighting\",\"Fire\",\"Fire\",\"Water\",\"Water\",\"Water\",\"Psychic\",\"Psychic\",\"Psychic\",\"Psychic\",\"Fighting\",\"Fighting\",\"Fighting\",\"Grass\",\"Grass\",\"Grass\",\"Water\",\"Water\",\"Rock\",\"Rock\",\"Rock\",\"Fire\",\"Fire\",\"Water\",\"Water\",\"Water\",\"Electric\",\"Electric\",\"Normal\",\"Normal\",\"Normal\",\"Water\",\"Water\",\"Poison\",\"Poison\",\"Water\",\"Water\",\"Ghost\",\"Ghost\",\"Ghost\",\"Ghost\",\"Rock\",\"Psychic\",\"Psychic\",\"Water\",\"Water\",\"Electric\",\"Electric\",\"Grass\",\"Grass\",\"Ground\",\"Ground\",\"Fighting\",\"Fighting\",\"Normal\",\"Poison\",\"Poison\",\"Ground\",\"Ground\",\"Normal\",\"Grass\",\"Normal\",\"Normal\",\"Water\",\"Water\",\"Water\",\"Water\",\"Water\",\"Water\",\"Psychic\",\"Bug\",\"Ice\",\"Electric\",\"Fire\",\"Bug\",\"Bug\",\"Normal\",\"Water\",\"Water\",\"Water\",\"Water\",\"Normal\",\"Normal\",\"Water\",\"Electric\",\"Fire\",\"Normal\",\"Rock\",\"Rock\",\"Rock\",\"Rock\",\"Rock\",\"Rock\",\"Normal\",\"Ice\",\"Electric\",\"Fire\",\"Dragon\",\"Dragon\",\"Dragon\",\"Psychic\",\"Psychic\",\"Psychic\",\"Psychic\",\"Grass\",\"Grass\",\"Grass\",\"Fire\",\"Fire\",\"Fire\",\"Water\",\"Water\",\"Water\",\"Normal\",\"Normal\",\"Normal\",\"Normal\",\"Bug\",\"Bug\",\"Bug\",\"Bug\",\"Poison\",\"Water\",\"Water\",\"Electric\",\"Fairy\",\"Normal\",\"Fairy\",\"Fairy\",\"Psychic\",\"Psychic\",\"Electric\",\"Electric\",\"Electric\",\"Electric\",\"Grass\",\"Water\",\"Water\",\"Rock\",\"Water\",\"Grass\",\"Grass\",\"Grass\",\"Normal\",\"Grass\",\"Grass\",\"Bug\",\"Water\",\"Water\",\"Psychic\",\"Dark\",\"Dark\",\"Water\",\"Ghost\",\"Psychic\",\"Psychic\",\"Normal\",\"Bug\",\"Bug\",\"Normal\",\"Ground\",\"Steel\",\"Steel\",\"Fairy\",\"Fairy\",\"Water\",\"Bug\",\"Bug\",\"Bug\",\"Bug\",\"Bug\",\"Dark\",\"Normal\",\"Normal\",\"Fire\",\"Fire\",\"Ice\",\"Ice\",\"Water\",\"Water\",\"Water\",\"Ice\",\"Water\",\"Steel\",\"Dark\",\"Dark\",\"Dark\",\"Water\",\"Ground\",\"Ground\",\"Normal\",\"Normal\",\"Normal\",\"Fighting\",\"Fighting\",\"Ice\",\"Electric\",\"Fire\",\"Normal\",\"Normal\",\"Electric\",\"Fire\",\"Water\",\"Rock\",\"Rock\",\"Rock\",\"Rock\",\"Psychic\",\"Fire\",\"Psychic\",\"Grass\",\"Grass\",\"Grass\",\"Grass\",\"Fire\",\"Fire\",\"Fire\",\"Fire\",\"Water\",\"Water\",\"Water\",\"Water\",\"Dark\",\"Dark\",\"Normal\",\"Normal\",\"Bug\",\"Bug\",\"Bug\",\"Bug\",\"Bug\",\"Water\",\"Water\",\"Water\",\"Grass\",\"Grass\",\"Grass\",\"Normal\",\"Normal\",\"Water\",\"Water\",\"Psychic\",\"Psychic\",\"Psychic\",\"Psychic\",\"Bug\",\"Bug\",\"Grass\",\"Grass\",\"Normal\",\"Normal\",\"Normal\",\"Bug\",\"Bug\",\"Bug\",\"Normal\",\"Normal\",\"Normal\",\"Fighting\",\"Fighting\",\"Normal\",\"Rock\",\"Normal\",\"Normal\",\"Dark\",\"Dark\",\"Steel\",\"Steel\",\"Steel\",\"Steel\",\"Steel\",\"Steel\",\"Fighting\",\"Fighting\",\"Fighting\",\"Electric\",\"Electric\",\"Electric\",\"Electric\",\"Electric\",\"Bug\",\"Bug\",\"Grass\",\"Poison\",\"Poison\",\"Water\",\"Water\",\"Water\",\"Water\",\"Water\",\"Fire\",\"Fire\",\"Fire\",\"Fire\",\"Psychic\",\"Psychic\",\"Normal\",\"Ground\",\"Ground\",\"Ground\",\"Grass\",\"Grass\",\"Normal\",\"Dragon\",\"Dragon\",\"Normal\",\"Poison\",\"Rock\",\"Rock\",\"Water\",\"Water\",\"Water\",\"Water\",\"Ground\",\"Ground\",\"Rock\",\"Rock\",\"Rock\",\"Rock\",\"Water\",\"Water\",\"Normal\",\"Normal\",\"Ghost\",\"Ghost\",\"Ghost\",\"Ghost\",\"Ghost\",\"Grass\",\"Psychic\",\"Dark\",\"Dark\",\"Psychic\",\"Ice\",\"Ice\",\"Ice\",\"Ice\",\"Ice\",\"Ice\",\"Water\",\"Water\",\"Water\",\"Water\",\"Water\",\"Dragon\",\"Dragon\",\"Dragon\",\"Dragon\",\"Steel\",\"Steel\",\"Steel\",\"Steel\",\"Rock\",\"Ice\",\"Steel\",\"Dragon\",\"Dragon\",\"Dragon\",\"Dragon\",\"Water\",\"Water\",\"Ground\",\"Ground\",\"Dragon\",\"Dragon\",\"Steel\",\"Psychic\",\"Psychic\",\"Psychic\",\"Psychic\",\"Grass\",\"Grass\",\"Grass\",\"Fire\",\"Fire\",\"Fire\",\"Water\",\"Water\",\"Water\",\"Normal\",\"Normal\",\"Normal\",\"Normal\",\"Normal\",\"Bug\",\"Bug\",\"Electric\",\"Electric\",\"Electric\",\"Grass\",\"Grass\",\"Rock\",\"Rock\",\"Rock\",\"Rock\",\"Bug\",\"Bug\",\"Bug\",\"Bug\",\"Bug\",\"Bug\",\"Bug\",\"Electric\",\"Water\",\"Water\",\"Grass\",\"Grass\",\"Water\",\"Water\",\"Normal\",\"Ghost\",\"Ghost\",\"Normal\",\"Normal\",\"Normal\",\"Ghost\",\"Dark\",\"Normal\",\"Normal\",\"Psychic\",\"Poison\",\"Poison\",\"Steel\",\"Steel\",\"Rock\",\"Psychic\",\"Normal\",\"Normal\",\"Ghost\",\"Dragon\",\"Dragon\",\"Dragon\",\"Dragon\",\"Normal\",\"Fighting\",\"Fighting\",\"Fighting\",\"Ground\",\"Ground\",\"Poison\",\"Poison\",\"Poison\",\"Poison\",\"Grass\",\"Water\",\"Water\",\"Water\",\"Grass\",\"Grass\",\"Grass\",\"Dark\",\"Electric\",\"Normal\",\"Ground\",\"Grass\",\"Electric\",\"Fire\",\"Fairy\",\"Bug\",\"Grass\",\"Ice\",\"Ground\",\"Ice\",\"Normal\",\"Psychic\",\"Psychic\",\"Rock\",\"Ghost\",\"Ice\",\"Electric\",\"Electric\",\"Electric\",\"Electric\",\"Electric\",\"Electric\",\"Psychic\",\"Psychic\",\"Psychic\",\"Steel\",\"Water\",\"Fire\",\"Normal\",\"Ghost\",\"Ghost\",\"Psychic\",\"Water\",\"Water\",\"Dark\",\"Grass\",\"Grass\",\"Normal\",\"Psychic\",\"Grass\",\"Grass\",\"Grass\",\"Fire\",\"Fire\",\"Fire\",\"Water\",\"Water\",\"Water\",\"Normal\",\"Normal\",\"Normal\",\"Normal\",\"Normal\",\"Dark\",\"Dark\",\"Grass\",\"Grass\",\"Fire\",\"Fire\",\"Water\",\"Water\",\"Psychic\",\"Psychic\",\"Normal\",\"Normal\",\"Normal\",\"Electric\",\"Electric\",\"Rock\",\"Rock\",\"Rock\",\"Psychic\",\"Psychic\",\"Ground\",\"Ground\",\"Normal\",\"Normal\",\"Fighting\",\"Fighting\",\"Fighting\",\"Water\",\"Water\",\"Water\",\"Fighting\",\"Fighting\",\"Bug\",\"Bug\",\"Bug\",\"Bug\",\"Bug\",\"Bug\",\"Grass\",\"Grass\",\"Grass\",\"Grass\",\"Water\",\"Ground\",\"Ground\",\"Ground\",\"Fire\",\"Fire\",\"Fire\",\"Grass\",\"Bug\",\"Bug\",\"Dark\",\"Dark\",\"Psychic\",\"Ghost\",\"Ghost\",\"Water\",\"Water\",\"Rock\",\"Rock\",\"Poison\",\"Poison\",\"Dark\",\"Dark\",\"Normal\",\"Normal\",\"Psychic\",\"Psychic\",\"Psychic\",\"Psychic\",\"Psychic\",\"Psychic\",\"Water\",\"Water\",\"Ice\",\"Ice\",\"Ice\",\"Normal\",\"Normal\",\"Electric\",\"Bug\",\"Bug\",\"Grass\",\"Grass\",\"Water\",\"Water\",\"Water\",\"Bug\",\"Bug\",\"Grass\",\"Grass\",\"Steel\",\"Steel\",\"Steel\",\"Electric\",\"Electric\",\"Electric\",\"Psychic\",\"Psychic\",\"Ghost\",\"Ghost\",\"Ghost\",\"Dragon\",\"Dragon\",\"Dragon\",\"Ice\",\"Ice\",\"Ice\",\"Bug\",\"Bug\",\"Ground\",\"Fighting\",\"Fighting\",\"Dragon\",\"Ground\",\"Ground\",\"Dark\",\"Dark\",\"Normal\",\"Normal\",\"Normal\",\"Dark\",\"Dark\",\"Fire\",\"Bug\",\"Dark\",\"Dark\",\"Dark\",\"Bug\",\"Bug\",\"Steel\",\"Rock\",\"Grass\",\"Flying\",\"Flying\",\"Electric\",\"Electric\",\"Dragon\",\"Dragon\",\"Ground\",\"Ground\",\"Dragon\",\"Dragon\",\"Dragon\",\"Water\",\"Water\",\"Normal\",\"Normal\",\"Bug\",\"Grass\",\"Grass\",\"Grass\",\"Fire\",\"Fire\",\"Fire\",\"Water\",\"Water\",\"Water\",\"Normal\",\"Normal\",\"Normal\",\"Fire\",\"Fire\",\"Bug\",\"Bug\",\"Bug\",\"Fire\",\"Fire\",\"Fairy\",\"Fairy\",\"Fairy\",\"Grass\",\"Grass\",\"Fighting\",\"Fighting\",\"Normal\",\"Psychic\",\"Psychic\",\"Psychic\",\"Steel\",\"Steel\",\"Steel\",\"Steel\",\"Fairy\",\"Fairy\",\"Fairy\",\"Fairy\",\"Dark\",\"Dark\",\"Rock\",\"Rock\",\"Poison\",\"Poison\",\"Water\",\"Water\",\"Electric\",\"Electric\",\"Rock\",\"Rock\",\"Rock\",\"Rock\",\"Fairy\",\"Fighting\",\"Electric\",\"Rock\",\"Dragon\",\"Dragon\",\"Dragon\",\"Steel\",\"Ghost\",\"Ghost\",\"Ghost\",\"Ghost\",\"Ghost\",\"Ghost\",\"Ghost\",\"Ghost\",\"Ghost\",\"Ghost\",\"Ice\",\"Ice\",\"Flying\",\"Flying\",\"Fairy\",\"Dark\",\"Dragon\",\"Rock\",\"Rock\",\"Psychic\",\"Psychic\",\"Fire\"]},{\"label\":\"Type 2\",\"values\":[\"Poison\",\"Poison\",\"Poison\",\"Poison\",null,null,\"Flying\",\"Dragon\",\"Flying\",null,null,null,null,null,null,\"Flying\",\"Poison\",\"Poison\",\"Poison\",\"Poison\",\"Flying\",\"Flying\",\"Flying\",\"Flying\",null,null,\"Flying\",\"Flying\",null,null,null,null,null,null,null,null,\"Ground\",null,null,\"Ground\",null,null,null,null,\"Fairy\",\"Fairy\",\"Flying\",\"Flying\",\"Poison\",\"Poison\",\"Poison\",\"Grass\",\"Grass\",\"Poison\",\"Poison\",null,null,null,null,null,null,null,null,null,null,null,null,\"Fighting\",null,null,null,null,null,null,null,\"Poison\",\"Poison\",\"Poison\",\"Poison\",\"Poison\",\"Ground\",\"Ground\",\"Ground\",null,null,\"Psychic\",\"Psychic\",\"Psychic\",\"Steel\",\"Steel\",\"Flying\",\"Flying\",\"Flying\",null,\"Ice\",null,null,null,\"Ice\",\"Poison\",\"Poison\",\"Poison\",\"Poison\",\"Ground\",null,null,null,null,null,null,\"Psychic\",\"Psychic\",null,null,null,null,null,null,null,\"Rock\",\"Rock\",null,null,null,null,null,null,null,null,null,\"Psychic\",\"Fairy\",\"Flying\",\"Psychic\",null,null,null,\"Flying\",null,null,\"Flying\",\"Dark\",\"Ice\",null,null,null,null,null,null,\"Water\",\"Water\",\"Water\",\"Water\",\"Flying\",\"Flying\",null,\"Flying\",\"Flying\",\"Flying\",null,null,\"Flying\",null,\"Fighting\",null,null,null,null,null,null,null,null,null,null,null,null,null,\"Flying\",\"Flying\",\"Flying\",\"Flying\",\"Poison\",\"Poison\",\"Flying\",\"Electric\",\"Electric\",null,null,\"Fairy\",null,\"Flying\",\"Flying\",\"Flying\",null,null,null,\"Dragon\",null,\"Fairy\",\"Fairy\",null,null,\"Flying\",\"Flying\",\"Flying\",null,null,null,\"Flying\",\"Ground\",\"Ground\",null,null,\"Flying\",\"Psychic\",null,null,null,\"Psychic\",null,\"Steel\",null,\"Flying\",\"Ground\",\"Ground\",null,null,\"Poison\",\"Steel\",\"Steel\",\"Rock\",\"Fighting\",\"Fighting\",\"Ice\",null,null,null,\"Rock\",\"Ground\",\"Ground\",\"Rock\",null,null,\"Flying\",\"Flying\",\"Flying\",\"Fire\",\"Fire\",\"Fire\",\"Dragon\",null,null,null,null,null,null,null,\"Psychic\",null,null,null,null,null,null,null,\"Ground\",\"Ground\",\"Dark\",\"Dark\",\"Flying\",\"Flying\",\"Grass\",null,null,null,\"Dragon\",null,\"Fighting\",\"Fighting\",\"Fighting\",null,\"Ground\",\"Ground\",\"Ground\",null,null,null,null,null,null,\"Flying\",null,\"Poison\",\"Grass\",\"Grass\",\"Grass\",null,\"Dark\",\"Dark\",\"Flying\",\"Flying\",\"Flying\",\"Flying\",\"Fairy\",\"Fairy\",\"Fairy\",\"Fairy\",\"Water\",\"Flying\",null,\"Fighting\",null,null,null,\"Ground\",\"Flying\",\"Ghost\",null,null,null,null,null,\"Fairy\",null,null,null,\"Ghost\",\"Ghost\",\"Fairy\",\"Fairy\",\"Rock\",\"Rock\",\"Rock\",null,\"Psychic\",\"Psychic\",\"Psychic\",null,null,null,null,null,null,null,\"Poison\",null,null,\"Dark\",\"Dark\",\"Dark\",null,null,\"Ground\",\"Ground\",\"Ground\",null,null,null,null,null,\"Dragon\",\"Dragon\",null,\"Dark\",\"Flying\",\"Flying\",\"Fairy\",null,null,\"Psychic\",\"Psychic\",\"Ground\",\"Ground\",null,\"Dark\",\"Psychic\",\"Psychic\",\"Grass\",\"Grass\",\"Bug\",\"Bug\",null,null,null,null,null,null,null,null,null,\"Flying\",null,null,null,null,null,null,null,\"Water\",\"Water\",\"Water\",null,null,null,\"Rock\",null,null,null,\"Flying\",\"Flying\",\"Psychic\",\"Psychic\",\"Psychic\",\"Psychic\",null,null,null,\"Psychic\",\"Psychic\",\"Psychic\",\"Psychic\",null,null,null,\"Fire\",\"Flying\",\"Flying\",\"Psychic\",null,null,null,null,null,null,\"Ground\",null,\"Fighting\",\"Fighting\",null,null,\"Steel\",\"Flying\",\"Flying\",\"Flying\",null,\"Water\",null,null,null,null,null,\"Poison\",\"Poison\",null,null,\"Steel\",\"Steel\",null,\"Grass\",\"Ground\",\"Steel\",\"Flying\",\"Flying\",\"Flying\",null,null,null,null,null,null,\"Ground\",null,\"Flying\",\"Flying\",null,null,\"Fighting\",null,\"Flying\",null,null,null,\"Dark\",\"Dark\",\"Psychic\",\"Psychic\",null,\"Fairy\",null,\"Flying\",\"Dark\",\"Ground\",\"Ground\",\"Ground\",\"Ground\",null,null,\"Steel\",\"Steel\",null,null,\"Bug\",\"Dark\",\"Fighting\",\"Fighting\",null,null,null,\"Flying\",\"Ice\",\"Ice\",\"Ice\",\"Ice\",\"Steel\",null,\"Rock\",null,null,null,\"Flying\",\"Flying\",null,null,\"Flying\",\"Ground\",null,\"Fighting\",\"Fighting\",\"Steel\",null,\"Ghost\",\"Ghost\",\"Fire\",\"Water\",\"Ice\",\"Flying\",\"Grass\",null,null,null,\"Dragon\",\"Dragon\",\"Steel\",null,\"Dragon\",\"Dragon\",null,null,null,null,null,\"Flying\",null,\"Fire\",null,null,null,null,\"Fighting\",\"Fighting\",null,null,null,null,null,null,null,null,null,null,null,null,null,null,null,null,null,null,\"Flying\",\"Flying\",\"Flying\",null,null,null,null,null,\"Flying\",\"Flying\",null,\"Steel\",null,\"Fairy\",null,null,null,null,\"Ground\",\"Ground\",null,null,\"Grass\",\"Grass\",\"Grass\",\"Poison\",\"Poison\",\"Poison\",\"Fairy\",\"Fairy\",null,null,null,\"Dark\",\"Dark\",\"Dark\",null,null,\"Psychic\",null,\"Rock\",\"Rock\",\"Fighting\",\"Fighting\",\"Flying\",null,null,\"Rock\",\"Rock\",\"Flying\",\"Flying\",null,null,null,null,null,null,null,null,null,null,null,null,\"Flying\",\"Flying\",null,null,null,\"Grass\",\"Grass\",\"Flying\",null,\"Steel\",\"Poison\",\"Poison\",\"Ghost\",\"Ghost\",null,\"Electric\",\"Electric\",\"Steel\",\"Steel\",null,null,null,null,null,null,null,null,\"Fire\",\"Fire\",\"Fire\",null,null,null,null,null,null,null,null,\"Electric\",null,null,null,\"Ghost\",\"Ghost\",\"Steel\",\"Steel\",null,\"Flying\",\"Flying\",\"Flying\",\"Flying\",null,\"Steel\",\"Dragon\",\"Dragon\",\"Dragon\",\"Fire\",\"Fire\",\"Fighting\",\"Fighting\",\"Fighting\",null,null,\"Flying\",\"Flying\",\"Fire\",\"Electric\",\"Flying\",\"Flying\",\"Ice\",\"Ice\",\"Ice\",\"Fighting\",\"Fighting\",\"Psychic\",\"Fighting\",\"Steel\",null,null,\"Fighting\",null,null,\"Psychic\",null,null,\"Dark\",null,\"Ground\",\"Flying\",\"Flying\",\"Flying\",null,null,\"Flying\",\"Normal\",\"Normal\",null,null,null,null,null,null,\"Dark\",null,null,null,null,\"Ghost\",\"Ghost\",\"Ghost\",\"Ghost\",null,null,null,null,\"Psychic\",\"Psychic\",\"Water\",\"Water\",\"Water\",\"Dragon\",null,null,\"Normal\",\"Normal\",\"Dragon\",\"Dragon\",\"Ice\",\"Ice\",null,\"Flying\",\"Fairy\",\"Fairy\",null,null,null,\"Fairy\",\"Grass\",\"Grass\",\"Grass\",\"Grass\",\"Grass\",\"Grass\",\"Grass\",\"Grass\",\"Grass\",\"Grass\",null,null,\"Dragon\",\"Dragon\",null,\"Flying\",\"Ground\",\"Fairy\",\"Fairy\",\"Ghost\",\"Dark\",\"Water\"]},{\"label\":\"Generation\",\"values\":[1,1,1,1,1,1,1,1,1,1,1,1,1,1,1,1,1,1,1,1,1,1,1,1,1,1,1,1,1,1,1,1,1,1,1,1,1,1,1,1,1,1,1,1,1,1,1,1,1,1,1,1,1,1,1,1,1,1,1,1,1,1,1,1,1,1,1,1,1,1,1,1,1,1,1,1,1,1,1,1,1,1,1,1,1,1,1,1,1,1,1,1,1,1,1,1,1,1,1,1,1,1,1,1,1,1,1,1,1,1,1,1,1,1,1,1,1,1,1,1,1,1,1,1,1,1,1,1,1,1,1,1,1,1,1,1,1,1,1,1,1,1,1,1,1,1,1,1,1,1,1,1,1,1,1,1,1,1,1,1,1,1,1,1,1,1,2,2,2,2,2,2,2,2,2,2,2,2,2,2,2,2,2,2,2,2,2,2,2,2,2,2,2,2,2,2,2,2,2,2,2,2,2,2,2,2,2,2,2,2,2,2,2,2,2,2,2,2,2,2,2,2,2,2,2,2,2,2,2,2,2,2,2,2,2,2,2,2,2,2,2,2,2,2,2,2,2,2,2,2,2,2,2,2,2,2,2,2,2,2,2,2,2,2,2,2,2,2,2,2,2,2,3,3,3,3,3,3,3,3,3,3,3,3,3,3,3,3,3,3,3,3,3,3,3,3,3,3,3,3,3,3,3,3,3,3,3,3,3,3,3,3,3,3,3,3,3,3,3,3,3,3,3,3,3,3,3,3,3,3,3,3,3,3,3,3,3,3,3,3,3,3,3,3,3,3,3,3,3,3,3,3,3,3,3,3,3,3,3,3,3,3,3,3,3,3,3,3,3,3,3,3,3,3,3,3,3,3,3,3,3,3,3,3,3,3,3,3,3,3,3,3,3,3,3,3,3,3,3,3,3,3,3,3,3,3,3,3,3,3,3,3,3,3,3,3,3,3,3,3,3,3,3,3,3,3,3,3,3,3,3,3,4,4,4,4,4,4,4,4,4,4,4,4,4,4,4,4,4,4,4,4,4,4,4,4,4,4,4,4,4,4,4,4,4,4,4,4,4,4,4,4,4,4,4,4,4,4,4,4,4,4,4,4,4,4,4,4,4,4,4,4,4,4,4,4,4,4,4,4,4,4,4,4,4,4,4,4,4,4,4,4,4,4,4,4,4,4,4,4,4,4,4,4,4,4,4,4,4,4,4,4,4,4,4,4,4,4,4,4,4,4,4,4,4,4,4,4,4,4,4,4,4,5,5,5,5,5,5,5,5,5,5,5,5,5,5,5,5,5,5,5,5,5,5,5,5,5,5,5,5,5,5,5,5,5,5,5,5,5,5,5,5,5,5,5,5,5,5,5,5,5,5,5,5,5,5,5,5,5,5,5,5,5,5,5,5,5,5,5,5,5,5,5,5,5,5,5,5,5,5,5,5,5,5,5,5,5,5,5,5,5,5,5,5,5,5,5,5,5,5,5,5,5,5,5,5,5,5,5,5,5,5,5,5,5,5,5,5,5,5,5,5,5,5,5,5,5,5,5,5,5,5,5,5,5,5,5,5,5,5,5,5,5,5,5,5,5,5,5,5,5,5,5,5,5,5,5,5,5,5,5,5,5,5,5,5,5,6,6,6,6,6,6,6,6,6,6,6,6,6,6,6,6,6,6,6,6,6,6,6,6,6,6,6,6,6,6,6,6,6,6,6,6,6,6,6,6,6,6,6,6,6,6,6,6,6,6,6,6,6,6,6,6,6,6,6,6,6,6,6,6,6,6,6,6,6,6,6,6,6,6,6,6,6,6,6,6,6,6]},{\"label\":\"Legendary\",\"values\":[false,false,false,false,false,false,false,false,false,false,false,false,false,false,false,false,false,false,false,false,false,false,false,false,false,false,false,false,false,false,false,false,false,false,false,false,false,false,false,false,false,false,false,false,false,false,false,false,false,false,false,false,false,false,false,false,false,false,false,false,false,false,false,false,false,false,false,false,false,false,false,false,false,false,false,false,false,false,false,false,false,false,false,false,false,false,false,false,false,false,false,false,false,false,false,false,false,false,false,false,false,false,false,false,false,false,false,false,false,false,false,false,false,false,false,false,false,false,false,false,false,false,false,false,false,false,false,false,false,false,false,false,false,false,false,false,false,false,false,false,false,false,false,false,false,false,false,false,false,false,false,false,false,false,false,false,true,true,true,false,false,false,true,true,true,false,false,false,false,false,false,false,false,false,false,false,false,false,false,false,false,false,false,false,false,false,false,false,false,false,false,false,false,false,false,false,false,false,false,false,false,false,false,false,false,false,false,false,false,false,false,false,false,false,false,false,false,false,false,false,false,false,false,false,false,false,false,false,false,false,false,false,false,false,false,false,false,false,false,false,false,false,false,false,false,false,false,false,false,false,false,false,false,false,false,false,false,false,false,false,false,false,true,true,true,false,false,false,false,true,true,false,false,false,false,false,false,false,false,false,false,false,false,false,false,false,false,false,false,false,false,false,false,false,false,false,false,false,false,false,false,false,false,false,false,false,false,false,false,false,false,false,false,false,false,false,false,false,false,false,false,false,false,false,false,false,false,false,false,false,false,false,false,false,false,false,false,false,false,false,false,false,false,false,false,false,false,false,false,false,false,false,false,false,false,false,false,false,false,false,false,false,false,false,false,false,false,false,false,false,false,false,false,false,false,false,false,false,false,false,false,false,false,false,false,false,false,false,false,false,false,false,false,false,false,false,false,false,false,false,false,false,false,false,false,false,false,false,false,false,false,false,false,false,true,true,true,true,true,true,true,true,true,true,true,true,true,true,true,true,true,true,false,false,false,false,false,false,false,false,false,false,false,false,false,false,false,false,false,false,false,false,false,false,false,false,false,false,false,false,false,false,false,false,false,false,false,false,false,false,false,false,false,false,false,false,false,false,false,false,false,false,false,false,false,false,false,false,false,false,false,false,false,false,false,false,false,false,false,false,false,false,false,false,false,false,false,false,false,false,false,false,false,false,false,false,false,false,false,false,false,false,false,false,false,false,false,false,false,false,false,false,false,false,false,false,false,true,true,true,true,true,true,true,true,true,false,false,false,true,true,true,true,true,false,false,false,false,false,false,false,false,false,false,false,false,false,false,false,false,false,false,false,false,false,false,false,false,false,false,false,false,false,false,false,false,false,false,false,false,false,false,false,false,false,false,false,false,false,false,false,false,false,false,false,false,false,false,false,false,false,false,false,false,false,false,false,false,false,false,false,false,false,false,false,false,false,false,false,false,false,false,false,false,false,false,false,false,false,false,false,false,false,false,false,false,false,false,false,false,false,false,false,false,false,false,false,false,false,false,false,false,false,false,false,false,false,false,false,false,false,false,false,false,false,false,false,false,false,false,false,false,false,false,false,false,false,false,false,false,false,false,false,false,false,false,false,false,false,true,true,true,true,true,true,true,true,true,true,true,true,true,true,false,false,false,false,false,false,false,false,false,false,false,false,false,false,false,false,false,false,false,false,false,false,false,false,false,false,false,false,false,false,false,false,false,false,false,false,false,false,false,false,false,false,false,false,false,false,false,false,false,false,false,false,false,false,false,false,false,false,false,false,false,false,false,false,false,false,false,false,false,false,false,false,false,false,false,false,false,false,false,true,true,true,true,true,true,true,true]}],\"domain\":{\"x\":[0.0,1.0],\"y\":[0.0,1.0]},\"line\":{\"color\":[1,1,1,1,1,1,1,1,1,1,1,1,1,1,1,1,1,1,1,1,1,1,1,1,1,1,1,1,1,1,1,1,1,1,1,1,1,1,1,1,1,1,1,1,1,1,1,1,1,1,1,1,1,1,1,1,1,1,1,1,1,1,1,1,1,1,1,1,1,1,1,1,1,1,1,1,1,1,1,1,1,1,1,1,1,1,1,1,1,1,1,1,1,1,1,1,1,1,1,1,1,1,1,1,1,1,1,1,1,1,1,1,1,1,1,1,1,1,1,1,1,1,1,1,1,1,1,1,1,1,1,1,1,1,1,1,1,1,1,1,1,1,1,1,1,1,1,1,1,1,1,1,1,1,1,1,1,1,1,1,1,1,1,1,1,1,2,2,2,2,2,2,2,2,2,2,2,2,2,2,2,2,2,2,2,2,2,2,2,2,2,2,2,2,2,2,2,2,2,2,2,2,2,2,2,2,2,2,2,2,2,2,2,2,2,2,2,2,2,2,2,2,2,2,2,2,2,2,2,2,2,2,2,2,2,2,2,2,2,2,2,2,2,2,2,2,2,2,2,2,2,2,2,2,2,2,2,2,2,2,2,2,2,2,2,2,2,2,2,2,2,2,3,3,3,3,3,3,3,3,3,3,3,3,3,3,3,3,3,3,3,3,3,3,3,3,3,3,3,3,3,3,3,3,3,3,3,3,3,3,3,3,3,3,3,3,3,3,3,3,3,3,3,3,3,3,3,3,3,3,3,3,3,3,3,3,3,3,3,3,3,3,3,3,3,3,3,3,3,3,3,3,3,3,3,3,3,3,3,3,3,3,3,3,3,3,3,3,3,3,3,3,3,3,3,3,3,3,3,3,3,3,3,3,3,3,3,3,3,3,3,3,3,3,3,3,3,3,3,3,3,3,3,3,3,3,3,3,3,3,3,3,3,3,3,3,3,3,3,3,3,3,3,3,3,3,3,3,3,3,3,3,4,4,4,4,4,4,4,4,4,4,4,4,4,4,4,4,4,4,4,4,4,4,4,4,4,4,4,4,4,4,4,4,4,4,4,4,4,4,4,4,4,4,4,4,4,4,4,4,4,4,4,4,4,4,4,4,4,4,4,4,4,4,4,4,4,4,4,4,4,4,4,4,4,4,4,4,4,4,4,4,4,4,4,4,4,4,4,4,4,4,4,4,4,4,4,4,4,4,4,4,4,4,4,4,4,4,4,4,4,4,4,4,4,4,4,4,4,4,4,4,4,5,5,5,5,5,5,5,5,5,5,5,5,5,5,5,5,5,5,5,5,5,5,5,5,5,5,5,5,5,5,5,5,5,5,5,5,5,5,5,5,5,5,5,5,5,5,5,5,5,5,5,5,5,5,5,5,5,5,5,5,5,5,5,5,5,5,5,5,5,5,5,5,5,5,5,5,5,5,5,5,5,5,5,5,5,5,5,5,5,5,5,5,5,5,5,5,5,5,5,5,5,5,5,5,5,5,5,5,5,5,5,5,5,5,5,5,5,5,5,5,5,5,5,5,5,5,5,5,5,5,5,5,5,5,5,5,5,5,5,5,5,5,5,5,5,5,5,5,5,5,5,5,5,5,5,5,5,5,5,5,5,5,5,5,5,6,6,6,6,6,6,6,6,6,6,6,6,6,6,6,6,6,6,6,6,6,6,6,6,6,6,6,6,6,6,6,6,6,6,6,6,6,6,6,6,6,6,6,6,6,6,6,6,6,6,6,6,6,6,6,6,6,6,6,6,6,6,6,6,6,6,6,6,6,6,6,6,6,6,6,6,6,6,6,6,6,6],\"coloraxis\":\"coloraxis\"},\"name\":\"\",\"type\":\"parcats\"}],                        {\"template\":{\"data\":{\"bar\":[{\"error_x\":{\"color\":\"#2a3f5f\"},\"error_y\":{\"color\":\"#2a3f5f\"},\"marker\":{\"line\":{\"color\":\"#E5ECF6\",\"width\":0.5},\"pattern\":{\"fillmode\":\"overlay\",\"size\":10,\"solidity\":0.2}},\"type\":\"bar\"}],\"barpolar\":[{\"marker\":{\"line\":{\"color\":\"#E5ECF6\",\"width\":0.5},\"pattern\":{\"fillmode\":\"overlay\",\"size\":10,\"solidity\":0.2}},\"type\":\"barpolar\"}],\"carpet\":[{\"aaxis\":{\"endlinecolor\":\"#2a3f5f\",\"gridcolor\":\"white\",\"linecolor\":\"white\",\"minorgridcolor\":\"white\",\"startlinecolor\":\"#2a3f5f\"},\"baxis\":{\"endlinecolor\":\"#2a3f5f\",\"gridcolor\":\"white\",\"linecolor\":\"white\",\"minorgridcolor\":\"white\",\"startlinecolor\":\"#2a3f5f\"},\"type\":\"carpet\"}],\"choropleth\":[{\"colorbar\":{\"outlinewidth\":0,\"ticks\":\"\"},\"type\":\"choropleth\"}],\"contour\":[{\"colorbar\":{\"outlinewidth\":0,\"ticks\":\"\"},\"colorscale\":[[0.0,\"#0d0887\"],[0.1111111111111111,\"#46039f\"],[0.2222222222222222,\"#7201a8\"],[0.3333333333333333,\"#9c179e\"],[0.4444444444444444,\"#bd3786\"],[0.5555555555555556,\"#d8576b\"],[0.6666666666666666,\"#ed7953\"],[0.7777777777777778,\"#fb9f3a\"],[0.8888888888888888,\"#fdca26\"],[1.0,\"#f0f921\"]],\"type\":\"contour\"}],\"contourcarpet\":[{\"colorbar\":{\"outlinewidth\":0,\"ticks\":\"\"},\"type\":\"contourcarpet\"}],\"heatmap\":[{\"colorbar\":{\"outlinewidth\":0,\"ticks\":\"\"},\"colorscale\":[[0.0,\"#0d0887\"],[0.1111111111111111,\"#46039f\"],[0.2222222222222222,\"#7201a8\"],[0.3333333333333333,\"#9c179e\"],[0.4444444444444444,\"#bd3786\"],[0.5555555555555556,\"#d8576b\"],[0.6666666666666666,\"#ed7953\"],[0.7777777777777778,\"#fb9f3a\"],[0.8888888888888888,\"#fdca26\"],[1.0,\"#f0f921\"]],\"type\":\"heatmap\"}],\"heatmapgl\":[{\"colorbar\":{\"outlinewidth\":0,\"ticks\":\"\"},\"colorscale\":[[0.0,\"#0d0887\"],[0.1111111111111111,\"#46039f\"],[0.2222222222222222,\"#7201a8\"],[0.3333333333333333,\"#9c179e\"],[0.4444444444444444,\"#bd3786\"],[0.5555555555555556,\"#d8576b\"],[0.6666666666666666,\"#ed7953\"],[0.7777777777777778,\"#fb9f3a\"],[0.8888888888888888,\"#fdca26\"],[1.0,\"#f0f921\"]],\"type\":\"heatmapgl\"}],\"histogram\":[{\"marker\":{\"pattern\":{\"fillmode\":\"overlay\",\"size\":10,\"solidity\":0.2}},\"type\":\"histogram\"}],\"histogram2d\":[{\"colorbar\":{\"outlinewidth\":0,\"ticks\":\"\"},\"colorscale\":[[0.0,\"#0d0887\"],[0.1111111111111111,\"#46039f\"],[0.2222222222222222,\"#7201a8\"],[0.3333333333333333,\"#9c179e\"],[0.4444444444444444,\"#bd3786\"],[0.5555555555555556,\"#d8576b\"],[0.6666666666666666,\"#ed7953\"],[0.7777777777777778,\"#fb9f3a\"],[0.8888888888888888,\"#fdca26\"],[1.0,\"#f0f921\"]],\"type\":\"histogram2d\"}],\"histogram2dcontour\":[{\"colorbar\":{\"outlinewidth\":0,\"ticks\":\"\"},\"colorscale\":[[0.0,\"#0d0887\"],[0.1111111111111111,\"#46039f\"],[0.2222222222222222,\"#7201a8\"],[0.3333333333333333,\"#9c179e\"],[0.4444444444444444,\"#bd3786\"],[0.5555555555555556,\"#d8576b\"],[0.6666666666666666,\"#ed7953\"],[0.7777777777777778,\"#fb9f3a\"],[0.8888888888888888,\"#fdca26\"],[1.0,\"#f0f921\"]],\"type\":\"histogram2dcontour\"}],\"mesh3d\":[{\"colorbar\":{\"outlinewidth\":0,\"ticks\":\"\"},\"type\":\"mesh3d\"}],\"parcoords\":[{\"line\":{\"colorbar\":{\"outlinewidth\":0,\"ticks\":\"\"}},\"type\":\"parcoords\"}],\"pie\":[{\"automargin\":true,\"type\":\"pie\"}],\"scatter\":[{\"marker\":{\"colorbar\":{\"outlinewidth\":0,\"ticks\":\"\"}},\"type\":\"scatter\"}],\"scatter3d\":[{\"line\":{\"colorbar\":{\"outlinewidth\":0,\"ticks\":\"\"}},\"marker\":{\"colorbar\":{\"outlinewidth\":0,\"ticks\":\"\"}},\"type\":\"scatter3d\"}],\"scattercarpet\":[{\"marker\":{\"colorbar\":{\"outlinewidth\":0,\"ticks\":\"\"}},\"type\":\"scattercarpet\"}],\"scattergeo\":[{\"marker\":{\"colorbar\":{\"outlinewidth\":0,\"ticks\":\"\"}},\"type\":\"scattergeo\"}],\"scattergl\":[{\"marker\":{\"colorbar\":{\"outlinewidth\":0,\"ticks\":\"\"}},\"type\":\"scattergl\"}],\"scattermapbox\":[{\"marker\":{\"colorbar\":{\"outlinewidth\":0,\"ticks\":\"\"}},\"type\":\"scattermapbox\"}],\"scatterpolar\":[{\"marker\":{\"colorbar\":{\"outlinewidth\":0,\"ticks\":\"\"}},\"type\":\"scatterpolar\"}],\"scatterpolargl\":[{\"marker\":{\"colorbar\":{\"outlinewidth\":0,\"ticks\":\"\"}},\"type\":\"scatterpolargl\"}],\"scatterternary\":[{\"marker\":{\"colorbar\":{\"outlinewidth\":0,\"ticks\":\"\"}},\"type\":\"scatterternary\"}],\"surface\":[{\"colorbar\":{\"outlinewidth\":0,\"ticks\":\"\"},\"colorscale\":[[0.0,\"#0d0887\"],[0.1111111111111111,\"#46039f\"],[0.2222222222222222,\"#7201a8\"],[0.3333333333333333,\"#9c179e\"],[0.4444444444444444,\"#bd3786\"],[0.5555555555555556,\"#d8576b\"],[0.6666666666666666,\"#ed7953\"],[0.7777777777777778,\"#fb9f3a\"],[0.8888888888888888,\"#fdca26\"],[1.0,\"#f0f921\"]],\"type\":\"surface\"}],\"table\":[{\"cells\":{\"fill\":{\"color\":\"#EBF0F8\"},\"line\":{\"color\":\"white\"}},\"header\":{\"fill\":{\"color\":\"#C8D4E3\"},\"line\":{\"color\":\"white\"}},\"type\":\"table\"}]},\"layout\":{\"annotationdefaults\":{\"arrowcolor\":\"#2a3f5f\",\"arrowhead\":0,\"arrowwidth\":1},\"autotypenumbers\":\"strict\",\"coloraxis\":{\"colorbar\":{\"outlinewidth\":0,\"ticks\":\"\"}},\"colorscale\":{\"diverging\":[[0,\"#8e0152\"],[0.1,\"#c51b7d\"],[0.2,\"#de77ae\"],[0.3,\"#f1b6da\"],[0.4,\"#fde0ef\"],[0.5,\"#f7f7f7\"],[0.6,\"#e6f5d0\"],[0.7,\"#b8e186\"],[0.8,\"#7fbc41\"],[0.9,\"#4d9221\"],[1,\"#276419\"]],\"sequential\":[[0.0,\"#0d0887\"],[0.1111111111111111,\"#46039f\"],[0.2222222222222222,\"#7201a8\"],[0.3333333333333333,\"#9c179e\"],[0.4444444444444444,\"#bd3786\"],[0.5555555555555556,\"#d8576b\"],[0.6666666666666666,\"#ed7953\"],[0.7777777777777778,\"#fb9f3a\"],[0.8888888888888888,\"#fdca26\"],[1.0,\"#f0f921\"]],\"sequentialminus\":[[0.0,\"#0d0887\"],[0.1111111111111111,\"#46039f\"],[0.2222222222222222,\"#7201a8\"],[0.3333333333333333,\"#9c179e\"],[0.4444444444444444,\"#bd3786\"],[0.5555555555555556,\"#d8576b\"],[0.6666666666666666,\"#ed7953\"],[0.7777777777777778,\"#fb9f3a\"],[0.8888888888888888,\"#fdca26\"],[1.0,\"#f0f921\"]]},\"colorway\":[\"#636efa\",\"#EF553B\",\"#00cc96\",\"#ab63fa\",\"#FFA15A\",\"#19d3f3\",\"#FF6692\",\"#B6E880\",\"#FF97FF\",\"#FECB52\"],\"font\":{\"color\":\"#2a3f5f\"},\"geo\":{\"bgcolor\":\"white\",\"lakecolor\":\"white\",\"landcolor\":\"#E5ECF6\",\"showlakes\":true,\"showland\":true,\"subunitcolor\":\"white\"},\"hoverlabel\":{\"align\":\"left\"},\"hovermode\":\"closest\",\"mapbox\":{\"style\":\"light\"},\"paper_bgcolor\":\"white\",\"plot_bgcolor\":\"#E5ECF6\",\"polar\":{\"angularaxis\":{\"gridcolor\":\"white\",\"linecolor\":\"white\",\"ticks\":\"\"},\"bgcolor\":\"#E5ECF6\",\"radialaxis\":{\"gridcolor\":\"white\",\"linecolor\":\"white\",\"ticks\":\"\"}},\"scene\":{\"xaxis\":{\"backgroundcolor\":\"#E5ECF6\",\"gridcolor\":\"white\",\"gridwidth\":2,\"linecolor\":\"white\",\"showbackground\":true,\"ticks\":\"\",\"zerolinecolor\":\"white\"},\"yaxis\":{\"backgroundcolor\":\"#E5ECF6\",\"gridcolor\":\"white\",\"gridwidth\":2,\"linecolor\":\"white\",\"showbackground\":true,\"ticks\":\"\",\"zerolinecolor\":\"white\"},\"zaxis\":{\"backgroundcolor\":\"#E5ECF6\",\"gridcolor\":\"white\",\"gridwidth\":2,\"linecolor\":\"white\",\"showbackground\":true,\"ticks\":\"\",\"zerolinecolor\":\"white\"}},\"shapedefaults\":{\"line\":{\"color\":\"#2a3f5f\"}},\"ternary\":{\"aaxis\":{\"gridcolor\":\"white\",\"linecolor\":\"white\",\"ticks\":\"\"},\"baxis\":{\"gridcolor\":\"white\",\"linecolor\":\"white\",\"ticks\":\"\"},\"bgcolor\":\"#E5ECF6\",\"caxis\":{\"gridcolor\":\"white\",\"linecolor\":\"white\",\"ticks\":\"\"}},\"title\":{\"x\":0.05},\"xaxis\":{\"automargin\":true,\"gridcolor\":\"white\",\"linecolor\":\"white\",\"ticks\":\"\",\"title\":{\"standoff\":15},\"zerolinecolor\":\"white\",\"zerolinewidth\":2},\"yaxis\":{\"automargin\":true,\"gridcolor\":\"white\",\"linecolor\":\"white\",\"ticks\":\"\",\"title\":{\"standoff\":15},\"zerolinecolor\":\"white\",\"zerolinewidth\":2}}},\"coloraxis\":{\"colorbar\":{\"title\":{\"text\":\"Generation\"}},\"colorscale\":[[0.0,\"rgb(249, 221, 218)\"],[0.16666666666666666,\"rgb(242, 185, 196)\"],[0.3333333333333333,\"rgb(229, 151, 185)\"],[0.5,\"rgb(206, 120, 179)\"],[0.6666666666666666,\"rgb(173, 95, 173)\"],[0.8333333333333334,\"rgb(131, 75, 160)\"],[1.0,\"rgb(87, 59, 136)\"]]},\"legend\":{\"tracegroupgap\":0},\"margin\":{\"t\":60}},                        {\"responsive\": true}                    ).then(function(){\n",
              "                            \n",
              "var gd = document.getElementById('f63e63f6-8c02-4bd5-ac86-56e1d282b433');\n",
              "var x = new MutationObserver(function (mutations, observer) {{\n",
              "        var display = window.getComputedStyle(gd).display;\n",
              "        if (!display || display === 'none') {{\n",
              "            console.log([gd, 'removed!']);\n",
              "            Plotly.purge(gd);\n",
              "            observer.disconnect();\n",
              "        }}\n",
              "}});\n",
              "\n",
              "// Listen for the removal of the full notebook cells\n",
              "var notebookContainer = gd.closest('#notebook-container');\n",
              "if (notebookContainer) {{\n",
              "    x.observe(notebookContainer, {childList: true});\n",
              "}}\n",
              "\n",
              "// Listen for the clearing of the current output cell\n",
              "var outputEl = gd.closest('.output');\n",
              "if (outputEl) {{\n",
              "    x.observe(outputEl, {childList: true});\n",
              "}}\n",
              "\n",
              "                        })                };                            </script>        </div>\n",
              "</body>\n",
              "</html>"
            ]
          },
          "metadata": {}
        }
      ]
    },
    {
      "cell_type": "code",
      "source": [
        "pok.isnull().sum()"
      ],
      "metadata": {
        "colab": {
          "base_uri": "https://localhost:8080/"
        },
        "id": "De-h5oi01Rag",
        "outputId": "fcd57ff6-61df-4d51-95d2-41c64665c4c8"
      },
      "execution_count": null,
      "outputs": [
        {
          "output_type": "execute_result",
          "data": {
            "text/plain": [
              "#               0\n",
              "Name            0\n",
              "Type 1          0\n",
              "Type 2        386\n",
              "Total           0\n",
              "HP              0\n",
              "Attack          0\n",
              "Defense         0\n",
              "Sp. Atk         0\n",
              "Sp. Def         0\n",
              "Speed           0\n",
              "Generation      0\n",
              "Legendary       0\n",
              "dtype: int64"
            ]
          },
          "metadata": {},
          "execution_count": 6
        }
      ]
    },
    {
      "cell_type": "code",
      "source": [
        "pok.fillna(0, inplace = True)"
      ],
      "metadata": {
        "id": "2pSSNWqK16SD"
      },
      "execution_count": null,
      "outputs": []
    },
    {
      "cell_type": "code",
      "source": [
        "pok_mel1 = pd.melt(pok[[\"Type 1\",\"HP\",\"Attack\",\"Defense\",\"Sp. Atk\",\"Sp. Def\",\"Speed\"]], id_vars=\"Type 1\")\n",
        "px.scatter_polar(pok_mel1, r=\"value\", theta=\"Type 1\",color=\"Type 1\", color_continuous_scale=px.colors.sequential.ice)"
      ],
      "metadata": {
        "colab": {
          "base_uri": "https://localhost:8080/",
          "height": 542
        },
        "id": "FfSs7ZhP02jM",
        "outputId": "6a2905f4-586b-4635-94a2-7ece739b3b98"
      },
      "execution_count": null,
      "outputs": [
        {
          "output_type": "display_data",
          "data": {
            "text/html": [
              "<html>\n",
              "<head><meta charset=\"utf-8\" /></head>\n",
              "<body>\n",
              "    <div>            <script src=\"https://cdnjs.cloudflare.com/ajax/libs/mathjax/2.7.5/MathJax.js?config=TeX-AMS-MML_SVG\"></script><script type=\"text/javascript\">if (window.MathJax) {MathJax.Hub.Config({SVG: {font: \"STIX-Web\"}});}</script>                <script type=\"text/javascript\">window.PlotlyConfig = {MathJaxConfig: 'local'};</script>\n",
              "        <script src=\"https://cdn.plot.ly/plotly-2.8.3.min.js\"></script>                <div id=\"b3801f30-aed2-42a2-a59d-edd020990ecb\" class=\"plotly-graph-div\" style=\"height:525px; width:100%;\"></div>            <script type=\"text/javascript\">                                    window.PLOTLYENV=window.PLOTLYENV || {};                                    if (document.getElementById(\"b3801f30-aed2-42a2-a59d-edd020990ecb\")) {                    Plotly.newPlot(                        \"b3801f30-aed2-42a2-a59d-edd020990ecb\",                        [{\"hovertemplate\":\"Type 1=%{theta}<br>value=%{r}<extra></extra>\",\"legendgroup\":\"Grass\",\"marker\":{\"color\":\"#636efa\",\"symbol\":\"circle\"},\"mode\":\"markers\",\"name\":\"Grass\",\"r\":[45,60,80,80,45,60,75,50,65,80,60,95,65,45,60,80,75,35,55,75,30,75,40,50,70,70,40,70,90,60,60,50,50,70,99,55,75,95,40,60,45,70,74,60,90,90,100,65,100,100,45,60,75,50,75,40,60,45,70,75,69,114,44,74,91,56,61,88,66,123,49,62,82,100,50,65,80,75,90,105,40,95,55,49,62,82,80,35,45,55,30,75,45,65,85,110,40,70,100,40,130,60,85,115,68,68,89,109,30,70,35,60,100,62,92,132,100,110,100,103,45,60,75,53,98,27,67,35,60,86,55,85,50,94,90,61,78,107,65,100,49,63,83,123,55,70,85,35,50,65,80,85,115,65,80,100,95,40,50,70,30,55,35,45,65,75,50,40,60,60,80,45,40,60,83,64,85,105,35,65,45,70,72,50,75,105,125,130,100,75,55,75,95,48,63,60,85,50,75,67,45,70,91,131,72,65,95,122,48,62,65,80,100,122,75,85,110,70,85,100,60,125,100,49,63,83,90,35,45,55,30,105,65,85,105,145,30,60,90,40,60,100,85,115,72,45,55,75,50,125,62,87,90,62,92,132,110,60,100,120,45,60,75,53,98,37,77,70,110,106,55,85,24,54,90,48,56,74,62,97,65,80,100,120,65,75,90,30,45,70,45,65,40,65,80,100,100,55,65,95,30,85,55,65,85,85,30,40,60,60,60,80,40,60,87,55,65,85,70,105,53,78,72,60,85,105,50,65,100,75,55,75,95,48,63,50,75,50,75,67,55,80,86,116,129,45,58,75,57,81,45,60,80,80,30,40,50,40,55,70,40,55,60,45,60,80,50,50,80,110,30,30,70,95,120,145,30,60,80,35,70,65,35,55,51,31,36,56,55,90,35,85,46,40,60,30,50,95,100,127,63,83,113,64,101,66,116,30,90,60,15,30,10,20,108,38,57,64,52,68],\"showlegend\":true,\"subplot\":\"polar\",\"theta\":[\"Grass\",\"Grass\",\"Grass\",\"Grass\",\"Grass\",\"Grass\",\"Grass\",\"Grass\",\"Grass\",\"Grass\",\"Grass\",\"Grass\",\"Grass\",\"Grass\",\"Grass\",\"Grass\",\"Grass\",\"Grass\",\"Grass\",\"Grass\",\"Grass\",\"Grass\",\"Grass\",\"Grass\",\"Grass\",\"Grass\",\"Grass\",\"Grass\",\"Grass\",\"Grass\",\"Grass\",\"Grass\",\"Grass\",\"Grass\",\"Grass\",\"Grass\",\"Grass\",\"Grass\",\"Grass\",\"Grass\",\"Grass\",\"Grass\",\"Grass\",\"Grass\",\"Grass\",\"Grass\",\"Grass\",\"Grass\",\"Grass\",\"Grass\",\"Grass\",\"Grass\",\"Grass\",\"Grass\",\"Grass\",\"Grass\",\"Grass\",\"Grass\",\"Grass\",\"Grass\",\"Grass\",\"Grass\",\"Grass\",\"Grass\",\"Grass\",\"Grass\",\"Grass\",\"Grass\",\"Grass\",\"Grass\",\"Grass\",\"Grass\",\"Grass\",\"Grass\",\"Grass\",\"Grass\",\"Grass\",\"Grass\",\"Grass\",\"Grass\",\"Grass\",\"Grass\",\"Grass\",\"Grass\",\"Grass\",\"Grass\",\"Grass\",\"Grass\",\"Grass\",\"Grass\",\"Grass\",\"Grass\",\"Grass\",\"Grass\",\"Grass\",\"Grass\",\"Grass\",\"Grass\",\"Grass\",\"Grass\",\"Grass\",\"Grass\",\"Grass\",\"Grass\",\"Grass\",\"Grass\",\"Grass\",\"Grass\",\"Grass\",\"Grass\",\"Grass\",\"Grass\",\"Grass\",\"Grass\",\"Grass\",\"Grass\",\"Grass\",\"Grass\",\"Grass\",\"Grass\",\"Grass\",\"Grass\",\"Grass\",\"Grass\",\"Grass\",\"Grass\",\"Grass\",\"Grass\",\"Grass\",\"Grass\",\"Grass\",\"Grass\",\"Grass\",\"Grass\",\"Grass\",\"Grass\",\"Grass\",\"Grass\",\"Grass\",\"Grass\",\"Grass\",\"Grass\",\"Grass\",\"Grass\",\"Grass\",\"Grass\",\"Grass\",\"Grass\",\"Grass\",\"Grass\",\"Grass\",\"Grass\",\"Grass\",\"Grass\",\"Grass\",\"Grass\",\"Grass\",\"Grass\",\"Grass\",\"Grass\",\"Grass\",\"Grass\",\"Grass\",\"Grass\",\"Grass\",\"Grass\",\"Grass\",\"Grass\",\"Grass\",\"Grass\",\"Grass\",\"Grass\",\"Grass\",\"Grass\",\"Grass\",\"Grass\",\"Grass\",\"Grass\",\"Grass\",\"Grass\",\"Grass\",\"Grass\",\"Grass\",\"Grass\",\"Grass\",\"Grass\",\"Grass\",\"Grass\",\"Grass\",\"Grass\",\"Grass\",\"Grass\",\"Grass\",\"Grass\",\"Grass\",\"Grass\",\"Grass\",\"Grass\",\"Grass\",\"Grass\",\"Grass\",\"Grass\",\"Grass\",\"Grass\",\"Grass\",\"Grass\",\"Grass\",\"Grass\",\"Grass\",\"Grass\",\"Grass\",\"Grass\",\"Grass\",\"Grass\",\"Grass\",\"Grass\",\"Grass\",\"Grass\",\"Grass\",\"Grass\",\"Grass\",\"Grass\",\"Grass\",\"Grass\",\"Grass\",\"Grass\",\"Grass\",\"Grass\",\"Grass\",\"Grass\",\"Grass\",\"Grass\",\"Grass\",\"Grass\",\"Grass\",\"Grass\",\"Grass\",\"Grass\",\"Grass\",\"Grass\",\"Grass\",\"Grass\",\"Grass\",\"Grass\",\"Grass\",\"Grass\",\"Grass\",\"Grass\",\"Grass\",\"Grass\",\"Grass\",\"Grass\",\"Grass\",\"Grass\",\"Grass\",\"Grass\",\"Grass\",\"Grass\",\"Grass\",\"Grass\",\"Grass\",\"Grass\",\"Grass\",\"Grass\",\"Grass\",\"Grass\",\"Grass\",\"Grass\",\"Grass\",\"Grass\",\"Grass\",\"Grass\",\"Grass\",\"Grass\",\"Grass\",\"Grass\",\"Grass\",\"Grass\",\"Grass\",\"Grass\",\"Grass\",\"Grass\",\"Grass\",\"Grass\",\"Grass\",\"Grass\",\"Grass\",\"Grass\",\"Grass\",\"Grass\",\"Grass\",\"Grass\",\"Grass\",\"Grass\",\"Grass\",\"Grass\",\"Grass\",\"Grass\",\"Grass\",\"Grass\",\"Grass\",\"Grass\",\"Grass\",\"Grass\",\"Grass\",\"Grass\",\"Grass\",\"Grass\",\"Grass\",\"Grass\",\"Grass\",\"Grass\",\"Grass\",\"Grass\",\"Grass\",\"Grass\",\"Grass\",\"Grass\",\"Grass\",\"Grass\",\"Grass\",\"Grass\",\"Grass\",\"Grass\",\"Grass\",\"Grass\",\"Grass\",\"Grass\",\"Grass\",\"Grass\",\"Grass\",\"Grass\",\"Grass\",\"Grass\",\"Grass\",\"Grass\",\"Grass\",\"Grass\",\"Grass\",\"Grass\",\"Grass\",\"Grass\",\"Grass\",\"Grass\",\"Grass\",\"Grass\",\"Grass\",\"Grass\",\"Grass\",\"Grass\",\"Grass\",\"Grass\",\"Grass\",\"Grass\",\"Grass\",\"Grass\",\"Grass\",\"Grass\",\"Grass\",\"Grass\",\"Grass\",\"Grass\",\"Grass\",\"Grass\",\"Grass\",\"Grass\",\"Grass\",\"Grass\",\"Grass\",\"Grass\",\"Grass\",\"Grass\",\"Grass\",\"Grass\",\"Grass\",\"Grass\",\"Grass\",\"Grass\",\"Grass\",\"Grass\",\"Grass\",\"Grass\",\"Grass\",\"Grass\",\"Grass\",\"Grass\",\"Grass\",\"Grass\",\"Grass\",\"Grass\",\"Grass\",\"Grass\",\"Grass\",\"Grass\",\"Grass\",\"Grass\",\"Grass\",\"Grass\",\"Grass\",\"Grass\",\"Grass\",\"Grass\",\"Grass\",\"Grass\",\"Grass\",\"Grass\",\"Grass\",\"Grass\",\"Grass\",\"Grass\",\"Grass\",\"Grass\",\"Grass\",\"Grass\",\"Grass\",\"Grass\",\"Grass\",\"Grass\",\"Grass\",\"Grass\"],\"type\":\"scatterpolargl\"},{\"hovertemplate\":\"Type 1=%{theta}<br>value=%{r}<extra></extra>\",\"legendgroup\":\"Fire\",\"marker\":{\"color\":\"#EF553B\",\"symbol\":\"circle\"},\"mode\":\"markers\",\"name\":\"Fire\",\"r\":[39,58,78,78,78,38,73,55,90,50,65,65,65,90,39,58,78,40,50,45,115,106,45,60,80,80,60,70,70,70,44,64,76,75,91,65,90,110,50,75,70,105,105,85,40,59,75,62,78,62,86,80,52,64,84,130,104,41,76,70,110,85,100,95,130,100,52,64,84,40,50,75,115,130,60,85,120,160,60,100,120,85,58,78,104,95,90,63,93,123,53,98,90,140,30,97,45,59,69,73,81,50,68,110,43,58,78,111,78,40,75,45,80,55,70,57,60,90,43,58,78,40,120,37,85,90,40,60,70,80,40,70,100,140,44,52,71,67,106,45,55,65,48,63,45,55,105,66,40,58,72,55,71,58,72,120,60,80,109,130,159,50,81,70,100,65,80,100,95,125,60,80,109,70,80,70,90,110,70,85,110,130,65,105,145,85,58,78,104,125,130,45,70,100,53,98,15,30,140,105,62,90,114,56,74,73,109,130,50,65,85,85,115,65,100,50,80,65,80,85,110,85,50,65,85,40,80,55,75,154,50,60,70,80,45,75,105,70,44,52,71,95,106,45,55,65,48,63,45,55,105,66,60,70,100,52,69,54,66,90,65,80,100,100,100,65,100,60,95,90,105,93,65,90,65,80,100,20,30,83,100,90,45,55,80,100,35,40,20,20,61,81,108,83,77,45,55,65,64,101,50,95,55,65,60,73,104,84,126,72,106,70],\"showlegend\":true,\"subplot\":\"polar\",\"theta\":[\"Fire\",\"Fire\",\"Fire\",\"Fire\",\"Fire\",\"Fire\",\"Fire\",\"Fire\",\"Fire\",\"Fire\",\"Fire\",\"Fire\",\"Fire\",\"Fire\",\"Fire\",\"Fire\",\"Fire\",\"Fire\",\"Fire\",\"Fire\",\"Fire\",\"Fire\",\"Fire\",\"Fire\",\"Fire\",\"Fire\",\"Fire\",\"Fire\",\"Fire\",\"Fire\",\"Fire\",\"Fire\",\"Fire\",\"Fire\",\"Fire\",\"Fire\",\"Fire\",\"Fire\",\"Fire\",\"Fire\",\"Fire\",\"Fire\",\"Fire\",\"Fire\",\"Fire\",\"Fire\",\"Fire\",\"Fire\",\"Fire\",\"Fire\",\"Fire\",\"Fire\",\"Fire\",\"Fire\",\"Fire\",\"Fire\",\"Fire\",\"Fire\",\"Fire\",\"Fire\",\"Fire\",\"Fire\",\"Fire\",\"Fire\",\"Fire\",\"Fire\",\"Fire\",\"Fire\",\"Fire\",\"Fire\",\"Fire\",\"Fire\",\"Fire\",\"Fire\",\"Fire\",\"Fire\",\"Fire\",\"Fire\",\"Fire\",\"Fire\",\"Fire\",\"Fire\",\"Fire\",\"Fire\",\"Fire\",\"Fire\",\"Fire\",\"Fire\",\"Fire\",\"Fire\",\"Fire\",\"Fire\",\"Fire\",\"Fire\",\"Fire\",\"Fire\",\"Fire\",\"Fire\",\"Fire\",\"Fire\",\"Fire\",\"Fire\",\"Fire\",\"Fire\",\"Fire\",\"Fire\",\"Fire\",\"Fire\",\"Fire\",\"Fire\",\"Fire\",\"Fire\",\"Fire\",\"Fire\",\"Fire\",\"Fire\",\"Fire\",\"Fire\",\"Fire\",\"Fire\",\"Fire\",\"Fire\",\"Fire\",\"Fire\",\"Fire\",\"Fire\",\"Fire\",\"Fire\",\"Fire\",\"Fire\",\"Fire\",\"Fire\",\"Fire\",\"Fire\",\"Fire\",\"Fire\",\"Fire\",\"Fire\",\"Fire\",\"Fire\",\"Fire\",\"Fire\",\"Fire\",\"Fire\",\"Fire\",\"Fire\",\"Fire\",\"Fire\",\"Fire\",\"Fire\",\"Fire\",\"Fire\",\"Fire\",\"Fire\",\"Fire\",\"Fire\",\"Fire\",\"Fire\",\"Fire\",\"Fire\",\"Fire\",\"Fire\",\"Fire\",\"Fire\",\"Fire\",\"Fire\",\"Fire\",\"Fire\",\"Fire\",\"Fire\",\"Fire\",\"Fire\",\"Fire\",\"Fire\",\"Fire\",\"Fire\",\"Fire\",\"Fire\",\"Fire\",\"Fire\",\"Fire\",\"Fire\",\"Fire\",\"Fire\",\"Fire\",\"Fire\",\"Fire\",\"Fire\",\"Fire\",\"Fire\",\"Fire\",\"Fire\",\"Fire\",\"Fire\",\"Fire\",\"Fire\",\"Fire\",\"Fire\",\"Fire\",\"Fire\",\"Fire\",\"Fire\",\"Fire\",\"Fire\",\"Fire\",\"Fire\",\"Fire\",\"Fire\",\"Fire\",\"Fire\",\"Fire\",\"Fire\",\"Fire\",\"Fire\",\"Fire\",\"Fire\",\"Fire\",\"Fire\",\"Fire\",\"Fire\",\"Fire\",\"Fire\",\"Fire\",\"Fire\",\"Fire\",\"Fire\",\"Fire\",\"Fire\",\"Fire\",\"Fire\",\"Fire\",\"Fire\",\"Fire\",\"Fire\",\"Fire\",\"Fire\",\"Fire\",\"Fire\",\"Fire\",\"Fire\",\"Fire\",\"Fire\",\"Fire\",\"Fire\",\"Fire\",\"Fire\",\"Fire\",\"Fire\",\"Fire\",\"Fire\",\"Fire\",\"Fire\",\"Fire\",\"Fire\",\"Fire\",\"Fire\",\"Fire\",\"Fire\",\"Fire\",\"Fire\",\"Fire\",\"Fire\",\"Fire\",\"Fire\",\"Fire\",\"Fire\",\"Fire\",\"Fire\",\"Fire\",\"Fire\",\"Fire\",\"Fire\",\"Fire\",\"Fire\",\"Fire\",\"Fire\",\"Fire\",\"Fire\",\"Fire\",\"Fire\",\"Fire\",\"Fire\",\"Fire\",\"Fire\",\"Fire\",\"Fire\",\"Fire\",\"Fire\",\"Fire\",\"Fire\",\"Fire\",\"Fire\",\"Fire\",\"Fire\",\"Fire\",\"Fire\",\"Fire\",\"Fire\",\"Fire\",\"Fire\",\"Fire\",\"Fire\",\"Fire\",\"Fire\",\"Fire\",\"Fire\",\"Fire\",\"Fire\",\"Fire\",\"Fire\",\"Fire\",\"Fire\"],\"type\":\"scatterpolargl\"},{\"hovertemplate\":\"Type 1=%{theta}<br>value=%{r}<extra></extra>\",\"legendgroup\":\"Water\",\"marker\":{\"color\":\"#00cc96\",\"symbol\":\"circle\"},\"mode\":\"markers\",\"name\":\"Water\",\"r\":[44,59,79,79,50,80,40,65,90,40,80,90,95,95,65,90,30,50,30,55,30,55,45,80,30,60,20,95,95,130,130,50,65,85,75,125,70,100,90,55,95,95,65,55,35,75,65,75,100,50,70,100,100,40,60,80,40,60,45,70,70,130,170,50,110,43,63,20,95,35,55,55,100,43,100,100,53,64,84,55,85,76,111,49,69,45,90,80,100,55,75,95,50,75,50,75,105,70,54,74,62,75,55,100,165,91,91,41,54,72,50,71,48,63,83,103,52,82,50,65,95,40,70,65,75,75,45,70,65,95,105,130,40,65,67,92,45,75,10,125,155,85,65,65,80,105,38,58,20,50,75,45,85,75,95,55,65,105,40,95,75,70,85,110,150,30,50,70,30,50,90,120,140,70,90,48,78,80,120,15,60,64,104,84,90,30,100,150,51,66,86,65,105,48,83,49,69,20,120,80,100,55,75,100,53,98,50,65,95,92,78,108,44,87,40,60,75,72,72,56,63,95,53,73,65,80,100,120,48,78,40,65,95,35,65,65,110,180,55,80,100,180,90,115,70,95,60,65,55,85,55,79,109,80,60,64,80,100,38,58,50,80,75,45,85,80,75,85,35,75,70,95,115,50,70,90,110,30,50,70,30,100,20,40,70,35,45,43,73,65,85,20,79,85,105,105,130,55,90,90,53,68,88,35,55,48,68,56,76,50,100,80,100,45,60,85,48,63,40,55,75,65,103,133,50,63,50,70,80,90,90,40,52,67,62,88,50,65,85,135,65,95,40,50,70,50,80,40,100,130,45,70,45,85,25,50,70,95,35,65,70,100,15,60,70,85,110,44,59,79,56,76,20,60,90,25,65,100,55,65,65,105,80,95,90,50,60,85,95,40,60,90,55,85,65,95,110,70,90,46,76,50,90,10,100,74,94,114,45,40,150,180,61,81,111,60,85,57,92,49,69,60,150,80,100,63,83,108,53,98,50,65,85,80,53,83,44,87,65,85,40,129,129,62,83,103,58,120,64,80,105,115,50,80,40,50,90,100,120,40,80,80,70,95,25,45,25,50,25,45,50,80,55,85,20,100,130,95,95,48,63,83,56,76,50,80,100,25,65,110,55,85,35,75,140,95,115,50,70,90,110,50,70,100,30,70,20,40,65,35,45,41,71,35,55,55,125,55,75,75,65,65,140,160,56,76,101,30,50,62,82,61,86,120,120,80,100,45,60,70,48,63,40,55,75,55,45,65,50,63,85,105,45,90,90,44,56,71,63,89,43,58,78,78,55,85,90,90,70,70,100,15,30,30,45,70,40,70,50,75,60,85,63,68,85,115,80,81,81,60,65,43,58,78,67,67,40,50,70,15,35,30,85,35,65,45,70,85,85,40,50,60,70,30,50,70,85,65,65,95,105,60,60,60,60,35,55,80,81,32,52,52,55,97,90,90,40,50,60,85,115,34,39,66,91,50,100,80,100,45,60,70,64,101,64,69,74,98,22,32,55,98,40,60,65,108,108,71,97,122,44,59],\"showlegend\":true,\"subplot\":\"polar\",\"theta\":[\"Water\",\"Water\",\"Water\",\"Water\",\"Water\",\"Water\",\"Water\",\"Water\",\"Water\",\"Water\",\"Water\",\"Water\",\"Water\",\"Water\",\"Water\",\"Water\",\"Water\",\"Water\",\"Water\",\"Water\",\"Water\",\"Water\",\"Water\",\"Water\",\"Water\",\"Water\",\"Water\",\"Water\",\"Water\",\"Water\",\"Water\",\"Water\",\"Water\",\"Water\",\"Water\",\"Water\",\"Water\",\"Water\",\"Water\",\"Water\",\"Water\",\"Water\",\"Water\",\"Water\",\"Water\",\"Water\",\"Water\",\"Water\",\"Water\",\"Water\",\"Water\",\"Water\",\"Water\",\"Water\",\"Water\",\"Water\",\"Water\",\"Water\",\"Water\",\"Water\",\"Water\",\"Water\",\"Water\",\"Water\",\"Water\",\"Water\",\"Water\",\"Water\",\"Water\",\"Water\",\"Water\",\"Water\",\"Water\",\"Water\",\"Water\",\"Water\",\"Water\",\"Water\",\"Water\",\"Water\",\"Water\",\"Water\",\"Water\",\"Water\",\"Water\",\"Water\",\"Water\",\"Water\",\"Water\",\"Water\",\"Water\",\"Water\",\"Water\",\"Water\",\"Water\",\"Water\",\"Water\",\"Water\",\"Water\",\"Water\",\"Water\",\"Water\",\"Water\",\"Water\",\"Water\",\"Water\",\"Water\",\"Water\",\"Water\",\"Water\",\"Water\",\"Water\",\"Water\",\"Water\",\"Water\",\"Water\",\"Water\",\"Water\",\"Water\",\"Water\",\"Water\",\"Water\",\"Water\",\"Water\",\"Water\",\"Water\",\"Water\",\"Water\",\"Water\",\"Water\",\"Water\",\"Water\",\"Water\",\"Water\",\"Water\",\"Water\",\"Water\",\"Water\",\"Water\",\"Water\",\"Water\",\"Water\",\"Water\",\"Water\",\"Water\",\"Water\",\"Water\",\"Water\",\"Water\",\"Water\",\"Water\",\"Water\",\"Water\",\"Water\",\"Water\",\"Water\",\"Water\",\"Water\",\"Water\",\"Water\",\"Water\",\"Water\",\"Water\",\"Water\",\"Water\",\"Water\",\"Water\",\"Water\",\"Water\",\"Water\",\"Water\",\"Water\",\"Water\",\"Water\",\"Water\",\"Water\",\"Water\",\"Water\",\"Water\",\"Water\",\"Water\",\"Water\",\"Water\",\"Water\",\"Water\",\"Water\",\"Water\",\"Water\",\"Water\",\"Water\",\"Water\",\"Water\",\"Water\",\"Water\",\"Water\",\"Water\",\"Water\",\"Water\",\"Water\",\"Water\",\"Water\",\"Water\",\"Water\",\"Water\",\"Water\",\"Water\",\"Water\",\"Water\",\"Water\",\"Water\",\"Water\",\"Water\",\"Water\",\"Water\",\"Water\",\"Water\",\"Water\",\"Water\",\"Water\",\"Water\",\"Water\",\"Water\",\"Water\",\"Water\",\"Water\",\"Water\",\"Water\",\"Water\",\"Water\",\"Water\",\"Water\",\"Water\",\"Water\",\"Water\",\"Water\",\"Water\",\"Water\",\"Water\",\"Water\",\"Water\",\"Water\",\"Water\",\"Water\",\"Water\",\"Water\",\"Water\",\"Water\",\"Water\",\"Water\",\"Water\",\"Water\",\"Water\",\"Water\",\"Water\",\"Water\",\"Water\",\"Water\",\"Water\",\"Water\",\"Water\",\"Water\",\"Water\",\"Water\",\"Water\",\"Water\",\"Water\",\"Water\",\"Water\",\"Water\",\"Water\",\"Water\",\"Water\",\"Water\",\"Water\",\"Water\",\"Water\",\"Water\",\"Water\",\"Water\",\"Water\",\"Water\",\"Water\",\"Water\",\"Water\",\"Water\",\"Water\",\"Water\",\"Water\",\"Water\",\"Water\",\"Water\",\"Water\",\"Water\",\"Water\",\"Water\",\"Water\",\"Water\",\"Water\",\"Water\",\"Water\",\"Water\",\"Water\",\"Water\",\"Water\",\"Water\",\"Water\",\"Water\",\"Water\",\"Water\",\"Water\",\"Water\",\"Water\",\"Water\",\"Water\",\"Water\",\"Water\",\"Water\",\"Water\",\"Water\",\"Water\",\"Water\",\"Water\",\"Water\",\"Water\",\"Water\",\"Water\",\"Water\",\"Water\",\"Water\",\"Water\",\"Water\",\"Water\",\"Water\",\"Water\",\"Water\",\"Water\",\"Water\",\"Water\",\"Water\",\"Water\",\"Water\",\"Water\",\"Water\",\"Water\",\"Water\",\"Water\",\"Water\",\"Water\",\"Water\",\"Water\",\"Water\",\"Water\",\"Water\",\"Water\",\"Water\",\"Water\",\"Water\",\"Water\",\"Water\",\"Water\",\"Water\",\"Water\",\"Water\",\"Water\",\"Water\",\"Water\",\"Water\",\"Water\",\"Water\",\"Water\",\"Water\",\"Water\",\"Water\",\"Water\",\"Water\",\"Water\",\"Water\",\"Water\",\"Water\",\"Water\",\"Water\",\"Water\",\"Water\",\"Water\",\"Water\",\"Water\",\"Water\",\"Water\",\"Water\",\"Water\",\"Water\",\"Water\",\"Water\",\"Water\",\"Water\",\"Water\",\"Water\",\"Water\",\"Water\",\"Water\",\"Water\",\"Water\",\"Water\",\"Water\",\"Water\",\"Water\",\"Water\",\"Water\",\"Water\",\"Water\",\"Water\",\"Water\",\"Water\",\"Water\",\"Water\",\"Water\",\"Water\",\"Water\",\"Water\",\"Water\",\"Water\",\"Water\",\"Water\",\"Water\",\"Water\",\"Water\",\"Water\",\"Water\",\"Water\",\"Water\",\"Water\",\"Water\",\"Water\",\"Water\",\"Water\",\"Water\",\"Water\",\"Water\",\"Water\",\"Water\",\"Water\",\"Water\",\"Water\",\"Water\",\"Water\",\"Water\",\"Water\",\"Water\",\"Water\",\"Water\",\"Water\",\"Water\",\"Water\",\"Water\",\"Water\",\"Water\",\"Water\",\"Water\",\"Water\",\"Water\",\"Water\",\"Water\",\"Water\",\"Water\",\"Water\",\"Water\",\"Water\",\"Water\",\"Water\",\"Water\",\"Water\",\"Water\",\"Water\",\"Water\",\"Water\",\"Water\",\"Water\",\"Water\",\"Water\",\"Water\",\"Water\",\"Water\",\"Water\",\"Water\",\"Water\",\"Water\",\"Water\",\"Water\",\"Water\",\"Water\",\"Water\",\"Water\",\"Water\",\"Water\",\"Water\",\"Water\",\"Water\",\"Water\",\"Water\",\"Water\",\"Water\",\"Water\",\"Water\",\"Water\",\"Water\",\"Water\",\"Water\",\"Water\",\"Water\",\"Water\",\"Water\",\"Water\",\"Water\",\"Water\",\"Water\",\"Water\",\"Water\",\"Water\",\"Water\",\"Water\",\"Water\",\"Water\",\"Water\",\"Water\",\"Water\",\"Water\",\"Water\",\"Water\",\"Water\",\"Water\",\"Water\",\"Water\",\"Water\",\"Water\",\"Water\",\"Water\",\"Water\",\"Water\",\"Water\",\"Water\",\"Water\",\"Water\",\"Water\",\"Water\",\"Water\",\"Water\",\"Water\",\"Water\",\"Water\",\"Water\",\"Water\",\"Water\",\"Water\",\"Water\",\"Water\",\"Water\",\"Water\",\"Water\",\"Water\",\"Water\",\"Water\",\"Water\",\"Water\",\"Water\",\"Water\",\"Water\",\"Water\",\"Water\",\"Water\",\"Water\",\"Water\",\"Water\",\"Water\",\"Water\",\"Water\",\"Water\",\"Water\",\"Water\",\"Water\",\"Water\",\"Water\",\"Water\",\"Water\",\"Water\",\"Water\",\"Water\",\"Water\",\"Water\",\"Water\",\"Water\",\"Water\",\"Water\",\"Water\",\"Water\",\"Water\",\"Water\",\"Water\",\"Water\",\"Water\",\"Water\",\"Water\",\"Water\",\"Water\",\"Water\",\"Water\",\"Water\",\"Water\",\"Water\",\"Water\",\"Water\",\"Water\",\"Water\",\"Water\",\"Water\",\"Water\",\"Water\",\"Water\",\"Water\",\"Water\",\"Water\",\"Water\",\"Water\",\"Water\",\"Water\",\"Water\",\"Water\",\"Water\",\"Water\",\"Water\",\"Water\",\"Water\",\"Water\",\"Water\",\"Water\",\"Water\",\"Water\",\"Water\",\"Water\",\"Water\",\"Water\",\"Water\",\"Water\",\"Water\",\"Water\",\"Water\",\"Water\",\"Water\",\"Water\",\"Water\",\"Water\",\"Water\",\"Water\",\"Water\",\"Water\",\"Water\",\"Water\",\"Water\",\"Water\",\"Water\",\"Water\",\"Water\",\"Water\",\"Water\",\"Water\",\"Water\",\"Water\",\"Water\",\"Water\",\"Water\",\"Water\",\"Water\",\"Water\"],\"type\":\"scatterpolargl\"},{\"hovertemplate\":\"Type 1=%{theta}<br>value=%{r}<extra></extra>\",\"legendgroup\":\"Bug\",\"marker\":{\"color\":\"#ab63fa\",\"symbol\":\"circle\"},\"mode\":\"markers\",\"name\":\"Bug\",\"r\":[45,50,60,40,45,65,65,35,60,60,70,70,65,65,40,55,40,70,65,50,75,70,70,20,80,80,45,50,60,50,60,40,70,31,61,1,65,65,37,77,40,60,60,60,70,30,70,86,45,55,75,30,40,60,50,70,50,70,50,70,50,80,58,55,85,71,38,45,80,30,20,45,35,25,90,150,70,95,55,65,110,125,155,20,35,60,90,65,65,90,130,150,10,125,185,45,35,70,35,50,30,60,45,90,90,73,47,25,85,29,59,79,69,94,30,80,76,53,63,103,45,55,100,65,95,75,135,47,77,40,70,109,85,60,120,35,22,52,35,55,50,30,50,40,40,55,80,50,60,80,100,120,30,50,40,70,45,90,140,100,140,230,75,115,35,55,50,55,70,32,62,90,45,45,55,55,41,51,45,85,105,95,50,42,102,86,70,90,80,59,99,89,85,125,45,105,50,60,85,40,112,55,65,95,40,60,50,20,25,90,20,25,45,15,45,60,40,90,55,55,65,40,55,40,60,75,35,60,55,65,10,40,40,20,25,100,25,50,50,80,30,50,30,47,73,25,55,29,79,59,69,94,30,80,116,40,50,70,30,40,55,35,65,40,60,57,97,40,100,48,50,135,120,27,27,90,20,25,80,20,25,80,80,55,80,55,75,80,70,90,80,110,40,60,45,35,60,80,100,230,95,105,30,25,50,25,90,52,82,30,50,30,75,75,41,51,45,105,85,95,50,42,102,56,60,80,80,39,79,69,35,75,45,105,50,60,65,60,48,55,105,95,25,30,50,45,30,70,50,35,75,145,25,30,45,90,105,85,105,55,85,30,40,95,15,40,65,75,5,85,75,20,15,65,15,65,65,60,40,160,40,85,85,25,65,36,36,36,36,66,70,40,95,42,42,92,57,47,112,55,45,60,20,65,108,25,145,109,60,100,99,35,29,89],\"showlegend\":true,\"subplot\":\"polar\",\"theta\":[\"Bug\",\"Bug\",\"Bug\",\"Bug\",\"Bug\",\"Bug\",\"Bug\",\"Bug\",\"Bug\",\"Bug\",\"Bug\",\"Bug\",\"Bug\",\"Bug\",\"Bug\",\"Bug\",\"Bug\",\"Bug\",\"Bug\",\"Bug\",\"Bug\",\"Bug\",\"Bug\",\"Bug\",\"Bug\",\"Bug\",\"Bug\",\"Bug\",\"Bug\",\"Bug\",\"Bug\",\"Bug\",\"Bug\",\"Bug\",\"Bug\",\"Bug\",\"Bug\",\"Bug\",\"Bug\",\"Bug\",\"Bug\",\"Bug\",\"Bug\",\"Bug\",\"Bug\",\"Bug\",\"Bug\",\"Bug\",\"Bug\",\"Bug\",\"Bug\",\"Bug\",\"Bug\",\"Bug\",\"Bug\",\"Bug\",\"Bug\",\"Bug\",\"Bug\",\"Bug\",\"Bug\",\"Bug\",\"Bug\",\"Bug\",\"Bug\",\"Bug\",\"Bug\",\"Bug\",\"Bug\",\"Bug\",\"Bug\",\"Bug\",\"Bug\",\"Bug\",\"Bug\",\"Bug\",\"Bug\",\"Bug\",\"Bug\",\"Bug\",\"Bug\",\"Bug\",\"Bug\",\"Bug\",\"Bug\",\"Bug\",\"Bug\",\"Bug\",\"Bug\",\"Bug\",\"Bug\",\"Bug\",\"Bug\",\"Bug\",\"Bug\",\"Bug\",\"Bug\",\"Bug\",\"Bug\",\"Bug\",\"Bug\",\"Bug\",\"Bug\",\"Bug\",\"Bug\",\"Bug\",\"Bug\",\"Bug\",\"Bug\",\"Bug\",\"Bug\",\"Bug\",\"Bug\",\"Bug\",\"Bug\",\"Bug\",\"Bug\",\"Bug\",\"Bug\",\"Bug\",\"Bug\",\"Bug\",\"Bug\",\"Bug\",\"Bug\",\"Bug\",\"Bug\",\"Bug\",\"Bug\",\"Bug\",\"Bug\",\"Bug\",\"Bug\",\"Bug\",\"Bug\",\"Bug\",\"Bug\",\"Bug\",\"Bug\",\"Bug\",\"Bug\",\"Bug\",\"Bug\",\"Bug\",\"Bug\",\"Bug\",\"Bug\",\"Bug\",\"Bug\",\"Bug\",\"Bug\",\"Bug\",\"Bug\",\"Bug\",\"Bug\",\"Bug\",\"Bug\",\"Bug\",\"Bug\",\"Bug\",\"Bug\",\"Bug\",\"Bug\",\"Bug\",\"Bug\",\"Bug\",\"Bug\",\"Bug\",\"Bug\",\"Bug\",\"Bug\",\"Bug\",\"Bug\",\"Bug\",\"Bug\",\"Bug\",\"Bug\",\"Bug\",\"Bug\",\"Bug\",\"Bug\",\"Bug\",\"Bug\",\"Bug\",\"Bug\",\"Bug\",\"Bug\",\"Bug\",\"Bug\",\"Bug\",\"Bug\",\"Bug\",\"Bug\",\"Bug\",\"Bug\",\"Bug\",\"Bug\",\"Bug\",\"Bug\",\"Bug\",\"Bug\",\"Bug\",\"Bug\",\"Bug\",\"Bug\",\"Bug\",\"Bug\",\"Bug\",\"Bug\",\"Bug\",\"Bug\",\"Bug\",\"Bug\",\"Bug\",\"Bug\",\"Bug\",\"Bug\",\"Bug\",\"Bug\",\"Bug\",\"Bug\",\"Bug\",\"Bug\",\"Bug\",\"Bug\",\"Bug\",\"Bug\",\"Bug\",\"Bug\",\"Bug\",\"Bug\",\"Bug\",\"Bug\",\"Bug\",\"Bug\",\"Bug\",\"Bug\",\"Bug\",\"Bug\",\"Bug\",\"Bug\",\"Bug\",\"Bug\",\"Bug\",\"Bug\",\"Bug\",\"Bug\",\"Bug\",\"Bug\",\"Bug\",\"Bug\",\"Bug\",\"Bug\",\"Bug\",\"Bug\",\"Bug\",\"Bug\",\"Bug\",\"Bug\",\"Bug\",\"Bug\",\"Bug\",\"Bug\",\"Bug\",\"Bug\",\"Bug\",\"Bug\",\"Bug\",\"Bug\",\"Bug\",\"Bug\",\"Bug\",\"Bug\",\"Bug\",\"Bug\",\"Bug\",\"Bug\",\"Bug\",\"Bug\",\"Bug\",\"Bug\",\"Bug\",\"Bug\",\"Bug\",\"Bug\",\"Bug\",\"Bug\",\"Bug\",\"Bug\",\"Bug\",\"Bug\",\"Bug\",\"Bug\",\"Bug\",\"Bug\",\"Bug\",\"Bug\",\"Bug\",\"Bug\",\"Bug\",\"Bug\",\"Bug\",\"Bug\",\"Bug\",\"Bug\",\"Bug\",\"Bug\",\"Bug\",\"Bug\",\"Bug\",\"Bug\",\"Bug\",\"Bug\",\"Bug\",\"Bug\",\"Bug\",\"Bug\",\"Bug\",\"Bug\",\"Bug\",\"Bug\",\"Bug\",\"Bug\",\"Bug\",\"Bug\",\"Bug\",\"Bug\",\"Bug\",\"Bug\",\"Bug\",\"Bug\",\"Bug\",\"Bug\",\"Bug\",\"Bug\",\"Bug\",\"Bug\",\"Bug\",\"Bug\",\"Bug\",\"Bug\",\"Bug\",\"Bug\",\"Bug\",\"Bug\",\"Bug\",\"Bug\",\"Bug\",\"Bug\",\"Bug\",\"Bug\",\"Bug\",\"Bug\",\"Bug\",\"Bug\",\"Bug\",\"Bug\",\"Bug\",\"Bug\",\"Bug\",\"Bug\",\"Bug\",\"Bug\",\"Bug\",\"Bug\",\"Bug\",\"Bug\",\"Bug\",\"Bug\",\"Bug\",\"Bug\",\"Bug\",\"Bug\",\"Bug\",\"Bug\",\"Bug\",\"Bug\",\"Bug\",\"Bug\",\"Bug\",\"Bug\",\"Bug\",\"Bug\",\"Bug\",\"Bug\",\"Bug\",\"Bug\",\"Bug\",\"Bug\",\"Bug\",\"Bug\",\"Bug\",\"Bug\",\"Bug\",\"Bug\",\"Bug\",\"Bug\",\"Bug\",\"Bug\",\"Bug\",\"Bug\",\"Bug\",\"Bug\",\"Bug\",\"Bug\",\"Bug\",\"Bug\",\"Bug\",\"Bug\",\"Bug\",\"Bug\",\"Bug\",\"Bug\",\"Bug\"],\"type\":\"scatterpolargl\"},{\"hovertemplate\":\"Type 1=%{theta}<br>value=%{r}<extra></extra>\",\"legendgroup\":\"Normal\",\"marker\":{\"color\":\"#FFA15A\",\"symbol\":\"circle\"},\"mode\":\"markers\",\"name\":\"Normal\",\"r\":[40,63,83,83,30,55,40,65,115,140,40,65,52,35,60,90,250,105,105,75,48,55,65,160,35,85,60,100,90,55,70,100,60,90,85,73,55,95,255,38,78,40,60,60,80,150,64,84,104,50,50,70,60,45,73,70,60,40,55,85,59,79,75,55,65,65,49,71,100,76,135,110,85,110,120,45,60,45,65,85,50,62,80,103,103,55,75,60,80,95,70,100,100,100,38,85,45,75,45,60,80,80,56,81,60,90,45,70,45,70,65,85,110,55,5,95,125,100,48,55,60,110,46,76,30,50,30,70,80,70,80,130,80,95,20,80,10,30,70,55,85,60,80,160,51,71,91,20,45,65,60,40,115,70,90,55,75,120,45,85,100,66,76,136,55,82,5,65,85,85,80,160,120,55,85,60,80,110,55,77,115,60,60,50,95,60,100,110,83,123,77,128,36,56,50,80,40,55,75,80,35,60,30,65,20,45,35,60,55,45,70,75,5,80,100,95,48,50,70,65,34,64,30,50,15,55,65,70,50,75,90,62,35,105,10,41,61,30,60,60,80,100,23,43,63,40,45,65,60,60,60,70,70,30,50,70,40,60,66,44,84,94,42,64,5,45,40,95,70,110,120,39,69,45,65,90,50,62,80,86,126,40,60,50,70,95,50,75,77,90,38,77,43,60,35,50,70,135,25,50,31,61,45,85,40,65,58,35,60,60,35,40,60,40,48,45,85,65,35,45,36,76,40,40,90,65,50,75,105,85,20,40,75,30,50,30,50,35,55,95,51,71,91,20,35,55,60,40,60,70,60,30,40,50,35,55,60,44,54,54,42,64,15,92,40,80,135,80,120,35,60,25,35,45,36,50,65,60,80,40,65,40,60,40,37,57,128,77,32,50,40,65,35,50,70,80,35,70,31,61,25,50,40,65,62,35,60,75,105,80,100,70,48,65,75,110,45,55,56,96,20,55,65,65,50,75,95,65,45,70,135,41,61,30,50,35,55,65,23,43,73,40,35,55,60,75,60,70,120,30,40,60,40,60,66,56,96,96,37,59,65,42,85,95,75,110,120,39,69,45,65,90,30,42,55,86,126,40,60,50,70,95,50,75,128,77,36,77,38,90,56,71,101,121,72,97,70,100,20,45,90,115,60,75,100,30,50,90,100,110,48,55,40,30,20,90,50,70,15,85,85,45,40,55,60,85,75,100,55,60,100,85,125,30,90,100,28,48,68,20,50,70,60,50,90,70,40,60,80,100,31,71,115,85,105,135,85,112,30,91,5,50,90,100,120,42,77,55,60,80,43,65,93,50,50,75,115,75,95,55,60,80,90,128,57,78,62,102],\"showlegend\":true,\"subplot\":\"polar\",\"theta\":[\"Normal\",\"Normal\",\"Normal\",\"Normal\",\"Normal\",\"Normal\",\"Normal\",\"Normal\",\"Normal\",\"Normal\",\"Normal\",\"Normal\",\"Normal\",\"Normal\",\"Normal\",\"Normal\",\"Normal\",\"Normal\",\"Normal\",\"Normal\",\"Normal\",\"Normal\",\"Normal\",\"Normal\",\"Normal\",\"Normal\",\"Normal\",\"Normal\",\"Normal\",\"Normal\",\"Normal\",\"Normal\",\"Normal\",\"Normal\",\"Normal\",\"Normal\",\"Normal\",\"Normal\",\"Normal\",\"Normal\",\"Normal\",\"Normal\",\"Normal\",\"Normal\",\"Normal\",\"Normal\",\"Normal\",\"Normal\",\"Normal\",\"Normal\",\"Normal\",\"Normal\",\"Normal\",\"Normal\",\"Normal\",\"Normal\",\"Normal\",\"Normal\",\"Normal\",\"Normal\",\"Normal\",\"Normal\",\"Normal\",\"Normal\",\"Normal\",\"Normal\",\"Normal\",\"Normal\",\"Normal\",\"Normal\",\"Normal\",\"Normal\",\"Normal\",\"Normal\",\"Normal\",\"Normal\",\"Normal\",\"Normal\",\"Normal\",\"Normal\",\"Normal\",\"Normal\",\"Normal\",\"Normal\",\"Normal\",\"Normal\",\"Normal\",\"Normal\",\"Normal\",\"Normal\",\"Normal\",\"Normal\",\"Normal\",\"Normal\",\"Normal\",\"Normal\",\"Normal\",\"Normal\",\"Normal\",\"Normal\",\"Normal\",\"Normal\",\"Normal\",\"Normal\",\"Normal\",\"Normal\",\"Normal\",\"Normal\",\"Normal\",\"Normal\",\"Normal\",\"Normal\",\"Normal\",\"Normal\",\"Normal\",\"Normal\",\"Normal\",\"Normal\",\"Normal\",\"Normal\",\"Normal\",\"Normal\",\"Normal\",\"Normal\",\"Normal\",\"Normal\",\"Normal\",\"Normal\",\"Normal\",\"Normal\",\"Normal\",\"Normal\",\"Normal\",\"Normal\",\"Normal\",\"Normal\",\"Normal\",\"Normal\",\"Normal\",\"Normal\",\"Normal\",\"Normal\",\"Normal\",\"Normal\",\"Normal\",\"Normal\",\"Normal\",\"Normal\",\"Normal\",\"Normal\",\"Normal\",\"Normal\",\"Normal\",\"Normal\",\"Normal\",\"Normal\",\"Normal\",\"Normal\",\"Normal\",\"Normal\",\"Normal\",\"Normal\",\"Normal\",\"Normal\",\"Normal\",\"Normal\",\"Normal\",\"Normal\",\"Normal\",\"Normal\",\"Normal\",\"Normal\",\"Normal\",\"Normal\",\"Normal\",\"Normal\",\"Normal\",\"Normal\",\"Normal\",\"Normal\",\"Normal\",\"Normal\",\"Normal\",\"Normal\",\"Normal\",\"Normal\",\"Normal\",\"Normal\",\"Normal\",\"Normal\",\"Normal\",\"Normal\",\"Normal\",\"Normal\",\"Normal\",\"Normal\",\"Normal\",\"Normal\",\"Normal\",\"Normal\",\"Normal\",\"Normal\",\"Normal\",\"Normal\",\"Normal\",\"Normal\",\"Normal\",\"Normal\",\"Normal\",\"Normal\",\"Normal\",\"Normal\",\"Normal\",\"Normal\",\"Normal\",\"Normal\",\"Normal\",\"Normal\",\"Normal\",\"Normal\",\"Normal\",\"Normal\",\"Normal\",\"Normal\",\"Normal\",\"Normal\",\"Normal\",\"Normal\",\"Normal\",\"Normal\",\"Normal\",\"Normal\",\"Normal\",\"Normal\",\"Normal\",\"Normal\",\"Normal\",\"Normal\",\"Normal\",\"Normal\",\"Normal\",\"Normal\",\"Normal\",\"Normal\",\"Normal\",\"Normal\",\"Normal\",\"Normal\",\"Normal\",\"Normal\",\"Normal\",\"Normal\",\"Normal\",\"Normal\",\"Normal\",\"Normal\",\"Normal\",\"Normal\",\"Normal\",\"Normal\",\"Normal\",\"Normal\",\"Normal\",\"Normal\",\"Normal\",\"Normal\",\"Normal\",\"Normal\",\"Normal\",\"Normal\",\"Normal\",\"Normal\",\"Normal\",\"Normal\",\"Normal\",\"Normal\",\"Normal\",\"Normal\",\"Normal\",\"Normal\",\"Normal\",\"Normal\",\"Normal\",\"Normal\",\"Normal\",\"Normal\",\"Normal\",\"Normal\",\"Normal\",\"Normal\",\"Normal\",\"Normal\",\"Normal\",\"Normal\",\"Normal\",\"Normal\",\"Normal\",\"Normal\",\"Normal\",\"Normal\",\"Normal\",\"Normal\",\"Normal\",\"Normal\",\"Normal\",\"Normal\",\"Normal\",\"Normal\",\"Normal\",\"Normal\",\"Normal\",\"Normal\",\"Normal\",\"Normal\",\"Normal\",\"Normal\",\"Normal\",\"Normal\",\"Normal\",\"Normal\",\"Normal\",\"Normal\",\"Normal\",\"Normal\",\"Normal\",\"Normal\",\"Normal\",\"Normal\",\"Normal\",\"Normal\",\"Normal\",\"Normal\",\"Normal\",\"Normal\",\"Normal\",\"Normal\",\"Normal\",\"Normal\",\"Normal\",\"Normal\",\"Normal\",\"Normal\",\"Normal\",\"Normal\",\"Normal\",\"Normal\",\"Normal\",\"Normal\",\"Normal\",\"Normal\",\"Normal\",\"Normal\",\"Normal\",\"Normal\",\"Normal\",\"Normal\",\"Normal\",\"Normal\",\"Normal\",\"Normal\",\"Normal\",\"Normal\",\"Normal\",\"Normal\",\"Normal\",\"Normal\",\"Normal\",\"Normal\",\"Normal\",\"Normal\",\"Normal\",\"Normal\",\"Normal\",\"Normal\",\"Normal\",\"Normal\",\"Normal\",\"Normal\",\"Normal\",\"Normal\",\"Normal\",\"Normal\",\"Normal\",\"Normal\",\"Normal\",\"Normal\",\"Normal\",\"Normal\",\"Normal\",\"Normal\",\"Normal\",\"Normal\",\"Normal\",\"Normal\",\"Normal\",\"Normal\",\"Normal\",\"Normal\",\"Normal\",\"Normal\",\"Normal\",\"Normal\",\"Normal\",\"Normal\",\"Normal\",\"Normal\",\"Normal\",\"Normal\",\"Normal\",\"Normal\",\"Normal\",\"Normal\",\"Normal\",\"Normal\",\"Normal\",\"Normal\",\"Normal\",\"Normal\",\"Normal\",\"Normal\",\"Normal\",\"Normal\",\"Normal\",\"Normal\",\"Normal\",\"Normal\",\"Normal\",\"Normal\",\"Normal\",\"Normal\",\"Normal\",\"Normal\",\"Normal\",\"Normal\",\"Normal\",\"Normal\",\"Normal\",\"Normal\",\"Normal\",\"Normal\",\"Normal\",\"Normal\",\"Normal\",\"Normal\",\"Normal\",\"Normal\",\"Normal\",\"Normal\",\"Normal\",\"Normal\",\"Normal\",\"Normal\",\"Normal\",\"Normal\",\"Normal\",\"Normal\",\"Normal\",\"Normal\",\"Normal\",\"Normal\",\"Normal\",\"Normal\",\"Normal\",\"Normal\",\"Normal\",\"Normal\",\"Normal\",\"Normal\",\"Normal\",\"Normal\",\"Normal\",\"Normal\",\"Normal\",\"Normal\",\"Normal\",\"Normal\",\"Normal\",\"Normal\",\"Normal\",\"Normal\",\"Normal\",\"Normal\",\"Normal\",\"Normal\",\"Normal\",\"Normal\",\"Normal\",\"Normal\",\"Normal\",\"Normal\",\"Normal\",\"Normal\",\"Normal\",\"Normal\",\"Normal\",\"Normal\",\"Normal\",\"Normal\",\"Normal\",\"Normal\",\"Normal\",\"Normal\",\"Normal\",\"Normal\",\"Normal\",\"Normal\",\"Normal\",\"Normal\",\"Normal\",\"Normal\",\"Normal\",\"Normal\",\"Normal\",\"Normal\",\"Normal\",\"Normal\",\"Normal\",\"Normal\",\"Normal\",\"Normal\",\"Normal\",\"Normal\",\"Normal\",\"Normal\",\"Normal\",\"Normal\",\"Normal\",\"Normal\",\"Normal\",\"Normal\",\"Normal\",\"Normal\",\"Normal\",\"Normal\",\"Normal\",\"Normal\",\"Normal\",\"Normal\",\"Normal\",\"Normal\",\"Normal\",\"Normal\",\"Normal\",\"Normal\",\"Normal\",\"Normal\",\"Normal\",\"Normal\",\"Normal\",\"Normal\",\"Normal\",\"Normal\",\"Normal\",\"Normal\",\"Normal\",\"Normal\",\"Normal\",\"Normal\",\"Normal\",\"Normal\",\"Normal\",\"Normal\",\"Normal\",\"Normal\",\"Normal\",\"Normal\",\"Normal\",\"Normal\",\"Normal\",\"Normal\",\"Normal\",\"Normal\",\"Normal\",\"Normal\",\"Normal\",\"Normal\",\"Normal\",\"Normal\",\"Normal\",\"Normal\",\"Normal\",\"Normal\",\"Normal\",\"Normal\",\"Normal\",\"Normal\",\"Normal\",\"Normal\"],\"type\":\"scatterpolargl\"},{\"hovertemplate\":\"Type 1=%{theta}<br>value=%{r}<extra></extra>\",\"legendgroup\":\"Poison\",\"marker\":{\"color\":\"#19d3f3\",\"symbol\":\"circle\"},\"mode\":\"markers\",\"name\":\"Poison\",\"r\":[35,60,55,70,90,46,61,81,40,75,80,105,40,65,85,70,100,73,63,103,40,70,48,83,50,80,50,65,60,85,47,62,92,57,72,102,45,80,80,105,65,90,90,43,73,100,63,93,50,90,61,106,50,95,60,75,44,69,52,67,87,40,57,77,35,70,50,75,95,120,80,53,83,60,47,67,90,110,40,65,62,82,60,90,40,65,40,55,75,40,55,85,30,65,40,65,60,85,70,43,73,100,41,71,30,60,61,86,40,60,60,97,54,79,40,55,85,40,55,75,40,75,50,100,45,70,80,53,83,60,41,61,55,75,40,65,62,82,60,123,55,80,41,56,76,50,65,85,55,90,25,50,35,60,130,40,55,65,74,84,65,95,50,85,65,75,30,44],\"showlegend\":true,\"subplot\":\"polar\",\"theta\":[\"Poison\",\"Poison\",\"Poison\",\"Poison\",\"Poison\",\"Poison\",\"Poison\",\"Poison\",\"Poison\",\"Poison\",\"Poison\",\"Poison\",\"Poison\",\"Poison\",\"Poison\",\"Poison\",\"Poison\",\"Poison\",\"Poison\",\"Poison\",\"Poison\",\"Poison\",\"Poison\",\"Poison\",\"Poison\",\"Poison\",\"Poison\",\"Poison\",\"Poison\",\"Poison\",\"Poison\",\"Poison\",\"Poison\",\"Poison\",\"Poison\",\"Poison\",\"Poison\",\"Poison\",\"Poison\",\"Poison\",\"Poison\",\"Poison\",\"Poison\",\"Poison\",\"Poison\",\"Poison\",\"Poison\",\"Poison\",\"Poison\",\"Poison\",\"Poison\",\"Poison\",\"Poison\",\"Poison\",\"Poison\",\"Poison\",\"Poison\",\"Poison\",\"Poison\",\"Poison\",\"Poison\",\"Poison\",\"Poison\",\"Poison\",\"Poison\",\"Poison\",\"Poison\",\"Poison\",\"Poison\",\"Poison\",\"Poison\",\"Poison\",\"Poison\",\"Poison\",\"Poison\",\"Poison\",\"Poison\",\"Poison\",\"Poison\",\"Poison\",\"Poison\",\"Poison\",\"Poison\",\"Poison\",\"Poison\",\"Poison\",\"Poison\",\"Poison\",\"Poison\",\"Poison\",\"Poison\",\"Poison\",\"Poison\",\"Poison\",\"Poison\",\"Poison\",\"Poison\",\"Poison\",\"Poison\",\"Poison\",\"Poison\",\"Poison\",\"Poison\",\"Poison\",\"Poison\",\"Poison\",\"Poison\",\"Poison\",\"Poison\",\"Poison\",\"Poison\",\"Poison\",\"Poison\",\"Poison\",\"Poison\",\"Poison\",\"Poison\",\"Poison\",\"Poison\",\"Poison\",\"Poison\",\"Poison\",\"Poison\",\"Poison\",\"Poison\",\"Poison\",\"Poison\",\"Poison\",\"Poison\",\"Poison\",\"Poison\",\"Poison\",\"Poison\",\"Poison\",\"Poison\",\"Poison\",\"Poison\",\"Poison\",\"Poison\",\"Poison\",\"Poison\",\"Poison\",\"Poison\",\"Poison\",\"Poison\",\"Poison\",\"Poison\",\"Poison\",\"Poison\",\"Poison\",\"Poison\",\"Poison\",\"Poison\",\"Poison\",\"Poison\",\"Poison\",\"Poison\",\"Poison\",\"Poison\",\"Poison\",\"Poison\",\"Poison\",\"Poison\",\"Poison\",\"Poison\",\"Poison\",\"Poison\",\"Poison\"],\"type\":\"scatterpolargl\"},{\"hovertemplate\":\"Type 1=%{theta}<br>value=%{r}<extra></extra>\",\"legendgroup\":\"Electric\",\"marker\":{\"color\":\"#FF6692\",\"symbol\":\"circle\"},\"mode\":\"markers\",\"name\":\"Electric\",\"r\":[35,60,25,50,40,60,65,65,90,20,55,70,90,90,45,90,40,70,70,60,60,45,60,80,60,70,75,50,50,50,50,50,50,45,75,55,35,65,85,79,79,44,62,67,55,90,35,60,30,50,83,65,90,40,40,55,75,95,63,85,45,75,75,50,40,65,85,120,45,70,123,50,65,65,65,65,65,60,100,75,55,85,115,115,105,38,55,58,40,55,70,95,50,70,57,60,85,15,40,55,85,105,37,75,40,60,80,40,50,34,49,79,70,115,67,77,107,107,107,107,107,32,63,60,40,70,80,70,70,33,52,57,50,90,95,120,55,80,95,110,125,35,65,80,115,165,65,115,65,105,135,85,75,40,60,95,45,130,95,95,105,105,105,105,105,50,80,75,45,75,105,125,145,61,109,81,50,80,55,70,55,80,85,95,90,35,45,60,90,110,55,100,40,60,80,75,85,34,49,79,90,90,85,77,107,107,107,107,107,32,63,60,40,70,80,80,80,43,94,67,90,110,45,70,100,140,105,130,100,60,35,45,55,45,95,115,65,105,135,95,95,45,60,70,95,60,95,91,86,86,86,86,86,76,116,103,60,40,50,111,101,70,109,101],\"showlegend\":true,\"subplot\":\"polar\",\"theta\":[\"Electric\",\"Electric\",\"Electric\",\"Electric\",\"Electric\",\"Electric\",\"Electric\",\"Electric\",\"Electric\",\"Electric\",\"Electric\",\"Electric\",\"Electric\",\"Electric\",\"Electric\",\"Electric\",\"Electric\",\"Electric\",\"Electric\",\"Electric\",\"Electric\",\"Electric\",\"Electric\",\"Electric\",\"Electric\",\"Electric\",\"Electric\",\"Electric\",\"Electric\",\"Electric\",\"Electric\",\"Electric\",\"Electric\",\"Electric\",\"Electric\",\"Electric\",\"Electric\",\"Electric\",\"Electric\",\"Electric\",\"Electric\",\"Electric\",\"Electric\",\"Electric\",\"Electric\",\"Electric\",\"Electric\",\"Electric\",\"Electric\",\"Electric\",\"Electric\",\"Electric\",\"Electric\",\"Electric\",\"Electric\",\"Electric\",\"Electric\",\"Electric\",\"Electric\",\"Electric\",\"Electric\",\"Electric\",\"Electric\",\"Electric\",\"Electric\",\"Electric\",\"Electric\",\"Electric\",\"Electric\",\"Electric\",\"Electric\",\"Electric\",\"Electric\",\"Electric\",\"Electric\",\"Electric\",\"Electric\",\"Electric\",\"Electric\",\"Electric\",\"Electric\",\"Electric\",\"Electric\",\"Electric\",\"Electric\",\"Electric\",\"Electric\",\"Electric\",\"Electric\",\"Electric\",\"Electric\",\"Electric\",\"Electric\",\"Electric\",\"Electric\",\"Electric\",\"Electric\",\"Electric\",\"Electric\",\"Electric\",\"Electric\",\"Electric\",\"Electric\",\"Electric\",\"Electric\",\"Electric\",\"Electric\",\"Electric\",\"Electric\",\"Electric\",\"Electric\",\"Electric\",\"Electric\",\"Electric\",\"Electric\",\"Electric\",\"Electric\",\"Electric\",\"Electric\",\"Electric\",\"Electric\",\"Electric\",\"Electric\",\"Electric\",\"Electric\",\"Electric\",\"Electric\",\"Electric\",\"Electric\",\"Electric\",\"Electric\",\"Electric\",\"Electric\",\"Electric\",\"Electric\",\"Electric\",\"Electric\",\"Electric\",\"Electric\",\"Electric\",\"Electric\",\"Electric\",\"Electric\",\"Electric\",\"Electric\",\"Electric\",\"Electric\",\"Electric\",\"Electric\",\"Electric\",\"Electric\",\"Electric\",\"Electric\",\"Electric\",\"Electric\",\"Electric\",\"Electric\",\"Electric\",\"Electric\",\"Electric\",\"Electric\",\"Electric\",\"Electric\",\"Electric\",\"Electric\",\"Electric\",\"Electric\",\"Electric\",\"Electric\",\"Electric\",\"Electric\",\"Electric\",\"Electric\",\"Electric\",\"Electric\",\"Electric\",\"Electric\",\"Electric\",\"Electric\",\"Electric\",\"Electric\",\"Electric\",\"Electric\",\"Electric\",\"Electric\",\"Electric\",\"Electric\",\"Electric\",\"Electric\",\"Electric\",\"Electric\",\"Electric\",\"Electric\",\"Electric\",\"Electric\",\"Electric\",\"Electric\",\"Electric\",\"Electric\",\"Electric\",\"Electric\",\"Electric\",\"Electric\",\"Electric\",\"Electric\",\"Electric\",\"Electric\",\"Electric\",\"Electric\",\"Electric\",\"Electric\",\"Electric\",\"Electric\",\"Electric\",\"Electric\",\"Electric\",\"Electric\",\"Electric\",\"Electric\",\"Electric\",\"Electric\",\"Electric\",\"Electric\",\"Electric\",\"Electric\",\"Electric\",\"Electric\",\"Electric\",\"Electric\",\"Electric\",\"Electric\",\"Electric\",\"Electric\",\"Electric\",\"Electric\",\"Electric\",\"Electric\",\"Electric\",\"Electric\",\"Electric\",\"Electric\",\"Electric\",\"Electric\",\"Electric\",\"Electric\",\"Electric\",\"Electric\",\"Electric\",\"Electric\",\"Electric\",\"Electric\",\"Electric\",\"Electric\",\"Electric\",\"Electric\",\"Electric\",\"Electric\",\"Electric\",\"Electric\",\"Electric\",\"Electric\",\"Electric\",\"Electric\",\"Electric\"],\"type\":\"scatterpolargl\"},{\"hovertemplate\":\"Type 1=%{theta}<br>value=%{r}<extra></extra>\",\"legendgroup\":\"Ground\",\"marker\":{\"color\":\"#B6E880\",\"symbol\":\"circle\"},\"mode\":\"markers\",\"name\":\"Ground\",\"r\":[50,75,10,35,50,60,80,105,65,90,90,45,50,80,40,60,100,100,68,108,115,75,60,110,50,60,95,109,59,89,89,89,75,100,55,80,50,80,85,130,75,60,120,100,70,100,40,70,150,180,72,112,140,95,85,135,72,82,117,66,74,124,125,145,85,110,25,50,95,110,95,120,105,60,120,45,50,80,55,105,140,160,78,118,130,125,40,60,35,45,80,84,50,80,90,90,20,45,35,50,40,50,30,45,35,40,60,45,50,80,40,70,100,150,38,68,55,45,30,50,35,45,65,81,35,55,115,105,30,55,45,70,50,80,30,45,65,40,60,45,50,80,70,120,90,90,42,72,55,75,45,65,35,45,70,99,50,80,80,80,40,65,95,120,35,45,25,40,85,40,50,10,70,100,55,75,90,90,32,47,40,95,68,88,65,74,92,32,35,55,101,91],\"showlegend\":true,\"subplot\":\"polar\",\"theta\":[\"Ground\",\"Ground\",\"Ground\",\"Ground\",\"Ground\",\"Ground\",\"Ground\",\"Ground\",\"Ground\",\"Ground\",\"Ground\",\"Ground\",\"Ground\",\"Ground\",\"Ground\",\"Ground\",\"Ground\",\"Ground\",\"Ground\",\"Ground\",\"Ground\",\"Ground\",\"Ground\",\"Ground\",\"Ground\",\"Ground\",\"Ground\",\"Ground\",\"Ground\",\"Ground\",\"Ground\",\"Ground\",\"Ground\",\"Ground\",\"Ground\",\"Ground\",\"Ground\",\"Ground\",\"Ground\",\"Ground\",\"Ground\",\"Ground\",\"Ground\",\"Ground\",\"Ground\",\"Ground\",\"Ground\",\"Ground\",\"Ground\",\"Ground\",\"Ground\",\"Ground\",\"Ground\",\"Ground\",\"Ground\",\"Ground\",\"Ground\",\"Ground\",\"Ground\",\"Ground\",\"Ground\",\"Ground\",\"Ground\",\"Ground\",\"Ground\",\"Ground\",\"Ground\",\"Ground\",\"Ground\",\"Ground\",\"Ground\",\"Ground\",\"Ground\",\"Ground\",\"Ground\",\"Ground\",\"Ground\",\"Ground\",\"Ground\",\"Ground\",\"Ground\",\"Ground\",\"Ground\",\"Ground\",\"Ground\",\"Ground\",\"Ground\",\"Ground\",\"Ground\",\"Ground\",\"Ground\",\"Ground\",\"Ground\",\"Ground\",\"Ground\",\"Ground\",\"Ground\",\"Ground\",\"Ground\",\"Ground\",\"Ground\",\"Ground\",\"Ground\",\"Ground\",\"Ground\",\"Ground\",\"Ground\",\"Ground\",\"Ground\",\"Ground\",\"Ground\",\"Ground\",\"Ground\",\"Ground\",\"Ground\",\"Ground\",\"Ground\",\"Ground\",\"Ground\",\"Ground\",\"Ground\",\"Ground\",\"Ground\",\"Ground\",\"Ground\",\"Ground\",\"Ground\",\"Ground\",\"Ground\",\"Ground\",\"Ground\",\"Ground\",\"Ground\",\"Ground\",\"Ground\",\"Ground\",\"Ground\",\"Ground\",\"Ground\",\"Ground\",\"Ground\",\"Ground\",\"Ground\",\"Ground\",\"Ground\",\"Ground\",\"Ground\",\"Ground\",\"Ground\",\"Ground\",\"Ground\",\"Ground\",\"Ground\",\"Ground\",\"Ground\",\"Ground\",\"Ground\",\"Ground\",\"Ground\",\"Ground\",\"Ground\",\"Ground\",\"Ground\",\"Ground\",\"Ground\",\"Ground\",\"Ground\",\"Ground\",\"Ground\",\"Ground\",\"Ground\",\"Ground\",\"Ground\",\"Ground\",\"Ground\",\"Ground\",\"Ground\",\"Ground\",\"Ground\",\"Ground\",\"Ground\",\"Ground\",\"Ground\",\"Ground\",\"Ground\",\"Ground\",\"Ground\",\"Ground\",\"Ground\",\"Ground\",\"Ground\",\"Ground\"],\"type\":\"scatterpolargl\"},{\"hovertemplate\":\"Type 1=%{theta}<br>value=%{r}<extra></extra>\",\"legendgroup\":\"Fairy\",\"marker\":{\"color\":\"#FF97FF\",\"symbol\":\"circle\"},\"mode\":\"markers\",\"name\":\"Fairy\",\"r\":[70,95,50,35,55,60,90,85,44,54,78,78,101,62,82,95,126,45,70,25,20,40,80,120,50,38,45,65,52,72,48,80,65,131,48,73,28,65,85,50,75,95,39,47,68,60,72,66,86,65,95,60,95,45,40,80,40,60,120,61,75,112,63,99,59,85,110,131,65,90,55,65,105,40,60,115,79,98,154,65,89,57,75,130,98,35,60,15,20,40,30,45,80,42,52,75,23,29,49,72,60,99],\"showlegend\":true,\"subplot\":\"polar\",\"theta\":[\"Fairy\",\"Fairy\",\"Fairy\",\"Fairy\",\"Fairy\",\"Fairy\",\"Fairy\",\"Fairy\",\"Fairy\",\"Fairy\",\"Fairy\",\"Fairy\",\"Fairy\",\"Fairy\",\"Fairy\",\"Fairy\",\"Fairy\",\"Fairy\",\"Fairy\",\"Fairy\",\"Fairy\",\"Fairy\",\"Fairy\",\"Fairy\",\"Fairy\",\"Fairy\",\"Fairy\",\"Fairy\",\"Fairy\",\"Fairy\",\"Fairy\",\"Fairy\",\"Fairy\",\"Fairy\",\"Fairy\",\"Fairy\",\"Fairy\",\"Fairy\",\"Fairy\",\"Fairy\",\"Fairy\",\"Fairy\",\"Fairy\",\"Fairy\",\"Fairy\",\"Fairy\",\"Fairy\",\"Fairy\",\"Fairy\",\"Fairy\",\"Fairy\",\"Fairy\",\"Fairy\",\"Fairy\",\"Fairy\",\"Fairy\",\"Fairy\",\"Fairy\",\"Fairy\",\"Fairy\",\"Fairy\",\"Fairy\",\"Fairy\",\"Fairy\",\"Fairy\",\"Fairy\",\"Fairy\",\"Fairy\",\"Fairy\",\"Fairy\",\"Fairy\",\"Fairy\",\"Fairy\",\"Fairy\",\"Fairy\",\"Fairy\",\"Fairy\",\"Fairy\",\"Fairy\",\"Fairy\",\"Fairy\",\"Fairy\",\"Fairy\",\"Fairy\",\"Fairy\",\"Fairy\",\"Fairy\",\"Fairy\",\"Fairy\",\"Fairy\",\"Fairy\",\"Fairy\",\"Fairy\",\"Fairy\",\"Fairy\",\"Fairy\",\"Fairy\",\"Fairy\",\"Fairy\",\"Fairy\",\"Fairy\",\"Fairy\"],\"type\":\"scatterpolargl\"},{\"hovertemplate\":\"Type 1=%{theta}<br>value=%{r}<extra></extra>\",\"legendgroup\":\"Fighting\",\"marker\":{\"color\":\"#FECB52\",\"symbol\":\"circle\"},\"mode\":\"markers\",\"name\":\"Fighting\",\"r\":[40,65,70,80,90,50,50,35,50,72,144,30,60,60,40,70,70,75,85,105,120,75,45,65,67,95,78,80,105,80,100,130,120,105,35,95,60,120,40,60,100,70,110,145,80,105,140,100,125,85,125,82,124,92,35,60,50,70,80,53,79,35,95,30,60,55,75,85,40,70,88,55,85,95,85,75,50,60,62,78,75,35,60,35,50,65,35,35,35,35,20,40,40,60,80,35,115,140,25,40,55,30,30,55,95,46,69,74,45,70,35,60,85,110,110,35,110,30,60,55,75,85,40,70,70,35,50,65,85,75,50,60,48,71,63,70,95,35,45,55,87,76,35,70,25,50,60,80,100,60,90,112,35,40,45,45,85,65,105,43,58,118],\"showlegend\":true,\"subplot\":\"polar\",\"theta\":[\"Fighting\",\"Fighting\",\"Fighting\",\"Fighting\",\"Fighting\",\"Fighting\",\"Fighting\",\"Fighting\",\"Fighting\",\"Fighting\",\"Fighting\",\"Fighting\",\"Fighting\",\"Fighting\",\"Fighting\",\"Fighting\",\"Fighting\",\"Fighting\",\"Fighting\",\"Fighting\",\"Fighting\",\"Fighting\",\"Fighting\",\"Fighting\",\"Fighting\",\"Fighting\",\"Fighting\",\"Fighting\",\"Fighting\",\"Fighting\",\"Fighting\",\"Fighting\",\"Fighting\",\"Fighting\",\"Fighting\",\"Fighting\",\"Fighting\",\"Fighting\",\"Fighting\",\"Fighting\",\"Fighting\",\"Fighting\",\"Fighting\",\"Fighting\",\"Fighting\",\"Fighting\",\"Fighting\",\"Fighting\",\"Fighting\",\"Fighting\",\"Fighting\",\"Fighting\",\"Fighting\",\"Fighting\",\"Fighting\",\"Fighting\",\"Fighting\",\"Fighting\",\"Fighting\",\"Fighting\",\"Fighting\",\"Fighting\",\"Fighting\",\"Fighting\",\"Fighting\",\"Fighting\",\"Fighting\",\"Fighting\",\"Fighting\",\"Fighting\",\"Fighting\",\"Fighting\",\"Fighting\",\"Fighting\",\"Fighting\",\"Fighting\",\"Fighting\",\"Fighting\",\"Fighting\",\"Fighting\",\"Fighting\",\"Fighting\",\"Fighting\",\"Fighting\",\"Fighting\",\"Fighting\",\"Fighting\",\"Fighting\",\"Fighting\",\"Fighting\",\"Fighting\",\"Fighting\",\"Fighting\",\"Fighting\",\"Fighting\",\"Fighting\",\"Fighting\",\"Fighting\",\"Fighting\",\"Fighting\",\"Fighting\",\"Fighting\",\"Fighting\",\"Fighting\",\"Fighting\",\"Fighting\",\"Fighting\",\"Fighting\",\"Fighting\",\"Fighting\",\"Fighting\",\"Fighting\",\"Fighting\",\"Fighting\",\"Fighting\",\"Fighting\",\"Fighting\",\"Fighting\",\"Fighting\",\"Fighting\",\"Fighting\",\"Fighting\",\"Fighting\",\"Fighting\",\"Fighting\",\"Fighting\",\"Fighting\",\"Fighting\",\"Fighting\",\"Fighting\",\"Fighting\",\"Fighting\",\"Fighting\",\"Fighting\",\"Fighting\",\"Fighting\",\"Fighting\",\"Fighting\",\"Fighting\",\"Fighting\",\"Fighting\",\"Fighting\",\"Fighting\",\"Fighting\",\"Fighting\",\"Fighting\",\"Fighting\",\"Fighting\",\"Fighting\",\"Fighting\",\"Fighting\",\"Fighting\",\"Fighting\",\"Fighting\",\"Fighting\",\"Fighting\",\"Fighting\",\"Fighting\",\"Fighting\",\"Fighting\",\"Fighting\",\"Fighting\"],\"type\":\"scatterpolargl\"},{\"hovertemplate\":\"Type 1=%{theta}<br>value=%{r}<extra></extra>\",\"legendgroup\":\"Psychic\",\"marker\":{\"color\":\"#636efa\",\"symbol\":\"circle\"},\"mode\":\"markers\",\"name\":\"Psychic\",\"r\":[25,40,55,55,60,85,40,106,106,106,100,40,65,65,48,190,106,100,28,38,68,68,60,80,65,95,50,50,50,50,45,20,68,68,75,80,75,120,100,76,116,55,67,72,45,60,70,45,65,110,55,75,62,74,74,80,80,20,35,50,50,48,73,45,110,190,150,100,50,75,65,72,33,90,100,25,35,65,85,25,45,50,23,150,180,70,95,30,25,125,165,75,105,125,70,100,25,55,45,57,58,30,45,55,30,40,65,55,75,48,48,48,110,160,15,30,45,65,45,70,65,90,100,70,100,45,70,60,48,58,130,100,25,35,65,65,35,65,70,48,50,20,160,90,50,45,65,95,130,105,70,120,100,45,85,43,55,80,50,70,95,40,50,75,55,75,54,76,76,60,60,105,120,135,175,43,73,100,154,154,194,100,70,95,130,72,33,90,100,45,65,125,165,70,90,95,23,150,180,70,95,65,70,65,65,75,105,125,75,100,67,107,55,77,103,55,75,95,105,125,125,85,125,63,83,83,150,170,55,70,95,95,90,115,120,90,100,120,100,45,70,95,48,58,154,100,35,55,115,135,80,110,80,48,50,20,160,90,50,90,115,115,130,105,70,130,100,55,95,43,55,80,65,85,110,50,60,85,55,95,60,81,81,130,130,90,105,120,150,42,67,90,130,130,140,100,70,95,110,48,33,110,100,40,50,80,100,60,80,65,23,150,150,90,180,45,60,80,110,95,80,115,85,100,24,29,72,114,97,45,55,65,20,30,30,30,40,68,104,104,70,80],\"showlegend\":true,\"subplot\":\"polar\",\"theta\":[\"Psychic\",\"Psychic\",\"Psychic\",\"Psychic\",\"Psychic\",\"Psychic\",\"Psychic\",\"Psychic\",\"Psychic\",\"Psychic\",\"Psychic\",\"Psychic\",\"Psychic\",\"Psychic\",\"Psychic\",\"Psychic\",\"Psychic\",\"Psychic\",\"Psychic\",\"Psychic\",\"Psychic\",\"Psychic\",\"Psychic\",\"Psychic\",\"Psychic\",\"Psychic\",\"Psychic\",\"Psychic\",\"Psychic\",\"Psychic\",\"Psychic\",\"Psychic\",\"Psychic\",\"Psychic\",\"Psychic\",\"Psychic\",\"Psychic\",\"Psychic\",\"Psychic\",\"Psychic\",\"Psychic\",\"Psychic\",\"Psychic\",\"Psychic\",\"Psychic\",\"Psychic\",\"Psychic\",\"Psychic\",\"Psychic\",\"Psychic\",\"Psychic\",\"Psychic\",\"Psychic\",\"Psychic\",\"Psychic\",\"Psychic\",\"Psychic\",\"Psychic\",\"Psychic\",\"Psychic\",\"Psychic\",\"Psychic\",\"Psychic\",\"Psychic\",\"Psychic\",\"Psychic\",\"Psychic\",\"Psychic\",\"Psychic\",\"Psychic\",\"Psychic\",\"Psychic\",\"Psychic\",\"Psychic\",\"Psychic\",\"Psychic\",\"Psychic\",\"Psychic\",\"Psychic\",\"Psychic\",\"Psychic\",\"Psychic\",\"Psychic\",\"Psychic\",\"Psychic\",\"Psychic\",\"Psychic\",\"Psychic\",\"Psychic\",\"Psychic\",\"Psychic\",\"Psychic\",\"Psychic\",\"Psychic\",\"Psychic\",\"Psychic\",\"Psychic\",\"Psychic\",\"Psychic\",\"Psychic\",\"Psychic\",\"Psychic\",\"Psychic\",\"Psychic\",\"Psychic\",\"Psychic\",\"Psychic\",\"Psychic\",\"Psychic\",\"Psychic\",\"Psychic\",\"Psychic\",\"Psychic\",\"Psychic\",\"Psychic\",\"Psychic\",\"Psychic\",\"Psychic\",\"Psychic\",\"Psychic\",\"Psychic\",\"Psychic\",\"Psychic\",\"Psychic\",\"Psychic\",\"Psychic\",\"Psychic\",\"Psychic\",\"Psychic\",\"Psychic\",\"Psychic\",\"Psychic\",\"Psychic\",\"Psychic\",\"Psychic\",\"Psychic\",\"Psychic\",\"Psychic\",\"Psychic\",\"Psychic\",\"Psychic\",\"Psychic\",\"Psychic\",\"Psychic\",\"Psychic\",\"Psychic\",\"Psychic\",\"Psychic\",\"Psychic\",\"Psychic\",\"Psychic\",\"Psychic\",\"Psychic\",\"Psychic\",\"Psychic\",\"Psychic\",\"Psychic\",\"Psychic\",\"Psychic\",\"Psychic\",\"Psychic\",\"Psychic\",\"Psychic\",\"Psychic\",\"Psychic\",\"Psychic\",\"Psychic\",\"Psychic\",\"Psychic\",\"Psychic\",\"Psychic\",\"Psychic\",\"Psychic\",\"Psychic\",\"Psychic\",\"Psychic\",\"Psychic\",\"Psychic\",\"Psychic\",\"Psychic\",\"Psychic\",\"Psychic\",\"Psychic\",\"Psychic\",\"Psychic\",\"Psychic\",\"Psychic\",\"Psychic\",\"Psychic\",\"Psychic\",\"Psychic\",\"Psychic\",\"Psychic\",\"Psychic\",\"Psychic\",\"Psychic\",\"Psychic\",\"Psychic\",\"Psychic\",\"Psychic\",\"Psychic\",\"Psychic\",\"Psychic\",\"Psychic\",\"Psychic\",\"Psychic\",\"Psychic\",\"Psychic\",\"Psychic\",\"Psychic\",\"Psychic\",\"Psychic\",\"Psychic\",\"Psychic\",\"Psychic\",\"Psychic\",\"Psychic\",\"Psychic\",\"Psychic\",\"Psychic\",\"Psychic\",\"Psychic\",\"Psychic\",\"Psychic\",\"Psychic\",\"Psychic\",\"Psychic\",\"Psychic\",\"Psychic\",\"Psychic\",\"Psychic\",\"Psychic\",\"Psychic\",\"Psychic\",\"Psychic\",\"Psychic\",\"Psychic\",\"Psychic\",\"Psychic\",\"Psychic\",\"Psychic\",\"Psychic\",\"Psychic\",\"Psychic\",\"Psychic\",\"Psychic\",\"Psychic\",\"Psychic\",\"Psychic\",\"Psychic\",\"Psychic\",\"Psychic\",\"Psychic\",\"Psychic\",\"Psychic\",\"Psychic\",\"Psychic\",\"Psychic\",\"Psychic\",\"Psychic\",\"Psychic\",\"Psychic\",\"Psychic\",\"Psychic\",\"Psychic\",\"Psychic\",\"Psychic\",\"Psychic\",\"Psychic\",\"Psychic\",\"Psychic\",\"Psychic\",\"Psychic\",\"Psychic\",\"Psychic\",\"Psychic\",\"Psychic\",\"Psychic\",\"Psychic\",\"Psychic\",\"Psychic\",\"Psychic\",\"Psychic\",\"Psychic\",\"Psychic\",\"Psychic\",\"Psychic\",\"Psychic\",\"Psychic\",\"Psychic\",\"Psychic\",\"Psychic\",\"Psychic\",\"Psychic\",\"Psychic\",\"Psychic\",\"Psychic\",\"Psychic\",\"Psychic\",\"Psychic\",\"Psychic\",\"Psychic\",\"Psychic\",\"Psychic\",\"Psychic\",\"Psychic\",\"Psychic\",\"Psychic\",\"Psychic\",\"Psychic\",\"Psychic\",\"Psychic\",\"Psychic\",\"Psychic\",\"Psychic\",\"Psychic\",\"Psychic\",\"Psychic\",\"Psychic\",\"Psychic\",\"Psychic\",\"Psychic\",\"Psychic\",\"Psychic\",\"Psychic\",\"Psychic\",\"Psychic\",\"Psychic\",\"Psychic\",\"Psychic\",\"Psychic\",\"Psychic\",\"Psychic\",\"Psychic\",\"Psychic\",\"Psychic\",\"Psychic\",\"Psychic\",\"Psychic\",\"Psychic\",\"Psychic\",\"Psychic\"],\"type\":\"scatterpolargl\"},{\"hovertemplate\":\"Type 1=%{theta}<br>value=%{r}<extra></extra>\",\"legendgroup\":\"Rock\",\"marker\":{\"color\":\"#EF553B\",\"symbol\":\"circle\"},\"mode\":\"markers\",\"name\":\"Rock\",\"r\":[40,55,80,35,35,70,30,60,80,80,70,50,70,100,100,30,70,70,66,86,45,75,80,67,97,30,60,50,60,55,70,85,55,75,91,42,72,58,82,77,123,50,50,50,80,95,120,45,40,60,80,115,105,135,100,64,84,134,164,45,55,95,41,81,95,125,100,125,165,42,52,80,55,75,105,135,112,140,129,52,105,89,121,59,77,50,100,160,100,115,130,160,100,125,90,105,65,85,115,50,70,110,150,135,65,85,77,97,50,100,200,40,60,118,168,95,145,85,105,130,45,65,90,67,115,77,119,50,72,150,150,110,30,45,55,30,90,115,55,65,60,70,30,45,65,95,95,45,95,55,61,81,40,70,50,30,65,42,47,10,75,25,50,60,74,112,72,39,54,45,69,67,99,50,100,160,30,45,65,45,55,70,45,70,75,95,65,50,70,100,120,90,85,65,87,107,50,80,100,30,50,88,138,45,150,25,40,80,45,65,90,56,86,45,59,63,92,150,150,110,20,35,45,70,35,55,55,80,130,150,30,41,51,61,71,30,70,70,23,43,75,45,50,58,58,30,30,10,40,15,20,25,70,110,108,50,68,48,71,46,58,50,50,110],\"showlegend\":true,\"subplot\":\"polar\",\"theta\":[\"Rock\",\"Rock\",\"Rock\",\"Rock\",\"Rock\",\"Rock\",\"Rock\",\"Rock\",\"Rock\",\"Rock\",\"Rock\",\"Rock\",\"Rock\",\"Rock\",\"Rock\",\"Rock\",\"Rock\",\"Rock\",\"Rock\",\"Rock\",\"Rock\",\"Rock\",\"Rock\",\"Rock\",\"Rock\",\"Rock\",\"Rock\",\"Rock\",\"Rock\",\"Rock\",\"Rock\",\"Rock\",\"Rock\",\"Rock\",\"Rock\",\"Rock\",\"Rock\",\"Rock\",\"Rock\",\"Rock\",\"Rock\",\"Rock\",\"Rock\",\"Rock\",\"Rock\",\"Rock\",\"Rock\",\"Rock\",\"Rock\",\"Rock\",\"Rock\",\"Rock\",\"Rock\",\"Rock\",\"Rock\",\"Rock\",\"Rock\",\"Rock\",\"Rock\",\"Rock\",\"Rock\",\"Rock\",\"Rock\",\"Rock\",\"Rock\",\"Rock\",\"Rock\",\"Rock\",\"Rock\",\"Rock\",\"Rock\",\"Rock\",\"Rock\",\"Rock\",\"Rock\",\"Rock\",\"Rock\",\"Rock\",\"Rock\",\"Rock\",\"Rock\",\"Rock\",\"Rock\",\"Rock\",\"Rock\",\"Rock\",\"Rock\",\"Rock\",\"Rock\",\"Rock\",\"Rock\",\"Rock\",\"Rock\",\"Rock\",\"Rock\",\"Rock\",\"Rock\",\"Rock\",\"Rock\",\"Rock\",\"Rock\",\"Rock\",\"Rock\",\"Rock\",\"Rock\",\"Rock\",\"Rock\",\"Rock\",\"Rock\",\"Rock\",\"Rock\",\"Rock\",\"Rock\",\"Rock\",\"Rock\",\"Rock\",\"Rock\",\"Rock\",\"Rock\",\"Rock\",\"Rock\",\"Rock\",\"Rock\",\"Rock\",\"Rock\",\"Rock\",\"Rock\",\"Rock\",\"Rock\",\"Rock\",\"Rock\",\"Rock\",\"Rock\",\"Rock\",\"Rock\",\"Rock\",\"Rock\",\"Rock\",\"Rock\",\"Rock\",\"Rock\",\"Rock\",\"Rock\",\"Rock\",\"Rock\",\"Rock\",\"Rock\",\"Rock\",\"Rock\",\"Rock\",\"Rock\",\"Rock\",\"Rock\",\"Rock\",\"Rock\",\"Rock\",\"Rock\",\"Rock\",\"Rock\",\"Rock\",\"Rock\",\"Rock\",\"Rock\",\"Rock\",\"Rock\",\"Rock\",\"Rock\",\"Rock\",\"Rock\",\"Rock\",\"Rock\",\"Rock\",\"Rock\",\"Rock\",\"Rock\",\"Rock\",\"Rock\",\"Rock\",\"Rock\",\"Rock\",\"Rock\",\"Rock\",\"Rock\",\"Rock\",\"Rock\",\"Rock\",\"Rock\",\"Rock\",\"Rock\",\"Rock\",\"Rock\",\"Rock\",\"Rock\",\"Rock\",\"Rock\",\"Rock\",\"Rock\",\"Rock\",\"Rock\",\"Rock\",\"Rock\",\"Rock\",\"Rock\",\"Rock\",\"Rock\",\"Rock\",\"Rock\",\"Rock\",\"Rock\",\"Rock\",\"Rock\",\"Rock\",\"Rock\",\"Rock\",\"Rock\",\"Rock\",\"Rock\",\"Rock\",\"Rock\",\"Rock\",\"Rock\",\"Rock\",\"Rock\",\"Rock\",\"Rock\",\"Rock\",\"Rock\",\"Rock\",\"Rock\",\"Rock\",\"Rock\",\"Rock\",\"Rock\",\"Rock\",\"Rock\",\"Rock\",\"Rock\",\"Rock\",\"Rock\",\"Rock\",\"Rock\",\"Rock\",\"Rock\",\"Rock\",\"Rock\",\"Rock\",\"Rock\",\"Rock\",\"Rock\",\"Rock\",\"Rock\",\"Rock\",\"Rock\",\"Rock\",\"Rock\",\"Rock\",\"Rock\",\"Rock\",\"Rock\",\"Rock\",\"Rock\",\"Rock\",\"Rock\",\"Rock\"],\"type\":\"scatterpolargl\"},{\"hovertemplate\":\"Type 1=%{theta}<br>value=%{r}<extra></extra>\",\"legendgroup\":\"Ghost\",\"marker\":{\"color\":\"#00cc96\",\"symbol\":\"circle\"},\"mode\":\"markers\",\"name\":\"Ghost\",\"r\":[30,45,60,60,60,44,64,64,20,40,90,150,60,50,45,150,150,38,58,50,60,60,43,85,49,44,54,59,65,55,75,85,35,50,65,65,60,75,115,165,40,70,50,80,60,92,100,100,120,30,50,30,40,55,70,110,66,66,66,66,90,85,95,100,30,45,60,80,60,35,65,75,90,130,34,44,60,108,135,120,100,85,145,55,60,90,48,76,70,70,70,70,122,122,122,122,100,115,130,170,85,63,83,93,30,60,60,90,105,92,65,100,120,55,95,65,95,145,50,65,44,44,44,44,58,58,58,58,35,55,75,95,85,33,63,83,90,130,44,54,105,108,135,120,100,65,105,55,60,90,60,82,55,55,55,55,75,75,75,75,80,95,110,130,85,45,65,75,25,25,70,80,105,35,45,90,90,30,30,20,55,80,38,56,51,56,46,41,84,99,69,54],\"showlegend\":true,\"subplot\":\"polar\",\"theta\":[\"Ghost\",\"Ghost\",\"Ghost\",\"Ghost\",\"Ghost\",\"Ghost\",\"Ghost\",\"Ghost\",\"Ghost\",\"Ghost\",\"Ghost\",\"Ghost\",\"Ghost\",\"Ghost\",\"Ghost\",\"Ghost\",\"Ghost\",\"Ghost\",\"Ghost\",\"Ghost\",\"Ghost\",\"Ghost\",\"Ghost\",\"Ghost\",\"Ghost\",\"Ghost\",\"Ghost\",\"Ghost\",\"Ghost\",\"Ghost\",\"Ghost\",\"Ghost\",\"Ghost\",\"Ghost\",\"Ghost\",\"Ghost\",\"Ghost\",\"Ghost\",\"Ghost\",\"Ghost\",\"Ghost\",\"Ghost\",\"Ghost\",\"Ghost\",\"Ghost\",\"Ghost\",\"Ghost\",\"Ghost\",\"Ghost\",\"Ghost\",\"Ghost\",\"Ghost\",\"Ghost\",\"Ghost\",\"Ghost\",\"Ghost\",\"Ghost\",\"Ghost\",\"Ghost\",\"Ghost\",\"Ghost\",\"Ghost\",\"Ghost\",\"Ghost\",\"Ghost\",\"Ghost\",\"Ghost\",\"Ghost\",\"Ghost\",\"Ghost\",\"Ghost\",\"Ghost\",\"Ghost\",\"Ghost\",\"Ghost\",\"Ghost\",\"Ghost\",\"Ghost\",\"Ghost\",\"Ghost\",\"Ghost\",\"Ghost\",\"Ghost\",\"Ghost\",\"Ghost\",\"Ghost\",\"Ghost\",\"Ghost\",\"Ghost\",\"Ghost\",\"Ghost\",\"Ghost\",\"Ghost\",\"Ghost\",\"Ghost\",\"Ghost\",\"Ghost\",\"Ghost\",\"Ghost\",\"Ghost\",\"Ghost\",\"Ghost\",\"Ghost\",\"Ghost\",\"Ghost\",\"Ghost\",\"Ghost\",\"Ghost\",\"Ghost\",\"Ghost\",\"Ghost\",\"Ghost\",\"Ghost\",\"Ghost\",\"Ghost\",\"Ghost\",\"Ghost\",\"Ghost\",\"Ghost\",\"Ghost\",\"Ghost\",\"Ghost\",\"Ghost\",\"Ghost\",\"Ghost\",\"Ghost\",\"Ghost\",\"Ghost\",\"Ghost\",\"Ghost\",\"Ghost\",\"Ghost\",\"Ghost\",\"Ghost\",\"Ghost\",\"Ghost\",\"Ghost\",\"Ghost\",\"Ghost\",\"Ghost\",\"Ghost\",\"Ghost\",\"Ghost\",\"Ghost\",\"Ghost\",\"Ghost\",\"Ghost\",\"Ghost\",\"Ghost\",\"Ghost\",\"Ghost\",\"Ghost\",\"Ghost\",\"Ghost\",\"Ghost\",\"Ghost\",\"Ghost\",\"Ghost\",\"Ghost\",\"Ghost\",\"Ghost\",\"Ghost\",\"Ghost\",\"Ghost\",\"Ghost\",\"Ghost\",\"Ghost\",\"Ghost\",\"Ghost\",\"Ghost\",\"Ghost\",\"Ghost\",\"Ghost\",\"Ghost\",\"Ghost\",\"Ghost\",\"Ghost\",\"Ghost\",\"Ghost\",\"Ghost\",\"Ghost\",\"Ghost\",\"Ghost\",\"Ghost\",\"Ghost\",\"Ghost\",\"Ghost\",\"Ghost\",\"Ghost\",\"Ghost\",\"Ghost\",\"Ghost\"],\"type\":\"scatterpolargl\"},{\"hovertemplate\":\"Type 1=%{theta}<br>value=%{r}<extra></extra>\",\"legendgroup\":\"Ice\",\"marker\":{\"color\":\"#ab63fa\",\"symbol\":\"circle\"},\"mode\":\"markers\",\"name\":\"Ice\",\"r\":[65,90,50,100,45,45,50,80,80,70,90,110,80,65,110,70,36,51,71,55,95,70,55,95,50,85,50,100,55,30,50,80,120,40,60,80,50,60,130,80,50,65,95,70,110,50,69,117,35,100,40,80,45,15,50,80,80,50,70,90,100,110,80,70,50,65,85,40,80,30,85,184,115,95,30,60,65,85,50,80,120,55,75,95,100,130,70,80,65,80,110,60,70,95,32,44,95,125,30,60,45,65,50,80,80,50,70,90,200,95,60,70,60,75,95,40,80,135,35,46,95,85,50,50,75,65,50,80,100,25,45,65,50,65,80,110,44,59,79,40,50,105,28,28],\"showlegend\":true,\"subplot\":\"polar\",\"theta\":[\"Ice\",\"Ice\",\"Ice\",\"Ice\",\"Ice\",\"Ice\",\"Ice\",\"Ice\",\"Ice\",\"Ice\",\"Ice\",\"Ice\",\"Ice\",\"Ice\",\"Ice\",\"Ice\",\"Ice\",\"Ice\",\"Ice\",\"Ice\",\"Ice\",\"Ice\",\"Ice\",\"Ice\",\"Ice\",\"Ice\",\"Ice\",\"Ice\",\"Ice\",\"Ice\",\"Ice\",\"Ice\",\"Ice\",\"Ice\",\"Ice\",\"Ice\",\"Ice\",\"Ice\",\"Ice\",\"Ice\",\"Ice\",\"Ice\",\"Ice\",\"Ice\",\"Ice\",\"Ice\",\"Ice\",\"Ice\",\"Ice\",\"Ice\",\"Ice\",\"Ice\",\"Ice\",\"Ice\",\"Ice\",\"Ice\",\"Ice\",\"Ice\",\"Ice\",\"Ice\",\"Ice\",\"Ice\",\"Ice\",\"Ice\",\"Ice\",\"Ice\",\"Ice\",\"Ice\",\"Ice\",\"Ice\",\"Ice\",\"Ice\",\"Ice\",\"Ice\",\"Ice\",\"Ice\",\"Ice\",\"Ice\",\"Ice\",\"Ice\",\"Ice\",\"Ice\",\"Ice\",\"Ice\",\"Ice\",\"Ice\",\"Ice\",\"Ice\",\"Ice\",\"Ice\",\"Ice\",\"Ice\",\"Ice\",\"Ice\",\"Ice\",\"Ice\",\"Ice\",\"Ice\",\"Ice\",\"Ice\",\"Ice\",\"Ice\",\"Ice\",\"Ice\",\"Ice\",\"Ice\",\"Ice\",\"Ice\",\"Ice\",\"Ice\",\"Ice\",\"Ice\",\"Ice\",\"Ice\",\"Ice\",\"Ice\",\"Ice\",\"Ice\",\"Ice\",\"Ice\",\"Ice\",\"Ice\",\"Ice\",\"Ice\",\"Ice\",\"Ice\",\"Ice\",\"Ice\",\"Ice\",\"Ice\",\"Ice\",\"Ice\",\"Ice\",\"Ice\",\"Ice\",\"Ice\",\"Ice\",\"Ice\",\"Ice\",\"Ice\",\"Ice\",\"Ice\",\"Ice\",\"Ice\"],\"type\":\"scatterpolargl\"},{\"hovertemplate\":\"Type 1=%{theta}<br>value=%{r}<extra></extra>\",\"legendgroup\":\"Dragon\",\"marker\":{\"color\":\"#FFA15A\",\"symbol\":\"circle\"},\"mode\":\"markers\",\"name\":\"Dragon\",\"r\":[41,61,91,75,75,45,65,95,95,80,80,80,80,105,105,58,68,108,108,46,66,76,77,100,100,125,125,125,45,68,90,108,64,84,134,70,110,75,95,135,145,80,100,90,130,150,180,70,90,130,170,87,117,147,120,120,150,130,170,120,50,75,100,100,45,65,95,90,110,60,100,80,130,90,120,80,100,90,100,45,65,95,115,60,70,90,90,100,120,90,100,90,35,53,70,121,50,70,100,70,110,40,60,110,120,110,140,130,160,150,180,40,50,80,120,30,40,60,60,150,120,130,120,170,55,83,110,81,50,70,100,105,105,30,50,80,90,130,150,110,120,90,100,45,55,85,95,40,50,70,90,120,100,90,90,100,75,113,150,95,50,70,80,80,80,50,50,100,120,110,110,110,110,95,115,42,82,102,92,57,67,97,48,90,90,95,95,95,40,60,80,95],\"showlegend\":true,\"subplot\":\"polar\",\"theta\":[\"Dragon\",\"Dragon\",\"Dragon\",\"Dragon\",\"Dragon\",\"Dragon\",\"Dragon\",\"Dragon\",\"Dragon\",\"Dragon\",\"Dragon\",\"Dragon\",\"Dragon\",\"Dragon\",\"Dragon\",\"Dragon\",\"Dragon\",\"Dragon\",\"Dragon\",\"Dragon\",\"Dragon\",\"Dragon\",\"Dragon\",\"Dragon\",\"Dragon\",\"Dragon\",\"Dragon\",\"Dragon\",\"Dragon\",\"Dragon\",\"Dragon\",\"Dragon\",\"Dragon\",\"Dragon\",\"Dragon\",\"Dragon\",\"Dragon\",\"Dragon\",\"Dragon\",\"Dragon\",\"Dragon\",\"Dragon\",\"Dragon\",\"Dragon\",\"Dragon\",\"Dragon\",\"Dragon\",\"Dragon\",\"Dragon\",\"Dragon\",\"Dragon\",\"Dragon\",\"Dragon\",\"Dragon\",\"Dragon\",\"Dragon\",\"Dragon\",\"Dragon\",\"Dragon\",\"Dragon\",\"Dragon\",\"Dragon\",\"Dragon\",\"Dragon\",\"Dragon\",\"Dragon\",\"Dragon\",\"Dragon\",\"Dragon\",\"Dragon\",\"Dragon\",\"Dragon\",\"Dragon\",\"Dragon\",\"Dragon\",\"Dragon\",\"Dragon\",\"Dragon\",\"Dragon\",\"Dragon\",\"Dragon\",\"Dragon\",\"Dragon\",\"Dragon\",\"Dragon\",\"Dragon\",\"Dragon\",\"Dragon\",\"Dragon\",\"Dragon\",\"Dragon\",\"Dragon\",\"Dragon\",\"Dragon\",\"Dragon\",\"Dragon\",\"Dragon\",\"Dragon\",\"Dragon\",\"Dragon\",\"Dragon\",\"Dragon\",\"Dragon\",\"Dragon\",\"Dragon\",\"Dragon\",\"Dragon\",\"Dragon\",\"Dragon\",\"Dragon\",\"Dragon\",\"Dragon\",\"Dragon\",\"Dragon\",\"Dragon\",\"Dragon\",\"Dragon\",\"Dragon\",\"Dragon\",\"Dragon\",\"Dragon\",\"Dragon\",\"Dragon\",\"Dragon\",\"Dragon\",\"Dragon\",\"Dragon\",\"Dragon\",\"Dragon\",\"Dragon\",\"Dragon\",\"Dragon\",\"Dragon\",\"Dragon\",\"Dragon\",\"Dragon\",\"Dragon\",\"Dragon\",\"Dragon\",\"Dragon\",\"Dragon\",\"Dragon\",\"Dragon\",\"Dragon\",\"Dragon\",\"Dragon\",\"Dragon\",\"Dragon\",\"Dragon\",\"Dragon\",\"Dragon\",\"Dragon\",\"Dragon\",\"Dragon\",\"Dragon\",\"Dragon\",\"Dragon\",\"Dragon\",\"Dragon\",\"Dragon\",\"Dragon\",\"Dragon\",\"Dragon\",\"Dragon\",\"Dragon\",\"Dragon\",\"Dragon\",\"Dragon\",\"Dragon\",\"Dragon\",\"Dragon\",\"Dragon\",\"Dragon\",\"Dragon\",\"Dragon\",\"Dragon\",\"Dragon\",\"Dragon\",\"Dragon\",\"Dragon\",\"Dragon\",\"Dragon\",\"Dragon\",\"Dragon\",\"Dragon\",\"Dragon\",\"Dragon\",\"Dragon\",\"Dragon\",\"Dragon\",\"Dragon\",\"Dragon\"],\"type\":\"scatterpolargl\"},{\"hovertemplate\":\"Type 1=%{theta}<br>value=%{r}<extra></extra>\",\"legendgroup\":\"Dark\",\"marker\":{\"color\":\"#19d3f3\",\"symbol\":\"circle\"},\"mode\":\"markers\",\"name\":\"Dark\",\"r\":[95,60,55,45,75,75,35,70,50,50,65,65,100,70,70,41,64,50,65,40,60,45,65,70,110,52,72,92,53,86,126,65,85,95,60,90,90,55,90,75,85,130,150,125,120,90,50,88,75,90,65,105,85,125,55,65,65,85,105,54,92,131,110,42,55,30,50,90,35,70,75,125,60,60,52,65,90,37,50,70,115,40,60,70,100,75,105,50,70,90,53,88,95,60,85,35,80,110,140,30,60,65,85,75,115,105,45,135,50,88,35,45,80,120,40,60,45,55,45,65,125,37,68,131,130,42,75,50,80,90,30,60,65,115,60,60,52,85,90,37,50,70,115,40,60,40,70,65,95,50,70,90,46,75,98,65,91,115,65,95,115,35,70,50,20,75,115,71,125,125,66,106,48,58,65,105,60,70,60,80,38,58,98,45,73,99],\"showlegend\":true,\"subplot\":\"polar\",\"theta\":[\"Dark\",\"Dark\",\"Dark\",\"Dark\",\"Dark\",\"Dark\",\"Dark\",\"Dark\",\"Dark\",\"Dark\",\"Dark\",\"Dark\",\"Dark\",\"Dark\",\"Dark\",\"Dark\",\"Dark\",\"Dark\",\"Dark\",\"Dark\",\"Dark\",\"Dark\",\"Dark\",\"Dark\",\"Dark\",\"Dark\",\"Dark\",\"Dark\",\"Dark\",\"Dark\",\"Dark\",\"Dark\",\"Dark\",\"Dark\",\"Dark\",\"Dark\",\"Dark\",\"Dark\",\"Dark\",\"Dark\",\"Dark\",\"Dark\",\"Dark\",\"Dark\",\"Dark\",\"Dark\",\"Dark\",\"Dark\",\"Dark\",\"Dark\",\"Dark\",\"Dark\",\"Dark\",\"Dark\",\"Dark\",\"Dark\",\"Dark\",\"Dark\",\"Dark\",\"Dark\",\"Dark\",\"Dark\",\"Dark\",\"Dark\",\"Dark\",\"Dark\",\"Dark\",\"Dark\",\"Dark\",\"Dark\",\"Dark\",\"Dark\",\"Dark\",\"Dark\",\"Dark\",\"Dark\",\"Dark\",\"Dark\",\"Dark\",\"Dark\",\"Dark\",\"Dark\",\"Dark\",\"Dark\",\"Dark\",\"Dark\",\"Dark\",\"Dark\",\"Dark\",\"Dark\",\"Dark\",\"Dark\",\"Dark\",\"Dark\",\"Dark\",\"Dark\",\"Dark\",\"Dark\",\"Dark\",\"Dark\",\"Dark\",\"Dark\",\"Dark\",\"Dark\",\"Dark\",\"Dark\",\"Dark\",\"Dark\",\"Dark\",\"Dark\",\"Dark\",\"Dark\",\"Dark\",\"Dark\",\"Dark\",\"Dark\",\"Dark\",\"Dark\",\"Dark\",\"Dark\",\"Dark\",\"Dark\",\"Dark\",\"Dark\",\"Dark\",\"Dark\",\"Dark\",\"Dark\",\"Dark\",\"Dark\",\"Dark\",\"Dark\",\"Dark\",\"Dark\",\"Dark\",\"Dark\",\"Dark\",\"Dark\",\"Dark\",\"Dark\",\"Dark\",\"Dark\",\"Dark\",\"Dark\",\"Dark\",\"Dark\",\"Dark\",\"Dark\",\"Dark\",\"Dark\",\"Dark\",\"Dark\",\"Dark\",\"Dark\",\"Dark\",\"Dark\",\"Dark\",\"Dark\",\"Dark\",\"Dark\",\"Dark\",\"Dark\",\"Dark\",\"Dark\",\"Dark\",\"Dark\",\"Dark\",\"Dark\",\"Dark\",\"Dark\",\"Dark\",\"Dark\",\"Dark\",\"Dark\",\"Dark\",\"Dark\",\"Dark\",\"Dark\",\"Dark\",\"Dark\",\"Dark\",\"Dark\",\"Dark\",\"Dark\",\"Dark\",\"Dark\"],\"type\":\"scatterpolargl\"},{\"hovertemplate\":\"Type 1=%{theta}<br>value=%{r}<extra></extra>\",\"legendgroup\":\"Steel\",\"marker\":{\"color\":\"#FF6692\",\"symbol\":\"circle\"},\"mode\":\"markers\",\"name\":\"Steel\",\"r\":[75,75,65,50,50,50,60,70,70,40,60,80,80,80,100,57,67,100,40,60,60,91,45,59,60,60,57,85,125,80,85,105,70,90,110,140,55,75,135,145,75,100,24,89,120,55,80,100,90,80,110,150,50,80,200,230,140,85,125,100,140,180,230,80,100,130,150,150,100,86,116,120,70,95,115,129,100,150,50,150,91,55,55,40,55,55,40,50,60,60,35,55,95,105,75,100,24,79,150,45,70,70,90,35,45,150,50,80,65,95,70,55,95,40,50,60,80,60,80,90,110,150,100,86,116,100,60,85,85,72,37,49,50,150,87,30,30,70,50,50,30,40,50,50,30,50,70,110,50,100,23,33,90,30,50,90,108,28,35,60,60,75],\"showlegend\":true,\"subplot\":\"polar\",\"theta\":[\"Steel\",\"Steel\",\"Steel\",\"Steel\",\"Steel\",\"Steel\",\"Steel\",\"Steel\",\"Steel\",\"Steel\",\"Steel\",\"Steel\",\"Steel\",\"Steel\",\"Steel\",\"Steel\",\"Steel\",\"Steel\",\"Steel\",\"Steel\",\"Steel\",\"Steel\",\"Steel\",\"Steel\",\"Steel\",\"Steel\",\"Steel\",\"Steel\",\"Steel\",\"Steel\",\"Steel\",\"Steel\",\"Steel\",\"Steel\",\"Steel\",\"Steel\",\"Steel\",\"Steel\",\"Steel\",\"Steel\",\"Steel\",\"Steel\",\"Steel\",\"Steel\",\"Steel\",\"Steel\",\"Steel\",\"Steel\",\"Steel\",\"Steel\",\"Steel\",\"Steel\",\"Steel\",\"Steel\",\"Steel\",\"Steel\",\"Steel\",\"Steel\",\"Steel\",\"Steel\",\"Steel\",\"Steel\",\"Steel\",\"Steel\",\"Steel\",\"Steel\",\"Steel\",\"Steel\",\"Steel\",\"Steel\",\"Steel\",\"Steel\",\"Steel\",\"Steel\",\"Steel\",\"Steel\",\"Steel\",\"Steel\",\"Steel\",\"Steel\",\"Steel\",\"Steel\",\"Steel\",\"Steel\",\"Steel\",\"Steel\",\"Steel\",\"Steel\",\"Steel\",\"Steel\",\"Steel\",\"Steel\",\"Steel\",\"Steel\",\"Steel\",\"Steel\",\"Steel\",\"Steel\",\"Steel\",\"Steel\",\"Steel\",\"Steel\",\"Steel\",\"Steel\",\"Steel\",\"Steel\",\"Steel\",\"Steel\",\"Steel\",\"Steel\",\"Steel\",\"Steel\",\"Steel\",\"Steel\",\"Steel\",\"Steel\",\"Steel\",\"Steel\",\"Steel\",\"Steel\",\"Steel\",\"Steel\",\"Steel\",\"Steel\",\"Steel\",\"Steel\",\"Steel\",\"Steel\",\"Steel\",\"Steel\",\"Steel\",\"Steel\",\"Steel\",\"Steel\",\"Steel\",\"Steel\",\"Steel\",\"Steel\",\"Steel\",\"Steel\",\"Steel\",\"Steel\",\"Steel\",\"Steel\",\"Steel\",\"Steel\",\"Steel\",\"Steel\",\"Steel\",\"Steel\",\"Steel\",\"Steel\",\"Steel\",\"Steel\",\"Steel\",\"Steel\",\"Steel\",\"Steel\",\"Steel\",\"Steel\",\"Steel\",\"Steel\"],\"type\":\"scatterpolargl\"},{\"hovertemplate\":\"Type 1=%{theta}<br>value=%{r}<extra></extra>\",\"legendgroup\":\"Flying\",\"marker\":{\"color\":\"#B6E880\",\"symbol\":\"circle\"},\"mode\":\"markers\",\"name\":\"Flying\",\"r\":[79,79,40,85,115,100,30,70,70,80,35,80,125,110,45,97,80,90,40,80,111,121,55,123],\"showlegend\":true,\"subplot\":\"polar\",\"theta\":[\"Flying\",\"Flying\",\"Flying\",\"Flying\",\"Flying\",\"Flying\",\"Flying\",\"Flying\",\"Flying\",\"Flying\",\"Flying\",\"Flying\",\"Flying\",\"Flying\",\"Flying\",\"Flying\",\"Flying\",\"Flying\",\"Flying\",\"Flying\",\"Flying\",\"Flying\",\"Flying\",\"Flying\"],\"type\":\"scatterpolargl\"}],                        {\"template\":{\"data\":{\"bar\":[{\"error_x\":{\"color\":\"#2a3f5f\"},\"error_y\":{\"color\":\"#2a3f5f\"},\"marker\":{\"line\":{\"color\":\"#E5ECF6\",\"width\":0.5},\"pattern\":{\"fillmode\":\"overlay\",\"size\":10,\"solidity\":0.2}},\"type\":\"bar\"}],\"barpolar\":[{\"marker\":{\"line\":{\"color\":\"#E5ECF6\",\"width\":0.5},\"pattern\":{\"fillmode\":\"overlay\",\"size\":10,\"solidity\":0.2}},\"type\":\"barpolar\"}],\"carpet\":[{\"aaxis\":{\"endlinecolor\":\"#2a3f5f\",\"gridcolor\":\"white\",\"linecolor\":\"white\",\"minorgridcolor\":\"white\",\"startlinecolor\":\"#2a3f5f\"},\"baxis\":{\"endlinecolor\":\"#2a3f5f\",\"gridcolor\":\"white\",\"linecolor\":\"white\",\"minorgridcolor\":\"white\",\"startlinecolor\":\"#2a3f5f\"},\"type\":\"carpet\"}],\"choropleth\":[{\"colorbar\":{\"outlinewidth\":0,\"ticks\":\"\"},\"type\":\"choropleth\"}],\"contour\":[{\"colorbar\":{\"outlinewidth\":0,\"ticks\":\"\"},\"colorscale\":[[0.0,\"#0d0887\"],[0.1111111111111111,\"#46039f\"],[0.2222222222222222,\"#7201a8\"],[0.3333333333333333,\"#9c179e\"],[0.4444444444444444,\"#bd3786\"],[0.5555555555555556,\"#d8576b\"],[0.6666666666666666,\"#ed7953\"],[0.7777777777777778,\"#fb9f3a\"],[0.8888888888888888,\"#fdca26\"],[1.0,\"#f0f921\"]],\"type\":\"contour\"}],\"contourcarpet\":[{\"colorbar\":{\"outlinewidth\":0,\"ticks\":\"\"},\"type\":\"contourcarpet\"}],\"heatmap\":[{\"colorbar\":{\"outlinewidth\":0,\"ticks\":\"\"},\"colorscale\":[[0.0,\"#0d0887\"],[0.1111111111111111,\"#46039f\"],[0.2222222222222222,\"#7201a8\"],[0.3333333333333333,\"#9c179e\"],[0.4444444444444444,\"#bd3786\"],[0.5555555555555556,\"#d8576b\"],[0.6666666666666666,\"#ed7953\"],[0.7777777777777778,\"#fb9f3a\"],[0.8888888888888888,\"#fdca26\"],[1.0,\"#f0f921\"]],\"type\":\"heatmap\"}],\"heatmapgl\":[{\"colorbar\":{\"outlinewidth\":0,\"ticks\":\"\"},\"colorscale\":[[0.0,\"#0d0887\"],[0.1111111111111111,\"#46039f\"],[0.2222222222222222,\"#7201a8\"],[0.3333333333333333,\"#9c179e\"],[0.4444444444444444,\"#bd3786\"],[0.5555555555555556,\"#d8576b\"],[0.6666666666666666,\"#ed7953\"],[0.7777777777777778,\"#fb9f3a\"],[0.8888888888888888,\"#fdca26\"],[1.0,\"#f0f921\"]],\"type\":\"heatmapgl\"}],\"histogram\":[{\"marker\":{\"pattern\":{\"fillmode\":\"overlay\",\"size\":10,\"solidity\":0.2}},\"type\":\"histogram\"}],\"histogram2d\":[{\"colorbar\":{\"outlinewidth\":0,\"ticks\":\"\"},\"colorscale\":[[0.0,\"#0d0887\"],[0.1111111111111111,\"#46039f\"],[0.2222222222222222,\"#7201a8\"],[0.3333333333333333,\"#9c179e\"],[0.4444444444444444,\"#bd3786\"],[0.5555555555555556,\"#d8576b\"],[0.6666666666666666,\"#ed7953\"],[0.7777777777777778,\"#fb9f3a\"],[0.8888888888888888,\"#fdca26\"],[1.0,\"#f0f921\"]],\"type\":\"histogram2d\"}],\"histogram2dcontour\":[{\"colorbar\":{\"outlinewidth\":0,\"ticks\":\"\"},\"colorscale\":[[0.0,\"#0d0887\"],[0.1111111111111111,\"#46039f\"],[0.2222222222222222,\"#7201a8\"],[0.3333333333333333,\"#9c179e\"],[0.4444444444444444,\"#bd3786\"],[0.5555555555555556,\"#d8576b\"],[0.6666666666666666,\"#ed7953\"],[0.7777777777777778,\"#fb9f3a\"],[0.8888888888888888,\"#fdca26\"],[1.0,\"#f0f921\"]],\"type\":\"histogram2dcontour\"}],\"mesh3d\":[{\"colorbar\":{\"outlinewidth\":0,\"ticks\":\"\"},\"type\":\"mesh3d\"}],\"parcoords\":[{\"line\":{\"colorbar\":{\"outlinewidth\":0,\"ticks\":\"\"}},\"type\":\"parcoords\"}],\"pie\":[{\"automargin\":true,\"type\":\"pie\"}],\"scatter\":[{\"marker\":{\"colorbar\":{\"outlinewidth\":0,\"ticks\":\"\"}},\"type\":\"scatter\"}],\"scatter3d\":[{\"line\":{\"colorbar\":{\"outlinewidth\":0,\"ticks\":\"\"}},\"marker\":{\"colorbar\":{\"outlinewidth\":0,\"ticks\":\"\"}},\"type\":\"scatter3d\"}],\"scattercarpet\":[{\"marker\":{\"colorbar\":{\"outlinewidth\":0,\"ticks\":\"\"}},\"type\":\"scattercarpet\"}],\"scattergeo\":[{\"marker\":{\"colorbar\":{\"outlinewidth\":0,\"ticks\":\"\"}},\"type\":\"scattergeo\"}],\"scattergl\":[{\"marker\":{\"colorbar\":{\"outlinewidth\":0,\"ticks\":\"\"}},\"type\":\"scattergl\"}],\"scattermapbox\":[{\"marker\":{\"colorbar\":{\"outlinewidth\":0,\"ticks\":\"\"}},\"type\":\"scattermapbox\"}],\"scatterpolar\":[{\"marker\":{\"colorbar\":{\"outlinewidth\":0,\"ticks\":\"\"}},\"type\":\"scatterpolar\"}],\"scatterpolargl\":[{\"marker\":{\"colorbar\":{\"outlinewidth\":0,\"ticks\":\"\"}},\"type\":\"scatterpolargl\"}],\"scatterternary\":[{\"marker\":{\"colorbar\":{\"outlinewidth\":0,\"ticks\":\"\"}},\"type\":\"scatterternary\"}],\"surface\":[{\"colorbar\":{\"outlinewidth\":0,\"ticks\":\"\"},\"colorscale\":[[0.0,\"#0d0887\"],[0.1111111111111111,\"#46039f\"],[0.2222222222222222,\"#7201a8\"],[0.3333333333333333,\"#9c179e\"],[0.4444444444444444,\"#bd3786\"],[0.5555555555555556,\"#d8576b\"],[0.6666666666666666,\"#ed7953\"],[0.7777777777777778,\"#fb9f3a\"],[0.8888888888888888,\"#fdca26\"],[1.0,\"#f0f921\"]],\"type\":\"surface\"}],\"table\":[{\"cells\":{\"fill\":{\"color\":\"#EBF0F8\"},\"line\":{\"color\":\"white\"}},\"header\":{\"fill\":{\"color\":\"#C8D4E3\"},\"line\":{\"color\":\"white\"}},\"type\":\"table\"}]},\"layout\":{\"annotationdefaults\":{\"arrowcolor\":\"#2a3f5f\",\"arrowhead\":0,\"arrowwidth\":1},\"autotypenumbers\":\"strict\",\"coloraxis\":{\"colorbar\":{\"outlinewidth\":0,\"ticks\":\"\"}},\"colorscale\":{\"diverging\":[[0,\"#8e0152\"],[0.1,\"#c51b7d\"],[0.2,\"#de77ae\"],[0.3,\"#f1b6da\"],[0.4,\"#fde0ef\"],[0.5,\"#f7f7f7\"],[0.6,\"#e6f5d0\"],[0.7,\"#b8e186\"],[0.8,\"#7fbc41\"],[0.9,\"#4d9221\"],[1,\"#276419\"]],\"sequential\":[[0.0,\"#0d0887\"],[0.1111111111111111,\"#46039f\"],[0.2222222222222222,\"#7201a8\"],[0.3333333333333333,\"#9c179e\"],[0.4444444444444444,\"#bd3786\"],[0.5555555555555556,\"#d8576b\"],[0.6666666666666666,\"#ed7953\"],[0.7777777777777778,\"#fb9f3a\"],[0.8888888888888888,\"#fdca26\"],[1.0,\"#f0f921\"]],\"sequentialminus\":[[0.0,\"#0d0887\"],[0.1111111111111111,\"#46039f\"],[0.2222222222222222,\"#7201a8\"],[0.3333333333333333,\"#9c179e\"],[0.4444444444444444,\"#bd3786\"],[0.5555555555555556,\"#d8576b\"],[0.6666666666666666,\"#ed7953\"],[0.7777777777777778,\"#fb9f3a\"],[0.8888888888888888,\"#fdca26\"],[1.0,\"#f0f921\"]]},\"colorway\":[\"#636efa\",\"#EF553B\",\"#00cc96\",\"#ab63fa\",\"#FFA15A\",\"#19d3f3\",\"#FF6692\",\"#B6E880\",\"#FF97FF\",\"#FECB52\"],\"font\":{\"color\":\"#2a3f5f\"},\"geo\":{\"bgcolor\":\"white\",\"lakecolor\":\"white\",\"landcolor\":\"#E5ECF6\",\"showlakes\":true,\"showland\":true,\"subunitcolor\":\"white\"},\"hoverlabel\":{\"align\":\"left\"},\"hovermode\":\"closest\",\"mapbox\":{\"style\":\"light\"},\"paper_bgcolor\":\"white\",\"plot_bgcolor\":\"#E5ECF6\",\"polar\":{\"angularaxis\":{\"gridcolor\":\"white\",\"linecolor\":\"white\",\"ticks\":\"\"},\"bgcolor\":\"#E5ECF6\",\"radialaxis\":{\"gridcolor\":\"white\",\"linecolor\":\"white\",\"ticks\":\"\"}},\"scene\":{\"xaxis\":{\"backgroundcolor\":\"#E5ECF6\",\"gridcolor\":\"white\",\"gridwidth\":2,\"linecolor\":\"white\",\"showbackground\":true,\"ticks\":\"\",\"zerolinecolor\":\"white\"},\"yaxis\":{\"backgroundcolor\":\"#E5ECF6\",\"gridcolor\":\"white\",\"gridwidth\":2,\"linecolor\":\"white\",\"showbackground\":true,\"ticks\":\"\",\"zerolinecolor\":\"white\"},\"zaxis\":{\"backgroundcolor\":\"#E5ECF6\",\"gridcolor\":\"white\",\"gridwidth\":2,\"linecolor\":\"white\",\"showbackground\":true,\"ticks\":\"\",\"zerolinecolor\":\"white\"}},\"shapedefaults\":{\"line\":{\"color\":\"#2a3f5f\"}},\"ternary\":{\"aaxis\":{\"gridcolor\":\"white\",\"linecolor\":\"white\",\"ticks\":\"\"},\"baxis\":{\"gridcolor\":\"white\",\"linecolor\":\"white\",\"ticks\":\"\"},\"bgcolor\":\"#E5ECF6\",\"caxis\":{\"gridcolor\":\"white\",\"linecolor\":\"white\",\"ticks\":\"\"}},\"title\":{\"x\":0.05},\"xaxis\":{\"automargin\":true,\"gridcolor\":\"white\",\"linecolor\":\"white\",\"ticks\":\"\",\"title\":{\"standoff\":15},\"zerolinecolor\":\"white\",\"zerolinewidth\":2},\"yaxis\":{\"automargin\":true,\"gridcolor\":\"white\",\"linecolor\":\"white\",\"ticks\":\"\",\"title\":{\"standoff\":15},\"zerolinecolor\":\"white\",\"zerolinewidth\":2}}},\"polar\":{\"domain\":{\"x\":[0.0,1.0],\"y\":[0.0,1.0]},\"angularaxis\":{\"direction\":\"clockwise\",\"rotation\":90,\"categoryorder\":\"array\",\"categoryarray\":[\"Grass\",\"Fire\",\"Water\",\"Bug\",\"Normal\",\"Poison\",\"Electric\",\"Ground\",\"Fairy\",\"Fighting\",\"Psychic\",\"Rock\",\"Ghost\",\"Ice\",\"Dragon\",\"Dark\",\"Steel\",\"Flying\"]}},\"legend\":{\"title\":{\"text\":\"Type 1\"},\"tracegroupgap\":0},\"margin\":{\"t\":60}},                        {\"responsive\": true}                    ).then(function(){\n",
              "                            \n",
              "var gd = document.getElementById('b3801f30-aed2-42a2-a59d-edd020990ecb');\n",
              "var x = new MutationObserver(function (mutations, observer) {{\n",
              "        var display = window.getComputedStyle(gd).display;\n",
              "        if (!display || display === 'none') {{\n",
              "            console.log([gd, 'removed!']);\n",
              "            Plotly.purge(gd);\n",
              "            observer.disconnect();\n",
              "        }}\n",
              "}});\n",
              "\n",
              "// Listen for the removal of the full notebook cells\n",
              "var notebookContainer = gd.closest('#notebook-container');\n",
              "if (notebookContainer) {{\n",
              "    x.observe(notebookContainer, {childList: true});\n",
              "}}\n",
              "\n",
              "// Listen for the clearing of the current output cell\n",
              "var outputEl = gd.closest('.output');\n",
              "if (outputEl) {{\n",
              "    x.observe(outputEl, {childList: true});\n",
              "}}\n",
              "\n",
              "                        })                };                            </script>        </div>\n",
              "</body>\n",
              "</html>"
            ]
          },
          "metadata": {}
        }
      ]
    },
    {
      "cell_type": "code",
      "source": [
        "pok_mel2 = pd.melt(pok[[\"Type 2\",\"HP\",\"Attack\",\"Defense\",\"Sp. Atk\",\"Sp. Def\",\"Speed\"]], id_vars=\"Type 2\")\n",
        "px.scatter_polar(pok_mel2, r=\"value\", theta=\"Type 2\", color=\"Type 2\", color_continuous_scale=px.colors.sequential.Inferno)"
      ],
      "metadata": {
        "id": "nnBjU9IH08ig",
        "colab": {
          "base_uri": "https://localhost:8080/",
          "height": 542
        },
        "outputId": "df5e1847-81d1-4696-8df0-4c860ed135f4"
      },
      "execution_count": null,
      "outputs": [
        {
          "output_type": "display_data",
          "data": {
            "text/html": [
              "<html>\n",
              "<head><meta charset=\"utf-8\" /></head>\n",
              "<body>\n",
              "    <div>            <script src=\"https://cdnjs.cloudflare.com/ajax/libs/mathjax/2.7.5/MathJax.js?config=TeX-AMS-MML_SVG\"></script><script type=\"text/javascript\">if (window.MathJax) {MathJax.Hub.Config({SVG: {font: \"STIX-Web\"}});}</script>                <script type=\"text/javascript\">window.PlotlyConfig = {MathJaxConfig: 'local'};</script>\n",
              "        <script src=\"https://cdn.plot.ly/plotly-2.8.3.min.js\"></script>                <div id=\"14fca115-cef5-4872-b84f-902dfa4d0abd\" class=\"plotly-graph-div\" style=\"height:525px; width:100%;\"></div>            <script type=\"text/javascript\">                                    window.PLOTLYENV=window.PLOTLYENV || {};                                    if (document.getElementById(\"14fca115-cef5-4872-b84f-902dfa4d0abd\")) {                    Plotly.newPlot(                        \"14fca115-cef5-4872-b84f-902dfa4d0abd\",                        [{\"hovertemplate\":\"Type 2=%{theta}<br>value=%{r}<extra></extra>\",\"legendgroup\":\"Poison\",\"marker\":{\"color\":\"#636efa\",\"symbol\":\"circle\"},\"mode\":\"markers\",\"name\":\"Poison\",\"r\":[45,60,80,80,40,45,65,65,45,60,75,60,70,50,65,80,40,80,30,45,60,60,40,70,65,60,50,40,60,30,40,60,69,114,49,62,82,100,35,25,90,150,50,65,80,55,65,75,90,105,40,70,35,50,65,65,60,90,95,50,60,30,70,45,55,100,55,85,49,63,83,123,30,50,40,40,55,70,85,50,60,35,50,65,35,65,30,45,60,80,40,70,75,70,45,35,65,59,99,89,45,70,65,80,100,122,20,25,45,15,75,85,110,40,90,70,85,100,50,80,100,115,130,170,40,60,55,50,100,50,125,30,40,55,55,85,65,80,100,120,20,25,80,80,65,75,90,55,75,30,45,70,100,120,35,55,75,95,40,60,55,90,80,70,105,39,79,69,55,80,45,60,80,80,50,35,75,145,30,40,50,45,90,40,55,70,70,100,80,95,110,130,30,40,85,65,65,55,90,57,47,112,15,30],\"showlegend\":true,\"subplot\":\"polar\",\"theta\":[\"Poison\",\"Poison\",\"Poison\",\"Poison\",\"Poison\",\"Poison\",\"Poison\",\"Poison\",\"Poison\",\"Poison\",\"Poison\",\"Poison\",\"Poison\",\"Poison\",\"Poison\",\"Poison\",\"Poison\",\"Poison\",\"Poison\",\"Poison\",\"Poison\",\"Poison\",\"Poison\",\"Poison\",\"Poison\",\"Poison\",\"Poison\",\"Poison\",\"Poison\",\"Poison\",\"Poison\",\"Poison\",\"Poison\",\"Poison\",\"Poison\",\"Poison\",\"Poison\",\"Poison\",\"Poison\",\"Poison\",\"Poison\",\"Poison\",\"Poison\",\"Poison\",\"Poison\",\"Poison\",\"Poison\",\"Poison\",\"Poison\",\"Poison\",\"Poison\",\"Poison\",\"Poison\",\"Poison\",\"Poison\",\"Poison\",\"Poison\",\"Poison\",\"Poison\",\"Poison\",\"Poison\",\"Poison\",\"Poison\",\"Poison\",\"Poison\",\"Poison\",\"Poison\",\"Poison\",\"Poison\",\"Poison\",\"Poison\",\"Poison\",\"Poison\",\"Poison\",\"Poison\",\"Poison\",\"Poison\",\"Poison\",\"Poison\",\"Poison\",\"Poison\",\"Poison\",\"Poison\",\"Poison\",\"Poison\",\"Poison\",\"Poison\",\"Poison\",\"Poison\",\"Poison\",\"Poison\",\"Poison\",\"Poison\",\"Poison\",\"Poison\",\"Poison\",\"Poison\",\"Poison\",\"Poison\",\"Poison\",\"Poison\",\"Poison\",\"Poison\",\"Poison\",\"Poison\",\"Poison\",\"Poison\",\"Poison\",\"Poison\",\"Poison\",\"Poison\",\"Poison\",\"Poison\",\"Poison\",\"Poison\",\"Poison\",\"Poison\",\"Poison\",\"Poison\",\"Poison\",\"Poison\",\"Poison\",\"Poison\",\"Poison\",\"Poison\",\"Poison\",\"Poison\",\"Poison\",\"Poison\",\"Poison\",\"Poison\",\"Poison\",\"Poison\",\"Poison\",\"Poison\",\"Poison\",\"Poison\",\"Poison\",\"Poison\",\"Poison\",\"Poison\",\"Poison\",\"Poison\",\"Poison\",\"Poison\",\"Poison\",\"Poison\",\"Poison\",\"Poison\",\"Poison\",\"Poison\",\"Poison\",\"Poison\",\"Poison\",\"Poison\",\"Poison\",\"Poison\",\"Poison\",\"Poison\",\"Poison\",\"Poison\",\"Poison\",\"Poison\",\"Poison\",\"Poison\",\"Poison\",\"Poison\",\"Poison\",\"Poison\",\"Poison\",\"Poison\",\"Poison\",\"Poison\",\"Poison\",\"Poison\",\"Poison\",\"Poison\",\"Poison\",\"Poison\",\"Poison\",\"Poison\",\"Poison\",\"Poison\",\"Poison\",\"Poison\",\"Poison\",\"Poison\",\"Poison\",\"Poison\",\"Poison\",\"Poison\",\"Poison\",\"Poison\",\"Poison\",\"Poison\",\"Poison\",\"Poison\",\"Poison\",\"Poison\",\"Poison\",\"Poison\",\"Poison\",\"Poison\",\"Poison\"],\"type\":\"scatterpolargl\"},{\"hovertemplate\":\"Type 2=%{theta}<br>value=%{r}<extra></extra>\",\"legendgroup\":\"0\",\"marker\":{\"color\":\"#EF553B\",\"symbol\":\"circle\"},\"mode\":\"markers\",\"name\":\"0\",\"r\":[39,58,44,59,79,79,45,50,30,55,35,60,35,60,50,75,55,70,46,61,70,95,38,73,10,35,40,65,50,80,40,65,55,90,40,65,25,40,55,55,70,80,90,50,65,65,80,105,30,60,85,30,55,40,60,50,60,50,50,90,40,65,250,65,105,105,30,55,45,80,30,65,65,65,75,20,48,55,130,65,65,65,160,41,61,106,106,100,45,60,80,39,58,78,50,65,85,35,85,20,50,35,55,70,90,75,70,90,55,30,75,65,95,60,48,190,50,100,60,90,60,90,40,35,75,90,90,85,73,55,35,50,45,45,95,255,90,115,100,40,50,70,45,50,35,70,38,78,45,50,50,40,60,60,80,150,64,84,104,72,144,30,50,70,70,40,70,70,60,60,65,65,70,100,130,170,70,60,80,60,45,50,73,73,43,20,95,70,60,44,64,64,20,40,65,65,65,95,50,80,80,35,55,55,43,45,65,80,80,80,100,100,100,50,50,50,50,55,75,44,53,64,59,37,77,45,60,80,67,97,40,60,55,85,45,70,76,75,55,65,60,49,71,45,50,100,135,40,68,108,74,49,69,110,100,75,75,65,65,85,45,75,80,75,110,120,80,100,70,100,120,45,60,75,65,55,75,95,45,60,45,65,85,41,64,50,75,50,75,50,75,76,116,45,75,55,70,85,60,103,75,85,105,50,120,75,45,70,70,70,105,75,38,58,50,80,40,60,55,75,45,60,70,45,65,110,36,51,71,50,165,40,60,60,35,65,85,55,75,46,66,76,55,95,70,50,80,45,65,77,95,85,79,79,56,61,40,59,41,54,38,38,45,44,54,78,66,123,67,75,62,74,74,78,101,62,82,50,71,95,45,68,90,55,95,126,52,64,48,63,83,103,30,20,56,81,60,85,55,90,75,100,47,62,57,72,45,70,41,76,55,80,45,70,52,82,80,105,70,110,50,65,20,35,50,50,80,100,130,85,100,45,80,105,65,48,73,105,130,30,50,50,80,120,105,55,65,90,5,55,95,125,40,65,67,92,45,83,95,125,100,10,48,55,65,65,130,60,110,64,84,110,150,100,49,62,82,52,64,84,65,80,105,46,76,40,25,20,40,55,75,80,100,75,70,30,75,65,65,60,72,33,65,70,80,120,80,130,40,65,105,60,120,80,95,20,35,95,63,75,80,10,85,115,75,45,65,85,60,70,55,90,30,70,45,35,35,40,40,60,80,160,51,71,91,60,120,45,45,65,140,45,75,75,50,40,73,47,43,73,70,90,85,25,45,60,100,85,115,100,80,15,60,70,90,75,115,165,40,70,50,130,150,23,50,80,120,64,104,84,30,75,95,100,50,75,100,150,150,150,180,70,95,68,89,58,51,66,45,25,85,65,85,120,125,165,29,45,65,105,35,60,48,100,66,76,60,55,82,30,80,5,85,70,72,112,100,49,69,85,100,123,95,110,60,80,100,75,105,125,160,70,80,100,90,100,120,45,60,75,63,55,75,100,55,85,60,80,110,50,88,53,98,53,98,53,98,25,55,60,100,75,105,135,85,60,80,105,140,50,100,125,35,60,92,90,140,86,30,50,50,95,65,105,50,95,30,45,55,30,40,65,50,65,95,75,75,55,80,100,55,85,115,55,75,87,117,147,70,110,50,40,70,85,125,120,110,97,115,100,61,78,45,59,56,63,36,35,22,38,45,65,65,100,82,80,48,48,48,52,72,48,80,53,73,65,50,75,100,69,117,131,43,58,65,80,100,120,35,55,35,60,44,69,40,55,85,110,52,67,40,57,48,73,40,75,25,50,35,60,48,78,35,60,45,80,40,65,15,30,45,65,50,70,80,55,70,55,50,75,100,45,70,90,115,50,70,95,110,53,79,75,95,120,5,115,80,100,70,95,60,65,55,57,57,100,95,55,48,50,60,60,60,70,65,45,65,90,70,100,65,80,100,43,58,78,64,80,100,34,64,15,28,65,40,55,85,95,115,75,55,30,55,60,110,60,48,58,90,70,50,75,50,75,40,35,75,60,120,90,62,35,35,95,37,37,105,10,75,85,115,35,45,65,40,50,35,70,41,61,35,55,55,50,60,60,80,100,23,43,63,30,60,135,45,65,230,40,60,80,40,50,55,55,53,83,35,45,140,35,65,60,45,40,60,60,65,20,79,70,70,35,65,75,90,130,70,60,60,48,50,80,80,85,105,105,55,60,100,200,100,150,90,90,140,50,20,160,90,64,85,44,53,68,40,41,51,34,49,79,40,60,45,70,35,55,45,70,48,66,44,84,60,42,64,50,95,5,40,40,78,118,72,56,76,95,125,67,67,130,110,70,135,130,105,70,110,120,80,100,90,100,120,55,75,95,45,45,60,85,39,69,45,65,90,37,50,48,63,48,63,48,63,45,85,32,63,85,105,130,40,86,55,85,95,40,85,75,50,75,65,45,55,67,85,145,62,82,40,60,40,60,50,70,95,40,50,75,50,65,85,45,80,70,95,115,40,70,80,55,75,60,70,90,40,80,30,85,40,50,60,90,95,66,70,80,65,95,40,58,40,52,38,40,60,39,47,68,48,62,62,60,54,76,76,60,72,66,86,62,88,65,35,53,70,85,184,95,60,80,50,65,85,135,20,25,25,50,40,65,50,90,20,45,40,55,40,55,60,95,50,81,35,50,40,65,65,95,35,60,70,100,40,50,105,120,135,175,35,50,65,65,80,45,40,65,45,43,73,25,50,55,80,40,50,35,35,60,60,85,35,100,40,60,70,95,35,65,70,95,100,55,40,15,48,45,110,110,95,85,65,50,70,154,194,100,49,63,83,60,80,109,44,59,79,35,45,35,45,40,65,80,115,90,30,90,40,30,105,130,60,85,72,33,35,65,40,60,50,75,70,65,105,40,60,105,85,20,35,35,65,70,40,75,115,90,90,65,85,105,70,50,30,60,30,50,20,25,25,30,40,35,55,95,51,71,91,20,40,45,35,55,60,65,105,135,85,75,47,73,43,73,70,90,85,70,90,60,45,85,60,100,50,10,100,70,60,63,83,93,30,60,95,75,115,23,50,80,120,74,94,114,40,40,60,50,100,75,150,180,100,150,180,70,95,45,55,58,61,81,35,25,55,40,60,95,30,65,29,45,60,85,62,87,57,60,44,54,105,42,64,65,10,15,40,35,38,68,90,49,69,80,110,95,125,60,130,135,65,75,105,125,80,75,80,100,135,100,120,45,60,75,45,63,83,108,35,60,25,35,45,50,88,53,98,53,98,53,98,67,107,50,80,25,50,60,30,60,25,40,55,50,30,30,70,110,80,15,30,106,55,95,40,60,80,120,40,65,55,75,95,105,125,125,65,80,110,40,40,45,70,70,45,75,105,85,125,30,40,60,60,70,95,40,100,55,95,60,40,105,125,110,48,56,62,90,62,83,32,27,27,61,75,112,62,97,46,65,63,83,83,63,99,59,85,58,120,110,55,83,110,32,44,131,50,65,64,80,105,115,20,25,35,70,54,79,50,80,30,55,40,55,40,55,65,90,65,100,45,70,40,65,50,80,45,70,50,80,40,50,55,70,95,95,35,60,85,65,80,70,50,100,25,90,115,25,50,55,80,50,80,110,110,75,45,70,105,40,80,100,25,45,50,80,55,85,85,70,70,20,48,65,95,95,110,75,110,50,70,90,120,100,65,80,100,50,65,85,48,63,83,45,55,35,55,65,45,60,90,100,65,100,55,30,85,95,130,85,48,58,35,65,40,60,50,75,40,35,75,40,60,95,65,45,35,110,55,55,70,135,100,75,115,55,65,85,50,50,30,60,41,61,30,25,25,30,60,35,55,65,23,43,73,30,60,90,35,55,80,40,60,80,75,85,75,75,53,83,35,45,70,80,110,60,45,40,60,60,35,55,125,70,120,33,63,83,90,130,80,60,60,48,50,80,80,55,75,75,65,30,50,100,200,150,140,160,90,50,20,160,90,55,65,44,56,76,40,41,51,34,49,79,30,50,45,90,30,50,53,78,62,66,56,96,105,37,59,50,45,65,85,40,42,72,72,61,86,95,50,85,95,65,95,75,135,130,105,70,110,130,80,100,90,100,120,55,75,95,45,45,60,70,39,69,45,65,90,37,50,48,63,48,63,48,63,55,95,32,63,25,40,80,45,86,35,50,65,40,85,75,50,75,55,45,55,67,65,105,62,82,40,60,40,60,65,85,110,50,60,85,60,75,95,45,45,60,85,85,40,70,80,55,95,40,50,70,40,80,135,65,60,50,60,90,95,66,80,90,45,58,60,70,44,56,36,25,30,79,98,154,57,81,48,90,60,81,81,65,89,57,75,63,89,130,75,113,150,35,46,98,65,80,43,58,78,78,45,30,72,97,55,80,90,110,40,65,41,56,50,65,35,60,65,100,95,120,90,115,55,85,70,95,60,95,90,90,90,105,120,150,35,45,55,90,105,45,25,50,40,42,67,50,75,100,140,35,45,87,76,30,35,60,50,60,90,100,60,85,63,68,85,105,93,85,110,80,48,55,65,130,65,40,30,50,70,130,140,100,45,60,80,65,80,100,43,58,78,20,90,60,15,20,35,45,55,50,30,70,85,30,30,110,65,85,48,33,15,45,30,45,40,55,20,65,45,40,50,60,85,75,35,70,95,83,100,55,115,100,85,70,95,120,45,40,35,70,60,100,20,15,15,30,35,30,90,100,28,48,68,25,50,30,50,70,50,65,105,135,95,95,85,85,40,55,60,60,20,60,80,60,10,35,90,65,35,80,81,70,40,45,65,75,25,25,65,75,115,23,50,80,100,32,52,52,97,50,50,50,50,50,90,90,90,150,150,90,180,31,36,61,40,50,31,25,65,45,60,70,58,58,36,95,85,115,35,85,34,115,85,105,105,85,112,45,10,30,5,60,32,47,46,66,91,50,50,95,83,95,65,90,45,95,80,115,100,85,80,100,125,100,120,63,83,113,45,45,60,70,42,77,55,60,80,66,106,64,101,64,101,64,101,24,29,76,116,15,20,25,68,50,35,40,45,64,45,85,30,90,98,50,95,60,30,30,65,75,65,105,75,115,45,55,65,20,30,30,44,59,79,60,65,30,50,90,60,40,50,30,40,57,67,97,40,50,105,25,145,65,105,48,55,65,111,121,38,57,60,73,71,97,57,35,29,42,52,75,52,68,43,102,68,104,104,23,29,49,72,44,59,60,40,60,80,28,28,99],\"showlegend\":true,\"subplot\":\"polar\",\"theta\":[0,0,0,0,0,0,0,0,0,0,0,0,0,0,0,0,0,0,0,0,0,0,0,0,0,0,0,0,0,0,0,0,0,0,0,0,0,0,0,0,0,0,0,0,0,0,0,0,0,0,0,0,0,0,0,0,0,0,0,0,0,0,0,0,0,0,0,0,0,0,0,0,0,0,0,0,0,0,0,0,0,0,0,0,0,0,0,0,0,0,0,0,0,0,0,0,0,0,0,0,0,0,0,0,0,0,0,0,0,0,0,0,0,0,0,0,0,0,0,0,0,0,0,0,0,0,0,0,0,0,0,0,0,0,0,0,0,0,0,0,0,0,0,0,0,0,0,0,0,0,0,0,0,0,0,0,0,0,0,0,0,0,0,0,0,0,0,0,0,0,0,0,0,0,0,0,0,0,0,0,0,0,0,0,0,0,0,0,0,0,0,0,0,0,0,0,0,0,0,0,0,0,0,0,0,0,0,0,0,0,0,0,0,0,0,0,0,0,0,0,0,0,0,0,0,0,0,0,0,0,0,0,0,0,0,0,0,0,0,0,0,0,0,0,0,0,0,0,0,0,0,0,0,0,0,0,0,0,0,0,0,0,0,0,0,0,0,0,0,0,0,0,0,0,0,0,0,0,0,0,0,0,0,0,0,0,0,0,0,0,0,0,0,0,0,0,0,0,0,0,0,0,0,0,0,0,0,0,0,0,0,0,0,0,0,0,0,0,0,0,0,0,0,0,0,0,0,0,0,0,0,0,0,0,0,0,0,0,0,0,0,0,0,0,0,0,0,0,0,0,0,0,0,0,0,0,0,0,0,0,0,0,0,0,0,0,0,0,0,0,0,0,0,0,0,0,0,0,0,0,0,0,0,0,0,0,0,0,0,0,0,0,0,0,0,0,0,0,0,0,0,0,0,0,0,0,0,0,0,0,0,0,0,0,0,0,0,0,0,0,0,0,0,0,0,0,0,0,0,0,0,0,0,0,0,0,0,0,0,0,0,0,0,0,0,0,0,0,0,0,0,0,0,0,0,0,0,0,0,0,0,0,0,0,0,0,0,0,0,0,0,0,0,0,0,0,0,0,0,0,0,0,0,0,0,0,0,0,0,0,0,0,0,0,0,0,0,0,0,0,0,0,0,0,0,0,0,0,0,0,0,0,0,0,0,0,0,0,0,0,0,0,0,0,0,0,0,0,0,0,0,0,0,0,0,0,0,0,0,0,0,0,0,0,0,0,0,0,0,0,0,0,0,0,0,0,0,0,0,0,0,0,0,0,0,0,0,0,0,0,0,0,0,0,0,0,0,0,0,0,0,0,0,0,0,0,0,0,0,0,0,0,0,0,0,0,0,0,0,0,0,0,0,0,0,0,0,0,0,0,0,0,0,0,0,0,0,0,0,0,0,0,0,0,0,0,0,0,0,0,0,0,0,0,0,0,0,0,0,0,0,0,0,0,0,0,0,0,0,0,0,0,0,0,0,0,0,0,0,0,0,0,0,0,0,0,0,0,0,0,0,0,0,0,0,0,0,0,0,0,0,0,0,0,0,0,0,0,0,0,0,0,0,0,0,0,0,0,0,0,0,0,0,0,0,0,0,0,0,0,0,0,0,0,0,0,0,0,0,0,0,0,0,0,0,0,0,0,0,0,0,0,0,0,0,0,0,0,0,0,0,0,0,0,0,0,0,0,0,0,0,0,0,0,0,0,0,0,0,0,0,0,0,0,0,0,0,0,0,0,0,0,0,0,0,0,0,0,0,0,0,0,0,0,0,0,0,0,0,0,0,0,0,0,0,0,0,0,0,0,0,0,0,0,0,0,0,0,0,0,0,0,0,0,0,0,0,0,0,0,0,0,0,0,0,0,0,0,0,0,0,0,0,0,0,0,0,0,0,0,0,0,0,0,0,0,0,0,0,0,0,0,0,0,0,0,0,0,0,0,0,0,0,0,0,0,0,0,0,0,0,0,0,0,0,0,0,0,0,0,0,0,0,0,0,0,0,0,0,0,0,0,0,0,0,0,0,0,0,0,0,0,0,0,0,0,0,0,0,0,0,0,0,0,0,0,0,0,0,0,0,0,0,0,0,0,0,0,0,0,0,0,0,0,0,0,0,0,0,0,0,0,0,0,0,0,0,0,0,0,0,0,0,0,0,0,0,0,0,0,0,0,0,0,0,0,0,0,0,0,0,0,0,0,0,0,0,0,0,0,0,0,0,0,0,0,0,0,0,0,0,0,0,0,0,0,0,0,0,0,0,0,0,0,0,0,0,0,0,0,0,0,0,0,0,0,0,0,0,0,0,0,0,0,0,0,0,0,0,0,0,0,0,0,0,0,0,0,0,0,0,0,0,0,0,0,0,0,0,0,0,0,0,0,0,0,0,0,0,0,0,0,0,0,0,0,0,0,0,0,0,0,0,0,0,0,0,0,0,0,0,0,0,0,0,0,0,0,0,0,0,0,0,0,0,0,0,0,0,0,0,0,0,0,0,0,0,0,0,0,0,0,0,0,0,0,0,0,0,0,0,0,0,0,0,0,0,0,0,0,0,0,0,0,0,0,0,0,0,0,0,0,0,0,0,0,0,0,0,0,0,0,0,0,0,0,0,0,0,0,0,0,0,0,0,0,0,0,0,0,0,0,0,0,0,0,0,0,0,0,0,0,0,0,0,0,0,0,0,0,0,0,0,0,0,0,0,0,0,0,0,0,0,0,0,0,0,0,0,0,0,0,0,0,0,0,0,0,0,0,0,0,0,0,0,0,0,0,0,0,0,0,0,0,0,0,0,0,0,0,0,0,0,0,0,0,0,0,0,0,0,0,0,0,0,0,0,0,0,0,0,0,0,0,0,0,0,0,0,0,0,0,0,0,0,0,0,0,0,0,0,0,0,0,0,0,0,0,0,0,0,0,0,0,0,0,0,0,0,0,0,0,0,0,0,0,0,0,0,0,0,0,0,0,0,0,0,0,0,0,0,0,0,0,0,0,0,0,0,0,0,0,0,0,0,0,0,0,0,0,0,0,0,0,0,0,0,0,0,0,0,0,0,0,0,0,0,0,0,0,0,0,0,0,0,0,0,0,0,0,0,0,0,0,0,0,0,0,0,0,0,0,0,0,0,0,0,0,0,0,0,0,0,0,0,0,0,0,0,0,0,0,0,0,0,0,0,0,0,0,0,0,0,0,0,0,0,0,0,0,0,0,0,0,0,0,0,0,0,0,0,0,0,0,0,0,0,0,0,0,0,0,0,0,0,0,0,0,0,0,0,0,0,0,0,0,0,0,0,0,0,0,0,0,0,0,0,0,0,0,0,0,0,0,0,0,0,0,0,0,0,0,0,0,0,0,0,0,0,0,0,0,0,0,0,0,0,0,0,0,0,0,0,0,0,0,0,0,0,0,0,0,0,0,0,0,0,0,0,0,0,0,0,0,0,0,0,0,0,0,0,0,0,0,0,0,0,0,0,0,0,0,0,0,0,0,0,0,0,0,0,0,0,0,0,0,0,0,0,0,0,0,0,0,0,0,0,0,0,0,0,0,0,0,0,0,0,0,0,0,0,0,0,0,0,0,0,0,0,0,0,0,0,0,0,0,0,0,0,0,0,0,0,0,0,0,0,0,0,0,0,0,0,0,0,0,0,0,0,0,0,0,0,0,0,0,0,0,0,0,0,0,0,0,0,0,0,0,0,0,0,0,0,0,0,0,0,0,0,0,0,0,0,0,0,0,0,0,0,0,0,0,0,0,0,0,0,0,0,0,0,0,0,0,0,0,0,0,0,0,0,0,0,0,0,0,0,0,0,0,0,0,0,0,0,0,0,0,0,0,0,0,0,0,0,0,0,0,0,0,0,0,0,0,0,0,0,0,0,0,0,0,0,0,0,0,0,0,0,0,0,0,0,0,0,0,0,0,0,0,0,0,0,0,0,0,0,0,0,0,0,0,0,0,0,0,0,0,0,0,0,0,0,0,0,0,0,0,0,0,0,0,0,0,0,0,0,0,0,0,0,0,0,0,0,0,0,0,0,0,0,0,0,0,0,0,0,0,0,0,0,0,0,0,0,0,0,0,0,0,0,0,0,0,0,0,0,0,0,0,0,0,0,0,0,0,0,0,0,0,0,0,0,0,0,0,0,0,0,0,0,0,0,0,0,0,0,0,0,0,0,0,0,0,0,0,0,0,0,0,0,0,0,0,0,0,0,0,0,0,0,0,0,0,0,0,0,0,0,0,0,0,0,0,0,0,0,0,0,0,0,0,0,0,0,0,0,0,0,0,0,0,0,0,0,0,0,0,0,0,0,0,0,0,0,0,0,0,0,0,0,0,0,0,0,0,0,0,0,0,0,0,0,0,0,0,0,0,0,0,0,0,0,0,0,0,0,0,0,0,0,0,0,0,0,0,0,0,0,0,0,0,0,0,0,0,0,0,0,0,0,0,0,0,0,0,0,0,0,0,0,0,0,0,0,0,0,0,0,0,0,0,0,0,0,0,0,0,0,0,0,0,0,0,0,0,0,0,0,0,0,0,0,0,0,0,0,0,0,0,0,0,0,0,0,0,0,0,0,0,0,0,0,0,0,0,0,0,0,0,0,0,0,0,0,0,0,0,0,0,0,0,0,0,0,0,0,0,0,0,0,0,0,0,0,0,0,0,0,0,0,0,0,0,0,0,0,0,0,0,0,0,0,0,0,0,0,0,0,0,0,0,0,0,0,0,0,0,0,0,0,0,0,0,0,0,0,0,0,0,0,0,0,0,0,0,0,0,0,0,0,0,0,0,0,0,0,0,0,0,0,0,0,0,0,0,0,0,0,0,0,0,0,0,0,0,0,0,0,0,0,0,0,0,0,0,0,0,0,0,0,0,0,0,0,0,0,0,0,0,0,0,0,0,0,0,0,0,0,0,0,0,0,0,0,0,0,0,0,0,0,0,0,0,0,0,0,0,0,0,0,0,0,0,0,0,0,0,0,0,0,0,0,0,0,0,0,0,0,0,0,0,0,0,0,0,0,0,0,0,0,0,0,0,0,0,0,0,0,0,0,0,0,0,0,0,0,0,0,0,0,0,0,0,0,0,0,0,0,0,0,0,0,0,0,0,0,0,0,0,0,0,0,0,0,0,0,0,0,0,0,0,0,0,0,0,0,0,0,0,0,0,0,0,0,0,0,0,0,0,0,0,0,0,0,0,0,0,0,0,0,0,0,0,0,0],\"type\":\"scatterpolargl\"},{\"hovertemplate\":\"Type 2=%{theta}<br>value=%{r}<extra></extra>\",\"legendgroup\":\"Flying\",\"marker\":{\"color\":\"#00cc96\",\"symbol\":\"circle\"},\"mode\":\"markers\",\"name\":\"Flying\",\"r\":[78,78,60,40,63,83,83,40,65,40,75,52,35,60,70,65,95,80,80,90,90,90,91,60,100,40,55,85,55,40,65,35,55,75,65,60,65,45,65,65,106,106,60,40,60,40,60,70,61,45,75,99,95,95,105,105,40,55,85,70,30,70,90,150,100,76,45,85,86,75,50,100,50,62,80,55,67,72,55,75,62,75,55,70,100,70,110,79,79,89,89,45,62,78,80,78,126,84,104,45,45,60,80,80,60,90,45,80,65,85,110,110,155,125,105,135,85,90,100,134,30,50,20,35,90,40,50,75,35,45,55,65,85,75,55,40,80,90,130,70,55,85,30,50,60,90,40,70,68,135,145,150,180,55,75,120,94,30,80,50,80,125,65,20,50,76,95,65,103,55,77,115,45,57,58,112,140,44,87,75,83,123,55,65,115,105,125,145,50,73,81,52,92,131,78,78,50,40,55,75,80,30,65,35,70,55,45,70,80,120,79,65,85,100,85,90,95,30,50,30,50,80,85,45,70,40,50,70,45,42,105,45,70,140,130,90,50,30,60,30,100,62,45,60,90,83,80,130,90,100,30,50,70,50,42,102,34,44,52,45,50,95,86,125,107,75,50,62,80,43,55,80,45,65,50,63,60,50,75,75,105,70,70,90,90,43,55,71,50,75,95,109,159,90,35,50,70,135,31,61,30,65,58,35,60,55,65,60,60,70,95,125,125,100,36,76,40,55,70,80,70,95,35,45,55,75,85,35,65,80,40,90,110,100,30,50,55,85,80,50,40,70,72,110,120,150,180,30,40,50,94,30,80,60,90,105,92,60,120,116,45,105,120,36,50,65,55,77,103,74,112,44,87,75,37,57,45,55,125,145,115,105,40,56,74,90,74,131,85,115,80,35,50,70,80,31,61,40,75,62,35,60,80,90,100,75,95,125,90,85,100,56,96,80,110,80,105,45,70,55,65,95,45,42,65,45,140,70,154,154,50,30,50,30,70,82,50,75,105,87,80,90,90,100,30,40,60,50,42,102,44,54,52,42,120,115,56,75,107,75,30,42,55,43,55,80,45,65,50,63,60,50,75,65,95,80,80,80,80,38,52,69,50,63,98,100,100,70,56,71,101,121,70,100,55,90,60,75,100,105,105,81,130,150,85,100,90,80,50,70,55,85,130,40,70,95,50,80,110,95,91,85,75,70,70,110,90,65,85,125,85,65,60,160,50,80,51,100,120,95,115,60,80,100,66,70,40,70,80,71,91,50,80,95,95,86,127,43,65,93,72,114,97,70,110,55,98,103,60,80,60,80,111,101,101,91,62,84,126,89,118,99],\"showlegend\":true,\"subplot\":\"polar\",\"theta\":[\"Flying\",\"Flying\",\"Flying\",\"Flying\",\"Flying\",\"Flying\",\"Flying\",\"Flying\",\"Flying\",\"Flying\",\"Flying\",\"Flying\",\"Flying\",\"Flying\",\"Flying\",\"Flying\",\"Flying\",\"Flying\",\"Flying\",\"Flying\",\"Flying\",\"Flying\",\"Flying\",\"Flying\",\"Flying\",\"Flying\",\"Flying\",\"Flying\",\"Flying\",\"Flying\",\"Flying\",\"Flying\",\"Flying\",\"Flying\",\"Flying\",\"Flying\",\"Flying\",\"Flying\",\"Flying\",\"Flying\",\"Flying\",\"Flying\",\"Flying\",\"Flying\",\"Flying\",\"Flying\",\"Flying\",\"Flying\",\"Flying\",\"Flying\",\"Flying\",\"Flying\",\"Flying\",\"Flying\",\"Flying\",\"Flying\",\"Flying\",\"Flying\",\"Flying\",\"Flying\",\"Flying\",\"Flying\",\"Flying\",\"Flying\",\"Flying\",\"Flying\",\"Flying\",\"Flying\",\"Flying\",\"Flying\",\"Flying\",\"Flying\",\"Flying\",\"Flying\",\"Flying\",\"Flying\",\"Flying\",\"Flying\",\"Flying\",\"Flying\",\"Flying\",\"Flying\",\"Flying\",\"Flying\",\"Flying\",\"Flying\",\"Flying\",\"Flying\",\"Flying\",\"Flying\",\"Flying\",\"Flying\",\"Flying\",\"Flying\",\"Flying\",\"Flying\",\"Flying\",\"Flying\",\"Flying\",\"Flying\",\"Flying\",\"Flying\",\"Flying\",\"Flying\",\"Flying\",\"Flying\",\"Flying\",\"Flying\",\"Flying\",\"Flying\",\"Flying\",\"Flying\",\"Flying\",\"Flying\",\"Flying\",\"Flying\",\"Flying\",\"Flying\",\"Flying\",\"Flying\",\"Flying\",\"Flying\",\"Flying\",\"Flying\",\"Flying\",\"Flying\",\"Flying\",\"Flying\",\"Flying\",\"Flying\",\"Flying\",\"Flying\",\"Flying\",\"Flying\",\"Flying\",\"Flying\",\"Flying\",\"Flying\",\"Flying\",\"Flying\",\"Flying\",\"Flying\",\"Flying\",\"Flying\",\"Flying\",\"Flying\",\"Flying\",\"Flying\",\"Flying\",\"Flying\",\"Flying\",\"Flying\",\"Flying\",\"Flying\",\"Flying\",\"Flying\",\"Flying\",\"Flying\",\"Flying\",\"Flying\",\"Flying\",\"Flying\",\"Flying\",\"Flying\",\"Flying\",\"Flying\",\"Flying\",\"Flying\",\"Flying\",\"Flying\",\"Flying\",\"Flying\",\"Flying\",\"Flying\",\"Flying\",\"Flying\",\"Flying\",\"Flying\",\"Flying\",\"Flying\",\"Flying\",\"Flying\",\"Flying\",\"Flying\",\"Flying\",\"Flying\",\"Flying\",\"Flying\",\"Flying\",\"Flying\",\"Flying\",\"Flying\",\"Flying\",\"Flying\",\"Flying\",\"Flying\",\"Flying\",\"Flying\",\"Flying\",\"Flying\",\"Flying\",\"Flying\",\"Flying\",\"Flying\",\"Flying\",\"Flying\",\"Flying\",\"Flying\",\"Flying\",\"Flying\",\"Flying\",\"Flying\",\"Flying\",\"Flying\",\"Flying\",\"Flying\",\"Flying\",\"Flying\",\"Flying\",\"Flying\",\"Flying\",\"Flying\",\"Flying\",\"Flying\",\"Flying\",\"Flying\",\"Flying\",\"Flying\",\"Flying\",\"Flying\",\"Flying\",\"Flying\",\"Flying\",\"Flying\",\"Flying\",\"Flying\",\"Flying\",\"Flying\",\"Flying\",\"Flying\",\"Flying\",\"Flying\",\"Flying\",\"Flying\",\"Flying\",\"Flying\",\"Flying\",\"Flying\",\"Flying\",\"Flying\",\"Flying\",\"Flying\",\"Flying\",\"Flying\",\"Flying\",\"Flying\",\"Flying\",\"Flying\",\"Flying\",\"Flying\",\"Flying\",\"Flying\",\"Flying\",\"Flying\",\"Flying\",\"Flying\",\"Flying\",\"Flying\",\"Flying\",\"Flying\",\"Flying\",\"Flying\",\"Flying\",\"Flying\",\"Flying\",\"Flying\",\"Flying\",\"Flying\",\"Flying\",\"Flying\",\"Flying\",\"Flying\",\"Flying\",\"Flying\",\"Flying\",\"Flying\",\"Flying\",\"Flying\",\"Flying\",\"Flying\",\"Flying\",\"Flying\",\"Flying\",\"Flying\",\"Flying\",\"Flying\",\"Flying\",\"Flying\",\"Flying\",\"Flying\",\"Flying\",\"Flying\",\"Flying\",\"Flying\",\"Flying\",\"Flying\",\"Flying\",\"Flying\",\"Flying\",\"Flying\",\"Flying\",\"Flying\",\"Flying\",\"Flying\",\"Flying\",\"Flying\",\"Flying\",\"Flying\",\"Flying\",\"Flying\",\"Flying\",\"Flying\",\"Flying\",\"Flying\",\"Flying\",\"Flying\",\"Flying\",\"Flying\",\"Flying\",\"Flying\",\"Flying\",\"Flying\",\"Flying\",\"Flying\",\"Flying\",\"Flying\",\"Flying\",\"Flying\",\"Flying\",\"Flying\",\"Flying\",\"Flying\",\"Flying\",\"Flying\",\"Flying\",\"Flying\",\"Flying\",\"Flying\",\"Flying\",\"Flying\",\"Flying\",\"Flying\",\"Flying\",\"Flying\",\"Flying\",\"Flying\",\"Flying\",\"Flying\",\"Flying\",\"Flying\",\"Flying\",\"Flying\",\"Flying\",\"Flying\",\"Flying\",\"Flying\",\"Flying\",\"Flying\",\"Flying\",\"Flying\",\"Flying\",\"Flying\",\"Flying\",\"Flying\",\"Flying\",\"Flying\",\"Flying\",\"Flying\",\"Flying\",\"Flying\",\"Flying\",\"Flying\",\"Flying\",\"Flying\",\"Flying\",\"Flying\",\"Flying\",\"Flying\",\"Flying\",\"Flying\",\"Flying\",\"Flying\",\"Flying\",\"Flying\",\"Flying\",\"Flying\",\"Flying\",\"Flying\",\"Flying\",\"Flying\",\"Flying\",\"Flying\",\"Flying\",\"Flying\",\"Flying\",\"Flying\",\"Flying\",\"Flying\",\"Flying\",\"Flying\",\"Flying\",\"Flying\",\"Flying\",\"Flying\",\"Flying\",\"Flying\",\"Flying\",\"Flying\",\"Flying\",\"Flying\",\"Flying\",\"Flying\",\"Flying\",\"Flying\",\"Flying\",\"Flying\",\"Flying\",\"Flying\",\"Flying\",\"Flying\",\"Flying\",\"Flying\",\"Flying\",\"Flying\",\"Flying\",\"Flying\",\"Flying\",\"Flying\",\"Flying\",\"Flying\",\"Flying\",\"Flying\",\"Flying\",\"Flying\",\"Flying\",\"Flying\",\"Flying\",\"Flying\",\"Flying\",\"Flying\",\"Flying\",\"Flying\",\"Flying\",\"Flying\",\"Flying\",\"Flying\",\"Flying\",\"Flying\",\"Flying\",\"Flying\",\"Flying\",\"Flying\",\"Flying\",\"Flying\",\"Flying\",\"Flying\",\"Flying\",\"Flying\",\"Flying\",\"Flying\",\"Flying\",\"Flying\",\"Flying\",\"Flying\",\"Flying\",\"Flying\",\"Flying\",\"Flying\",\"Flying\",\"Flying\",\"Flying\",\"Flying\",\"Flying\",\"Flying\",\"Flying\",\"Flying\",\"Flying\",\"Flying\",\"Flying\",\"Flying\",\"Flying\",\"Flying\",\"Flying\",\"Flying\",\"Flying\",\"Flying\",\"Flying\",\"Flying\",\"Flying\",\"Flying\",\"Flying\",\"Flying\",\"Flying\",\"Flying\",\"Flying\",\"Flying\",\"Flying\",\"Flying\",\"Flying\",\"Flying\",\"Flying\",\"Flying\",\"Flying\",\"Flying\",\"Flying\",\"Flying\",\"Flying\",\"Flying\",\"Flying\",\"Flying\",\"Flying\",\"Flying\",\"Flying\",\"Flying\",\"Flying\",\"Flying\",\"Flying\",\"Flying\",\"Flying\",\"Flying\",\"Flying\",\"Flying\",\"Flying\",\"Flying\",\"Flying\",\"Flying\",\"Flying\",\"Flying\",\"Flying\",\"Flying\",\"Flying\",\"Flying\",\"Flying\",\"Flying\",\"Flying\",\"Flying\",\"Flying\",\"Flying\",\"Flying\",\"Flying\",\"Flying\",\"Flying\",\"Flying\",\"Flying\",\"Flying\",\"Flying\",\"Flying\",\"Flying\",\"Flying\",\"Flying\",\"Flying\",\"Flying\",\"Flying\",\"Flying\",\"Flying\",\"Flying\",\"Flying\",\"Flying\",\"Flying\",\"Flying\",\"Flying\",\"Flying\",\"Flying\",\"Flying\",\"Flying\",\"Flying\",\"Flying\",\"Flying\",\"Flying\",\"Flying\",\"Flying\",\"Flying\"],\"type\":\"scatterpolargl\"},{\"hovertemplate\":\"Type 2=%{theta}<br>value=%{r}<extra></extra>\",\"legendgroup\":\"Dragon\",\"marker\":{\"color\":\"#ab63fa\",\"symbol\":\"circle\"},\"mode\":\"markers\",\"name\":\"Dragon\",\"r\":[78,90,75,70,50,80,100,90,150,150,52,72,92,65,58,82,40,85,130,95,95,110,70,100,120,120,100,120,65,85,105,75,89,121,30,70,111,105,95,75,50,80,120,100,120,100,50,70,90,90,77,119,35,80,130,165,95,145,50,80,150,150,100,120,45,65,125,97,45,69,45,97,85,110,95,85,50,80,100,120,120,100,50,70,90,123,45,59,40,80,100,45,85,145,70,100,90,100,90,90,38,58,98,44,48,71,55,123],\"showlegend\":true,\"subplot\":\"polar\",\"theta\":[\"Dragon\",\"Dragon\",\"Dragon\",\"Dragon\",\"Dragon\",\"Dragon\",\"Dragon\",\"Dragon\",\"Dragon\",\"Dragon\",\"Dragon\",\"Dragon\",\"Dragon\",\"Dragon\",\"Dragon\",\"Dragon\",\"Dragon\",\"Dragon\",\"Dragon\",\"Dragon\",\"Dragon\",\"Dragon\",\"Dragon\",\"Dragon\",\"Dragon\",\"Dragon\",\"Dragon\",\"Dragon\",\"Dragon\",\"Dragon\",\"Dragon\",\"Dragon\",\"Dragon\",\"Dragon\",\"Dragon\",\"Dragon\",\"Dragon\",\"Dragon\",\"Dragon\",\"Dragon\",\"Dragon\",\"Dragon\",\"Dragon\",\"Dragon\",\"Dragon\",\"Dragon\",\"Dragon\",\"Dragon\",\"Dragon\",\"Dragon\",\"Dragon\",\"Dragon\",\"Dragon\",\"Dragon\",\"Dragon\",\"Dragon\",\"Dragon\",\"Dragon\",\"Dragon\",\"Dragon\",\"Dragon\",\"Dragon\",\"Dragon\",\"Dragon\",\"Dragon\",\"Dragon\",\"Dragon\",\"Dragon\",\"Dragon\",\"Dragon\",\"Dragon\",\"Dragon\",\"Dragon\",\"Dragon\",\"Dragon\",\"Dragon\",\"Dragon\",\"Dragon\",\"Dragon\",\"Dragon\",\"Dragon\",\"Dragon\",\"Dragon\",\"Dragon\",\"Dragon\",\"Dragon\",\"Dragon\",\"Dragon\",\"Dragon\",\"Dragon\",\"Dragon\",\"Dragon\",\"Dragon\",\"Dragon\",\"Dragon\",\"Dragon\",\"Dragon\",\"Dragon\",\"Dragon\",\"Dragon\",\"Dragon\",\"Dragon\",\"Dragon\",\"Dragon\",\"Dragon\",\"Dragon\",\"Dragon\",\"Dragon\"],\"type\":\"scatterpolargl\"},{\"hovertemplate\":\"Type 2=%{theta}<br>value=%{r}<extra></extra>\",\"legendgroup\":\"Ground\",\"marker\":{\"color\":\"#FFA15A\",\"symbol\":\"circle\"},\"mode\":\"markers\",\"name\":\"Ground\",\"r\":[90,81,40,55,80,35,55,95,75,75,50,100,50,70,70,100,100,31,60,70,70,50,110,95,60,111,58,68,108,108,110,75,105,85,108,92,102,80,95,120,45,45,85,85,125,50,100,64,84,85,110,150,45,60,100,120,48,78,109,79,83,70,90,130,170,130,65,95,56,100,87,77,100,115,130,160,45,85,200,230,40,80,50,70,70,90,110,90,40,70,100,43,73,105,105,68,45,65,95,115,80,55,75,77,121,75,85,30,45,55,30,25,65,55,55,30,60,45,65,60,85,95,30,65,105,145,46,76,75,59,92,40,50,80,120,70,65,85,50,81,85,75,30,45,65,45,25,65,65,95,30,60,50,70,70,90,110,30,45,75,105,41,71,85,85,82,45,55,85,95,60,55,75,77,95,76,85,20,35,45,70,15,35,30,30,50,50,41,51,50,60,70,40,35,40,20,60,60,56,36,39,42,82,102,92,80,69,74,78,95],\"showlegend\":true,\"subplot\":\"polar\",\"theta\":[\"Ground\",\"Ground\",\"Ground\",\"Ground\",\"Ground\",\"Ground\",\"Ground\",\"Ground\",\"Ground\",\"Ground\",\"Ground\",\"Ground\",\"Ground\",\"Ground\",\"Ground\",\"Ground\",\"Ground\",\"Ground\",\"Ground\",\"Ground\",\"Ground\",\"Ground\",\"Ground\",\"Ground\",\"Ground\",\"Ground\",\"Ground\",\"Ground\",\"Ground\",\"Ground\",\"Ground\",\"Ground\",\"Ground\",\"Ground\",\"Ground\",\"Ground\",\"Ground\",\"Ground\",\"Ground\",\"Ground\",\"Ground\",\"Ground\",\"Ground\",\"Ground\",\"Ground\",\"Ground\",\"Ground\",\"Ground\",\"Ground\",\"Ground\",\"Ground\",\"Ground\",\"Ground\",\"Ground\",\"Ground\",\"Ground\",\"Ground\",\"Ground\",\"Ground\",\"Ground\",\"Ground\",\"Ground\",\"Ground\",\"Ground\",\"Ground\",\"Ground\",\"Ground\",\"Ground\",\"Ground\",\"Ground\",\"Ground\",\"Ground\",\"Ground\",\"Ground\",\"Ground\",\"Ground\",\"Ground\",\"Ground\",\"Ground\",\"Ground\",\"Ground\",\"Ground\",\"Ground\",\"Ground\",\"Ground\",\"Ground\",\"Ground\",\"Ground\",\"Ground\",\"Ground\",\"Ground\",\"Ground\",\"Ground\",\"Ground\",\"Ground\",\"Ground\",\"Ground\",\"Ground\",\"Ground\",\"Ground\",\"Ground\",\"Ground\",\"Ground\",\"Ground\",\"Ground\",\"Ground\",\"Ground\",\"Ground\",\"Ground\",\"Ground\",\"Ground\",\"Ground\",\"Ground\",\"Ground\",\"Ground\",\"Ground\",\"Ground\",\"Ground\",\"Ground\",\"Ground\",\"Ground\",\"Ground\",\"Ground\",\"Ground\",\"Ground\",\"Ground\",\"Ground\",\"Ground\",\"Ground\",\"Ground\",\"Ground\",\"Ground\",\"Ground\",\"Ground\",\"Ground\",\"Ground\",\"Ground\",\"Ground\",\"Ground\",\"Ground\",\"Ground\",\"Ground\",\"Ground\",\"Ground\",\"Ground\",\"Ground\",\"Ground\",\"Ground\",\"Ground\",\"Ground\",\"Ground\",\"Ground\",\"Ground\",\"Ground\",\"Ground\",\"Ground\",\"Ground\",\"Ground\",\"Ground\",\"Ground\",\"Ground\",\"Ground\",\"Ground\",\"Ground\",\"Ground\",\"Ground\",\"Ground\",\"Ground\",\"Ground\",\"Ground\",\"Ground\",\"Ground\",\"Ground\",\"Ground\",\"Ground\",\"Ground\",\"Ground\",\"Ground\",\"Ground\",\"Ground\",\"Ground\",\"Ground\",\"Ground\",\"Ground\",\"Ground\",\"Ground\",\"Ground\",\"Ground\",\"Ground\",\"Ground\",\"Ground\",\"Ground\",\"Ground\",\"Ground\",\"Ground\",\"Ground\",\"Ground\",\"Ground\",\"Ground\",\"Ground\",\"Ground\",\"Ground\",\"Ground\",\"Ground\",\"Ground\",\"Ground\",\"Ground\",\"Ground\",\"Ground\",\"Ground\"],\"type\":\"scatterpolargl\"},{\"hovertemplate\":\"Type 2=%{theta}<br>value=%{r}<extra></extra>\",\"legendgroup\":\"Fairy\",\"marker\":{\"color\":\"#19d3f3\",\"symbol\":\"circle\"},\"mode\":\"markers\",\"name\":\"Fairy\",\"r\":[115,140,40,90,70,100,28,38,68,68,50,50,50,75,20,103,40,60,67,50,57,50,50,45,70,45,30,20,50,25,35,65,85,20,85,105,110,25,60,27,67,58,50,80,100,160,20,45,65,15,50,80,25,35,65,65,40,85,125,110,45,126,60,85,57,150,91,150,110,45,85,100,40,20,60,45,65,125,165,20,55,55,110,70,80,37,77,81,50,80,100,160,25,50,120,20,50,80,35,55,115,135,40,55,95,105,90,126,50,75,67,150,87,150,110,20,45,90,15,40,50,40,50,80,100,20,50,50,80,60,50,66,116,101,50,75,50,110],\"showlegend\":true,\"subplot\":\"polar\",\"theta\":[\"Fairy\",\"Fairy\",\"Fairy\",\"Fairy\",\"Fairy\",\"Fairy\",\"Fairy\",\"Fairy\",\"Fairy\",\"Fairy\",\"Fairy\",\"Fairy\",\"Fairy\",\"Fairy\",\"Fairy\",\"Fairy\",\"Fairy\",\"Fairy\",\"Fairy\",\"Fairy\",\"Fairy\",\"Fairy\",\"Fairy\",\"Fairy\",\"Fairy\",\"Fairy\",\"Fairy\",\"Fairy\",\"Fairy\",\"Fairy\",\"Fairy\",\"Fairy\",\"Fairy\",\"Fairy\",\"Fairy\",\"Fairy\",\"Fairy\",\"Fairy\",\"Fairy\",\"Fairy\",\"Fairy\",\"Fairy\",\"Fairy\",\"Fairy\",\"Fairy\",\"Fairy\",\"Fairy\",\"Fairy\",\"Fairy\",\"Fairy\",\"Fairy\",\"Fairy\",\"Fairy\",\"Fairy\",\"Fairy\",\"Fairy\",\"Fairy\",\"Fairy\",\"Fairy\",\"Fairy\",\"Fairy\",\"Fairy\",\"Fairy\",\"Fairy\",\"Fairy\",\"Fairy\",\"Fairy\",\"Fairy\",\"Fairy\",\"Fairy\",\"Fairy\",\"Fairy\",\"Fairy\",\"Fairy\",\"Fairy\",\"Fairy\",\"Fairy\",\"Fairy\",\"Fairy\",\"Fairy\",\"Fairy\",\"Fairy\",\"Fairy\",\"Fairy\",\"Fairy\",\"Fairy\",\"Fairy\",\"Fairy\",\"Fairy\",\"Fairy\",\"Fairy\",\"Fairy\",\"Fairy\",\"Fairy\",\"Fairy\",\"Fairy\",\"Fairy\",\"Fairy\",\"Fairy\",\"Fairy\",\"Fairy\",\"Fairy\",\"Fairy\",\"Fairy\",\"Fairy\",\"Fairy\",\"Fairy\",\"Fairy\",\"Fairy\",\"Fairy\",\"Fairy\",\"Fairy\",\"Fairy\",\"Fairy\",\"Fairy\",\"Fairy\",\"Fairy\",\"Fairy\",\"Fairy\",\"Fairy\",\"Fairy\",\"Fairy\",\"Fairy\",\"Fairy\",\"Fairy\",\"Fairy\",\"Fairy\",\"Fairy\",\"Fairy\",\"Fairy\",\"Fairy\",\"Fairy\",\"Fairy\",\"Fairy\",\"Fairy\",\"Fairy\",\"Fairy\",\"Fairy\"],\"type\":\"scatterpolargl\"},{\"hovertemplate\":\"Type 2=%{theta}<br>value=%{r}<extra></extra>\",\"legendgroup\":\"Grass\",\"marker\":{\"color\":\"#FF6692\",\"symbol\":\"circle\"},\"mode\":\"markers\",\"name\":\"Grass\",\"r\":[35,60,100,40,60,80,66,86,60,50,45,55,75,60,80,43,85,49,44,54,59,65,55,75,85,70,95,100,30,50,70,41,81,59,65,53,63,103,60,100,70,110,66,66,66,66,90,85,95,100,55,80,100,30,50,70,77,97,85,107,70,90,80,50,70,48,76,70,70,70,70,122,122,122,122,45,60,100,40,60,90,61,81,79,105,40,50,70,40,60,50,65,44,44,44,44,58,58,58,58,55,80,100,50,70,100,87,107,105,107,60,80,80,50,70,60,82,55,55,55,55,75,75,75,75,25,30,100,30,50,70,23,43,36,86,42,42,92,75,95,38,56,51,56,46,41,84,99,69,54],\"showlegend\":true,\"subplot\":\"polar\",\"theta\":[\"Grass\",\"Grass\",\"Grass\",\"Grass\",\"Grass\",\"Grass\",\"Grass\",\"Grass\",\"Grass\",\"Grass\",\"Grass\",\"Grass\",\"Grass\",\"Grass\",\"Grass\",\"Grass\",\"Grass\",\"Grass\",\"Grass\",\"Grass\",\"Grass\",\"Grass\",\"Grass\",\"Grass\",\"Grass\",\"Grass\",\"Grass\",\"Grass\",\"Grass\",\"Grass\",\"Grass\",\"Grass\",\"Grass\",\"Grass\",\"Grass\",\"Grass\",\"Grass\",\"Grass\",\"Grass\",\"Grass\",\"Grass\",\"Grass\",\"Grass\",\"Grass\",\"Grass\",\"Grass\",\"Grass\",\"Grass\",\"Grass\",\"Grass\",\"Grass\",\"Grass\",\"Grass\",\"Grass\",\"Grass\",\"Grass\",\"Grass\",\"Grass\",\"Grass\",\"Grass\",\"Grass\",\"Grass\",\"Grass\",\"Grass\",\"Grass\",\"Grass\",\"Grass\",\"Grass\",\"Grass\",\"Grass\",\"Grass\",\"Grass\",\"Grass\",\"Grass\",\"Grass\",\"Grass\",\"Grass\",\"Grass\",\"Grass\",\"Grass\",\"Grass\",\"Grass\",\"Grass\",\"Grass\",\"Grass\",\"Grass\",\"Grass\",\"Grass\",\"Grass\",\"Grass\",\"Grass\",\"Grass\",\"Grass\",\"Grass\",\"Grass\",\"Grass\",\"Grass\",\"Grass\",\"Grass\",\"Grass\",\"Grass\",\"Grass\",\"Grass\",\"Grass\",\"Grass\",\"Grass\",\"Grass\",\"Grass\",\"Grass\",\"Grass\",\"Grass\",\"Grass\",\"Grass\",\"Grass\",\"Grass\",\"Grass\",\"Grass\",\"Grass\",\"Grass\",\"Grass\",\"Grass\",\"Grass\",\"Grass\",\"Grass\",\"Grass\",\"Grass\",\"Grass\",\"Grass\",\"Grass\",\"Grass\",\"Grass\",\"Grass\",\"Grass\",\"Grass\",\"Grass\",\"Grass\",\"Grass\",\"Grass\",\"Grass\",\"Grass\",\"Grass\",\"Grass\",\"Grass\",\"Grass\",\"Grass\",\"Grass\",\"Grass\",\"Grass\",\"Grass\",\"Grass\"],\"type\":\"scatterpolargl\"},{\"hovertemplate\":\"Type 2=%{theta}<br>value=%{r}<extra></extra>\",\"legendgroup\":\"Fighting\",\"marker\":{\"color\":\"#B6E880\",\"symbol\":\"circle\"},\"mode\":\"markers\",\"name\":\"Fighting\",\"r\":[90,106,80,80,60,80,80,60,64,76,65,48,83,68,68,90,110,50,65,91,91,91,91,91,100,88,95,190,125,185,85,120,160,130,78,104,136,61,106,125,165,93,123,75,90,90,129,90,72,72,128,107,95,100,75,115,60,70,80,80,52,71,94,40,65,65,95,55,65,70,115,129,90,72,90,90,90,122,70,154,40,40,85,110,130,60,78,104,54,61,86,65,65,70,100,35,45,90,72,90,129,129,77,74,90,100,95,105,60,70,80,60,52,71,96,40,65,115,115,55,65,70,115,72,90,129,90,90,77,75,70,130,85,75,55,80,100,70,81,108,135,50,85,80,110,55,65,48,58,108,108,108,108,108,128,64],\"showlegend\":true,\"subplot\":\"polar\",\"theta\":[\"Fighting\",\"Fighting\",\"Fighting\",\"Fighting\",\"Fighting\",\"Fighting\",\"Fighting\",\"Fighting\",\"Fighting\",\"Fighting\",\"Fighting\",\"Fighting\",\"Fighting\",\"Fighting\",\"Fighting\",\"Fighting\",\"Fighting\",\"Fighting\",\"Fighting\",\"Fighting\",\"Fighting\",\"Fighting\",\"Fighting\",\"Fighting\",\"Fighting\",\"Fighting\",\"Fighting\",\"Fighting\",\"Fighting\",\"Fighting\",\"Fighting\",\"Fighting\",\"Fighting\",\"Fighting\",\"Fighting\",\"Fighting\",\"Fighting\",\"Fighting\",\"Fighting\",\"Fighting\",\"Fighting\",\"Fighting\",\"Fighting\",\"Fighting\",\"Fighting\",\"Fighting\",\"Fighting\",\"Fighting\",\"Fighting\",\"Fighting\",\"Fighting\",\"Fighting\",\"Fighting\",\"Fighting\",\"Fighting\",\"Fighting\",\"Fighting\",\"Fighting\",\"Fighting\",\"Fighting\",\"Fighting\",\"Fighting\",\"Fighting\",\"Fighting\",\"Fighting\",\"Fighting\",\"Fighting\",\"Fighting\",\"Fighting\",\"Fighting\",\"Fighting\",\"Fighting\",\"Fighting\",\"Fighting\",\"Fighting\",\"Fighting\",\"Fighting\",\"Fighting\",\"Fighting\",\"Fighting\",\"Fighting\",\"Fighting\",\"Fighting\",\"Fighting\",\"Fighting\",\"Fighting\",\"Fighting\",\"Fighting\",\"Fighting\",\"Fighting\",\"Fighting\",\"Fighting\",\"Fighting\",\"Fighting\",\"Fighting\",\"Fighting\",\"Fighting\",\"Fighting\",\"Fighting\",\"Fighting\",\"Fighting\",\"Fighting\",\"Fighting\",\"Fighting\",\"Fighting\",\"Fighting\",\"Fighting\",\"Fighting\",\"Fighting\",\"Fighting\",\"Fighting\",\"Fighting\",\"Fighting\",\"Fighting\",\"Fighting\",\"Fighting\",\"Fighting\",\"Fighting\",\"Fighting\",\"Fighting\",\"Fighting\",\"Fighting\",\"Fighting\",\"Fighting\",\"Fighting\",\"Fighting\",\"Fighting\",\"Fighting\",\"Fighting\",\"Fighting\",\"Fighting\",\"Fighting\",\"Fighting\",\"Fighting\",\"Fighting\",\"Fighting\",\"Fighting\",\"Fighting\",\"Fighting\",\"Fighting\",\"Fighting\",\"Fighting\",\"Fighting\",\"Fighting\",\"Fighting\",\"Fighting\",\"Fighting\",\"Fighting\",\"Fighting\",\"Fighting\",\"Fighting\",\"Fighting\",\"Fighting\",\"Fighting\",\"Fighting\",\"Fighting\"],\"type\":\"scatterpolargl\"},{\"hovertemplate\":\"Type 2=%{theta}<br>value=%{r}<extra></extra>\",\"legendgroup\":\"Psychic\",\"marker\":{\"color\":\"#FF97FF\",\"symbol\":\"circle\"},\"mode\":\"markers\",\"name\":\"Psychic\",\"r\":[90,95,95,60,95,60,65,95,70,45,30,60,60,70,70,40,60,40,60,80,80,80,80,80,80,100,57,67,105,100,75,53,86,65,75,75,40,95,75,50,75,80,30,40,60,100,55,95,40,70,55,75,135,145,80,100,90,130,100,24,89,30,77,69,54,92,65,110,180,80,85,85,35,80,65,15,55,75,85,65,85,55,105,80,100,130,150,90,120,80,100,100,86,116,105,77,72,53,88,40,100,130,60,125,100,115,100,90,85,40,60,80,95,55,40,70,35,55,95,105,110,140,130,160,100,24,79,140,128,114,37,68,40,80,80,45,65,85,95,110,65,65,55,75,85,85,65,70,120,60,80,90,110,130,150,110,120,100,86,116,105,128,100,46,75,15,30,30,40,55,115,95,30,85,65,60,80,100,70,70,55,75,30,50,70,110,110,110,110,110,100,23,33,55,90,104,45,73],\"showlegend\":true,\"subplot\":\"polar\",\"theta\":[\"Psychic\",\"Psychic\",\"Psychic\",\"Psychic\",\"Psychic\",\"Psychic\",\"Psychic\",\"Psychic\",\"Psychic\",\"Psychic\",\"Psychic\",\"Psychic\",\"Psychic\",\"Psychic\",\"Psychic\",\"Psychic\",\"Psychic\",\"Psychic\",\"Psychic\",\"Psychic\",\"Psychic\",\"Psychic\",\"Psychic\",\"Psychic\",\"Psychic\",\"Psychic\",\"Psychic\",\"Psychic\",\"Psychic\",\"Psychic\",\"Psychic\",\"Psychic\",\"Psychic\",\"Psychic\",\"Psychic\",\"Psychic\",\"Psychic\",\"Psychic\",\"Psychic\",\"Psychic\",\"Psychic\",\"Psychic\",\"Psychic\",\"Psychic\",\"Psychic\",\"Psychic\",\"Psychic\",\"Psychic\",\"Psychic\",\"Psychic\",\"Psychic\",\"Psychic\",\"Psychic\",\"Psychic\",\"Psychic\",\"Psychic\",\"Psychic\",\"Psychic\",\"Psychic\",\"Psychic\",\"Psychic\",\"Psychic\",\"Psychic\",\"Psychic\",\"Psychic\",\"Psychic\",\"Psychic\",\"Psychic\",\"Psychic\",\"Psychic\",\"Psychic\",\"Psychic\",\"Psychic\",\"Psychic\",\"Psychic\",\"Psychic\",\"Psychic\",\"Psychic\",\"Psychic\",\"Psychic\",\"Psychic\",\"Psychic\",\"Psychic\",\"Psychic\",\"Psychic\",\"Psychic\",\"Psychic\",\"Psychic\",\"Psychic\",\"Psychic\",\"Psychic\",\"Psychic\",\"Psychic\",\"Psychic\",\"Psychic\",\"Psychic\",\"Psychic\",\"Psychic\",\"Psychic\",\"Psychic\",\"Psychic\",\"Psychic\",\"Psychic\",\"Psychic\",\"Psychic\",\"Psychic\",\"Psychic\",\"Psychic\",\"Psychic\",\"Psychic\",\"Psychic\",\"Psychic\",\"Psychic\",\"Psychic\",\"Psychic\",\"Psychic\",\"Psychic\",\"Psychic\",\"Psychic\",\"Psychic\",\"Psychic\",\"Psychic\",\"Psychic\",\"Psychic\",\"Psychic\",\"Psychic\",\"Psychic\",\"Psychic\",\"Psychic\",\"Psychic\",\"Psychic\",\"Psychic\",\"Psychic\",\"Psychic\",\"Psychic\",\"Psychic\",\"Psychic\",\"Psychic\",\"Psychic\",\"Psychic\",\"Psychic\",\"Psychic\",\"Psychic\",\"Psychic\",\"Psychic\",\"Psychic\",\"Psychic\",\"Psychic\",\"Psychic\",\"Psychic\",\"Psychic\",\"Psychic\",\"Psychic\",\"Psychic\",\"Psychic\",\"Psychic\",\"Psychic\",\"Psychic\",\"Psychic\",\"Psychic\",\"Psychic\",\"Psychic\",\"Psychic\",\"Psychic\",\"Psychic\",\"Psychic\",\"Psychic\",\"Psychic\",\"Psychic\",\"Psychic\",\"Psychic\",\"Psychic\",\"Psychic\",\"Psychic\",\"Psychic\",\"Psychic\",\"Psychic\",\"Psychic\",\"Psychic\",\"Psychic\",\"Psychic\",\"Psychic\",\"Psychic\",\"Psychic\",\"Psychic\",\"Psychic\",\"Psychic\",\"Psychic\",\"Psychic\",\"Psychic\",\"Psychic\",\"Psychic\",\"Psychic\",\"Psychic\",\"Psychic\",\"Psychic\",\"Psychic\",\"Psychic\"],\"type\":\"scatterpolargl\"},{\"hovertemplate\":\"Type 2=%{theta}<br>value=%{r}<extra></extra>\",\"legendgroup\":\"Steel\",\"marker\":{\"color\":\"#FECB52\",\"symbol\":\"circle\"},\"mode\":\"markers\",\"name\":\"Steel\",\"r\":[25,50,75,70,70,84,30,60,60,70,70,70,60,91,110,70,44,74,45,65,58,71,35,60,90,130,150,86,42,52,69,110,145,70,55,90,135,135,50,94,85,125,109,120,70,95,140,100,140,88,118,168,95,70,88,115,145,106,60,105,91,131,70,100,112,95,95,120,60,55,65,111,42,47,69,115,140,130,75,130,50,60,24,54,40,60,48,120,55,70,60,80,100,101,88,138,95,70,70,90,150,106,65,105,86,116,40,70,48,95,45,70,40,65,75,60,30,30,36,90,112,60,40,77,88,20,10,20,60,70,109,99],\"showlegend\":true,\"subplot\":\"polar\",\"theta\":[\"Steel\",\"Steel\",\"Steel\",\"Steel\",\"Steel\",\"Steel\",\"Steel\",\"Steel\",\"Steel\",\"Steel\",\"Steel\",\"Steel\",\"Steel\",\"Steel\",\"Steel\",\"Steel\",\"Steel\",\"Steel\",\"Steel\",\"Steel\",\"Steel\",\"Steel\",\"Steel\",\"Steel\",\"Steel\",\"Steel\",\"Steel\",\"Steel\",\"Steel\",\"Steel\",\"Steel\",\"Steel\",\"Steel\",\"Steel\",\"Steel\",\"Steel\",\"Steel\",\"Steel\",\"Steel\",\"Steel\",\"Steel\",\"Steel\",\"Steel\",\"Steel\",\"Steel\",\"Steel\",\"Steel\",\"Steel\",\"Steel\",\"Steel\",\"Steel\",\"Steel\",\"Steel\",\"Steel\",\"Steel\",\"Steel\",\"Steel\",\"Steel\",\"Steel\",\"Steel\",\"Steel\",\"Steel\",\"Steel\",\"Steel\",\"Steel\",\"Steel\",\"Steel\",\"Steel\",\"Steel\",\"Steel\",\"Steel\",\"Steel\",\"Steel\",\"Steel\",\"Steel\",\"Steel\",\"Steel\",\"Steel\",\"Steel\",\"Steel\",\"Steel\",\"Steel\",\"Steel\",\"Steel\",\"Steel\",\"Steel\",\"Steel\",\"Steel\",\"Steel\",\"Steel\",\"Steel\",\"Steel\",\"Steel\",\"Steel\",\"Steel\",\"Steel\",\"Steel\",\"Steel\",\"Steel\",\"Steel\",\"Steel\",\"Steel\",\"Steel\",\"Steel\",\"Steel\",\"Steel\",\"Steel\",\"Steel\",\"Steel\",\"Steel\",\"Steel\",\"Steel\",\"Steel\",\"Steel\",\"Steel\",\"Steel\",\"Steel\",\"Steel\",\"Steel\",\"Steel\",\"Steel\",\"Steel\",\"Steel\",\"Steel\",\"Steel\",\"Steel\",\"Steel\",\"Steel\",\"Steel\",\"Steel\",\"Steel\",\"Steel\"],\"type\":\"scatterpolargl\"},{\"hovertemplate\":\"Type 2=%{theta}<br>value=%{r}<extra></extra>\",\"legendgroup\":\"Ice\",\"marker\":{\"color\":\"#636efa\",\"symbol\":\"circle\"},\"mode\":\"markers\",\"name\":\"Ice\",\"r\":[90,50,130,55,60,90,90,70,50,125,125,125,77,123,70,95,85,95,62,92,132,120,65,130,170,120,59,77,80,180,80,55,50,75,105,65,107,90,100,90,50,72,70,85,85,35,62,92,132,45,105,130,120,170,67,99,95,45,95,75,60,85,105,85,107,90,90,100,63,92,70,70,60,115,40,60,30,125,86,95,95,95,46,58],\"showlegend\":true,\"subplot\":\"polar\",\"theta\":[\"Ice\",\"Ice\",\"Ice\",\"Ice\",\"Ice\",\"Ice\",\"Ice\",\"Ice\",\"Ice\",\"Ice\",\"Ice\",\"Ice\",\"Ice\",\"Ice\",\"Ice\",\"Ice\",\"Ice\",\"Ice\",\"Ice\",\"Ice\",\"Ice\",\"Ice\",\"Ice\",\"Ice\",\"Ice\",\"Ice\",\"Ice\",\"Ice\",\"Ice\",\"Ice\",\"Ice\",\"Ice\",\"Ice\",\"Ice\",\"Ice\",\"Ice\",\"Ice\",\"Ice\",\"Ice\",\"Ice\",\"Ice\",\"Ice\",\"Ice\",\"Ice\",\"Ice\",\"Ice\",\"Ice\",\"Ice\",\"Ice\",\"Ice\",\"Ice\",\"Ice\",\"Ice\",\"Ice\",\"Ice\",\"Ice\",\"Ice\",\"Ice\",\"Ice\",\"Ice\",\"Ice\",\"Ice\",\"Ice\",\"Ice\",\"Ice\",\"Ice\",\"Ice\",\"Ice\",\"Ice\",\"Ice\",\"Ice\",\"Ice\",\"Ice\",\"Ice\",\"Ice\",\"Ice\",\"Ice\",\"Ice\",\"Ice\",\"Ice\",\"Ice\",\"Ice\",\"Ice\",\"Ice\"],\"type\":\"scatterpolargl\"},{\"hovertemplate\":\"Type 2=%{theta}<br>value=%{r}<extra></extra>\",\"legendgroup\":\"Rock\",\"marker\":{\"color\":\"#EF553B\",\"symbol\":\"circle\"},\"mode\":\"markers\",\"name\":\"Rock\",\"r\":[80,105,20,50,55,50,60,70,100,115,50,70,54,74,85,130,10,50,55,70,90,110,90,140,65,95,78,108,95,120,230,120,85,100,140,180,130,130,85,125,103,133,30,45,10,80,65,40,50,60,45,55,35,65,53,83,30,45,230,80,85,40,50,60,65,55,35,75,45,65,25,40,5,30,35,30,40,50,55,40,55,45,22,32],\"showlegend\":true,\"subplot\":\"polar\",\"theta\":[\"Rock\",\"Rock\",\"Rock\",\"Rock\",\"Rock\",\"Rock\",\"Rock\",\"Rock\",\"Rock\",\"Rock\",\"Rock\",\"Rock\",\"Rock\",\"Rock\",\"Rock\",\"Rock\",\"Rock\",\"Rock\",\"Rock\",\"Rock\",\"Rock\",\"Rock\",\"Rock\",\"Rock\",\"Rock\",\"Rock\",\"Rock\",\"Rock\",\"Rock\",\"Rock\",\"Rock\",\"Rock\",\"Rock\",\"Rock\",\"Rock\",\"Rock\",\"Rock\",\"Rock\",\"Rock\",\"Rock\",\"Rock\",\"Rock\",\"Rock\",\"Rock\",\"Rock\",\"Rock\",\"Rock\",\"Rock\",\"Rock\",\"Rock\",\"Rock\",\"Rock\",\"Rock\",\"Rock\",\"Rock\",\"Rock\",\"Rock\",\"Rock\",\"Rock\",\"Rock\",\"Rock\",\"Rock\",\"Rock\",\"Rock\",\"Rock\",\"Rock\",\"Rock\",\"Rock\",\"Rock\",\"Rock\",\"Rock\",\"Rock\",\"Rock\",\"Rock\",\"Rock\",\"Rock\",\"Rock\",\"Rock\",\"Rock\",\"Rock\",\"Rock\",\"Rock\",\"Rock\",\"Rock\"],\"type\":\"scatterpolargl\"},{\"hovertemplate\":\"Type 2=%{theta}<br>value=%{r}<extra></extra>\",\"legendgroup\":\"Dark\",\"marker\":{\"color\":\"#00cc96\",\"symbol\":\"circle\"},\"mode\":\"markers\",\"name\":\"Dark\",\"r\":[95,100,100,70,90,45,70,70,70,63,63,103,50,70,50,60,95,72,95,80,155,134,164,70,100,90,120,140,115,120,63,93,92,90,72,82,117,95,124,160,109,110,150,40,60,20,40,70,60,85,47,67,108,110,35,45,80,67,78,60,70,95,95,60,90,65,95,110,115,90,41,71,92,60,35,45,65,103,69,170,130,100,120,40,60,20,40,65,60,55,41,61,108,75,35,45,70,71,71,130,81,61,71,60,80,65,95,105,55,55,74,84,35,95,65,74,92,122,58,80],\"showlegend\":true,\"subplot\":\"polar\",\"theta\":[\"Dark\",\"Dark\",\"Dark\",\"Dark\",\"Dark\",\"Dark\",\"Dark\",\"Dark\",\"Dark\",\"Dark\",\"Dark\",\"Dark\",\"Dark\",\"Dark\",\"Dark\",\"Dark\",\"Dark\",\"Dark\",\"Dark\",\"Dark\",\"Dark\",\"Dark\",\"Dark\",\"Dark\",\"Dark\",\"Dark\",\"Dark\",\"Dark\",\"Dark\",\"Dark\",\"Dark\",\"Dark\",\"Dark\",\"Dark\",\"Dark\",\"Dark\",\"Dark\",\"Dark\",\"Dark\",\"Dark\",\"Dark\",\"Dark\",\"Dark\",\"Dark\",\"Dark\",\"Dark\",\"Dark\",\"Dark\",\"Dark\",\"Dark\",\"Dark\",\"Dark\",\"Dark\",\"Dark\",\"Dark\",\"Dark\",\"Dark\",\"Dark\",\"Dark\",\"Dark\",\"Dark\",\"Dark\",\"Dark\",\"Dark\",\"Dark\",\"Dark\",\"Dark\",\"Dark\",\"Dark\",\"Dark\",\"Dark\",\"Dark\",\"Dark\",\"Dark\",\"Dark\",\"Dark\",\"Dark\",\"Dark\",\"Dark\",\"Dark\",\"Dark\",\"Dark\",\"Dark\",\"Dark\",\"Dark\",\"Dark\",\"Dark\",\"Dark\",\"Dark\",\"Dark\",\"Dark\",\"Dark\",\"Dark\",\"Dark\",\"Dark\",\"Dark\",\"Dark\",\"Dark\",\"Dark\",\"Dark\",\"Dark\",\"Dark\",\"Dark\",\"Dark\",\"Dark\",\"Dark\",\"Dark\",\"Dark\",\"Dark\",\"Dark\",\"Dark\",\"Dark\",\"Dark\",\"Dark\",\"Dark\",\"Dark\",\"Dark\",\"Dark\",\"Dark\",\"Dark\"],\"type\":\"scatterpolargl\"},{\"hovertemplate\":\"Type 2=%{theta}<br>value=%{r}<extra></extra>\",\"legendgroup\":\"Water\",\"marker\":{\"color\":\"#ab63fa\",\"symbol\":\"circle\"},\"mode\":\"markers\",\"name\":\"Water\",\"r\":[35,70,30,60,40,70,90,110,79,50,42,72,50,80,40,60,80,115,30,40,60,80,85,65,52,105,60,110,100,125,90,105,32,50,70,90,60,107,67,115,60,120,90,115,55,65,50,55,75,95,55,105,39,54,60,130,55,70,45,70,52,50,70,90,60,107,56,86,60,90,35,55,55,80,65,25,45,65,71,86,50,68,30,70],\"showlegend\":true,\"subplot\":\"polar\",\"theta\":[\"Water\",\"Water\",\"Water\",\"Water\",\"Water\",\"Water\",\"Water\",\"Water\",\"Water\",\"Water\",\"Water\",\"Water\",\"Water\",\"Water\",\"Water\",\"Water\",\"Water\",\"Water\",\"Water\",\"Water\",\"Water\",\"Water\",\"Water\",\"Water\",\"Water\",\"Water\",\"Water\",\"Water\",\"Water\",\"Water\",\"Water\",\"Water\",\"Water\",\"Water\",\"Water\",\"Water\",\"Water\",\"Water\",\"Water\",\"Water\",\"Water\",\"Water\",\"Water\",\"Water\",\"Water\",\"Water\",\"Water\",\"Water\",\"Water\",\"Water\",\"Water\",\"Water\",\"Water\",\"Water\",\"Water\",\"Water\",\"Water\",\"Water\",\"Water\",\"Water\",\"Water\",\"Water\",\"Water\",\"Water\",\"Water\",\"Water\",\"Water\",\"Water\",\"Water\",\"Water\",\"Water\",\"Water\",\"Water\",\"Water\",\"Water\",\"Water\",\"Water\",\"Water\",\"Water\",\"Water\",\"Water\",\"Water\",\"Water\",\"Water\"],\"type\":\"scatterpolargl\"},{\"hovertemplate\":\"Type 2=%{theta}<br>value=%{r}<extra></extra>\",\"legendgroup\":\"Electric\",\"marker\":{\"color\":\"#FFA15A\",\"symbol\":\"circle\"},\"mode\":\"markers\",\"name\":\"Electric\",\"r\":[75,125,50,70,109,100,38,58,47,77,66,150,38,58,50,60,84,120,56,76,57,97,81,120,56,76,50,60,99,100,67,67,65,108,32,90],\"showlegend\":true,\"subplot\":\"polar\",\"theta\":[\"Electric\",\"Electric\",\"Electric\",\"Electric\",\"Electric\",\"Electric\",\"Electric\",\"Electric\",\"Electric\",\"Electric\",\"Electric\",\"Electric\",\"Electric\",\"Electric\",\"Electric\",\"Electric\",\"Electric\",\"Electric\",\"Electric\",\"Electric\",\"Electric\",\"Electric\",\"Electric\",\"Electric\",\"Electric\",\"Electric\",\"Electric\",\"Electric\",\"Electric\",\"Electric\",\"Electric\",\"Electric\",\"Electric\",\"Electric\",\"Electric\",\"Electric\"],\"type\":\"scatterpolargl\"},{\"hovertemplate\":\"Type 2=%{theta}<br>value=%{r}<extra></extra>\",\"legendgroup\":\"Fire\",\"marker\":{\"color\":\"#19d3f3\",\"symbol\":\"circle\"},\"mode\":\"markers\",\"name\":\"Fire\",\"r\":[45,75,75,100,50,100,50,60,60,55,85,100,60,90,90,180,65,100,30,40,55,85,60,120,30,50,90,160,107,100,55,60,90,55,65,100,80,110,140,150,105,100,65,95,145,50,135,150,50,80,90,90,107,100,55,60,90,55,105,120,65,95,115,90,86,100,20,55,80,60,100,90],\"showlegend\":true,\"subplot\":\"polar\",\"theta\":[\"Fire\",\"Fire\",\"Fire\",\"Fire\",\"Fire\",\"Fire\",\"Fire\",\"Fire\",\"Fire\",\"Fire\",\"Fire\",\"Fire\",\"Fire\",\"Fire\",\"Fire\",\"Fire\",\"Fire\",\"Fire\",\"Fire\",\"Fire\",\"Fire\",\"Fire\",\"Fire\",\"Fire\",\"Fire\",\"Fire\",\"Fire\",\"Fire\",\"Fire\",\"Fire\",\"Fire\",\"Fire\",\"Fire\",\"Fire\",\"Fire\",\"Fire\",\"Fire\",\"Fire\",\"Fire\",\"Fire\",\"Fire\",\"Fire\",\"Fire\",\"Fire\",\"Fire\",\"Fire\",\"Fire\",\"Fire\",\"Fire\",\"Fire\",\"Fire\",\"Fire\",\"Fire\",\"Fire\",\"Fire\",\"Fire\",\"Fire\",\"Fire\",\"Fire\",\"Fire\",\"Fire\",\"Fire\",\"Fire\",\"Fire\",\"Fire\",\"Fire\",\"Fire\",\"Fire\",\"Fire\",\"Fire\",\"Fire\",\"Fire\"],\"type\":\"scatterpolargl\"},{\"hovertemplate\":\"Type 2=%{theta}<br>value=%{r}<extra></extra>\",\"legendgroup\":\"Ghost\",\"marker\":{\"color\":\"#FF6692\",\"symbol\":\"circle\"},\"mode\":\"markers\",\"name\":\"Ghost\",\"r\":[1,50,50,70,50,55,100,59,89,45,59,60,60,80,90,75,85,80,50,40,60,74,124,80,110,150,50,110,45,75,125,70,77,50,70,50,80,100,150,50,150,60,30,65,85,80,95,65,85,35,55,35,45,150,50,150,30,65,115,70,77,85,105,50,80,37,49,50,150,130,40,50,20,110,91,40,60,35,55,28,35,60,60,70],\"showlegend\":true,\"subplot\":\"polar\",\"theta\":[\"Ghost\",\"Ghost\",\"Ghost\",\"Ghost\",\"Ghost\",\"Ghost\",\"Ghost\",\"Ghost\",\"Ghost\",\"Ghost\",\"Ghost\",\"Ghost\",\"Ghost\",\"Ghost\",\"Ghost\",\"Ghost\",\"Ghost\",\"Ghost\",\"Ghost\",\"Ghost\",\"Ghost\",\"Ghost\",\"Ghost\",\"Ghost\",\"Ghost\",\"Ghost\",\"Ghost\",\"Ghost\",\"Ghost\",\"Ghost\",\"Ghost\",\"Ghost\",\"Ghost\",\"Ghost\",\"Ghost\",\"Ghost\",\"Ghost\",\"Ghost\",\"Ghost\",\"Ghost\",\"Ghost\",\"Ghost\",\"Ghost\",\"Ghost\",\"Ghost\",\"Ghost\",\"Ghost\",\"Ghost\",\"Ghost\",\"Ghost\",\"Ghost\",\"Ghost\",\"Ghost\",\"Ghost\",\"Ghost\",\"Ghost\",\"Ghost\",\"Ghost\",\"Ghost\",\"Ghost\",\"Ghost\",\"Ghost\",\"Ghost\",\"Ghost\",\"Ghost\",\"Ghost\",\"Ghost\",\"Ghost\",\"Ghost\",\"Ghost\",\"Ghost\",\"Ghost\",\"Ghost\",\"Ghost\",\"Ghost\",\"Ghost\",\"Ghost\",\"Ghost\",\"Ghost\",\"Ghost\",\"Ghost\",\"Ghost\",\"Ghost\",\"Ghost\"],\"type\":\"scatterpolargl\"},{\"hovertemplate\":\"Type 2=%{theta}<br>value=%{r}<extra></extra>\",\"legendgroup\":\"Bug\",\"marker\":{\"color\":\"#B6E880\",\"symbol\":\"circle\"},\"mode\":\"markers\",\"name\":\"Bug\",\"r\":[45,75,40,95,125,50,50,100,90,40,70,30,50,80,55,75,45,65],\"showlegend\":true,\"subplot\":\"polar\",\"theta\":[\"Bug\",\"Bug\",\"Bug\",\"Bug\",\"Bug\",\"Bug\",\"Bug\",\"Bug\",\"Bug\",\"Bug\",\"Bug\",\"Bug\",\"Bug\",\"Bug\",\"Bug\",\"Bug\",\"Bug\",\"Bug\"],\"type\":\"scatterpolargl\"},{\"hovertemplate\":\"Type 2=%{theta}<br>value=%{r}<extra></extra>\",\"legendgroup\":\"Normal\",\"marker\":{\"color\":\"#FF97FF\",\"symbol\":\"circle\"},\"mode\":\"markers\",\"name\":\"Normal\",\"r\":[62,86,44,62,50,68,38,55,58,72,33,52,73,109,61,109,54,66,43,94,72,106,70,109],\"showlegend\":true,\"subplot\":\"polar\",\"theta\":[\"Normal\",\"Normal\",\"Normal\",\"Normal\",\"Normal\",\"Normal\",\"Normal\",\"Normal\",\"Normal\",\"Normal\",\"Normal\",\"Normal\",\"Normal\",\"Normal\",\"Normal\",\"Normal\",\"Normal\",\"Normal\",\"Normal\",\"Normal\",\"Normal\",\"Normal\",\"Normal\",\"Normal\"],\"type\":\"scatterpolargl\"}],                        {\"template\":{\"data\":{\"bar\":[{\"error_x\":{\"color\":\"#2a3f5f\"},\"error_y\":{\"color\":\"#2a3f5f\"},\"marker\":{\"line\":{\"color\":\"#E5ECF6\",\"width\":0.5},\"pattern\":{\"fillmode\":\"overlay\",\"size\":10,\"solidity\":0.2}},\"type\":\"bar\"}],\"barpolar\":[{\"marker\":{\"line\":{\"color\":\"#E5ECF6\",\"width\":0.5},\"pattern\":{\"fillmode\":\"overlay\",\"size\":10,\"solidity\":0.2}},\"type\":\"barpolar\"}],\"carpet\":[{\"aaxis\":{\"endlinecolor\":\"#2a3f5f\",\"gridcolor\":\"white\",\"linecolor\":\"white\",\"minorgridcolor\":\"white\",\"startlinecolor\":\"#2a3f5f\"},\"baxis\":{\"endlinecolor\":\"#2a3f5f\",\"gridcolor\":\"white\",\"linecolor\":\"white\",\"minorgridcolor\":\"white\",\"startlinecolor\":\"#2a3f5f\"},\"type\":\"carpet\"}],\"choropleth\":[{\"colorbar\":{\"outlinewidth\":0,\"ticks\":\"\"},\"type\":\"choropleth\"}],\"contour\":[{\"colorbar\":{\"outlinewidth\":0,\"ticks\":\"\"},\"colorscale\":[[0.0,\"#0d0887\"],[0.1111111111111111,\"#46039f\"],[0.2222222222222222,\"#7201a8\"],[0.3333333333333333,\"#9c179e\"],[0.4444444444444444,\"#bd3786\"],[0.5555555555555556,\"#d8576b\"],[0.6666666666666666,\"#ed7953\"],[0.7777777777777778,\"#fb9f3a\"],[0.8888888888888888,\"#fdca26\"],[1.0,\"#f0f921\"]],\"type\":\"contour\"}],\"contourcarpet\":[{\"colorbar\":{\"outlinewidth\":0,\"ticks\":\"\"},\"type\":\"contourcarpet\"}],\"heatmap\":[{\"colorbar\":{\"outlinewidth\":0,\"ticks\":\"\"},\"colorscale\":[[0.0,\"#0d0887\"],[0.1111111111111111,\"#46039f\"],[0.2222222222222222,\"#7201a8\"],[0.3333333333333333,\"#9c179e\"],[0.4444444444444444,\"#bd3786\"],[0.5555555555555556,\"#d8576b\"],[0.6666666666666666,\"#ed7953\"],[0.7777777777777778,\"#fb9f3a\"],[0.8888888888888888,\"#fdca26\"],[1.0,\"#f0f921\"]],\"type\":\"heatmap\"}],\"heatmapgl\":[{\"colorbar\":{\"outlinewidth\":0,\"ticks\":\"\"},\"colorscale\":[[0.0,\"#0d0887\"],[0.1111111111111111,\"#46039f\"],[0.2222222222222222,\"#7201a8\"],[0.3333333333333333,\"#9c179e\"],[0.4444444444444444,\"#bd3786\"],[0.5555555555555556,\"#d8576b\"],[0.6666666666666666,\"#ed7953\"],[0.7777777777777778,\"#fb9f3a\"],[0.8888888888888888,\"#fdca26\"],[1.0,\"#f0f921\"]],\"type\":\"heatmapgl\"}],\"histogram\":[{\"marker\":{\"pattern\":{\"fillmode\":\"overlay\",\"size\":10,\"solidity\":0.2}},\"type\":\"histogram\"}],\"histogram2d\":[{\"colorbar\":{\"outlinewidth\":0,\"ticks\":\"\"},\"colorscale\":[[0.0,\"#0d0887\"],[0.1111111111111111,\"#46039f\"],[0.2222222222222222,\"#7201a8\"],[0.3333333333333333,\"#9c179e\"],[0.4444444444444444,\"#bd3786\"],[0.5555555555555556,\"#d8576b\"],[0.6666666666666666,\"#ed7953\"],[0.7777777777777778,\"#fb9f3a\"],[0.8888888888888888,\"#fdca26\"],[1.0,\"#f0f921\"]],\"type\":\"histogram2d\"}],\"histogram2dcontour\":[{\"colorbar\":{\"outlinewidth\":0,\"ticks\":\"\"},\"colorscale\":[[0.0,\"#0d0887\"],[0.1111111111111111,\"#46039f\"],[0.2222222222222222,\"#7201a8\"],[0.3333333333333333,\"#9c179e\"],[0.4444444444444444,\"#bd3786\"],[0.5555555555555556,\"#d8576b\"],[0.6666666666666666,\"#ed7953\"],[0.7777777777777778,\"#fb9f3a\"],[0.8888888888888888,\"#fdca26\"],[1.0,\"#f0f921\"]],\"type\":\"histogram2dcontour\"}],\"mesh3d\":[{\"colorbar\":{\"outlinewidth\":0,\"ticks\":\"\"},\"type\":\"mesh3d\"}],\"parcoords\":[{\"line\":{\"colorbar\":{\"outlinewidth\":0,\"ticks\":\"\"}},\"type\":\"parcoords\"}],\"pie\":[{\"automargin\":true,\"type\":\"pie\"}],\"scatter\":[{\"marker\":{\"colorbar\":{\"outlinewidth\":0,\"ticks\":\"\"}},\"type\":\"scatter\"}],\"scatter3d\":[{\"line\":{\"colorbar\":{\"outlinewidth\":0,\"ticks\":\"\"}},\"marker\":{\"colorbar\":{\"outlinewidth\":0,\"ticks\":\"\"}},\"type\":\"scatter3d\"}],\"scattercarpet\":[{\"marker\":{\"colorbar\":{\"outlinewidth\":0,\"ticks\":\"\"}},\"type\":\"scattercarpet\"}],\"scattergeo\":[{\"marker\":{\"colorbar\":{\"outlinewidth\":0,\"ticks\":\"\"}},\"type\":\"scattergeo\"}],\"scattergl\":[{\"marker\":{\"colorbar\":{\"outlinewidth\":0,\"ticks\":\"\"}},\"type\":\"scattergl\"}],\"scattermapbox\":[{\"marker\":{\"colorbar\":{\"outlinewidth\":0,\"ticks\":\"\"}},\"type\":\"scattermapbox\"}],\"scatterpolar\":[{\"marker\":{\"colorbar\":{\"outlinewidth\":0,\"ticks\":\"\"}},\"type\":\"scatterpolar\"}],\"scatterpolargl\":[{\"marker\":{\"colorbar\":{\"outlinewidth\":0,\"ticks\":\"\"}},\"type\":\"scatterpolargl\"}],\"scatterternary\":[{\"marker\":{\"colorbar\":{\"outlinewidth\":0,\"ticks\":\"\"}},\"type\":\"scatterternary\"}],\"surface\":[{\"colorbar\":{\"outlinewidth\":0,\"ticks\":\"\"},\"colorscale\":[[0.0,\"#0d0887\"],[0.1111111111111111,\"#46039f\"],[0.2222222222222222,\"#7201a8\"],[0.3333333333333333,\"#9c179e\"],[0.4444444444444444,\"#bd3786\"],[0.5555555555555556,\"#d8576b\"],[0.6666666666666666,\"#ed7953\"],[0.7777777777777778,\"#fb9f3a\"],[0.8888888888888888,\"#fdca26\"],[1.0,\"#f0f921\"]],\"type\":\"surface\"}],\"table\":[{\"cells\":{\"fill\":{\"color\":\"#EBF0F8\"},\"line\":{\"color\":\"white\"}},\"header\":{\"fill\":{\"color\":\"#C8D4E3\"},\"line\":{\"color\":\"white\"}},\"type\":\"table\"}]},\"layout\":{\"annotationdefaults\":{\"arrowcolor\":\"#2a3f5f\",\"arrowhead\":0,\"arrowwidth\":1},\"autotypenumbers\":\"strict\",\"coloraxis\":{\"colorbar\":{\"outlinewidth\":0,\"ticks\":\"\"}},\"colorscale\":{\"diverging\":[[0,\"#8e0152\"],[0.1,\"#c51b7d\"],[0.2,\"#de77ae\"],[0.3,\"#f1b6da\"],[0.4,\"#fde0ef\"],[0.5,\"#f7f7f7\"],[0.6,\"#e6f5d0\"],[0.7,\"#b8e186\"],[0.8,\"#7fbc41\"],[0.9,\"#4d9221\"],[1,\"#276419\"]],\"sequential\":[[0.0,\"#0d0887\"],[0.1111111111111111,\"#46039f\"],[0.2222222222222222,\"#7201a8\"],[0.3333333333333333,\"#9c179e\"],[0.4444444444444444,\"#bd3786\"],[0.5555555555555556,\"#d8576b\"],[0.6666666666666666,\"#ed7953\"],[0.7777777777777778,\"#fb9f3a\"],[0.8888888888888888,\"#fdca26\"],[1.0,\"#f0f921\"]],\"sequentialminus\":[[0.0,\"#0d0887\"],[0.1111111111111111,\"#46039f\"],[0.2222222222222222,\"#7201a8\"],[0.3333333333333333,\"#9c179e\"],[0.4444444444444444,\"#bd3786\"],[0.5555555555555556,\"#d8576b\"],[0.6666666666666666,\"#ed7953\"],[0.7777777777777778,\"#fb9f3a\"],[0.8888888888888888,\"#fdca26\"],[1.0,\"#f0f921\"]]},\"colorway\":[\"#636efa\",\"#EF553B\",\"#00cc96\",\"#ab63fa\",\"#FFA15A\",\"#19d3f3\",\"#FF6692\",\"#B6E880\",\"#FF97FF\",\"#FECB52\"],\"font\":{\"color\":\"#2a3f5f\"},\"geo\":{\"bgcolor\":\"white\",\"lakecolor\":\"white\",\"landcolor\":\"#E5ECF6\",\"showlakes\":true,\"showland\":true,\"subunitcolor\":\"white\"},\"hoverlabel\":{\"align\":\"left\"},\"hovermode\":\"closest\",\"mapbox\":{\"style\":\"light\"},\"paper_bgcolor\":\"white\",\"plot_bgcolor\":\"#E5ECF6\",\"polar\":{\"angularaxis\":{\"gridcolor\":\"white\",\"linecolor\":\"white\",\"ticks\":\"\"},\"bgcolor\":\"#E5ECF6\",\"radialaxis\":{\"gridcolor\":\"white\",\"linecolor\":\"white\",\"ticks\":\"\"}},\"scene\":{\"xaxis\":{\"backgroundcolor\":\"#E5ECF6\",\"gridcolor\":\"white\",\"gridwidth\":2,\"linecolor\":\"white\",\"showbackground\":true,\"ticks\":\"\",\"zerolinecolor\":\"white\"},\"yaxis\":{\"backgroundcolor\":\"#E5ECF6\",\"gridcolor\":\"white\",\"gridwidth\":2,\"linecolor\":\"white\",\"showbackground\":true,\"ticks\":\"\",\"zerolinecolor\":\"white\"},\"zaxis\":{\"backgroundcolor\":\"#E5ECF6\",\"gridcolor\":\"white\",\"gridwidth\":2,\"linecolor\":\"white\",\"showbackground\":true,\"ticks\":\"\",\"zerolinecolor\":\"white\"}},\"shapedefaults\":{\"line\":{\"color\":\"#2a3f5f\"}},\"ternary\":{\"aaxis\":{\"gridcolor\":\"white\",\"linecolor\":\"white\",\"ticks\":\"\"},\"baxis\":{\"gridcolor\":\"white\",\"linecolor\":\"white\",\"ticks\":\"\"},\"bgcolor\":\"#E5ECF6\",\"caxis\":{\"gridcolor\":\"white\",\"linecolor\":\"white\",\"ticks\":\"\"}},\"title\":{\"x\":0.05},\"xaxis\":{\"automargin\":true,\"gridcolor\":\"white\",\"linecolor\":\"white\",\"ticks\":\"\",\"title\":{\"standoff\":15},\"zerolinecolor\":\"white\",\"zerolinewidth\":2},\"yaxis\":{\"automargin\":true,\"gridcolor\":\"white\",\"linecolor\":\"white\",\"ticks\":\"\",\"title\":{\"standoff\":15},\"zerolinecolor\":\"white\",\"zerolinewidth\":2}}},\"polar\":{\"domain\":{\"x\":[0.0,1.0],\"y\":[0.0,1.0]},\"angularaxis\":{\"direction\":\"clockwise\",\"rotation\":90,\"categoryorder\":\"array\",\"categoryarray\":[\"Poison\",0,\"Flying\",\"Dragon\",\"Ground\",\"Fairy\",\"Grass\",\"Fighting\",\"Psychic\",\"Steel\",\"Ice\",\"Rock\",\"Dark\",\"Water\",\"Electric\",\"Fire\",\"Ghost\",\"Bug\",\"Normal\"]}},\"legend\":{\"title\":{\"text\":\"Type 2\"},\"tracegroupgap\":0},\"margin\":{\"t\":60}},                        {\"responsive\": true}                    ).then(function(){\n",
              "                            \n",
              "var gd = document.getElementById('14fca115-cef5-4872-b84f-902dfa4d0abd');\n",
              "var x = new MutationObserver(function (mutations, observer) {{\n",
              "        var display = window.getComputedStyle(gd).display;\n",
              "        if (!display || display === 'none') {{\n",
              "            console.log([gd, 'removed!']);\n",
              "            Plotly.purge(gd);\n",
              "            observer.disconnect();\n",
              "        }}\n",
              "}});\n",
              "\n",
              "// Listen for the removal of the full notebook cells\n",
              "var notebookContainer = gd.closest('#notebook-container');\n",
              "if (notebookContainer) {{\n",
              "    x.observe(notebookContainer, {childList: true});\n",
              "}}\n",
              "\n",
              "// Listen for the clearing of the current output cell\n",
              "var outputEl = gd.closest('.output');\n",
              "if (outputEl) {{\n",
              "    x.observe(outputEl, {childList: true});\n",
              "}}\n",
              "\n",
              "                        })                };                            </script>        </div>\n",
              "</body>\n",
              "</html>"
            ]
          },
          "metadata": {}
        }
      ]
    },
    {
      "cell_type": "code",
      "source": [
        "#selecting numerical values\n",
        "pok_nu = pok.select_dtypes([np.number])\n",
        "pok_nu"
      ],
      "metadata": {
        "id": "9-FXgkyj1BlL",
        "colab": {
          "base_uri": "https://localhost:8080/",
          "height": 424
        },
        "outputId": "a895ce8b-bdb9-4a5e-c754-bd34e74e099f"
      },
      "execution_count": null,
      "outputs": [
        {
          "output_type": "execute_result",
          "data": {
            "text/plain": [
              "       #  Total  HP  Attack  Defense  Sp. Atk  Sp. Def  Speed  Generation\n",
              "0      1    318  45      49       49       65       65     45           1\n",
              "1      2    405  60      62       63       80       80     60           1\n",
              "2      3    525  80      82       83      100      100     80           1\n",
              "3      3    625  80     100      123      122      120     80           1\n",
              "4      4    309  39      52       43       60       50     65           1\n",
              "..   ...    ...  ..     ...      ...      ...      ...    ...         ...\n",
              "795  719    600  50     100      150      100      150     50           6\n",
              "796  719    700  50     160      110      160      110    110           6\n",
              "797  720    600  80     110       60      150      130     70           6\n",
              "798  720    680  80     160       60      170      130     80           6\n",
              "799  721    600  80     110      120      130       90     70           6\n",
              "\n",
              "[800 rows x 9 columns]"
            ],
            "text/html": [
              "\n",
              "  <div id=\"df-0e8fa06a-4edb-415d-9f4d-fe57c26b59a6\">\n",
              "    <div class=\"colab-df-container\">\n",
              "      <div>\n",
              "<style scoped>\n",
              "    .dataframe tbody tr th:only-of-type {\n",
              "        vertical-align: middle;\n",
              "    }\n",
              "\n",
              "    .dataframe tbody tr th {\n",
              "        vertical-align: top;\n",
              "    }\n",
              "\n",
              "    .dataframe thead th {\n",
              "        text-align: right;\n",
              "    }\n",
              "</style>\n",
              "<table border=\"1\" class=\"dataframe\">\n",
              "  <thead>\n",
              "    <tr style=\"text-align: right;\">\n",
              "      <th></th>\n",
              "      <th>#</th>\n",
              "      <th>Total</th>\n",
              "      <th>HP</th>\n",
              "      <th>Attack</th>\n",
              "      <th>Defense</th>\n",
              "      <th>Sp. Atk</th>\n",
              "      <th>Sp. Def</th>\n",
              "      <th>Speed</th>\n",
              "      <th>Generation</th>\n",
              "    </tr>\n",
              "  </thead>\n",
              "  <tbody>\n",
              "    <tr>\n",
              "      <th>0</th>\n",
              "      <td>1</td>\n",
              "      <td>318</td>\n",
              "      <td>45</td>\n",
              "      <td>49</td>\n",
              "      <td>49</td>\n",
              "      <td>65</td>\n",
              "      <td>65</td>\n",
              "      <td>45</td>\n",
              "      <td>1</td>\n",
              "    </tr>\n",
              "    <tr>\n",
              "      <th>1</th>\n",
              "      <td>2</td>\n",
              "      <td>405</td>\n",
              "      <td>60</td>\n",
              "      <td>62</td>\n",
              "      <td>63</td>\n",
              "      <td>80</td>\n",
              "      <td>80</td>\n",
              "      <td>60</td>\n",
              "      <td>1</td>\n",
              "    </tr>\n",
              "    <tr>\n",
              "      <th>2</th>\n",
              "      <td>3</td>\n",
              "      <td>525</td>\n",
              "      <td>80</td>\n",
              "      <td>82</td>\n",
              "      <td>83</td>\n",
              "      <td>100</td>\n",
              "      <td>100</td>\n",
              "      <td>80</td>\n",
              "      <td>1</td>\n",
              "    </tr>\n",
              "    <tr>\n",
              "      <th>3</th>\n",
              "      <td>3</td>\n",
              "      <td>625</td>\n",
              "      <td>80</td>\n",
              "      <td>100</td>\n",
              "      <td>123</td>\n",
              "      <td>122</td>\n",
              "      <td>120</td>\n",
              "      <td>80</td>\n",
              "      <td>1</td>\n",
              "    </tr>\n",
              "    <tr>\n",
              "      <th>4</th>\n",
              "      <td>4</td>\n",
              "      <td>309</td>\n",
              "      <td>39</td>\n",
              "      <td>52</td>\n",
              "      <td>43</td>\n",
              "      <td>60</td>\n",
              "      <td>50</td>\n",
              "      <td>65</td>\n",
              "      <td>1</td>\n",
              "    </tr>\n",
              "    <tr>\n",
              "      <th>...</th>\n",
              "      <td>...</td>\n",
              "      <td>...</td>\n",
              "      <td>...</td>\n",
              "      <td>...</td>\n",
              "      <td>...</td>\n",
              "      <td>...</td>\n",
              "      <td>...</td>\n",
              "      <td>...</td>\n",
              "      <td>...</td>\n",
              "    </tr>\n",
              "    <tr>\n",
              "      <th>795</th>\n",
              "      <td>719</td>\n",
              "      <td>600</td>\n",
              "      <td>50</td>\n",
              "      <td>100</td>\n",
              "      <td>150</td>\n",
              "      <td>100</td>\n",
              "      <td>150</td>\n",
              "      <td>50</td>\n",
              "      <td>6</td>\n",
              "    </tr>\n",
              "    <tr>\n",
              "      <th>796</th>\n",
              "      <td>719</td>\n",
              "      <td>700</td>\n",
              "      <td>50</td>\n",
              "      <td>160</td>\n",
              "      <td>110</td>\n",
              "      <td>160</td>\n",
              "      <td>110</td>\n",
              "      <td>110</td>\n",
              "      <td>6</td>\n",
              "    </tr>\n",
              "    <tr>\n",
              "      <th>797</th>\n",
              "      <td>720</td>\n",
              "      <td>600</td>\n",
              "      <td>80</td>\n",
              "      <td>110</td>\n",
              "      <td>60</td>\n",
              "      <td>150</td>\n",
              "      <td>130</td>\n",
              "      <td>70</td>\n",
              "      <td>6</td>\n",
              "    </tr>\n",
              "    <tr>\n",
              "      <th>798</th>\n",
              "      <td>720</td>\n",
              "      <td>680</td>\n",
              "      <td>80</td>\n",
              "      <td>160</td>\n",
              "      <td>60</td>\n",
              "      <td>170</td>\n",
              "      <td>130</td>\n",
              "      <td>80</td>\n",
              "      <td>6</td>\n",
              "    </tr>\n",
              "    <tr>\n",
              "      <th>799</th>\n",
              "      <td>721</td>\n",
              "      <td>600</td>\n",
              "      <td>80</td>\n",
              "      <td>110</td>\n",
              "      <td>120</td>\n",
              "      <td>130</td>\n",
              "      <td>90</td>\n",
              "      <td>70</td>\n",
              "      <td>6</td>\n",
              "    </tr>\n",
              "  </tbody>\n",
              "</table>\n",
              "<p>800 rows × 9 columns</p>\n",
              "</div>\n",
              "      <button class=\"colab-df-convert\" onclick=\"convertToInteractive('df-0e8fa06a-4edb-415d-9f4d-fe57c26b59a6')\"\n",
              "              title=\"Convert this dataframe to an interactive table.\"\n",
              "              style=\"display:none;\">\n",
              "        \n",
              "  <svg xmlns=\"http://www.w3.org/2000/svg\" height=\"24px\"viewBox=\"0 0 24 24\"\n",
              "       width=\"24px\">\n",
              "    <path d=\"M0 0h24v24H0V0z\" fill=\"none\"/>\n",
              "    <path d=\"M18.56 5.44l.94 2.06.94-2.06 2.06-.94-2.06-.94-.94-2.06-.94 2.06-2.06.94zm-11 1L8.5 8.5l.94-2.06 2.06-.94-2.06-.94L8.5 2.5l-.94 2.06-2.06.94zm10 10l.94 2.06.94-2.06 2.06-.94-2.06-.94-.94-2.06-.94 2.06-2.06.94z\"/><path d=\"M17.41 7.96l-1.37-1.37c-.4-.4-.92-.59-1.43-.59-.52 0-1.04.2-1.43.59L10.3 9.45l-7.72 7.72c-.78.78-.78 2.05 0 2.83L4 21.41c.39.39.9.59 1.41.59.51 0 1.02-.2 1.41-.59l7.78-7.78 2.81-2.81c.8-.78.8-2.07 0-2.86zM5.41 20L4 18.59l7.72-7.72 1.47 1.35L5.41 20z\"/>\n",
              "  </svg>\n",
              "      </button>\n",
              "      \n",
              "  <style>\n",
              "    .colab-df-container {\n",
              "      display:flex;\n",
              "      flex-wrap:wrap;\n",
              "      gap: 12px;\n",
              "    }\n",
              "\n",
              "    .colab-df-convert {\n",
              "      background-color: #E8F0FE;\n",
              "      border: none;\n",
              "      border-radius: 50%;\n",
              "      cursor: pointer;\n",
              "      display: none;\n",
              "      fill: #1967D2;\n",
              "      height: 32px;\n",
              "      padding: 0 0 0 0;\n",
              "      width: 32px;\n",
              "    }\n",
              "\n",
              "    .colab-df-convert:hover {\n",
              "      background-color: #E2EBFA;\n",
              "      box-shadow: 0px 1px 2px rgba(60, 64, 67, 0.3), 0px 1px 3px 1px rgba(60, 64, 67, 0.15);\n",
              "      fill: #174EA6;\n",
              "    }\n",
              "\n",
              "    [theme=dark] .colab-df-convert {\n",
              "      background-color: #3B4455;\n",
              "      fill: #D2E3FC;\n",
              "    }\n",
              "\n",
              "    [theme=dark] .colab-df-convert:hover {\n",
              "      background-color: #434B5C;\n",
              "      box-shadow: 0px 1px 3px 1px rgba(0, 0, 0, 0.15);\n",
              "      filter: drop-shadow(0px 1px 2px rgba(0, 0, 0, 0.3));\n",
              "      fill: #FFFFFF;\n",
              "    }\n",
              "  </style>\n",
              "\n",
              "      <script>\n",
              "        const buttonEl =\n",
              "          document.querySelector('#df-0e8fa06a-4edb-415d-9f4d-fe57c26b59a6 button.colab-df-convert');\n",
              "        buttonEl.style.display =\n",
              "          google.colab.kernel.accessAllowed ? 'block' : 'none';\n",
              "\n",
              "        async function convertToInteractive(key) {\n",
              "          const element = document.querySelector('#df-0e8fa06a-4edb-415d-9f4d-fe57c26b59a6');\n",
              "          const dataTable =\n",
              "            await google.colab.kernel.invokeFunction('convertToInteractive',\n",
              "                                                     [key], {});\n",
              "          if (!dataTable) return;\n",
              "\n",
              "          const docLinkHtml = 'Like what you see? Visit the ' +\n",
              "            '<a target=\"_blank\" href=https://colab.research.google.com/notebooks/data_table.ipynb>data table notebook</a>'\n",
              "            + ' to learn more about interactive tables.';\n",
              "          element.innerHTML = '';\n",
              "          dataTable['output_type'] = 'display_data';\n",
              "          await google.colab.output.renderOutput(dataTable, element);\n",
              "          const docLink = document.createElement('div');\n",
              "          docLink.innerHTML = docLinkHtml;\n",
              "          element.appendChild(docLink);\n",
              "        }\n",
              "      </script>\n",
              "    </div>\n",
              "  </div>\n",
              "  "
            ]
          },
          "metadata": {},
          "execution_count": 10
        }
      ]
    },
    {
      "cell_type": "code",
      "source": [
        "pok_nu.isnull().sum()"
      ],
      "metadata": {
        "id": "JIb-3y9L2UT0",
        "colab": {
          "base_uri": "https://localhost:8080/"
        },
        "outputId": "cf4bac52-d269-4b74-961f-2274e559c5ff"
      },
      "execution_count": null,
      "outputs": [
        {
          "output_type": "execute_result",
          "data": {
            "text/plain": [
              "#             0\n",
              "Total         0\n",
              "HP            0\n",
              "Attack        0\n",
              "Defense       0\n",
              "Sp. Atk       0\n",
              "Sp. Def       0\n",
              "Speed         0\n",
              "Generation    0\n",
              "dtype: int64"
            ]
          },
          "metadata": {},
          "execution_count": 11
        }
      ]
    },
    {
      "cell_type": "code",
      "source": [
        "from sklearn.preprocessing import StandardScaler\n",
        "scaler = StandardScaler()\n",
        "scaler.fit(pok_nu)\n",
        "pok_scaled = scaler.transform(pok_nu)\n",
        "pok_scaled"
      ],
      "metadata": {
        "id": "DHz4MbcL2ptr",
        "colab": {
          "base_uri": "https://localhost:8080/"
        },
        "outputId": "ab33af8d-a470-472a-a3af-67206ec69a93"
      },
      "execution_count": null,
      "outputs": [
        {
          "output_type": "execute_result",
          "data": {
            "text/plain": [
              "array([[-1.73770518, -0.97676549, -0.95062622, ..., -0.24818854,\n",
              "        -0.80150318, -1.39963712],\n",
              "       [-1.73290242, -0.25108843, -0.3628221 , ...,  0.29115635,\n",
              "        -0.28501525, -1.39963712],\n",
              "       [-1.72809965,  0.74984544,  0.42091674, ...,  1.01028289,\n",
              "         0.40363531, -1.39963712],\n",
              "       ...,\n",
              "       [ 1.7154804 ,  1.37542912,  0.42091674, ...,  2.08897269,\n",
              "         0.05931003,  1.61195431],\n",
              "       [ 1.7154804 ,  2.04271837,  0.42091674, ...,  2.08897269,\n",
              "         0.40363531,  1.61195431],\n",
              "       [ 1.72028316,  1.37542912,  0.42091674, ...,  0.65071962,\n",
              "         0.05931003,  1.61195431]])"
            ]
          },
          "metadata": {},
          "execution_count": 12
        }
      ]
    },
    {
      "cell_type": "code",
      "source": [
        "from sklearn.decomposition import PCA\n",
        "pca = PCA()\n",
        "pca.fit(pok_scaled)\n",
        "pca_pok = pca.transform(pok_scaled)\n",
        "pca_pok.shape"
      ],
      "metadata": {
        "id": "XpTjkb2a28WS",
        "colab": {
          "base_uri": "https://localhost:8080/"
        },
        "outputId": "c912cc50-29f6-4988-8fd9-8e50f5578bf7"
      },
      "execution_count": null,
      "outputs": [
        {
          "output_type": "execute_result",
          "data": {
            "text/plain": [
              "(800, 9)"
            ]
          },
          "metadata": {},
          "execution_count": 13
        }
      ]
    },
    {
      "cell_type": "code",
      "source": [
        "pca_var = pca.explained_variance_ratio_\n",
        "print(\"1st PC explained variance: \", np.cumsum(pca_var*100)[0])\n",
        "print(\"2nd PC explained variance: \", np.cumsum(pca_var*100)[1])\n",
        "print(\"3rd PC explained variance: \", np.cumsum(pca_var*100)[2])\n",
        "print(\"4th PC explained variance: \", np.cumsum(pca_var*100)[3])\n",
        "print(\"5th PC explained variance: \", np.cumsum(pca_var*100)[4])"
      ],
      "metadata": {
        "id": "mODMI6dU2_W4",
        "colab": {
          "base_uri": "https://localhost:8080/"
        },
        "outputId": "64680333-524f-4556-a021-d8270280f0b9"
      },
      "execution_count": null,
      "outputs": [
        {
          "output_type": "stream",
          "name": "stdout",
          "text": [
            "1st PC explained variance:  41.585748156395\n",
            "2nd PC explained variance:  63.36048369686658\n",
            "3rd PC explained variance:  75.45448005015484\n",
            "4th PC explained variance:  84.09483362985137\n",
            "5th PC explained variance:  92.11175912884705\n"
          ]
        }
      ]
    },
    {
      "cell_type": "code",
      "source": [
        "#plotting\n",
        "px.area(x = range(1, pca_var.shape[0]+1), y = pca_var)"
      ],
      "metadata": {
        "id": "m07hzkv53C62",
        "colab": {
          "base_uri": "https://localhost:8080/",
          "height": 542
        },
        "outputId": "976492b2-6fc3-404f-f374-3837ba5533d9"
      },
      "execution_count": null,
      "outputs": [
        {
          "output_type": "display_data",
          "data": {
            "text/html": [
              "<html>\n",
              "<head><meta charset=\"utf-8\" /></head>\n",
              "<body>\n",
              "    <div>            <script src=\"https://cdnjs.cloudflare.com/ajax/libs/mathjax/2.7.5/MathJax.js?config=TeX-AMS-MML_SVG\"></script><script type=\"text/javascript\">if (window.MathJax) {MathJax.Hub.Config({SVG: {font: \"STIX-Web\"}});}</script>                <script type=\"text/javascript\">window.PlotlyConfig = {MathJaxConfig: 'local'};</script>\n",
              "        <script src=\"https://cdn.plot.ly/plotly-2.8.3.min.js\"></script>                <div id=\"2a85f39f-caf6-4223-9d75-7cac40549763\" class=\"plotly-graph-div\" style=\"height:525px; width:100%;\"></div>            <script type=\"text/javascript\">                                    window.PLOTLYENV=window.PLOTLYENV || {};                                    if (document.getElementById(\"2a85f39f-caf6-4223-9d75-7cac40549763\")) {                    Plotly.newPlot(                        \"2a85f39f-caf6-4223-9d75-7cac40549763\",                        [{\"hovertemplate\":\"x=%{x}<br>y=%{y}<extra></extra>\",\"legendgroup\":\"\",\"line\":{\"color\":\"#636efa\"},\"marker\":{\"symbol\":\"circle\"},\"mode\":\"lines\",\"name\":\"\",\"orientation\":\"v\",\"showlegend\":false,\"stackgroup\":\"1\",\"x\":[1,2,3,4,5,6,7,8,9],\"xaxis\":\"x\",\"y\":[0.41585748156394997,0.21774735540471585,0.12093996353288261,0.08640353579696526,0.08016925498995695,0.04752245666839931,0.029715907269330145,0.001644044773800015,1.4683553848557717e-32],\"yaxis\":\"y\",\"type\":\"scatter\"}],                        {\"template\":{\"data\":{\"bar\":[{\"error_x\":{\"color\":\"#2a3f5f\"},\"error_y\":{\"color\":\"#2a3f5f\"},\"marker\":{\"line\":{\"color\":\"#E5ECF6\",\"width\":0.5},\"pattern\":{\"fillmode\":\"overlay\",\"size\":10,\"solidity\":0.2}},\"type\":\"bar\"}],\"barpolar\":[{\"marker\":{\"line\":{\"color\":\"#E5ECF6\",\"width\":0.5},\"pattern\":{\"fillmode\":\"overlay\",\"size\":10,\"solidity\":0.2}},\"type\":\"barpolar\"}],\"carpet\":[{\"aaxis\":{\"endlinecolor\":\"#2a3f5f\",\"gridcolor\":\"white\",\"linecolor\":\"white\",\"minorgridcolor\":\"white\",\"startlinecolor\":\"#2a3f5f\"},\"baxis\":{\"endlinecolor\":\"#2a3f5f\",\"gridcolor\":\"white\",\"linecolor\":\"white\",\"minorgridcolor\":\"white\",\"startlinecolor\":\"#2a3f5f\"},\"type\":\"carpet\"}],\"choropleth\":[{\"colorbar\":{\"outlinewidth\":0,\"ticks\":\"\"},\"type\":\"choropleth\"}],\"contour\":[{\"colorbar\":{\"outlinewidth\":0,\"ticks\":\"\"},\"colorscale\":[[0.0,\"#0d0887\"],[0.1111111111111111,\"#46039f\"],[0.2222222222222222,\"#7201a8\"],[0.3333333333333333,\"#9c179e\"],[0.4444444444444444,\"#bd3786\"],[0.5555555555555556,\"#d8576b\"],[0.6666666666666666,\"#ed7953\"],[0.7777777777777778,\"#fb9f3a\"],[0.8888888888888888,\"#fdca26\"],[1.0,\"#f0f921\"]],\"type\":\"contour\"}],\"contourcarpet\":[{\"colorbar\":{\"outlinewidth\":0,\"ticks\":\"\"},\"type\":\"contourcarpet\"}],\"heatmap\":[{\"colorbar\":{\"outlinewidth\":0,\"ticks\":\"\"},\"colorscale\":[[0.0,\"#0d0887\"],[0.1111111111111111,\"#46039f\"],[0.2222222222222222,\"#7201a8\"],[0.3333333333333333,\"#9c179e\"],[0.4444444444444444,\"#bd3786\"],[0.5555555555555556,\"#d8576b\"],[0.6666666666666666,\"#ed7953\"],[0.7777777777777778,\"#fb9f3a\"],[0.8888888888888888,\"#fdca26\"],[1.0,\"#f0f921\"]],\"type\":\"heatmap\"}],\"heatmapgl\":[{\"colorbar\":{\"outlinewidth\":0,\"ticks\":\"\"},\"colorscale\":[[0.0,\"#0d0887\"],[0.1111111111111111,\"#46039f\"],[0.2222222222222222,\"#7201a8\"],[0.3333333333333333,\"#9c179e\"],[0.4444444444444444,\"#bd3786\"],[0.5555555555555556,\"#d8576b\"],[0.6666666666666666,\"#ed7953\"],[0.7777777777777778,\"#fb9f3a\"],[0.8888888888888888,\"#fdca26\"],[1.0,\"#f0f921\"]],\"type\":\"heatmapgl\"}],\"histogram\":[{\"marker\":{\"pattern\":{\"fillmode\":\"overlay\",\"size\":10,\"solidity\":0.2}},\"type\":\"histogram\"}],\"histogram2d\":[{\"colorbar\":{\"outlinewidth\":0,\"ticks\":\"\"},\"colorscale\":[[0.0,\"#0d0887\"],[0.1111111111111111,\"#46039f\"],[0.2222222222222222,\"#7201a8\"],[0.3333333333333333,\"#9c179e\"],[0.4444444444444444,\"#bd3786\"],[0.5555555555555556,\"#d8576b\"],[0.6666666666666666,\"#ed7953\"],[0.7777777777777778,\"#fb9f3a\"],[0.8888888888888888,\"#fdca26\"],[1.0,\"#f0f921\"]],\"type\":\"histogram2d\"}],\"histogram2dcontour\":[{\"colorbar\":{\"outlinewidth\":0,\"ticks\":\"\"},\"colorscale\":[[0.0,\"#0d0887\"],[0.1111111111111111,\"#46039f\"],[0.2222222222222222,\"#7201a8\"],[0.3333333333333333,\"#9c179e\"],[0.4444444444444444,\"#bd3786\"],[0.5555555555555556,\"#d8576b\"],[0.6666666666666666,\"#ed7953\"],[0.7777777777777778,\"#fb9f3a\"],[0.8888888888888888,\"#fdca26\"],[1.0,\"#f0f921\"]],\"type\":\"histogram2dcontour\"}],\"mesh3d\":[{\"colorbar\":{\"outlinewidth\":0,\"ticks\":\"\"},\"type\":\"mesh3d\"}],\"parcoords\":[{\"line\":{\"colorbar\":{\"outlinewidth\":0,\"ticks\":\"\"}},\"type\":\"parcoords\"}],\"pie\":[{\"automargin\":true,\"type\":\"pie\"}],\"scatter\":[{\"marker\":{\"colorbar\":{\"outlinewidth\":0,\"ticks\":\"\"}},\"type\":\"scatter\"}],\"scatter3d\":[{\"line\":{\"colorbar\":{\"outlinewidth\":0,\"ticks\":\"\"}},\"marker\":{\"colorbar\":{\"outlinewidth\":0,\"ticks\":\"\"}},\"type\":\"scatter3d\"}],\"scattercarpet\":[{\"marker\":{\"colorbar\":{\"outlinewidth\":0,\"ticks\":\"\"}},\"type\":\"scattercarpet\"}],\"scattergeo\":[{\"marker\":{\"colorbar\":{\"outlinewidth\":0,\"ticks\":\"\"}},\"type\":\"scattergeo\"}],\"scattergl\":[{\"marker\":{\"colorbar\":{\"outlinewidth\":0,\"ticks\":\"\"}},\"type\":\"scattergl\"}],\"scattermapbox\":[{\"marker\":{\"colorbar\":{\"outlinewidth\":0,\"ticks\":\"\"}},\"type\":\"scattermapbox\"}],\"scatterpolar\":[{\"marker\":{\"colorbar\":{\"outlinewidth\":0,\"ticks\":\"\"}},\"type\":\"scatterpolar\"}],\"scatterpolargl\":[{\"marker\":{\"colorbar\":{\"outlinewidth\":0,\"ticks\":\"\"}},\"type\":\"scatterpolargl\"}],\"scatterternary\":[{\"marker\":{\"colorbar\":{\"outlinewidth\":0,\"ticks\":\"\"}},\"type\":\"scatterternary\"}],\"surface\":[{\"colorbar\":{\"outlinewidth\":0,\"ticks\":\"\"},\"colorscale\":[[0.0,\"#0d0887\"],[0.1111111111111111,\"#46039f\"],[0.2222222222222222,\"#7201a8\"],[0.3333333333333333,\"#9c179e\"],[0.4444444444444444,\"#bd3786\"],[0.5555555555555556,\"#d8576b\"],[0.6666666666666666,\"#ed7953\"],[0.7777777777777778,\"#fb9f3a\"],[0.8888888888888888,\"#fdca26\"],[1.0,\"#f0f921\"]],\"type\":\"surface\"}],\"table\":[{\"cells\":{\"fill\":{\"color\":\"#EBF0F8\"},\"line\":{\"color\":\"white\"}},\"header\":{\"fill\":{\"color\":\"#C8D4E3\"},\"line\":{\"color\":\"white\"}},\"type\":\"table\"}]},\"layout\":{\"annotationdefaults\":{\"arrowcolor\":\"#2a3f5f\",\"arrowhead\":0,\"arrowwidth\":1},\"autotypenumbers\":\"strict\",\"coloraxis\":{\"colorbar\":{\"outlinewidth\":0,\"ticks\":\"\"}},\"colorscale\":{\"diverging\":[[0,\"#8e0152\"],[0.1,\"#c51b7d\"],[0.2,\"#de77ae\"],[0.3,\"#f1b6da\"],[0.4,\"#fde0ef\"],[0.5,\"#f7f7f7\"],[0.6,\"#e6f5d0\"],[0.7,\"#b8e186\"],[0.8,\"#7fbc41\"],[0.9,\"#4d9221\"],[1,\"#276419\"]],\"sequential\":[[0.0,\"#0d0887\"],[0.1111111111111111,\"#46039f\"],[0.2222222222222222,\"#7201a8\"],[0.3333333333333333,\"#9c179e\"],[0.4444444444444444,\"#bd3786\"],[0.5555555555555556,\"#d8576b\"],[0.6666666666666666,\"#ed7953\"],[0.7777777777777778,\"#fb9f3a\"],[0.8888888888888888,\"#fdca26\"],[1.0,\"#f0f921\"]],\"sequentialminus\":[[0.0,\"#0d0887\"],[0.1111111111111111,\"#46039f\"],[0.2222222222222222,\"#7201a8\"],[0.3333333333333333,\"#9c179e\"],[0.4444444444444444,\"#bd3786\"],[0.5555555555555556,\"#d8576b\"],[0.6666666666666666,\"#ed7953\"],[0.7777777777777778,\"#fb9f3a\"],[0.8888888888888888,\"#fdca26\"],[1.0,\"#f0f921\"]]},\"colorway\":[\"#636efa\",\"#EF553B\",\"#00cc96\",\"#ab63fa\",\"#FFA15A\",\"#19d3f3\",\"#FF6692\",\"#B6E880\",\"#FF97FF\",\"#FECB52\"],\"font\":{\"color\":\"#2a3f5f\"},\"geo\":{\"bgcolor\":\"white\",\"lakecolor\":\"white\",\"landcolor\":\"#E5ECF6\",\"showlakes\":true,\"showland\":true,\"subunitcolor\":\"white\"},\"hoverlabel\":{\"align\":\"left\"},\"hovermode\":\"closest\",\"mapbox\":{\"style\":\"light\"},\"paper_bgcolor\":\"white\",\"plot_bgcolor\":\"#E5ECF6\",\"polar\":{\"angularaxis\":{\"gridcolor\":\"white\",\"linecolor\":\"white\",\"ticks\":\"\"},\"bgcolor\":\"#E5ECF6\",\"radialaxis\":{\"gridcolor\":\"white\",\"linecolor\":\"white\",\"ticks\":\"\"}},\"scene\":{\"xaxis\":{\"backgroundcolor\":\"#E5ECF6\",\"gridcolor\":\"white\",\"gridwidth\":2,\"linecolor\":\"white\",\"showbackground\":true,\"ticks\":\"\",\"zerolinecolor\":\"white\"},\"yaxis\":{\"backgroundcolor\":\"#E5ECF6\",\"gridcolor\":\"white\",\"gridwidth\":2,\"linecolor\":\"white\",\"showbackground\":true,\"ticks\":\"\",\"zerolinecolor\":\"white\"},\"zaxis\":{\"backgroundcolor\":\"#E5ECF6\",\"gridcolor\":\"white\",\"gridwidth\":2,\"linecolor\":\"white\",\"showbackground\":true,\"ticks\":\"\",\"zerolinecolor\":\"white\"}},\"shapedefaults\":{\"line\":{\"color\":\"#2a3f5f\"}},\"ternary\":{\"aaxis\":{\"gridcolor\":\"white\",\"linecolor\":\"white\",\"ticks\":\"\"},\"baxis\":{\"gridcolor\":\"white\",\"linecolor\":\"white\",\"ticks\":\"\"},\"bgcolor\":\"#E5ECF6\",\"caxis\":{\"gridcolor\":\"white\",\"linecolor\":\"white\",\"ticks\":\"\"}},\"title\":{\"x\":0.05},\"xaxis\":{\"automargin\":true,\"gridcolor\":\"white\",\"linecolor\":\"white\",\"ticks\":\"\",\"title\":{\"standoff\":15},\"zerolinecolor\":\"white\",\"zerolinewidth\":2},\"yaxis\":{\"automargin\":true,\"gridcolor\":\"white\",\"linecolor\":\"white\",\"ticks\":\"\",\"title\":{\"standoff\":15},\"zerolinecolor\":\"white\",\"zerolinewidth\":2}}},\"xaxis\":{\"anchor\":\"y\",\"domain\":[0.0,1.0],\"title\":{\"text\":\"x\"}},\"yaxis\":{\"anchor\":\"x\",\"domain\":[0.0,1.0],\"title\":{\"text\":\"y\"}},\"legend\":{\"tracegroupgap\":0},\"margin\":{\"t\":60}},                        {\"responsive\": true}                    ).then(function(){\n",
              "                            \n",
              "var gd = document.getElementById('2a85f39f-caf6-4223-9d75-7cac40549763');\n",
              "var x = new MutationObserver(function (mutations, observer) {{\n",
              "        var display = window.getComputedStyle(gd).display;\n",
              "        if (!display || display === 'none') {{\n",
              "            console.log([gd, 'removed!']);\n",
              "            Plotly.purge(gd);\n",
              "            observer.disconnect();\n",
              "        }}\n",
              "}});\n",
              "\n",
              "// Listen for the removal of the full notebook cells\n",
              "var notebookContainer = gd.closest('#notebook-container');\n",
              "if (notebookContainer) {{\n",
              "    x.observe(notebookContainer, {childList: true});\n",
              "}}\n",
              "\n",
              "// Listen for the clearing of the current output cell\n",
              "var outputEl = gd.closest('.output');\n",
              "if (outputEl) {{\n",
              "    x.observe(outputEl, {childList: true});\n",
              "}}\n",
              "\n",
              "                        })                };                            </script>        </div>\n",
              "</body>\n",
              "</html>"
            ]
          },
          "metadata": {}
        }
      ]
    },
    {
      "cell_type": "code",
      "source": [
        "#pca with 3 principal components\n",
        "pca = PCA(n_components = 3)\n",
        "pca.fit(pok_scaled)\n",
        "pca_3 = pca.transform(pok_scaled)\n",
        "pca_3.shape"
      ],
      "metadata": {
        "id": "UYTE48oH3Guw",
        "colab": {
          "base_uri": "https://localhost:8080/"
        },
        "outputId": "9fd3437e-9545-4239-fdcd-3223879571b3"
      },
      "execution_count": null,
      "outputs": [
        {
          "output_type": "execute_result",
          "data": {
            "text/plain": [
              "(800, 3)"
            ]
          },
          "metadata": {},
          "execution_count": 16
        }
      ]
    },
    {
      "cell_type": "markdown",
      "source": [
        "K-Means Clustering\n"
      ],
      "metadata": {
        "id": "d_eShR9B3L21"
      }
    },
    {
      "cell_type": "code",
      "source": [
        "w = []\n",
        "for i in range(1, 21):\n",
        "    km = KMeans(n_clusters = i, init = 'k-means++', random_state = 54)\n",
        "    km.fit(pca_3)\n",
        "    w.append(km.inertia_)"
      ],
      "metadata": {
        "id": "2iqyMlcM3S5F"
      },
      "execution_count": null,
      "outputs": []
    },
    {
      "cell_type": "code",
      "source": [
        "px.line(x = range(1,21), y = w)"
      ],
      "metadata": {
        "id": "bn9uy6A13Vsm",
        "colab": {
          "base_uri": "https://localhost:8080/",
          "height": 542
        },
        "outputId": "6810f073-ab76-4a02-d97f-d5f2f9833306"
      },
      "execution_count": null,
      "outputs": [
        {
          "output_type": "display_data",
          "data": {
            "text/html": [
              "<html>\n",
              "<head><meta charset=\"utf-8\" /></head>\n",
              "<body>\n",
              "    <div>            <script src=\"https://cdnjs.cloudflare.com/ajax/libs/mathjax/2.7.5/MathJax.js?config=TeX-AMS-MML_SVG\"></script><script type=\"text/javascript\">if (window.MathJax) {MathJax.Hub.Config({SVG: {font: \"STIX-Web\"}});}</script>                <script type=\"text/javascript\">window.PlotlyConfig = {MathJaxConfig: 'local'};</script>\n",
              "        <script src=\"https://cdn.plot.ly/plotly-2.8.3.min.js\"></script>                <div id=\"b884e757-c510-42e7-bb98-e8a924bfdbd2\" class=\"plotly-graph-div\" style=\"height:525px; width:100%;\"></div>            <script type=\"text/javascript\">                                    window.PLOTLYENV=window.PLOTLYENV || {};                                    if (document.getElementById(\"b884e757-c510-42e7-bb98-e8a924bfdbd2\")) {                    Plotly.newPlot(                        \"b884e757-c510-42e7-bb98-e8a924bfdbd2\",                        [{\"hovertemplate\":\"x=%{x}<br>y=%{y}<extra></extra>\",\"legendgroup\":\"\",\"line\":{\"color\":\"#636efa\",\"dash\":\"solid\"},\"marker\":{\"symbol\":\"circle\"},\"mode\":\"lines\",\"name\":\"\",\"orientation\":\"v\",\"showlegend\":false,\"x\":[1,2,3,4,5,6,7,8,9,10,11,12,13,14,15,16,17,18,19,20],\"xaxis\":\"x\",\"y\":[5432.722563611149,3336.019406768374,2633.6100730694798,2126.5491279773196,1782.4034224570767,1533.4151561005808,1406.6149578958143,1309.9414007081382,1219.2973291161866,1141.5034493969438,1063.710361191177,1014.9642742733195,941.3553087109849,902.1418625904589,850.6172847035045,806.5195537874631,792.8860181256241,749.2023263958451,714.8757061153065,690.2759513074909],\"yaxis\":\"y\",\"type\":\"scatter\"}],                        {\"template\":{\"data\":{\"bar\":[{\"error_x\":{\"color\":\"#2a3f5f\"},\"error_y\":{\"color\":\"#2a3f5f\"},\"marker\":{\"line\":{\"color\":\"#E5ECF6\",\"width\":0.5},\"pattern\":{\"fillmode\":\"overlay\",\"size\":10,\"solidity\":0.2}},\"type\":\"bar\"}],\"barpolar\":[{\"marker\":{\"line\":{\"color\":\"#E5ECF6\",\"width\":0.5},\"pattern\":{\"fillmode\":\"overlay\",\"size\":10,\"solidity\":0.2}},\"type\":\"barpolar\"}],\"carpet\":[{\"aaxis\":{\"endlinecolor\":\"#2a3f5f\",\"gridcolor\":\"white\",\"linecolor\":\"white\",\"minorgridcolor\":\"white\",\"startlinecolor\":\"#2a3f5f\"},\"baxis\":{\"endlinecolor\":\"#2a3f5f\",\"gridcolor\":\"white\",\"linecolor\":\"white\",\"minorgridcolor\":\"white\",\"startlinecolor\":\"#2a3f5f\"},\"type\":\"carpet\"}],\"choropleth\":[{\"colorbar\":{\"outlinewidth\":0,\"ticks\":\"\"},\"type\":\"choropleth\"}],\"contour\":[{\"colorbar\":{\"outlinewidth\":0,\"ticks\":\"\"},\"colorscale\":[[0.0,\"#0d0887\"],[0.1111111111111111,\"#46039f\"],[0.2222222222222222,\"#7201a8\"],[0.3333333333333333,\"#9c179e\"],[0.4444444444444444,\"#bd3786\"],[0.5555555555555556,\"#d8576b\"],[0.6666666666666666,\"#ed7953\"],[0.7777777777777778,\"#fb9f3a\"],[0.8888888888888888,\"#fdca26\"],[1.0,\"#f0f921\"]],\"type\":\"contour\"}],\"contourcarpet\":[{\"colorbar\":{\"outlinewidth\":0,\"ticks\":\"\"},\"type\":\"contourcarpet\"}],\"heatmap\":[{\"colorbar\":{\"outlinewidth\":0,\"ticks\":\"\"},\"colorscale\":[[0.0,\"#0d0887\"],[0.1111111111111111,\"#46039f\"],[0.2222222222222222,\"#7201a8\"],[0.3333333333333333,\"#9c179e\"],[0.4444444444444444,\"#bd3786\"],[0.5555555555555556,\"#d8576b\"],[0.6666666666666666,\"#ed7953\"],[0.7777777777777778,\"#fb9f3a\"],[0.8888888888888888,\"#fdca26\"],[1.0,\"#f0f921\"]],\"type\":\"heatmap\"}],\"heatmapgl\":[{\"colorbar\":{\"outlinewidth\":0,\"ticks\":\"\"},\"colorscale\":[[0.0,\"#0d0887\"],[0.1111111111111111,\"#46039f\"],[0.2222222222222222,\"#7201a8\"],[0.3333333333333333,\"#9c179e\"],[0.4444444444444444,\"#bd3786\"],[0.5555555555555556,\"#d8576b\"],[0.6666666666666666,\"#ed7953\"],[0.7777777777777778,\"#fb9f3a\"],[0.8888888888888888,\"#fdca26\"],[1.0,\"#f0f921\"]],\"type\":\"heatmapgl\"}],\"histogram\":[{\"marker\":{\"pattern\":{\"fillmode\":\"overlay\",\"size\":10,\"solidity\":0.2}},\"type\":\"histogram\"}],\"histogram2d\":[{\"colorbar\":{\"outlinewidth\":0,\"ticks\":\"\"},\"colorscale\":[[0.0,\"#0d0887\"],[0.1111111111111111,\"#46039f\"],[0.2222222222222222,\"#7201a8\"],[0.3333333333333333,\"#9c179e\"],[0.4444444444444444,\"#bd3786\"],[0.5555555555555556,\"#d8576b\"],[0.6666666666666666,\"#ed7953\"],[0.7777777777777778,\"#fb9f3a\"],[0.8888888888888888,\"#fdca26\"],[1.0,\"#f0f921\"]],\"type\":\"histogram2d\"}],\"histogram2dcontour\":[{\"colorbar\":{\"outlinewidth\":0,\"ticks\":\"\"},\"colorscale\":[[0.0,\"#0d0887\"],[0.1111111111111111,\"#46039f\"],[0.2222222222222222,\"#7201a8\"],[0.3333333333333333,\"#9c179e\"],[0.4444444444444444,\"#bd3786\"],[0.5555555555555556,\"#d8576b\"],[0.6666666666666666,\"#ed7953\"],[0.7777777777777778,\"#fb9f3a\"],[0.8888888888888888,\"#fdca26\"],[1.0,\"#f0f921\"]],\"type\":\"histogram2dcontour\"}],\"mesh3d\":[{\"colorbar\":{\"outlinewidth\":0,\"ticks\":\"\"},\"type\":\"mesh3d\"}],\"parcoords\":[{\"line\":{\"colorbar\":{\"outlinewidth\":0,\"ticks\":\"\"}},\"type\":\"parcoords\"}],\"pie\":[{\"automargin\":true,\"type\":\"pie\"}],\"scatter\":[{\"marker\":{\"colorbar\":{\"outlinewidth\":0,\"ticks\":\"\"}},\"type\":\"scatter\"}],\"scatter3d\":[{\"line\":{\"colorbar\":{\"outlinewidth\":0,\"ticks\":\"\"}},\"marker\":{\"colorbar\":{\"outlinewidth\":0,\"ticks\":\"\"}},\"type\":\"scatter3d\"}],\"scattercarpet\":[{\"marker\":{\"colorbar\":{\"outlinewidth\":0,\"ticks\":\"\"}},\"type\":\"scattercarpet\"}],\"scattergeo\":[{\"marker\":{\"colorbar\":{\"outlinewidth\":0,\"ticks\":\"\"}},\"type\":\"scattergeo\"}],\"scattergl\":[{\"marker\":{\"colorbar\":{\"outlinewidth\":0,\"ticks\":\"\"}},\"type\":\"scattergl\"}],\"scattermapbox\":[{\"marker\":{\"colorbar\":{\"outlinewidth\":0,\"ticks\":\"\"}},\"type\":\"scattermapbox\"}],\"scatterpolar\":[{\"marker\":{\"colorbar\":{\"outlinewidth\":0,\"ticks\":\"\"}},\"type\":\"scatterpolar\"}],\"scatterpolargl\":[{\"marker\":{\"colorbar\":{\"outlinewidth\":0,\"ticks\":\"\"}},\"type\":\"scatterpolargl\"}],\"scatterternary\":[{\"marker\":{\"colorbar\":{\"outlinewidth\":0,\"ticks\":\"\"}},\"type\":\"scatterternary\"}],\"surface\":[{\"colorbar\":{\"outlinewidth\":0,\"ticks\":\"\"},\"colorscale\":[[0.0,\"#0d0887\"],[0.1111111111111111,\"#46039f\"],[0.2222222222222222,\"#7201a8\"],[0.3333333333333333,\"#9c179e\"],[0.4444444444444444,\"#bd3786\"],[0.5555555555555556,\"#d8576b\"],[0.6666666666666666,\"#ed7953\"],[0.7777777777777778,\"#fb9f3a\"],[0.8888888888888888,\"#fdca26\"],[1.0,\"#f0f921\"]],\"type\":\"surface\"}],\"table\":[{\"cells\":{\"fill\":{\"color\":\"#EBF0F8\"},\"line\":{\"color\":\"white\"}},\"header\":{\"fill\":{\"color\":\"#C8D4E3\"},\"line\":{\"color\":\"white\"}},\"type\":\"table\"}]},\"layout\":{\"annotationdefaults\":{\"arrowcolor\":\"#2a3f5f\",\"arrowhead\":0,\"arrowwidth\":1},\"autotypenumbers\":\"strict\",\"coloraxis\":{\"colorbar\":{\"outlinewidth\":0,\"ticks\":\"\"}},\"colorscale\":{\"diverging\":[[0,\"#8e0152\"],[0.1,\"#c51b7d\"],[0.2,\"#de77ae\"],[0.3,\"#f1b6da\"],[0.4,\"#fde0ef\"],[0.5,\"#f7f7f7\"],[0.6,\"#e6f5d0\"],[0.7,\"#b8e186\"],[0.8,\"#7fbc41\"],[0.9,\"#4d9221\"],[1,\"#276419\"]],\"sequential\":[[0.0,\"#0d0887\"],[0.1111111111111111,\"#46039f\"],[0.2222222222222222,\"#7201a8\"],[0.3333333333333333,\"#9c179e\"],[0.4444444444444444,\"#bd3786\"],[0.5555555555555556,\"#d8576b\"],[0.6666666666666666,\"#ed7953\"],[0.7777777777777778,\"#fb9f3a\"],[0.8888888888888888,\"#fdca26\"],[1.0,\"#f0f921\"]],\"sequentialminus\":[[0.0,\"#0d0887\"],[0.1111111111111111,\"#46039f\"],[0.2222222222222222,\"#7201a8\"],[0.3333333333333333,\"#9c179e\"],[0.4444444444444444,\"#bd3786\"],[0.5555555555555556,\"#d8576b\"],[0.6666666666666666,\"#ed7953\"],[0.7777777777777778,\"#fb9f3a\"],[0.8888888888888888,\"#fdca26\"],[1.0,\"#f0f921\"]]},\"colorway\":[\"#636efa\",\"#EF553B\",\"#00cc96\",\"#ab63fa\",\"#FFA15A\",\"#19d3f3\",\"#FF6692\",\"#B6E880\",\"#FF97FF\",\"#FECB52\"],\"font\":{\"color\":\"#2a3f5f\"},\"geo\":{\"bgcolor\":\"white\",\"lakecolor\":\"white\",\"landcolor\":\"#E5ECF6\",\"showlakes\":true,\"showland\":true,\"subunitcolor\":\"white\"},\"hoverlabel\":{\"align\":\"left\"},\"hovermode\":\"closest\",\"mapbox\":{\"style\":\"light\"},\"paper_bgcolor\":\"white\",\"plot_bgcolor\":\"#E5ECF6\",\"polar\":{\"angularaxis\":{\"gridcolor\":\"white\",\"linecolor\":\"white\",\"ticks\":\"\"},\"bgcolor\":\"#E5ECF6\",\"radialaxis\":{\"gridcolor\":\"white\",\"linecolor\":\"white\",\"ticks\":\"\"}},\"scene\":{\"xaxis\":{\"backgroundcolor\":\"#E5ECF6\",\"gridcolor\":\"white\",\"gridwidth\":2,\"linecolor\":\"white\",\"showbackground\":true,\"ticks\":\"\",\"zerolinecolor\":\"white\"},\"yaxis\":{\"backgroundcolor\":\"#E5ECF6\",\"gridcolor\":\"white\",\"gridwidth\":2,\"linecolor\":\"white\",\"showbackground\":true,\"ticks\":\"\",\"zerolinecolor\":\"white\"},\"zaxis\":{\"backgroundcolor\":\"#E5ECF6\",\"gridcolor\":\"white\",\"gridwidth\":2,\"linecolor\":\"white\",\"showbackground\":true,\"ticks\":\"\",\"zerolinecolor\":\"white\"}},\"shapedefaults\":{\"line\":{\"color\":\"#2a3f5f\"}},\"ternary\":{\"aaxis\":{\"gridcolor\":\"white\",\"linecolor\":\"white\",\"ticks\":\"\"},\"baxis\":{\"gridcolor\":\"white\",\"linecolor\":\"white\",\"ticks\":\"\"},\"bgcolor\":\"#E5ECF6\",\"caxis\":{\"gridcolor\":\"white\",\"linecolor\":\"white\",\"ticks\":\"\"}},\"title\":{\"x\":0.05},\"xaxis\":{\"automargin\":true,\"gridcolor\":\"white\",\"linecolor\":\"white\",\"ticks\":\"\",\"title\":{\"standoff\":15},\"zerolinecolor\":\"white\",\"zerolinewidth\":2},\"yaxis\":{\"automargin\":true,\"gridcolor\":\"white\",\"linecolor\":\"white\",\"ticks\":\"\",\"title\":{\"standoff\":15},\"zerolinecolor\":\"white\",\"zerolinewidth\":2}}},\"xaxis\":{\"anchor\":\"y\",\"domain\":[0.0,1.0],\"title\":{\"text\":\"x\"}},\"yaxis\":{\"anchor\":\"x\",\"domain\":[0.0,1.0],\"title\":{\"text\":\"y\"}},\"legend\":{\"tracegroupgap\":0},\"margin\":{\"t\":60}},                        {\"responsive\": true}                    ).then(function(){\n",
              "                            \n",
              "var gd = document.getElementById('b884e757-c510-42e7-bb98-e8a924bfdbd2');\n",
              "var x = new MutationObserver(function (mutations, observer) {{\n",
              "        var display = window.getComputedStyle(gd).display;\n",
              "        if (!display || display === 'none') {{\n",
              "            console.log([gd, 'removed!']);\n",
              "            Plotly.purge(gd);\n",
              "            observer.disconnect();\n",
              "        }}\n",
              "}});\n",
              "\n",
              "// Listen for the removal of the full notebook cells\n",
              "var notebookContainer = gd.closest('#notebook-container');\n",
              "if (notebookContainer) {{\n",
              "    x.observe(notebookContainer, {childList: true});\n",
              "}}\n",
              "\n",
              "// Listen for the clearing of the current output cell\n",
              "var outputEl = gd.closest('.output');\n",
              "if (outputEl) {{\n",
              "    x.observe(outputEl, {childList: true});\n",
              "}}\n",
              "\n",
              "                        })                };                            </script>        </div>\n",
              "</body>\n",
              "</html>"
            ]
          },
          "metadata": {}
        }
      ]
    },
    {
      "cell_type": "code",
      "source": [
        "km = KMeans(n_clusters = 3, init ='k-means++', random_state = 54)\n",
        "km.fit(pca_3)"
      ],
      "metadata": {
        "id": "xkCY7p9w3YHt",
        "colab": {
          "base_uri": "https://localhost:8080/"
        },
        "outputId": "fb8ac48b-adda-4b3c-8a45-4ea87aa28681"
      },
      "execution_count": null,
      "outputs": [
        {
          "output_type": "execute_result",
          "data": {
            "text/plain": [
              "KMeans(n_clusters=3, random_state=54)"
            ]
          },
          "metadata": {},
          "execution_count": 19
        }
      ]
    },
    {
      "cell_type": "code",
      "source": [
        "pok_seg = pd.concat([pok.reset_index(drop=True), pd.DataFrame(pca_3)], axis=1)\n"
      ],
      "metadata": {
        "id": "WupVyKLz3cPS"
      },
      "execution_count": null,
      "outputs": []
    },
    {
      "cell_type": "code",
      "source": [
        "pok_seg.columns.values[-3:] = ['cp1','cp2','cp3']\n",
        "pok_seg['K-means segments'] = km.labels_\n",
        "pok_seg['segment'] = pok_seg['K-means segments'].map({0:'Pokemon type 1',1:'Pokemon type 2',2:'Pokemon type 3'})"
      ],
      "metadata": {
        "id": "bDb2wBDb3f6v"
      },
      "execution_count": null,
      "outputs": []
    },
    {
      "cell_type": "code",
      "source": [
        "pok_seg"
      ],
      "metadata": {
        "id": "733kQf0k3ieQ",
        "colab": {
          "base_uri": "https://localhost:8080/",
          "height": 679
        },
        "outputId": "c8cc2012-4411-4a18-8c7c-49c8e87895b8"
      },
      "execution_count": null,
      "outputs": [
        {
          "output_type": "execute_result",
          "data": {
            "text/plain": [
              "       #                   Name   Type 1  Type 2  Total  HP  Attack  Defense  \\\n",
              "0      1              Bulbasaur    Grass  Poison    318  45      49       49   \n",
              "1      2                Ivysaur    Grass  Poison    405  60      62       63   \n",
              "2      3               Venusaur    Grass  Poison    525  80      82       83   \n",
              "3      3  VenusaurMega Venusaur    Grass  Poison    625  80     100      123   \n",
              "4      4             Charmander     Fire       0    309  39      52       43   \n",
              "..   ...                    ...      ...     ...    ...  ..     ...      ...   \n",
              "795  719                Diancie     Rock   Fairy    600  50     100      150   \n",
              "796  719    DiancieMega Diancie     Rock   Fairy    700  50     160      110   \n",
              "797  720    HoopaHoopa Confined  Psychic   Ghost    600  80     110       60   \n",
              "798  720     HoopaHoopa Unbound  Psychic    Dark    680  80     160       60   \n",
              "799  721              Volcanion     Fire   Water    600  80     110      120   \n",
              "\n",
              "     Sp. Atk  Sp. Def  Speed  Generation  Legendary       cp1       cp2  \\\n",
              "0         65       65     45           1      False -2.120722 -1.957188   \n",
              "1         80       80     60           1      False -0.736426 -2.140934   \n",
              "2        100      100     80           1      False  1.170490 -2.392386   \n",
              "3        122      120     80           1      False  2.738437 -2.555566   \n",
              "4         60       50     65           1      False -2.325976 -1.981204   \n",
              "..       ...      ...    ...         ...        ...       ...       ...   \n",
              "795      100      150     50           6       True  2.973034  2.073153   \n",
              "796      160      110    110           6       True  4.452373  1.685164   \n",
              "797      150      130     70           6       True  3.090634  1.931408   \n",
              "798      170      130     80           6       True  4.346959  1.755745   \n",
              "799      130       90     70           6       True  2.913704  2.033685   \n",
              "\n",
              "          cp3  K-means segments         segment  \n",
              "0    0.134115                 1  Pokemon type 2  \n",
              "1    0.118054                 0  Pokemon type 1  \n",
              "2    0.122853                 0  Pokemon type 1  \n",
              "3    0.906379                 0  Pokemon type 1  \n",
              "4   -0.550550                 1  Pokemon type 2  \n",
              "..        ...               ...             ...  \n",
              "795  2.162981                 2  Pokemon type 3  \n",
              "796 -0.941673                 2  Pokemon type 3  \n",
              "797 -0.666678                 2  Pokemon type 3  \n",
              "798 -1.095461                 2  Pokemon type 3  \n",
              "799  0.379186                 2  Pokemon type 3  \n",
              "\n",
              "[800 rows x 18 columns]"
            ],
            "text/html": [
              "\n",
              "  <div id=\"df-f7b49963-591d-4cab-800c-448267ab7a7d\">\n",
              "    <div class=\"colab-df-container\">\n",
              "      <div>\n",
              "<style scoped>\n",
              "    .dataframe tbody tr th:only-of-type {\n",
              "        vertical-align: middle;\n",
              "    }\n",
              "\n",
              "    .dataframe tbody tr th {\n",
              "        vertical-align: top;\n",
              "    }\n",
              "\n",
              "    .dataframe thead th {\n",
              "        text-align: right;\n",
              "    }\n",
              "</style>\n",
              "<table border=\"1\" class=\"dataframe\">\n",
              "  <thead>\n",
              "    <tr style=\"text-align: right;\">\n",
              "      <th></th>\n",
              "      <th>#</th>\n",
              "      <th>Name</th>\n",
              "      <th>Type 1</th>\n",
              "      <th>Type 2</th>\n",
              "      <th>Total</th>\n",
              "      <th>HP</th>\n",
              "      <th>Attack</th>\n",
              "      <th>Defense</th>\n",
              "      <th>Sp. Atk</th>\n",
              "      <th>Sp. Def</th>\n",
              "      <th>Speed</th>\n",
              "      <th>Generation</th>\n",
              "      <th>Legendary</th>\n",
              "      <th>cp1</th>\n",
              "      <th>cp2</th>\n",
              "      <th>cp3</th>\n",
              "      <th>K-means segments</th>\n",
              "      <th>segment</th>\n",
              "    </tr>\n",
              "  </thead>\n",
              "  <tbody>\n",
              "    <tr>\n",
              "      <th>0</th>\n",
              "      <td>1</td>\n",
              "      <td>Bulbasaur</td>\n",
              "      <td>Grass</td>\n",
              "      <td>Poison</td>\n",
              "      <td>318</td>\n",
              "      <td>45</td>\n",
              "      <td>49</td>\n",
              "      <td>49</td>\n",
              "      <td>65</td>\n",
              "      <td>65</td>\n",
              "      <td>45</td>\n",
              "      <td>1</td>\n",
              "      <td>False</td>\n",
              "      <td>-2.120722</td>\n",
              "      <td>-1.957188</td>\n",
              "      <td>0.134115</td>\n",
              "      <td>1</td>\n",
              "      <td>Pokemon type 2</td>\n",
              "    </tr>\n",
              "    <tr>\n",
              "      <th>1</th>\n",
              "      <td>2</td>\n",
              "      <td>Ivysaur</td>\n",
              "      <td>Grass</td>\n",
              "      <td>Poison</td>\n",
              "      <td>405</td>\n",
              "      <td>60</td>\n",
              "      <td>62</td>\n",
              "      <td>63</td>\n",
              "      <td>80</td>\n",
              "      <td>80</td>\n",
              "      <td>60</td>\n",
              "      <td>1</td>\n",
              "      <td>False</td>\n",
              "      <td>-0.736426</td>\n",
              "      <td>-2.140934</td>\n",
              "      <td>0.118054</td>\n",
              "      <td>0</td>\n",
              "      <td>Pokemon type 1</td>\n",
              "    </tr>\n",
              "    <tr>\n",
              "      <th>2</th>\n",
              "      <td>3</td>\n",
              "      <td>Venusaur</td>\n",
              "      <td>Grass</td>\n",
              "      <td>Poison</td>\n",
              "      <td>525</td>\n",
              "      <td>80</td>\n",
              "      <td>82</td>\n",
              "      <td>83</td>\n",
              "      <td>100</td>\n",
              "      <td>100</td>\n",
              "      <td>80</td>\n",
              "      <td>1</td>\n",
              "      <td>False</td>\n",
              "      <td>1.170490</td>\n",
              "      <td>-2.392386</td>\n",
              "      <td>0.122853</td>\n",
              "      <td>0</td>\n",
              "      <td>Pokemon type 1</td>\n",
              "    </tr>\n",
              "    <tr>\n",
              "      <th>3</th>\n",
              "      <td>3</td>\n",
              "      <td>VenusaurMega Venusaur</td>\n",
              "      <td>Grass</td>\n",
              "      <td>Poison</td>\n",
              "      <td>625</td>\n",
              "      <td>80</td>\n",
              "      <td>100</td>\n",
              "      <td>123</td>\n",
              "      <td>122</td>\n",
              "      <td>120</td>\n",
              "      <td>80</td>\n",
              "      <td>1</td>\n",
              "      <td>False</td>\n",
              "      <td>2.738437</td>\n",
              "      <td>-2.555566</td>\n",
              "      <td>0.906379</td>\n",
              "      <td>0</td>\n",
              "      <td>Pokemon type 1</td>\n",
              "    </tr>\n",
              "    <tr>\n",
              "      <th>4</th>\n",
              "      <td>4</td>\n",
              "      <td>Charmander</td>\n",
              "      <td>Fire</td>\n",
              "      <td>0</td>\n",
              "      <td>309</td>\n",
              "      <td>39</td>\n",
              "      <td>52</td>\n",
              "      <td>43</td>\n",
              "      <td>60</td>\n",
              "      <td>50</td>\n",
              "      <td>65</td>\n",
              "      <td>1</td>\n",
              "      <td>False</td>\n",
              "      <td>-2.325976</td>\n",
              "      <td>-1.981204</td>\n",
              "      <td>-0.550550</td>\n",
              "      <td>1</td>\n",
              "      <td>Pokemon type 2</td>\n",
              "    </tr>\n",
              "    <tr>\n",
              "      <th>...</th>\n",
              "      <td>...</td>\n",
              "      <td>...</td>\n",
              "      <td>...</td>\n",
              "      <td>...</td>\n",
              "      <td>...</td>\n",
              "      <td>...</td>\n",
              "      <td>...</td>\n",
              "      <td>...</td>\n",
              "      <td>...</td>\n",
              "      <td>...</td>\n",
              "      <td>...</td>\n",
              "      <td>...</td>\n",
              "      <td>...</td>\n",
              "      <td>...</td>\n",
              "      <td>...</td>\n",
              "      <td>...</td>\n",
              "      <td>...</td>\n",
              "      <td>...</td>\n",
              "    </tr>\n",
              "    <tr>\n",
              "      <th>795</th>\n",
              "      <td>719</td>\n",
              "      <td>Diancie</td>\n",
              "      <td>Rock</td>\n",
              "      <td>Fairy</td>\n",
              "      <td>600</td>\n",
              "      <td>50</td>\n",
              "      <td>100</td>\n",
              "      <td>150</td>\n",
              "      <td>100</td>\n",
              "      <td>150</td>\n",
              "      <td>50</td>\n",
              "      <td>6</td>\n",
              "      <td>True</td>\n",
              "      <td>2.973034</td>\n",
              "      <td>2.073153</td>\n",
              "      <td>2.162981</td>\n",
              "      <td>2</td>\n",
              "      <td>Pokemon type 3</td>\n",
              "    </tr>\n",
              "    <tr>\n",
              "      <th>796</th>\n",
              "      <td>719</td>\n",
              "      <td>DiancieMega Diancie</td>\n",
              "      <td>Rock</td>\n",
              "      <td>Fairy</td>\n",
              "      <td>700</td>\n",
              "      <td>50</td>\n",
              "      <td>160</td>\n",
              "      <td>110</td>\n",
              "      <td>160</td>\n",
              "      <td>110</td>\n",
              "      <td>110</td>\n",
              "      <td>6</td>\n",
              "      <td>True</td>\n",
              "      <td>4.452373</td>\n",
              "      <td>1.685164</td>\n",
              "      <td>-0.941673</td>\n",
              "      <td>2</td>\n",
              "      <td>Pokemon type 3</td>\n",
              "    </tr>\n",
              "    <tr>\n",
              "      <th>797</th>\n",
              "      <td>720</td>\n",
              "      <td>HoopaHoopa Confined</td>\n",
              "      <td>Psychic</td>\n",
              "      <td>Ghost</td>\n",
              "      <td>600</td>\n",
              "      <td>80</td>\n",
              "      <td>110</td>\n",
              "      <td>60</td>\n",
              "      <td>150</td>\n",
              "      <td>130</td>\n",
              "      <td>70</td>\n",
              "      <td>6</td>\n",
              "      <td>True</td>\n",
              "      <td>3.090634</td>\n",
              "      <td>1.931408</td>\n",
              "      <td>-0.666678</td>\n",
              "      <td>2</td>\n",
              "      <td>Pokemon type 3</td>\n",
              "    </tr>\n",
              "    <tr>\n",
              "      <th>798</th>\n",
              "      <td>720</td>\n",
              "      <td>HoopaHoopa Unbound</td>\n",
              "      <td>Psychic</td>\n",
              "      <td>Dark</td>\n",
              "      <td>680</td>\n",
              "      <td>80</td>\n",
              "      <td>160</td>\n",
              "      <td>60</td>\n",
              "      <td>170</td>\n",
              "      <td>130</td>\n",
              "      <td>80</td>\n",
              "      <td>6</td>\n",
              "      <td>True</td>\n",
              "      <td>4.346959</td>\n",
              "      <td>1.755745</td>\n",
              "      <td>-1.095461</td>\n",
              "      <td>2</td>\n",
              "      <td>Pokemon type 3</td>\n",
              "    </tr>\n",
              "    <tr>\n",
              "      <th>799</th>\n",
              "      <td>721</td>\n",
              "      <td>Volcanion</td>\n",
              "      <td>Fire</td>\n",
              "      <td>Water</td>\n",
              "      <td>600</td>\n",
              "      <td>80</td>\n",
              "      <td>110</td>\n",
              "      <td>120</td>\n",
              "      <td>130</td>\n",
              "      <td>90</td>\n",
              "      <td>70</td>\n",
              "      <td>6</td>\n",
              "      <td>True</td>\n",
              "      <td>2.913704</td>\n",
              "      <td>2.033685</td>\n",
              "      <td>0.379186</td>\n",
              "      <td>2</td>\n",
              "      <td>Pokemon type 3</td>\n",
              "    </tr>\n",
              "  </tbody>\n",
              "</table>\n",
              "<p>800 rows × 18 columns</p>\n",
              "</div>\n",
              "      <button class=\"colab-df-convert\" onclick=\"convertToInteractive('df-f7b49963-591d-4cab-800c-448267ab7a7d')\"\n",
              "              title=\"Convert this dataframe to an interactive table.\"\n",
              "              style=\"display:none;\">\n",
              "        \n",
              "  <svg xmlns=\"http://www.w3.org/2000/svg\" height=\"24px\"viewBox=\"0 0 24 24\"\n",
              "       width=\"24px\">\n",
              "    <path d=\"M0 0h24v24H0V0z\" fill=\"none\"/>\n",
              "    <path d=\"M18.56 5.44l.94 2.06.94-2.06 2.06-.94-2.06-.94-.94-2.06-.94 2.06-2.06.94zm-11 1L8.5 8.5l.94-2.06 2.06-.94-2.06-.94L8.5 2.5l-.94 2.06-2.06.94zm10 10l.94 2.06.94-2.06 2.06-.94-2.06-.94-.94-2.06-.94 2.06-2.06.94z\"/><path d=\"M17.41 7.96l-1.37-1.37c-.4-.4-.92-.59-1.43-.59-.52 0-1.04.2-1.43.59L10.3 9.45l-7.72 7.72c-.78.78-.78 2.05 0 2.83L4 21.41c.39.39.9.59 1.41.59.51 0 1.02-.2 1.41-.59l7.78-7.78 2.81-2.81c.8-.78.8-2.07 0-2.86zM5.41 20L4 18.59l7.72-7.72 1.47 1.35L5.41 20z\"/>\n",
              "  </svg>\n",
              "      </button>\n",
              "      \n",
              "  <style>\n",
              "    .colab-df-container {\n",
              "      display:flex;\n",
              "      flex-wrap:wrap;\n",
              "      gap: 12px;\n",
              "    }\n",
              "\n",
              "    .colab-df-convert {\n",
              "      background-color: #E8F0FE;\n",
              "      border: none;\n",
              "      border-radius: 50%;\n",
              "      cursor: pointer;\n",
              "      display: none;\n",
              "      fill: #1967D2;\n",
              "      height: 32px;\n",
              "      padding: 0 0 0 0;\n",
              "      width: 32px;\n",
              "    }\n",
              "\n",
              "    .colab-df-convert:hover {\n",
              "      background-color: #E2EBFA;\n",
              "      box-shadow: 0px 1px 2px rgba(60, 64, 67, 0.3), 0px 1px 3px 1px rgba(60, 64, 67, 0.15);\n",
              "      fill: #174EA6;\n",
              "    }\n",
              "\n",
              "    [theme=dark] .colab-df-convert {\n",
              "      background-color: #3B4455;\n",
              "      fill: #D2E3FC;\n",
              "    }\n",
              "\n",
              "    [theme=dark] .colab-df-convert:hover {\n",
              "      background-color: #434B5C;\n",
              "      box-shadow: 0px 1px 3px 1px rgba(0, 0, 0, 0.15);\n",
              "      filter: drop-shadow(0px 1px 2px rgba(0, 0, 0, 0.3));\n",
              "      fill: #FFFFFF;\n",
              "    }\n",
              "  </style>\n",
              "\n",
              "      <script>\n",
              "        const buttonEl =\n",
              "          document.querySelector('#df-f7b49963-591d-4cab-800c-448267ab7a7d button.colab-df-convert');\n",
              "        buttonEl.style.display =\n",
              "          google.colab.kernel.accessAllowed ? 'block' : 'none';\n",
              "\n",
              "        async function convertToInteractive(key) {\n",
              "          const element = document.querySelector('#df-f7b49963-591d-4cab-800c-448267ab7a7d');\n",
              "          const dataTable =\n",
              "            await google.colab.kernel.invokeFunction('convertToInteractive',\n",
              "                                                     [key], {});\n",
              "          if (!dataTable) return;\n",
              "\n",
              "          const docLinkHtml = 'Like what you see? Visit the ' +\n",
              "            '<a target=\"_blank\" href=https://colab.research.google.com/notebooks/data_table.ipynb>data table notebook</a>'\n",
              "            + ' to learn more about interactive tables.';\n",
              "          element.innerHTML = '';\n",
              "          dataTable['output_type'] = 'display_data';\n",
              "          await google.colab.output.renderOutput(dataTable, element);\n",
              "          const docLink = document.createElement('div');\n",
              "          docLink.innerHTML = docLinkHtml;\n",
              "          element.appendChild(docLink);\n",
              "        }\n",
              "      </script>\n",
              "    </div>\n",
              "  </div>\n",
              "  "
            ]
          },
          "metadata": {},
          "execution_count": 22
        }
      ]
    },
    {
      "cell_type": "code",
      "source": [
        "#plotting\n",
        "px.scatter_3d(x = pok_seg['cp1'], y = pok_seg['cp2'], z = pok_seg['cp3'], color = pok_seg['segment'])"
      ],
      "metadata": {
        "id": "uJm9N4M43k41",
        "colab": {
          "base_uri": "https://localhost:8080/",
          "height": 542
        },
        "outputId": "5989ae40-fcbd-468f-8160-8af3d3ad0622"
      },
      "execution_count": null,
      "outputs": [
        {
          "output_type": "display_data",
          "data": {
            "text/html": [
              "<html>\n",
              "<head><meta charset=\"utf-8\" /></head>\n",
              "<body>\n",
              "    <div>            <script src=\"https://cdnjs.cloudflare.com/ajax/libs/mathjax/2.7.5/MathJax.js?config=TeX-AMS-MML_SVG\"></script><script type=\"text/javascript\">if (window.MathJax) {MathJax.Hub.Config({SVG: {font: \"STIX-Web\"}});}</script>                <script type=\"text/javascript\">window.PlotlyConfig = {MathJaxConfig: 'local'};</script>\n",
              "        <script src=\"https://cdn.plot.ly/plotly-2.8.3.min.js\"></script>                <div id=\"5da36d29-a5a5-40a9-b44e-2a0025ed25c0\" class=\"plotly-graph-div\" style=\"height:525px; width:100%;\"></div>            <script type=\"text/javascript\">                                    window.PLOTLYENV=window.PLOTLYENV || {};                                    if (document.getElementById(\"5da36d29-a5a5-40a9-b44e-2a0025ed25c0\")) {                    Plotly.newPlot(                        \"5da36d29-a5a5-40a9-b44e-2a0025ed25c0\",                        [{\"hovertemplate\":\"color=Pokemon type 2<br>x=%{x}<br>y=%{y}<br>z=%{z}<extra></extra>\",\"legendgroup\":\"Pokemon type 2\",\"marker\":{\"color\":\"#636efa\",\"symbol\":\"circle\"},\"mode\":\"markers\",\"name\":\"Pokemon type 2\",\"scene\":\"scene\",\"showlegend\":true,\"x\":[-2.120722270973925,-2.3259756471369752,-2.209389781053928,-4.144060902306015,-3.972539881786117,-4.149780357687811,-3.9782593371679122,-3.253142881352587,-1.6857207621073684,-3.2552627257730364,-3.0937048515160157,-2.6348811519668454,-2.1871358195900914,-2.5129960213996916,-2.8277863339497404,-2.8663683710343455,-1.9734172522522937,-2.4365829751283905,-2.766203949561966,-3.316762737445547,-2.0472148375611776,-2.631404735845082,-2.309871050094264,-3.0767600080422635,-2.656427601780545,-2.099855074000856,-2.3723331555717793,-1.618315347883619,-2.5013744759403433,-2.2762537792904136,-2.310211626435502,-2.4001885172517556,-1.776653267018691,-2.4866065208712387,-2.0965191642753163,-2.0380922548357727,-1.5721418219019754,-2.3285975465832154,-1.9432850168788138,-1.9202463353887398,-2.4530886470009134,-2.300713150139793,-1.8369827580279499,-2.1380938987707134,-2.0046240032559615,-2.017080133551733,-2.1177329523405373,-1.8155618802143216,-1.7030163965905132,-2.580158900111338,-2.1121619896714052,-1.8258730061374444,-4.127629959727568,-2.5640866778892484,-1.9505413971152594,-1.54975883704253,-1.6023997456886514,-2.3690221876774635,-2.0244409941645394,-2.200756464976557,-2.107688542672349,-3.6160243923587956,-2.8624093442549126,-2.8000924684419024,-3.086884007125767,-1.798657835976512,-3.8482400911031003,-3.50276798629766,-3.6275240881076907,-3.141076161065811,-2.0326684372951793,-2.578634821264194,-1.218810085250262,-3.058749309886281,-3.0897395737683784,-1.6826540647710204,-1.4017107081770415,-4.203628359655558,-3.7023241862368272,-1.7153517434570522,-2.4829888081094964,-2.2615066747815487,-1.777543839169203,-3.0350278490606937,-3.1031930660548035,-2.328003387677824,-1.8520793954624026,-1.795891632063026,-1.7690780876789425,-3.0981319804061798,-3.703057494710191,-2.1330753610734865,-1.3717983529441249,-1.269556131715344,-2.2532041712082065,-2.0724516874761307,-2.036806776762018,-2.040439344810172,-3.4972576680266894,-3.2071502520027275,-3.85490592004586,-3.720631726641468,-0.706774870440106,-3.719566176644994,-0.8292649535847364,-3.4279120219119137,-1.5209952868148766,-3.4992957265176186,-1.5673301275604743,-2.770075771826617,-2.763167591834854,-3.824892235137054,-2.5319260875815406,-2.702280295917741,-2.2410175426444905,-2.5192153978701,-2.852487406011887,-3.294680884355459,-3.103538467600492,-1.1966217325034554,-3.138636683508044,-3.898602700991702,-1.051761624668694,-2.8540547819384177,-0.9471380468413814,-0.9305194992924807,-0.9676462650935095,-1.7815833233601268,-2.5515242013712998,-2.308479611267914,-0.5165107709858562,-0.6032533861104004,-0.5966442759170625,-0.5479855260369112,-2.1115370193231695,-2.1463119520041856,-0.5141372249011346,-2.0546584896767297,-1.6230302991257513,-1.2268248623204967,-2.2768918967792424,-1.579636265584912,-1.5916908222801196,-1.9936631242795777,-2.3892220524508554,-2.080996969340452,-2.1641053249285944,-1.197240846994121,-1.349577474498239,-3.7984189604572025,-2.2509002539936405,-2.2277591240342347,-2.699253241846813,-2.1619024924298365,-2.248727773932846,-1.4722248496480548,-1.7539258264643665,-2.2201632444209305,-2.1635203301512838,-1.7911777211315265,-0.40483222054672036,-1.9863753577111931,-0.464844864610334,-1.846874972262006,-0.3859802270805768,-3.0138526599035713,-1.531865676172463,-2.852524443763197,-0.34629268187765067,-3.759300901276338,-0.7531373677916156,-2.6877927800146755,-1.0976380136658357,-2.3692660034772524,-1.3193658023413275,-1.3223594301831039,-3.2906068433658144,-0.11401520844431978,-3.0453921307337968,-0.4425020633451039,-1.6794551727564664,-2.4456567069718758,-1.5983687960058328,-1.2901507581717058,-1.3243520054934175,-1.999016567618065,-2.310784072688151,-1.658996199946392,-2.0128671412988353,-2.2540862545520213,-1.8818754611010324,-3.153412538100333,-0.3507039077313733,-2.053386183020752,-0.3751035219140752,-0.37436215301439874,-2.3470264167760515,-1.6021199211785082,-1.69029152191307,-2.0719127335637983,-1.6082234135964626,-1.2184635409628366,-1.4726951892807654,-1.902625483563787,-0.24123112860130538,-1.8476166659112072,-1.8545228697585447,-0.17867974455165356,-2.710099121284639,-2.4147206263750625,-0.8802944657288015,-2.339665056957629,-1.7633877300442933,-1.7623221800478193,-1.761256630051345,-2.015547222318033,-2.5894266495485967,-1.1132054756417127,-2.1251083823315917,-2.3445360529817325,-0.584748357618893,-1.811690844319586,-1.556405267673792,-1.8867138577524694,-0.3100334597308003,-2.103425704183291,-0.6427202595116611,-1.8248087668413377,-0.6909208282470299,-2.6882320018052286,-1.053025678000768,-2.350905885797132,-2.2563987963629772,-2.133819434534519,-1.1941938812985633,-1.7162077026710567,-1.668098867200291,-1.1976008109417817,-1.9221747019834428,-1.1295343991465598,-0.3859163244965551,-1.5262060310456897,-1.5210502104065629,-2.003935997737539,-2.084536919937191,-0.4836333094537381,-2.040680528136336,-0.7545765080970355,-1.8713372081767516,-1.8593988524931728,-0.4290781074208366,-1.4315008669614795,-1.7353466447736572,-1.9407177370514648,-1.2979205282935882,-1.6711026663042456,-1.8044110998018905,-1.9360194498503043,-2.3823601891213433,-0.22721156455895467,-1.3352414914473891,-2.2795251511705126,-0.8118928571114696,-1.679822728245962,-0.23739026492733187,-1.8362282011126392,-1.8410871255136196,-1.173276052605427,-1.8512635165149136,-1.375018139955973,-1.1326057515391785,-0.8223523915727162,-1.9048654869746744,-0.9832618417837395,-1.6723977893893007,-1.7532136223709394,-1.6900365132426423,-2.908753008779956,-2.2591880688528865,-0.6135637080586314,-3.480118855280591,-3.2755305971333586,-0.7927938876014754,-1.7327280990464478,-0.6303702842489693,-1.032112623705888,-1.0890070136176253,-0.9868218266299558,-1.536676421152805,-1.1060838502328143,-1.197350280826755,-2.047780883977327,-1.7859445597745902,-1.4934698377471076,-1.3562268936804966,-2.05204073005849,-0.9051605274987884,-0.7935127402371617,-1.7598067206576968,-1.6648866554021788,-1.3124766161680999,-1.3276689659677463,-1.2972842663684534,-1.282091916568807,-1.820573241175949,-2.7308487985017202],\"y\":[-1.957187506206765,-1.9812041267512597,-1.89774349916914,-1.66506299515255,-1.6245652453201422,-1.6761606034224876,-1.6356628535900797,-1.7900679109040911,-1.9861085205954618,-1.828876034519523,-1.832075488494291,-1.8421854666694635,-1.9945526919790684,-1.7267462468464942,-1.7331686193854057,-1.7604358940937623,-1.8057867914655052,-1.8602958429378407,-1.618507117825449,-1.6976712771777605,-1.782699702288079,-1.6729798545247647,-1.73960432619621,-1.8459737676357206,-1.8407126297225478,-1.7984475129880748,-1.794984866540435,-1.8518164338840066,-1.8260197425972056,-1.9327798693365081,-1.6263072132620595,-1.674771219764145,-1.8452088258544197,-1.5166322563389651,-1.5273518522247023,-1.7158634744413026,-1.7630901990393932,-1.7107211107514364,-1.6540595815571835,-1.5674532623796797,-1.5430623236637775,-1.7730889786824244,-1.641744998353537,-1.5668246821174454,-1.7857589130658096,-1.5635801781027272,-1.5134785990001134,-1.5495565827344902,-1.4610542530723525,-1.5443018367868657,-1.5728896549814437,-1.708754603655521,-1.3675238154676554,-1.4513648689943448,-1.5316871517118895,-1.5108602893675136,-1.5318573441476835,-1.4363293656262148,-1.002742973429563,-1.054904815043833,-0.9512984379889053,-0.7404680333214979,-0.8915999653069033,-0.9370663827345599,-0.7978789400004322,-1.02858544997435,-0.8165978889752894,-0.7043628410267359,-0.6449274868979532,-0.7357852473871965,-1.016498529968329,-0.8382951697284227,-1.0040002251156945,-0.7357831818911024,-0.7966810321942909,-1.0193011856995051,-1.042660365403928,-0.6022710161083227,-0.5633856422693286,-0.8978868804094092,-0.6410985029740742,-0.7187611660283371,-0.7885555142413853,-0.6274995439399406,-0.6546689058677799,-0.8161946693177438,-0.879232578254679,-0.8714522964421391,-0.6960161195959564,-0.6779097579036114,-0.5160431835998786,-0.8261747528964312,-0.9512266334421965,-0.9270536060980956,-0.6441079702795675,-0.33858906893047863,-0.25248111690072567,-0.1988698308668195,-0.01738248559700074,-0.11432736236622053,0.09325297019369215,0.11333042563054448,-0.4161549108104796,0.11999370386508713,-0.36068344825953164,0.0010991696392470439,-0.2503529023185475,0.0521281649499261,-0.24838800391401142,-0.18922607876752168,-0.20544356965970512,0.037557251475485956,-0.13551660937521096,-0.1415634809233625,-0.054772827100647195,0.013453221423205946,0.03493015702879092,0.03468713106648198,0.06921190180387278,-0.18224017015392183,0.12612394162619464,0.21091552181926218,-0.1048707874483305,0.01479643405712282,-0.23665563790067173,-0.19734257587661239,-0.16891774395456327,0.008796400292264072,-0.04495402426476165,-0.09498222465925527,-0.3829764834498049,-0.28995236620121156,-0.3104167269757354,-0.2968763483286736,0.025643967300078497,-0.08013704209217261,-0.1668864163786629,0.023814330958292846,-0.11150008100956779,-0.10812185777256521,0.15166819161846376,-0.09462998635109071,-0.015116549878786715,0.01900313212806622,0.05524847829693004,0.11468808614235106,0.05115766606890039,0.05991935865564753,-0.06665065280999047,0.1606634561169872,0.11264782775817293,0.19502953366057288,0.3200547059106157,0.13254572775219367,0.23226685920021026,0.1217393191147917,-0.01920350308713697,0.19554580551892312,0.25742001103993356,0.6818710216110365,0.5431938153263799,0.5957307778370907,0.38198616339348707,0.6573611755016237,0.4712915306503053,0.7440478643132742,0.5467872277248788,0.8343541828459341,0.46233884853753826,0.9448094280138982,0.5258151428454172,0.7742644463014808,0.5657526947153194,0.6906024239134962,0.6438907251144406,0.7185123973396913,0.9006647499542039,0.458420412950778,0.7763435882311251,0.4440700206826775,0.5955098718014121,0.8143022989701443,0.7612700878080546,0.6406287191267624,0.595867701866472,0.6848151363416682,0.8172356942457624,0.7050709953829468,0.9122742246844529,1.0185075897317069,0.7015280296087052,1.0161738406156673,0.5067086491775482,0.8646435116581799,0.5843563108017238,0.8429522915203705,0.8456035170633656,0.9017696750021491,0.8076759574042297,0.8501099929043285,0.7762017740329508,0.7415477351031217,0.8425194210087464,1.3783181062860785,1.1527994326643816,1.449285644400966,1.4369825362876771,1.2232929937625514,1.5603463489785085,1.508065102007974,1.348098057677927,1.451678212272148,1.4108233685109695,1.417486646745512,1.4241499249800549,1.5758803862061623,1.6109983479439205,1.3961117769963558,1.4462770975011165,1.726218328497734,1.5290929213051225,1.447258712609385,1.4625825824899819,1.635407306640781,1.4691401803416373,1.5283743767732227,1.374364828309779,1.597126318599692,1.485745398521117,1.6530237190390036,1.5228992140402895,1.5975377069090733,1.6689936567395554,1.59538466949591,1.4757346708359995,1.6409393142510493,1.6320973090339561,1.582177563872125,1.706356562315039,1.6925675966465676,1.4231958121976143,1.5901096723292882,1.5506626459701782,1.6232865990319139,1.7000275511910194,1.5059451745615953,1.7368829293050252,1.5771353697843566,1.6990472462548156,1.6945611788175996,1.5068050346285717,1.6138177817838633,1.6917638076921044,1.8478906616762916,1.6828175810155521,1.679561228003128,1.8967479365768816,1.8358916592562835,1.7893445953140452,1.6310115558362794,1.7624735149378872,1.909528918089334,1.640261175846247,1.7885786157638064,1.6218039103220403,1.8312189948637987,1.9177076534578645,1.708282786428305,1.9045473433354816,1.793189599750354,1.7799310943882314,1.7567561136991905,1.9244433746510925,1.7735705983260726,2.3992625094781337,2.303053897433034,2.2835944754369555,2.4872870129852167,2.4131267754564414,2.1816417393266465,2.639755697185697,2.6560100874821346,2.238312621116365,2.4012391255772965,2.2521345454631923,2.3432651292371025,2.4120868536226836,2.306724804564094,2.5454157027288833,2.482316546496557,2.4217884876184024,2.5375482321296476,2.4972018196146433,2.513590671483758,2.4662501062449707,2.4509433846002104,2.4593524755946112,2.4262423747788304,2.533984236966775,2.5639688461417163,2.5235675284126047,2.5066942305498126,2.540440826275397,2.557314124138189,2.6867490127390155,2.6469024122670866],\"z\":[0.13411523190484795,-0.5505495040193996,0.6294436935707072,-0.13471278485501678,0.6302739722132538,-0.36828019170855525,0.3967065653597153,-0.30899785750826647,-0.27985482487253877,-0.7182900978151577,-0.8354410381497485,-0.10413675882428311,-1.1052918808511643,1.0803566843604346,0.31812170602840945,-0.1631095923294562,0.45998404747099053,-0.39240551453239764,0.15387848520253491,-0.303177981915656,0.4941763699873193,0.7536984446453624,0.3295455900992264,-1.5164153033835155,-1.1911540877202447,-0.24454616783480446,-0.6608055461262278,-0.4563727737071037,-1.0931788707980672,-2.1022809345394116,0.44199711262050667,-0.40552256584178176,-0.29583601303819423,1.7021569460270216,1.2657107356727175,0.11855913396756926,-0.049067166722686545,-0.6846151782786569,0.5302266040715509,0.7838012445019834,1.0359438246508625,-1.6997162971254305,0.5726989482789182,0.7731009244326209,-1.1222277973454882,0.7726698063762726,1.3833761660630985,1.1162549795084613,1.6046716572908837,-0.25412812945814367,0.05728139681260959,-0.8604366172203278,-0.5760607852570352,0.029331161722771972,0.11048755852256617,1.0181321849080387,0.5623412118892136,-0.10926657531787742,0.5352426606426169,-0.6217688855741828,0.4629019293368462,0.38844760044558585,-0.198481385725056,-0.19477277656309477,0.20255289651978223,-0.561541418168234,-1.0426093100898053,0.4302571456514745,0.024790156395559666,1.1579958953271758,-0.8322471008876859,-0.04324463921589462,0.07365896263657197,0.5592722566566205,-0.0823276104903354,-0.5014927643211179,-0.5662990998965101,-0.024960476351622504,0.6951790573299973,-0.25204705233548147,1.5821282974532034,0.4527819688684029,0.22198084067030466,0.1490932657788599,-0.22515012910958365,-0.9979457663269652,-0.8966986554690908,-1.0706151289705235,0.5276037887182612,-0.6441295855589914,-0.03419756622487437,-1.2787691935958776,-1.4295917228177148,-1.2080858286572995,0.21210529528082508,-0.9518900134770726,-0.3642471451476723,0.14784314963989026,-0.08213440667948155,-0.4102780503121952,0.384558017468946,0.8333906904159575,-0.8484264735717579,0.8329242395570056,0.38219702359748486,0.039600525327486154,0.04439951771067696,0.3549421336351245,-0.6299793888664551,-1.304930507059774,-1.5259200617428217,-0.507780342954889,-0.5079406818249136,-0.7902873245188619,0.6825450693386859,0.6104799068356314,0.9069973596367773,-0.12101076343299484,-0.3361622206594769,-0.3313632282762864,0.24320594031927703,0.5931208754025188,2.4422394666446774,-0.1775283588934107,-0.17272936651021997,0.4137216453549028,0.6156136829882791,1.383007219123706,-0.13179383191136773,-0.8842919445445276,-1.3735038209998855,-0.4855372446554525,-0.7151144980619877,-0.7213472955507862,0.3603531469093815,-1.4724190493119553,-0.6869507939958102,-0.10392238233104198,-0.4932235296531291,-0.0851331497452661,0.6842530549079541,-0.5488918393875576,-0.3756392076972011,0.4174014637978799,-0.5025191778976188,0.38665756525453965,0.13931846934663142,1.3536698434175791,-0.5997387343424214,-1.0539765177510025,-0.5851884942533091,1.735126724472881,0.860213495694835,-0.09557892325378231,0.49249993004572706,0.7941571319913024,-0.8506758497276659,-0.006710085593556623,1.1582768725638863,0.6778744355870027,1.0451728461559997,-0.6590361270962266,-1.0055653756161917,0.11051687157235543,0.21339781489852916,-0.8021065806885906,-0.8108656751495827,0.1660024505671468,-0.2899746869266685,0.3596402421935301,-0.4243026454324825,-0.42607515981901994,-0.4703015797474333,-0.4062758715630824,-0.4954475324873147,2.0454376434524195,0.19617321470219531,-0.8630502496617263,-0.7047807264384468,-0.3207313073450875,-1.5036532162346727,-0.000850913449876798,0.30322703054179984,-0.9428287514898308,-0.9435982866649043,-1.1519129453714838,-0.18149463489623482,-0.714710195692782,1.7878620294536298,1.9841985135693279,-0.3910505097598567,0.020583550088214043,-1.561178145470261,-0.00556365580007422,-0.4837747151419007,1.3295890730402462,-0.5726576384579574,0.9136159260447423,0.5171752828630665,-0.557300249520435,-0.2897664969864873,0.3749120857842926,0.0790776865967999,-0.3154259246993826,-0.2788608836488192,-0.1433812349572349,-0.33852290147475944,-0.3667480122121079,-0.22163017809831126,-0.25113482462758824,0.18562413814618633,-0.9742694456315346,-0.6071980015980958,-0.6076644524570477,-0.6081309033159996,0.2647423548382821,-0.09779360605438968,-0.34376996145941996,-1.341275160843355,1.312598540448691,1.5471711108647104,-0.9381395346472926,-0.6600032290811595,0.3988503723881725,0.9144697585927815,-0.818353824459227,-0.5560849403021888,0.542939463937761,1.0647212093454663,-0.1625296071639716,1.1715245342605451,-0.2742908087134618,0.04800273291900634,-0.8613947848293884,-0.8364393685680425,0.011923331977733357,0.38321899545211696,0.5457810172438943,1.0078249372686683,1.4278992832768254,-1.0424326519221156,-0.11274904280404675,-1.162301907167701,-0.9685077381648898,-0.024366649118439967,0.19298773046537995,-0.25510081113508914,-0.31268728789935857,-0.2362986681506056,-0.17627410726235623,-0.17273316933233218,-0.6664275625646675,-0.5109227381513071,0.5286260237464953,0.2001233722914391,-0.6254579128345042,2.0595991883670557,0.7385797110911239,-0.7471891039045382,0.3937526366094097,0.06796482674186632,0.47112319451729295,-0.4235379659075559,-0.11305766391205445,-0.08609763624030412,-0.3756007647500572,1.2811418008992306,-0.6426006375640905,0.2694523034666103,-0.0753353335113405,-0.28499512218154655,0.29380158686156116,0.08789187728241854,-0.30887743120600014,0.2949320404569327,-0.7527467473338286,-1.1467590432585963,-0.6689145966048359,-0.719409153188341,-0.9502391175810447,-0.18268541581457348,0.4316838803094407,-0.7482037350606252,-0.1742404437597882,-0.16779060551732866,-0.3640692392469054,0.1876826878154984,-0.5949219895334614,1.2323290396714912,0.6406361980190407,0.08815745330338448,-0.013220355303014334,0.19421724659911987,0.37037235939574564,0.1409263436889694,-1.2588523867430665,0.32519852962893153,-0.1483071612137216,-0.20023951735703066,0.006587714679911515,0.18981232370619622,0.06044835059268903,0.31917629681970344,0.4485402699332106,0.9653229053012131,-0.7724642667670002],\"type\":\"scatter3d\"},{\"hovertemplate\":\"color=Pokemon type 1<br>x=%{x}<br>y=%{y}<br>z=%{z}<extra></extra>\",\"legendgroup\":\"Pokemon type 1\",\"marker\":{\"color\":\"#EF553B\",\"symbol\":\"circle\"},\"mode\":\"markers\",\"name\":\"Pokemon type 1\",\"scene\":\"scene\",\"showlegend\":true,\"x\":[-0.7364262606001938,1.1704904744968425,2.7384370861917713,-0.794202589923651,1.2576164377213903,2.7972070414991643,2.9146767003510345,-0.76124515145836,1.234791006254834,2.8212062912821776,-0.884626550557625,-0.8802769480691437,0.5756525085865126,0.3621879911064773,1.9403856080791426,-0.6935111554189853,-0.24782631701204863,-0.251368426845109,0.47225327884901974,-0.12948329627795507,-1.3974655888774032,0.846355486729394,-1.4074643546757755,0.8191204229742675,0.5710980201450038,0.8357207111325211,-0.14118740352688758,0.019941967725588785,-0.8570107978011843,0.6638164854883088,-0.690878594232526,-0.0404251973032335,-0.8542498301960891,-0.27291487665880854,0.7602536411455799,0.011179569549957118,1.6281014086723014,-1.1378693801498914,0.9488271835112002,-0.8459330342180772,0.7626265560865748,2.1154455124015787,-0.7070454781930006,0.9118698088957812,-0.9698677721794187,0.6386918181252335,1.076593320611532,-1.0562857757989026,0.6421993221869546,-0.7031333338667111,0.7271874112056256,0.6819497605565056,2.165371897401346,0.16718162505364714,0.05491517853852088,0.4402277082429225,0.9088635028137854,0.9329888346284924,-0.7812729824512985,0.7381671852371958,2.3064718139000218,-1.2866193412178586,0.6270312407315668,0.2454188263510227,0.3538974643286322,1.1418718306253892,-0.41874133805779595,0.11583265955068324,0.09485849842529136,-0.9394887481332806,0.5679508449074145,0.5175939084614276,0.42565484265182124,-0.34991818156988386,0.6404923495197898,2.2217963513470202,-0.28576559760575937,0.04453140032442227,1.0342357090089918,0.20154176290143722,0.7359261285040523,0.14803550242435193,0.6273284743200945,0.7295706955488755,0.7159769439515135,2.277270416619992,0.5307407446353384,1.4904020756770884,3.0908667137754287,1.4876867247424637,1.3591237235672613,1.162155951170094,1.3034207746475965,-0.8011071117458093,0.6770630038658655,0.6410466562240746,0.9675801852148348,2.5288736578833135,1.7128765003634037,2.143137769981998,2.0792884686610034,2.079833476419301,-0.4621054525804272,2.433350216887281,3.634827702217982,2.4026343433341344,-0.6419536028752485,1.2649631322217878,-0.6689834077632326,1.3828356198818088,-0.6630761619568958,1.3231733207788632,-0.5276769543286701,0.0657436112900823,-0.8194672501302954,-0.8480007207208264,1.3389218880742078,0.3404050160352127,-0.5556766409530209,0.3508442878265569,1.1097736543067878,2.7334357664496367,0.7807269247857668,-0.31962208369790246,-0.5720346838604425,0.9567416770854346,0.22382549112213418,-0.17278198176399726,-0.9247226811871574,-0.1710075272746109,1.2794464418066807,1.3710451979675844,-0.6821569949693391,0.8960876091767888,-0.13867391796151016,-0.41830776835862044,0.14711387669292675,0.25781480809015317,-0.3908394028820589,-0.32962471410182465,0.9052046548947014,2.5033322409949257,0.13507993774365884,-0.2951454435286743,0.8673088917237564,2.414777563860311,1.0680038754611338,0.9109660038884476,2.4718712283932884,-0.292775123850222,0.9473289648873887,-0.5461720632979529,0.13694037715946533,-0.9616482685543257,0.6393451988171547,0.4747763046917195,0.2187034500894421,0.9213007266522445,2.436196675669524,1.52915228204777,0.860420600703523,1.2011934056103701,0.32966497930214445,0.19429486976506488,0.6630612600544182,2.0248549934209774,2.1827457969769384,2.171041700084027,2.210063840445872,-0.4872794542279796,2.5510925716708934,2.5006820005844625,-0.5875708627002726,1.3898418814551687,-0.5359777898712159,1.4387792691746935,-0.5148499227442292,1.5822855332286037,-0.3301736591094918,-0.3581650546849766,0.7251628407900361,0.6592546500895684,-0.27959314878735075,-0.18815690930903645,1.3459068050885257,-0.3356436441801382,0.2888145606730426,-0.04833059030582534,0.10343364936038633,0.8885338478258965,0.6857521755443932,0.7329510445030631,0.6343055321153052,-0.24044400374154876,1.3006953158770298,-0.4732307485581606,1.086575564999844,0.5324684676074124,-0.514490836877145,0.5370836686480522,0.3069532026207184,1.1323937077310067,0.4298847872984846,0.49972526099781145,0.6050416376347658,1.2804724495615238,0.6348939553699233,0.866445590866858,0.29586334907271183,0.34992802496500175,0.09210308261689888,0.012642672020372607,0.5620407614934589,0.4652558508625975,1.0259450577118916,1.0270068786578066,0.9504118448096704,-0.2608462823134079,0.1928563900592058,0.29450267332176805,0.35915202070915087,0.46072272528584796,-0.1498870023758768,0.4395626115118151,0.6982062227165995,-0.34181103883580993,0.7520228760038724,0.7572297549983409,0.7345891319647743,-0.3093978326951824,-0.25660359505424757,-0.025212913606674995,-0.10053199520520684,-0.06287245440594094],\"y\":[-2.1409336598760484,-2.3923857318338433,-2.555566381583905,-2.180914548231162,-2.455165205289188,-2.608332683864387,-2.685228568169027,-2.0878678316789636,-2.3511608452407367,-2.549342437812401,-2.139482838987256,-2.107790418894186,-2.437587099882066,-2.281662770156769,-2.5620759555447954,-2.167705917454041,-2.209612124077589,-2.1573334663960244,-2.345926641859488,-2.041894246573056,-1.9209247635744338,-2.2122381723119724,-1.9497402378935644,-2.2427035246456257,-2.146266552414545,-2.2927029937129437,-1.9716527593857278,-2.1402111324418547,-1.9238979354601333,-2.1149347520698836,-1.8745917378218222,-2.1430310923266367,-2.135790006139803,-2.155860629449109,-2.177291440483402,-2.1101328662669965,-2.277939193718777,-1.9412123780975448,-2.0927177486218245,-2.1205360135255362,-2.331974040922521,-2.581089614730711,-1.8224765867311528,-2.027084415718165,-1.8625273639531732,-2.073965391350158,-2.2107264520197187,-1.7043884005279932,-1.8958035523577201,-1.9705111551396712,-2.158267299328699,-1.8930833154325615,-2.0232655854770822,-2.007329590959907,-2.0258691104779976,-1.9692075812837444,-1.9418059701261319,-1.9519055375650456,-1.9726860644754307,-2.1722831502684374,-2.4246603128890283,-1.6873416575887559,-1.9695588786913374,-1.8819726818440066,-2.149922162445846,-1.9675240499972666,-1.7211319880067992,-1.9463160461166016,-1.8903294262178443,-1.621999242383988,-1.864704582461051,-1.7154453379085424,-1.7318667043831504,-1.757831431673621,-1.9085899394741632,-2.114739762761649,-1.8476088949094485,-1.819213707486387,-2.0875985311508485,-1.9721665186736852,-1.9741123785599133,-1.9771029503738315,-2.0139504757125724,-1.9897774483684714,-1.8834729692023033,-2.1083932088708233,-1.9184355811816176,-1.9543593607648517,-2.122498126488172,-1.8822024322234048,-1.9097471034782287,-2.125768336577256,-1.9384641742319946,-1.6111435617069676,-1.782541172176396,-1.8226239484974094,-2.0125459763590294,-2.237466216027549,-1.7546794148550398,-2.019583647150033,-2.071992196582709,-2.03276739085667,-1.6877814375840094,-2.010779917015889,-2.313900978527273,-2.0505013745613603,-1.1847300507819856,-1.4361821227397802,-1.2546152365237349,-1.5288658935817605,-1.1398286819833203,-1.399370480727009,-1.2184045461258604,-1.261790489881424,-1.2303691171677258,-1.0395048678583,-1.5290627256817928,-1.222899912358904,-1.0852646082058612,-1.3316465296948898,-1.2807706425655205,-1.4585319407416295,-1.216037746821124,-1.0517545154018841,-0.9256244280119164,-1.2828771954823228,-1.2970261036745017,-1.0579380984617983,-1.13627176376451,-0.9814170700951644,-1.4617757126621833,-1.2353202729027335,-1.1450587101852914,-1.1212191109400798,-1.1872513857503486,-0.844980381117631,-1.1891435706422997,-0.9755989978353085,-0.9581683309091699,-1.0541888019402004,-0.9590332254100421,-1.1180196834826723,-0.9947471372328145,-1.0769797976900846,-1.1258068849605756,-1.3059274895615332,-0.9537991252896253,-1.1877865048686351,-1.2954069241192856,-1.1668224400168254,-1.1052277612328683,-0.8767923963611564,-0.962017369505872,-0.8488658921176745,-1.0578173867295302,-1.1326198611778031,-0.9810927953791589,-1.2425552258835975,-1.4614007401814917,-1.2355708101693361,-0.9783366566970126,-1.1228681125245308,-1.0982504329005485,-1.003739372725411,-1.0707296329931386,-1.0904252533230265,-1.3709424216416466,-1.2610917185070725,-1.2293061528739215,-0.8514578646338496,-1.1821973421195981,-1.2941156578347726,-0.5703137665502758,-0.8438169273098265,-0.4263951832827422,-0.7054105237493888,-0.37279823721272887,-0.6112593208420726,-0.43541551864587713,-0.5070538604304721,-0.5508186187067773,-0.5413512906660729,-0.5528029575579984,-0.391887449111188,-0.6614014701618441,-0.3660497868063967,-0.4175594102944589,-0.4144075609486382,-0.6580314194213759,-0.457374125319673,-0.2973689404475601,-0.28899342539194967,-0.32696817614544266,-0.15466626386139345,-0.318128928015051,-0.3067616781004842,-0.541770251301445,-0.5118372097187481,-0.3695565108000924,-0.2870466937899805,-0.42238029738671046,-0.31942241562346285,-0.2655742035666648,-0.14145155121283537,-0.3943750342291882,-0.4734739138464183,-0.3080798366308482,-0.3598407953672613,-0.3162245287310731,-0.2796953101372532,-0.2729098706208993,-0.20108723059269143,-0.2223556620216443,-0.21978641540397734,-0.33607426446863836,-0.22389162044572353,-0.19636351079198236,-0.1555543744955858,-0.13499718265072977,-0.20258603260502386,-0.07257516040811533,-0.1339545502449694,-0.15965640005454296,-0.22409428020035008,-0.24629819974313388,-0.019185212757584332,-0.16207165998657933,-0.1770446361706889,-0.06413290041983362,0.0168160926604148,0.00596793908213904,0.5350327670246453,0.5852191526342009,0.560125959829423],\"z\":[0.11805423947263682,0.12285323185582755,0.9063785759072542,-0.5790446869200665,-0.6569304752978066,-0.19567245426564686,-0.8553295737722018,0.6419275071283687,0.6914408776497466,0.7208738222417796,-0.46099687938357825,-0.36546110132960063,-1.6988988829357343,-0.5017811603342328,-1.3612985318940005,-0.6228042947024256,-0.7424548571464948,-0.09807971198792559,-1.285973274792269,1.0864137311967923,0.3216626439584334,0.4122276555243805,-0.11889969883751442,-0.20963542217119843,0.3741691156840916,-0.34708356734040424,0.022127564104007878,-0.2946048261729652,0.6123015830132269,0.6373332062424367,1.305078125794746,-0.7397693320976642,-1.4184862779239016,-1.1850970408838872,-0.23723106654528034,-0.6547484992898702,-0.44840937533778114,-0.5129809337355568,0.7932602324869574,-2.0987399966093876,-2.005770302402989,-2.6467446448114917,0.7321691819162681,0.8153337363088227,-0.40198162791175757,-0.30901193370535895,-0.3459470496429151,1.7056978839570458,1.9415917345478393,-0.7790515536975148,-0.7755106157674907,1.6592627440824694,2.8070602528798205,0.035187424527552136,-0.6785581314422996,0.5362836509079083,1.0134301820292775,1.8466794617065696,-1.651460981057219,-1.6032056649890076,-1.8385971669998766,1.9146626446922956,0.5328200058036474,0.7791579712689785,-1.5721010718255077,0.207574739908399,1.658863476810263,-0.0932406890749789,0.6901144740702764,1.2551234110745926,1.122312026344819,1.8325717801317711,0.40541497853975256,0.626432078785776,0.256622569487168,0.42071214128684165,-0.2927854607599735,0.1408805509282478,-0.8531215159308038,-0.4332473558833382,-0.3406424636287328,-1.4403154853108049,-1.1376873588428726,-0.9161814646824571,0.40764067485444333,0.436876897432489,-0.08211083004097891,0.3889652309677176,1.1644256433214961,0.737455459809057,-0.005650908391895348,-1.6876157842969646,0.034008932506237904,0.608444295809836,1.081957126319403,0.5152000209483135,-1.2737206136362478,-1.2444843910582022,1.5145536755490345,0.6227035819101837,-0.6130827533848923,-0.3332953772964947,-0.10446758293468658,0.3489726998573704,-1.415302497945405,0.037983644875662116,0.5487033438536905,0.5535023362368812,-0.6502640684748496,-0.7281498568525898,0.48677734504782916,0.4897449688842106,-0.44224692818640604,-0.13456360127136976,-0.2955043070810415,0.6657618758459579,-1.0366650608752053,-0.0072839149488849305,1.157908443016603,-0.8261900540513285,0.46014884901572606,0.8057358777290183,1.0458964720327935,0.9281660350126576,2.1202414484472385,0.23465865512594616,-0.5384556277895627,0.41351602838681095,-1.374215576368245,1.1584609232156242,-1.4681381787556547,1.6207288126412895,-1.4877223946050178,1.2537585116712748,-0.5924325539773224,1.207603820410385,-0.6915761990304405,2.096547288813533,0.6456483637636132,0.6119959522736653,3.635123343224146,4.498792997107563,0.6972931582737235,-0.2794694705831289,0.9088635242554738,1.5751773673911995,6.551259378583004,0.2523695624611659,1.35992633525907,-1.036669060037732,0.4616076818085659,1.843075862751962,0.7223654961012062,1.213999086924859,0.37223741093820084,0.5060572866432081,1.6560731780647835,-1.266644805490588,-1.092903529535398,0.14501853087060732,1.4938510350459588,0.5550845306888976,-0.7097669515012324,1.0888424048303795,0.35693317133029395,0.2426045763961461,-1.032241853307925,-0.41391591861881133,0.8603352270545833,0.4436296155089006,1.1004146761105462,-0.02134123977584694,-1.385229837484417,-1.4937935090236687,-0.19404826962221705,-0.6468155701994878,0.4730708170380315,0.6888303977897993,-0.07233963976334973,-0.8022499510417516,0.04675528774698589,-0.7207151122001392,-1.5539001296503827,0.4894896649973443,-0.507955247576035,0.010566424227759018,0.07875416098221295,-0.29162241216071677,-2.654352206543122,-0.2371354796167209,0.5791784700785896,2.3703586049792422,1.7793823451448956,1.9916616989357112,2.6003161787477165,-0.09499222114604734,-0.45406424837083986,-1.488347683809108,-0.9854287966265236,0.7077562399662328,-1.7738787912994596,-0.45746944324455385,0.3106660860895602,2.3318206457657276,-0.19565100318397494,-0.5415767380980335,-0.4663749310308852,0.424716565087404,-0.7457165868338603,-0.5411303015037227,-0.2766643905416385,0.3037713932138663,0.2809797620729485,0.20038712620398086,0.9269033482708372,1.3511433616135335,1.1746178896355888,-0.08821445114635593,1.091415974394586,-0.29494144197139155,2.683388725000893,0.8327071610066197,-0.12541139051584005,-0.5801301736549722,-0.08826382196425818,0.49729892242891777,0.7916306501872568,0.6149789416985043,1.7413920991270422,0.8582291180985812,1.1630758649470772,1.1395487705364438,1.5437992966621483,1.341674033599296],\"type\":\"scatter3d\"},{\"hovertemplate\":\"color=Pokemon type 3<br>x=%{x}<br>y=%{y}<br>z=%{z}<extra></extra>\",\"legendgroup\":\"Pokemon type 3\",\"marker\":{\"color\":\"#00cc96\",\"symbol\":\"circle\"},\"mode\":\"markers\",\"name\":\"Pokemon type 3\",\"scene\":\"scene\",\"showlegend\":true,\"x\":[5.225306866101028,5.3033757133814365,4.096224191809332,3.8150052903294522,3.918555679030314,2.925912210474216,2.998585582732698,3.161252483057718,2.9457097114439117,3.670236936238394,2.8477512743298234,2.080762567111486,1.881126214580046,2.0727075357124445,2.4309504739412158,1.7554344730221243,1.889218761997163,1.9648718636361897,2.258862429162246,1.5651056962612266,2.598783726357614,4.093256432532383,2.5716577269025427,4.097604245249751,2.189019109706549,2.5544620327068666,2.3725397337040635,2.647890451454722,4.233455843594424,2.6296997693857307,4.211440950416843,3.8493054255392334,5.4821182342177766,3.661540496541141,5.228382431613615,3.9086885936778137,5.4708319592339345,2.6168440077748514,2.4580174892242534,2.453556011892831,2.587428258397631,2.4074401161870678,1.5020845145503163,1.5633502143610432,1.6300664597913692,0.7820889675587284,1.4689439688073822,1.3622583836451154,1.035778425706425,1.037246275196071,0.7429428835243406,0.9376625623661535,0.2903360634418843,0.8336270523196528,0.7295007482595972,1.1597936705624565,0.7338303726614717,2.2517157551077385,1.0333386927373942,1.2123322314300802,0.2483673201859785,0.7693499950190464,1.1803397038417398,0.9198403610495912,2.674055388109099,4.275807098298963,1.4767605300256366,3.0020280131186774,1.519459336217427,1.0073274868473305,0.9412997179457409,0.43173493925212225,0.4583087531751362,1.0858439069171206,2.726766782536846,1.204706422392959,1.6676864598589616,1.449006303896988,1.6516411420533303,1.6263752866682877,1.75127825813904,1.7996037116792574,1.8913630850441623,1.2884169201416473,1.3561539361424526,1.5162848341665782,1.1558748070422518,1.5920917967428783,1.6828057878888971,1.4794802251862063,2.965867329939913,1.5964544436401928,1.553135708315986,0.7352224149095662,0.11543289629910211,1.4074032824228695,1.4074032824228695,1.4074032824228695,1.4074032824228695,1.4074032824228695,2.377585485293259,2.408434715474651,2.3320440743075013,3.9810105367069237,4.021803589708169,2.753406244959352,3.8379442365165506,4.0741591888123185,4.07118487059137,2.789801792814919,0.8106388049193285,2.717555540016365,2.6401264256818564,2.718621090012839,2.666016277903878,4.625537825109876,2.764456797435936,1.5611552444779857,-0.07799202282118388,1.6864455350485692,1.6402983266883442,-0.1170607472917324,1.1848628182018597,0.2512425651188331,1.107496300260147,1.1085618502566212,1.1096274002530953,1.1456159141915236,0.9239756853183182,1.066773366375448,1.4505908081269758,-0.08334909163607952,1.3406381064038884,0.40233294456058966,2.0089588457656355,1.3108564384220867,1.3827506614037088,0.7464455997239688,0.6152597539971159,1.171076191997199,0.8410519981873017,0.7789005895880874,0.8620898130809341,0.5007440987379643,1.4830817269283394,0.8745941648232323,1.9421096726526716,0.6197366500565652,0.7778202594262851,1.0451882564248118,1.0175955879681242,0.9529062076203891,1.0989747168178394,2.219721428152067,0.8077591418442531,1.3071866460301063,0.662129785424511,1.1128267953646813,1.2167032389759787,0.7503253228951539,1.7975066702292066,0.7927468586904479,0.001316334948123683,1.2449007693862275,0.80439042666217,1.037438001093704,0.8093855155184266,0.7196110986265396,1.1387616289305156,0.29130890735497567,1.4589734582376725,1.5372259933107981,1.1091660105485912,1.5475965474632085,1.7978072658478572,1.0710887979060841,1.134881141402656,1.0752487629639411,0.9341566413875413,1.3338056021677613,1.056959877046762,1.0241816237940424,1.0293927692426255,1.1467032676118711,1.4235962926605918,1.428804938066999,1.0278837716101374,0.7953336815162884,0.002051248122361755,2.834962208555262,2.101337655071443,2.3954515901779168,2.4884313429988043,2.597855326340947,2.493252686248403,2.4758978421991835,2.4937854612466404,2.5161330424035078,4.181669671453776,4.1045463128553665,2.8092641467048587,2.8246005718673795,3.84123330839536,4.457809098660746,4.504816847452476,2.5060147393739602,2.5060147393739602,2.9617497691398835,2.7623736254690745,2.814703723248575,-0.25929887322346157,1.7414601729497041,-0.135348347591847,1.8563334753536342,-0.26557732014069985,1.707381073972715,0.08862220871420286,1.2017474798787373,-0.12535333372606708,1.3775924464863927,2.317050552217457,1.9175489477577412,1.2781850513841653,0.8752044368984766,0.7376569285356674,0.7376569285356674,0.36794560087224526,1.6519451406488703,1.666816731753611,0.8694236034044114,1.0032164133571322,1.0322093875024418,1.285649993432555,1.3468783012816452,1.366235323685191,1.0299417642826638,1.5748767903720655,1.796658036098795,1.909504775166473,1.2339545955565647,0.19357174593491966,1.3661690458819142,0.698904465345277,3.0922622046827364,0.8336367933197149,0.9776710261554268,1.1333760657197183,1.0941546275401073,1.1725975038993295,1.2118189420789403,1.4311984971731937,1.82757914122549,4.242848253373646,4.243381028371883,2.90027400564786,2.973033658618741,4.452373215983715,3.0906339563090373,4.346958545364198,2.913704394413881],\"y\":[-2.4747594883634045,-2.579611668823984,-1.3531656390698654,-1.4606884114898904,-1.4535697616822276,-1.1035890481918618,-0.9404190969503495,-0.8082568364788679,-0.930655543818273,-0.7975937253602902,-0.45273604541567486,-0.7829847887203728,-0.6192667261490163,-0.40532444417860847,-0.5413676506520674,-0.43032044965943167,-0.4080220037597383,-0.5341889426478907,-0.5005474141272263,-0.27063728471537896,-0.478370175789337,-0.6704726192679313,-0.3449245844536786,-0.6256902721856464,-0.16063644671201072,-0.3624751973890646,-0.2565583633746306,-0.5207809262038746,-0.6997218775924079,-0.5291874986335665,-0.7090644759038506,-0.6039922917596108,-0.8082486097019009,-0.47519468861845066,-0.6658738515539472,-0.5870457450849467,-0.8312066259365979,-0.4244542111209588,-0.6402972182938154,-0.6705622188911388,-0.38924612819868915,-0.6699835947831874,0.2917417433685853,0.08618259186519857,0.22676893346956611,0.26986270118216427,0.26471309690781103,0.1580496688174199,0.39993087750844825,0.5048175503310225,0.47446607110493266,0.24457525260736138,0.3888988552348023,0.4981710872472363,0.2966020489217503,0.38176816372832717,0.33343666405722083,0.0963124117620852,0.2359059380358013,0.3743029847219444,0.3777438776887167,0.43549872247854177,0.5223883255945504,0.5351837542013841,0.22307952546019233,0.06197296457094213,0.32392132988385636,0.093005252101709,0.5548029804085046,0.4440754575989396,0.44814532655275063,0.6103744327846589,0.49085767166942185,0.5234891117478442,0.41916402480379283,0.34236556599665297,0.4473927251313027,0.5594348945988459,0.6436673684353108,0.5595347709603948,0.3530916616598791,0.35497121702697976,0.3776127882649163,0.4285117371668943,0.4850637326054294,0.4687131903186971,0.5238268669724228,0.5074670614191056,0.38104447078244846,0.459740530375122,0.23949318911582437,0.5908751835300224,0.5834771496776653,0.4728656731890121,0.5692473155071816,0.4474288189432994,0.4474288189432994,0.4474288189432994,0.4474288189432994,0.4474288189432994,0.37272274671603833,0.3910534200713779,0.27216288334317634,0.1948706956108904,0.13257396869440274,0.36401697893109936,0.24707148259737471,0.2680732895303928,0.24789662246551053,0.4127086436468092,0.6000417731497804,0.3485897011919858,0.23167381248919866,0.35525297942652845,0.25921694453511557,0.1038009074687339,0.785138062660524,0.8831785814391719,1.239335506186518,1.0218972782997946,1.0149988761921578,1.187650586109556,1.0900868527399097,1.0561909407975478,0.9911532073334854,0.9978164855680283,1.0044797638025709,1.2401816783573834,1.113117461369701,1.0040092507043057,1.306889948899403,1.140081831048601,1.131525404183039,1.335849816397371,1.1594947689051107,1.2918200147005154,1.1625309873075367,1.378037647334015,1.2425349418202678,1.1402146471867296,1.1394732333339352,1.1150452319212947,1.1614903935669831,1.2088660873089405,1.169848042539551,1.2592488266252821,1.177867746572608,1.3051450394712585,1.4085947925687798,1.334869745310615,1.1737841052153748,1.4141175644879218,1.4359654894441491,1.0249986519749028,1.3319555621676071,1.1279837892168252,1.2305156573263845,1.3094188750261164,1.4148610533669173,1.2799292959799562,1.2138417478765102,1.3300068026824925,1.3578195277693519,1.5145154620209282,1.5353780684002534,1.4054765543629375,1.5435198688092626,1.2912540528023353,1.5757161312342058,1.5479725392704426,1.3270545647223497,1.4135733279495561,1.4570963317227346,1.2881407406991845,1.3204257890668731,1.5332850283089112,1.2621455963018025,1.2068929204953565,1.6067303708896963,1.3170268109367778,1.561796411419648,1.5627784475225683,1.5220579169906696,1.5800745706891088,1.4700530927780195,1.494681211517981,1.5104893679063889,1.4797259900471174,1.672991302693298,1.232007830638564,1.2684050308402606,1.324303970575248,1.2976954135987753,1.2401042034314933,1.2311115166428395,1.2178532799689017,1.2344431557601108,1.244061264490454,1.1192729890655846,1.181943321443102,1.271854980380461,1.3089300120628757,1.1945985794717304,1.147471528353187,1.0857691049456475,1.2721803729280103,1.2721803729280103,1.260091498657618,1.2498942996733404,1.268672542086305,2.2118422978277934,2.00266485979458,2.0981812539693117,1.7893684841059867,2.056568422762141,1.7814324747229424,2.144091153402101,1.8719897701068728,2.1107328996265595,1.9072704459195615,1.8542167140409294,2.004043298730118,2.127198912998786,2.007452653023165,2.021436233155029,2.021436233155029,2.3623846308378598,1.9987657528532752,2.099649088177687,2.2456900758242484,2.1272277380015128,2.1474390159058268,2.1581316073651715,2.149230333886633,2.1105664390096335,1.9790534580806458,2.158158403035716,2.1331234147706812,2.063608197014341,2.027189130420253,2.158624564031343,2.227402908239097,2.209991164518177,1.8927091145058024,2.193559221730005,2.267932727956159,2.2028809398538054,2.155172982112359,2.250588897595252,2.2982968553366985,2.43791288147096,1.9777341285115189,1.8053915663782536,1.8087232054955251,2.012128845241736,2.073153060144104,1.685164230804731,1.9314080876371207,1.75574511972971,2.0336847937079603],\"z\":[-1.151830860608388,-2.1625699754478425,1.8549377607759105,0.9600857873055615,0.4015292007065143,-2.2339068080533635,-1.0058875974242802,0.9411292111191113,-1.157361779393318,-0.1952341361065908,3.7849093690675537,-1.8585925350416053,-1.312131337146763,1.267623955356957,0.44926725783908233,0.14554272038160995,-0.24965014354528642,-1.8618448737147737,-0.9238533405215269,0.5020979148121084,-0.7920370196897392,-0.2348697457720655,1.0833959732424958,0.6665070143180084,3.475699088078603,1.8952594396687952,2.6851294257294853,-0.3977652399077878,0.10818519601672139,-0.9676074500397327,-0.7617560223884233,-0.16616043071659872,-0.2812325395017105,0.8442326591681866,0.7805741103902264,-0.7294457031568928,-1.1767269719113234,-0.08859578902953869,-3.324009994608277,-4.488934744016791,2.0211285731416258,-2.3076509053562666,1.0499718385391903,-1.2716743902688452,0.39776453464153555,-0.6913489284950519,-0.08930579900870662,-0.9166983153382153,-0.1503287081543462,3.555481217193902,1.3821401311266561,-1.746838396813102,-0.5616071862257311,0.5528158686902,-1.1817305616049143,-0.9716022075360748,-0.2897201287750417,-0.7885277570618172,-1.1761829611186767,-0.9379956199680016,-1.2618047636762781,-0.514715354417322,1.942123023282859,1.4864561587097924,-0.2213944047189807,0.11931037215395715,-1.0283651673783338,-1.4036398149656262,1.4927036781996936,0.22805411297300907,-0.7532913863340693,0.27229213495463134,-0.3536157903875516,0.16673134868822717,1.2536603153368975,-1.1530238866396736,0.6192976532791435,1.0656908392179358,1.871710840595712,0.9597166586517378,-0.8778024797437844,-0.7818968274906622,0.128531360467965,-0.8920038819439702,0.517790071206943,0.43453937762736417,0.6803846796770132,-0.15944555059119822,-1.1144664687989854,-0.05971464799097977,-0.14450724647134144,2.6948773937294717,2.271179326282182,-1.15627244949013,-0.7116110715724395,0.18270611034420892,0.18270611034420892,0.18270611034420892,0.18270611034420892,0.18270611034420892,1.0037589629835273,0.34107705614691075,-1.6844729266653478,0.019275293338447342,-0.46751792138447124,0.24845614549369757,0.33838978804237224,0.8238983633874598,0.04728186378178377,1.171116860849408,-0.15388579321161824,-0.14908680082842757,-1.422803923190247,-0.1495532516873795,-1.6784882504580747,-0.14475425930418867,-0.18602204425024385,-0.4690211704431408,-0.23822786602930437,-0.3950117956040669,-0.17074741721405004,-0.3297456789927958,0.42501913910199673,-1.7902242855740236,-1.357054313695313,-1.357520764554265,-1.3579872154132169,1.0717749495848548,-0.5906777774408277,-1.535070771083738,2.2447959288113455,-1.7074013915470794,-0.5701845928324347,0.9208319547453588,1.9081821338426987,1.051739470466724,-0.18285807486315947,1.3186541259977895,-0.03442257035081777,-0.406873101974749,-0.6854819043385529,-0.9943504642556933,-0.8772868356366175,-1.1772074365341485,-0.3940539438305374,-0.7599128237332832,0.6405545012500524,-0.38973527318010565,1.558206323825014,1.5869412106658787,-0.8209630471073376,2.2745672518862197,1.7672336655976149,-1.6593840664254507,0.1416210530721126,-1.8020230019080292,-1.4722522335171428,0.5425589364479259,0.5538682618716113,-1.200041082687127,-0.26346889266601625,-0.6689540443687134,-1.3519987373162237,2.0106714092705724,0.7776462773335592,0.2849289106299539,0.45405207907744577,-1.6223074029206432,2.718581891224872,0.841998112658859,0.3342276572817846,0.23696870703464715,0.2946027022761782,-0.5771179074480639,-0.34368932717774614,0.590022364850224,-1.469775963205757,-2.865773464824204,1.2083081337633794,-1.5750952663903823,0.9571129149406373,0.5880392370370393,0.4416370466154616,1.188637232772784,-0.10913221856048114,0.7509140658118494,-0.5127063922803667,-0.3032489195922323,0.09269086966560938,-0.7234487081339954,-1.241270529240799,0.005044928876225716,-0.47617628185642175,-0.6447428447220466,-1.5609754397951403,-1.3516251599787497,-1.5612086652246162,-1.514564557532626,-0.2818751601480477,0.21035138207781892,-0.8082815981372141,-0.49700976585630946,-0.6074807808894118,-0.3269149728310398,-0.8818772020124449,-0.9808347620111669,-0.9808347620111669,-0.4613231487626589,-1.0647507086291117,-0.6297632448194371,0.5264894819435372,0.9790238833167635,-0.7938379397781581,-1.1169020201422553,-1.5390415473592196,-1.8047877941302208,-0.00785120563112709,-1.5424337515792068,-1.4311610897161005,-1.3878316443927607,-0.03211252741837995,-0.3797078654623965,0.2413175393929749,-0.9637534937891781,-0.9215483110309982,-0.9215483110309982,2.139369957161059,-1.4282879524293317,2.454794545599049,0.6985519493653776,-0.05246537560846092,0.1296527228100622,0.9690070139793279,0.9287426739800753,0.05209007206671632,-1.6904800932828132,0.6273381524651344,0.13271991052038476,0.09835832546224016,-1.3462644090683553,-1.3783736338465569,2.6443862956133333,-0.1408658851690587,-0.10478267036557047,0.04930240638235032,0.34630962170010193,0.5914287238653753,0.22116948226272753,0.961687965468023,1.3319472070706704,3.0767575732219203,-1.3900366507888688,-0.5836368496021763,-0.5838700750316523,0.4215642911175096,2.162981110157344,-0.9416732875570668,-0.6666780588644611,-1.0954610294239502,0.3791863147046096],\"type\":\"scatter3d\"}],                        {\"template\":{\"data\":{\"bar\":[{\"error_x\":{\"color\":\"#2a3f5f\"},\"error_y\":{\"color\":\"#2a3f5f\"},\"marker\":{\"line\":{\"color\":\"#E5ECF6\",\"width\":0.5},\"pattern\":{\"fillmode\":\"overlay\",\"size\":10,\"solidity\":0.2}},\"type\":\"bar\"}],\"barpolar\":[{\"marker\":{\"line\":{\"color\":\"#E5ECF6\",\"width\":0.5},\"pattern\":{\"fillmode\":\"overlay\",\"size\":10,\"solidity\":0.2}},\"type\":\"barpolar\"}],\"carpet\":[{\"aaxis\":{\"endlinecolor\":\"#2a3f5f\",\"gridcolor\":\"white\",\"linecolor\":\"white\",\"minorgridcolor\":\"white\",\"startlinecolor\":\"#2a3f5f\"},\"baxis\":{\"endlinecolor\":\"#2a3f5f\",\"gridcolor\":\"white\",\"linecolor\":\"white\",\"minorgridcolor\":\"white\",\"startlinecolor\":\"#2a3f5f\"},\"type\":\"carpet\"}],\"choropleth\":[{\"colorbar\":{\"outlinewidth\":0,\"ticks\":\"\"},\"type\":\"choropleth\"}],\"contour\":[{\"colorbar\":{\"outlinewidth\":0,\"ticks\":\"\"},\"colorscale\":[[0.0,\"#0d0887\"],[0.1111111111111111,\"#46039f\"],[0.2222222222222222,\"#7201a8\"],[0.3333333333333333,\"#9c179e\"],[0.4444444444444444,\"#bd3786\"],[0.5555555555555556,\"#d8576b\"],[0.6666666666666666,\"#ed7953\"],[0.7777777777777778,\"#fb9f3a\"],[0.8888888888888888,\"#fdca26\"],[1.0,\"#f0f921\"]],\"type\":\"contour\"}],\"contourcarpet\":[{\"colorbar\":{\"outlinewidth\":0,\"ticks\":\"\"},\"type\":\"contourcarpet\"}],\"heatmap\":[{\"colorbar\":{\"outlinewidth\":0,\"ticks\":\"\"},\"colorscale\":[[0.0,\"#0d0887\"],[0.1111111111111111,\"#46039f\"],[0.2222222222222222,\"#7201a8\"],[0.3333333333333333,\"#9c179e\"],[0.4444444444444444,\"#bd3786\"],[0.5555555555555556,\"#d8576b\"],[0.6666666666666666,\"#ed7953\"],[0.7777777777777778,\"#fb9f3a\"],[0.8888888888888888,\"#fdca26\"],[1.0,\"#f0f921\"]],\"type\":\"heatmap\"}],\"heatmapgl\":[{\"colorbar\":{\"outlinewidth\":0,\"ticks\":\"\"},\"colorscale\":[[0.0,\"#0d0887\"],[0.1111111111111111,\"#46039f\"],[0.2222222222222222,\"#7201a8\"],[0.3333333333333333,\"#9c179e\"],[0.4444444444444444,\"#bd3786\"],[0.5555555555555556,\"#d8576b\"],[0.6666666666666666,\"#ed7953\"],[0.7777777777777778,\"#fb9f3a\"],[0.8888888888888888,\"#fdca26\"],[1.0,\"#f0f921\"]],\"type\":\"heatmapgl\"}],\"histogram\":[{\"marker\":{\"pattern\":{\"fillmode\":\"overlay\",\"size\":10,\"solidity\":0.2}},\"type\":\"histogram\"}],\"histogram2d\":[{\"colorbar\":{\"outlinewidth\":0,\"ticks\":\"\"},\"colorscale\":[[0.0,\"#0d0887\"],[0.1111111111111111,\"#46039f\"],[0.2222222222222222,\"#7201a8\"],[0.3333333333333333,\"#9c179e\"],[0.4444444444444444,\"#bd3786\"],[0.5555555555555556,\"#d8576b\"],[0.6666666666666666,\"#ed7953\"],[0.7777777777777778,\"#fb9f3a\"],[0.8888888888888888,\"#fdca26\"],[1.0,\"#f0f921\"]],\"type\":\"histogram2d\"}],\"histogram2dcontour\":[{\"colorbar\":{\"outlinewidth\":0,\"ticks\":\"\"},\"colorscale\":[[0.0,\"#0d0887\"],[0.1111111111111111,\"#46039f\"],[0.2222222222222222,\"#7201a8\"],[0.3333333333333333,\"#9c179e\"],[0.4444444444444444,\"#bd3786\"],[0.5555555555555556,\"#d8576b\"],[0.6666666666666666,\"#ed7953\"],[0.7777777777777778,\"#fb9f3a\"],[0.8888888888888888,\"#fdca26\"],[1.0,\"#f0f921\"]],\"type\":\"histogram2dcontour\"}],\"mesh3d\":[{\"colorbar\":{\"outlinewidth\":0,\"ticks\":\"\"},\"type\":\"mesh3d\"}],\"parcoords\":[{\"line\":{\"colorbar\":{\"outlinewidth\":0,\"ticks\":\"\"}},\"type\":\"parcoords\"}],\"pie\":[{\"automargin\":true,\"type\":\"pie\"}],\"scatter\":[{\"marker\":{\"colorbar\":{\"outlinewidth\":0,\"ticks\":\"\"}},\"type\":\"scatter\"}],\"scatter3d\":[{\"line\":{\"colorbar\":{\"outlinewidth\":0,\"ticks\":\"\"}},\"marker\":{\"colorbar\":{\"outlinewidth\":0,\"ticks\":\"\"}},\"type\":\"scatter3d\"}],\"scattercarpet\":[{\"marker\":{\"colorbar\":{\"outlinewidth\":0,\"ticks\":\"\"}},\"type\":\"scattercarpet\"}],\"scattergeo\":[{\"marker\":{\"colorbar\":{\"outlinewidth\":0,\"ticks\":\"\"}},\"type\":\"scattergeo\"}],\"scattergl\":[{\"marker\":{\"colorbar\":{\"outlinewidth\":0,\"ticks\":\"\"}},\"type\":\"scattergl\"}],\"scattermapbox\":[{\"marker\":{\"colorbar\":{\"outlinewidth\":0,\"ticks\":\"\"}},\"type\":\"scattermapbox\"}],\"scatterpolar\":[{\"marker\":{\"colorbar\":{\"outlinewidth\":0,\"ticks\":\"\"}},\"type\":\"scatterpolar\"}],\"scatterpolargl\":[{\"marker\":{\"colorbar\":{\"outlinewidth\":0,\"ticks\":\"\"}},\"type\":\"scatterpolargl\"}],\"scatterternary\":[{\"marker\":{\"colorbar\":{\"outlinewidth\":0,\"ticks\":\"\"}},\"type\":\"scatterternary\"}],\"surface\":[{\"colorbar\":{\"outlinewidth\":0,\"ticks\":\"\"},\"colorscale\":[[0.0,\"#0d0887\"],[0.1111111111111111,\"#46039f\"],[0.2222222222222222,\"#7201a8\"],[0.3333333333333333,\"#9c179e\"],[0.4444444444444444,\"#bd3786\"],[0.5555555555555556,\"#d8576b\"],[0.6666666666666666,\"#ed7953\"],[0.7777777777777778,\"#fb9f3a\"],[0.8888888888888888,\"#fdca26\"],[1.0,\"#f0f921\"]],\"type\":\"surface\"}],\"table\":[{\"cells\":{\"fill\":{\"color\":\"#EBF0F8\"},\"line\":{\"color\":\"white\"}},\"header\":{\"fill\":{\"color\":\"#C8D4E3\"},\"line\":{\"color\":\"white\"}},\"type\":\"table\"}]},\"layout\":{\"annotationdefaults\":{\"arrowcolor\":\"#2a3f5f\",\"arrowhead\":0,\"arrowwidth\":1},\"autotypenumbers\":\"strict\",\"coloraxis\":{\"colorbar\":{\"outlinewidth\":0,\"ticks\":\"\"}},\"colorscale\":{\"diverging\":[[0,\"#8e0152\"],[0.1,\"#c51b7d\"],[0.2,\"#de77ae\"],[0.3,\"#f1b6da\"],[0.4,\"#fde0ef\"],[0.5,\"#f7f7f7\"],[0.6,\"#e6f5d0\"],[0.7,\"#b8e186\"],[0.8,\"#7fbc41\"],[0.9,\"#4d9221\"],[1,\"#276419\"]],\"sequential\":[[0.0,\"#0d0887\"],[0.1111111111111111,\"#46039f\"],[0.2222222222222222,\"#7201a8\"],[0.3333333333333333,\"#9c179e\"],[0.4444444444444444,\"#bd3786\"],[0.5555555555555556,\"#d8576b\"],[0.6666666666666666,\"#ed7953\"],[0.7777777777777778,\"#fb9f3a\"],[0.8888888888888888,\"#fdca26\"],[1.0,\"#f0f921\"]],\"sequentialminus\":[[0.0,\"#0d0887\"],[0.1111111111111111,\"#46039f\"],[0.2222222222222222,\"#7201a8\"],[0.3333333333333333,\"#9c179e\"],[0.4444444444444444,\"#bd3786\"],[0.5555555555555556,\"#d8576b\"],[0.6666666666666666,\"#ed7953\"],[0.7777777777777778,\"#fb9f3a\"],[0.8888888888888888,\"#fdca26\"],[1.0,\"#f0f921\"]]},\"colorway\":[\"#636efa\",\"#EF553B\",\"#00cc96\",\"#ab63fa\",\"#FFA15A\",\"#19d3f3\",\"#FF6692\",\"#B6E880\",\"#FF97FF\",\"#FECB52\"],\"font\":{\"color\":\"#2a3f5f\"},\"geo\":{\"bgcolor\":\"white\",\"lakecolor\":\"white\",\"landcolor\":\"#E5ECF6\",\"showlakes\":true,\"showland\":true,\"subunitcolor\":\"white\"},\"hoverlabel\":{\"align\":\"left\"},\"hovermode\":\"closest\",\"mapbox\":{\"style\":\"light\"},\"paper_bgcolor\":\"white\",\"plot_bgcolor\":\"#E5ECF6\",\"polar\":{\"angularaxis\":{\"gridcolor\":\"white\",\"linecolor\":\"white\",\"ticks\":\"\"},\"bgcolor\":\"#E5ECF6\",\"radialaxis\":{\"gridcolor\":\"white\",\"linecolor\":\"white\",\"ticks\":\"\"}},\"scene\":{\"xaxis\":{\"backgroundcolor\":\"#E5ECF6\",\"gridcolor\":\"white\",\"gridwidth\":2,\"linecolor\":\"white\",\"showbackground\":true,\"ticks\":\"\",\"zerolinecolor\":\"white\"},\"yaxis\":{\"backgroundcolor\":\"#E5ECF6\",\"gridcolor\":\"white\",\"gridwidth\":2,\"linecolor\":\"white\",\"showbackground\":true,\"ticks\":\"\",\"zerolinecolor\":\"white\"},\"zaxis\":{\"backgroundcolor\":\"#E5ECF6\",\"gridcolor\":\"white\",\"gridwidth\":2,\"linecolor\":\"white\",\"showbackground\":true,\"ticks\":\"\",\"zerolinecolor\":\"white\"}},\"shapedefaults\":{\"line\":{\"color\":\"#2a3f5f\"}},\"ternary\":{\"aaxis\":{\"gridcolor\":\"white\",\"linecolor\":\"white\",\"ticks\":\"\"},\"baxis\":{\"gridcolor\":\"white\",\"linecolor\":\"white\",\"ticks\":\"\"},\"bgcolor\":\"#E5ECF6\",\"caxis\":{\"gridcolor\":\"white\",\"linecolor\":\"white\",\"ticks\":\"\"}},\"title\":{\"x\":0.05},\"xaxis\":{\"automargin\":true,\"gridcolor\":\"white\",\"linecolor\":\"white\",\"ticks\":\"\",\"title\":{\"standoff\":15},\"zerolinecolor\":\"white\",\"zerolinewidth\":2},\"yaxis\":{\"automargin\":true,\"gridcolor\":\"white\",\"linecolor\":\"white\",\"ticks\":\"\",\"title\":{\"standoff\":15},\"zerolinecolor\":\"white\",\"zerolinewidth\":2}}},\"scene\":{\"domain\":{\"x\":[0.0,1.0],\"y\":[0.0,1.0]},\"xaxis\":{\"title\":{\"text\":\"x\"}},\"yaxis\":{\"title\":{\"text\":\"y\"}},\"zaxis\":{\"title\":{\"text\":\"z\"}}},\"legend\":{\"title\":{\"text\":\"color\"},\"tracegroupgap\":0},\"margin\":{\"t\":60}},                        {\"responsive\": true}                    ).then(function(){\n",
              "                            \n",
              "var gd = document.getElementById('5da36d29-a5a5-40a9-b44e-2a0025ed25c0');\n",
              "var x = new MutationObserver(function (mutations, observer) {{\n",
              "        var display = window.getComputedStyle(gd).display;\n",
              "        if (!display || display === 'none') {{\n",
              "            console.log([gd, 'removed!']);\n",
              "            Plotly.purge(gd);\n",
              "            observer.disconnect();\n",
              "        }}\n",
              "}});\n",
              "\n",
              "// Listen for the removal of the full notebook cells\n",
              "var notebookContainer = gd.closest('#notebook-container');\n",
              "if (notebookContainer) {{\n",
              "    x.observe(notebookContainer, {childList: true});\n",
              "}}\n",
              "\n",
              "// Listen for the clearing of the current output cell\n",
              "var outputEl = gd.closest('.output');\n",
              "if (outputEl) {{\n",
              "    x.observe(outputEl, {childList: true});\n",
              "}}\n",
              "\n",
              "                        })                };                            </script>        </div>\n",
              "</body>\n",
              "</html>"
            ]
          },
          "metadata": {}
        }
      ]
    },
    {
      "cell_type": "code",
      "source": [
        "pok_grp = pok_seg.groupby('K-means segments')['Name']\n",
        "grp_1 = pok_grp.get_group(0)\n",
        "grp_1"
      ],
      "metadata": {
        "id": "g3HFCnYK3nVT",
        "colab": {
          "base_uri": "https://localhost:8080/"
        },
        "outputId": "54b96e41-dfd5-49ba-a333-ea03481da561"
      },
      "execution_count": null,
      "outputs": [
        {
          "output_type": "execute_result",
          "data": {
            "text/plain": [
              "1                    Ivysaur\n",
              "2                   Venusaur\n",
              "3      VenusaurMega Venusaur\n",
              "5                 Charmeleon\n",
              "6                  Charizard\n",
              "               ...          \n",
              "407                  Shelgon\n",
              "411                   Metang\n",
              "458      WormadamPlant Cloak\n",
              "459      WormadamSandy Cloak\n",
              "460      WormadamTrash Cloak\n",
              "Name: Name, Length: 234, dtype: object"
            ]
          },
          "metadata": {},
          "execution_count": 24
        }
      ]
    },
    {
      "cell_type": "code",
      "source": [
        "grp_2 = pok_grp.get_group(1)\n",
        "grp_2"
      ],
      "metadata": {
        "id": "7iVFdRQE3q9P",
        "colab": {
          "base_uri": "https://localhost:8080/"
        },
        "outputId": "5f8f7c92-a32d-42c8-f0ea-6b651805abf1"
      },
      "execution_count": null,
      "outputs": [
        {
          "output_type": "execute_result",
          "data": {
            "text/plain": [
              "0                Bulbasaur\n",
              "4               Charmander\n",
              "9                 Squirtle\n",
              "13                Caterpie\n",
              "14                 Metapod\n",
              "              ...         \n",
              "781    PumpkabooSmall Size\n",
              "782    PumpkabooLarge Size\n",
              "783    PumpkabooSuper Size\n",
              "788               Bergmite\n",
              "790                 Noibat\n",
              "Name: Name, Length: 306, dtype: object"
            ]
          },
          "metadata": {},
          "execution_count": 25
        }
      ]
    },
    {
      "cell_type": "code",
      "source": [
        "grp_3 = pok_grp.get_group(2)\n",
        "grp_3"
      ],
      "metadata": {
        "id": "twcn65EX3tLO",
        "colab": {
          "base_uri": "https://localhost:8080/"
        },
        "outputId": "5e9b76f9-8366-4975-9768-db852eec279d"
      },
      "execution_count": null,
      "outputs": [
        {
          "output_type": "execute_result",
          "data": {
            "text/plain": [
              "163        MewtwoMega Mewtwo X\n",
              "164        MewtwoMega Mewtwo Y\n",
              "268    TyranitarMega Tyranitar\n",
              "269                      Lugia\n",
              "270                      Ho-oh\n",
              "                ...           \n",
              "795                    Diancie\n",
              "796        DiancieMega Diancie\n",
              "797        HoopaHoopa Confined\n",
              "798         HoopaHoopa Unbound\n",
              "799                  Volcanion\n",
              "Name: Name, Length: 260, dtype: object"
            ]
          },
          "metadata": {},
          "execution_count": 26
        }
      ]
    },
    {
      "cell_type": "code",
      "source": [],
      "metadata": {
        "id": "1iPf3C453vn7"
      },
      "execution_count": null,
      "outputs": []
    }
  ]
}