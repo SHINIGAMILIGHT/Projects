{
  "nbformat": 4,
  "nbformat_minor": 0,
  "metadata": {
    "colab": {
      "provenance": [],
      "authorship_tag": "ABX9TyPxIj5P7vae7qLz7O97pSqq",
      "include_colab_link": true
    },
    "kernelspec": {
      "name": "python3",
      "display_name": "Python 3"
    },
    "language_info": {
      "name": "python"
    }
  },
  "cells": [
    {
      "cell_type": "markdown",
      "metadata": {
        "id": "view-in-github",
        "colab_type": "text"
      },
      "source": [
        "<a href=\"https://colab.research.google.com/github/SHINIGAMILIGHT/Projects/blob/main/Jobs.ipynb\" target=\"_parent\"><img src=\"https://colab.research.google.com/assets/colab-badge.svg\" alt=\"Open In Colab\"/></a>"
      ]
    },
    {
      "cell_type": "code",
      "execution_count": null,
      "metadata": {
        "id": "TH3ReL7lCM2o"
      },
      "outputs": [],
      "source": [
        "import numpy as np\n",
        "import pandas as pd\n",
        "import requests\n",
        "import plotly.express as px\n",
        "from plotly.subplots import make_subplots\n",
        "import seaborn as sns\n",
        "import matplotlib.pyplot as plt\n",
        "%matplotlib inline\n",
        "import os\n",
        "from sklearn.cluster import KMeans"
      ]
    },
    {
      "cell_type": "code",
      "source": [
        "from google.colab import drive\n",
        "drive.mount('/content/drive')"
      ],
      "metadata": {
        "colab": {
          "base_uri": "https://localhost:8080/"
        },
        "id": "cdikK2OKCmA3",
        "outputId": "1812e20e-400e-4820-e55a-b59c4b3ea7bc"
      },
      "execution_count": null,
      "outputs": [
        {
          "output_type": "stream",
          "name": "stdout",
          "text": [
            "Mounted at /content/drive\n"
          ]
        }
      ]
    },
    {
      "cell_type": "code",
      "source": [
        "train =pd.read_csv(\"drive/My Drive/Colab/playground/train.csv\")\n",
        "test =pd.read_csv(\"drive/My Drive/Colab/playground/test.csv\")"
      ],
      "metadata": {
        "id": "3yZVVGEtCovg"
      },
      "execution_count": null,
      "outputs": []
    },
    {
      "cell_type": "code",
      "source": [
        "train.head()"
      ],
      "metadata": {
        "colab": {
          "base_uri": "https://localhost:8080/",
          "height": 352
        },
        "id": "vu36gQBsDwd9",
        "outputId": "22e45eee-8b95-4e41-878d-e8aeae06ade6"
      },
      "execution_count": null,
      "outputs": [
        {
          "output_type": "execute_result",
          "data": {
            "text/plain": [
              "   id  Age     BusinessTravel  DailyRate              Department  \\\n",
              "0   0   36  Travel_Frequently        599  Research & Development   \n",
              "1   1   35      Travel_Rarely        921                   Sales   \n",
              "2   2   32      Travel_Rarely        718                   Sales   \n",
              "3   3   38      Travel_Rarely       1488  Research & Development   \n",
              "4   4   50      Travel_Rarely       1017  Research & Development   \n",
              "\n",
              "   DistanceFromHome  Education EducationField  EmployeeCount  \\\n",
              "0                24          3        Medical              1   \n",
              "1                 8          3          Other              1   \n",
              "2                26          3      Marketing              1   \n",
              "3                 2          3        Medical              1   \n",
              "4                 5          4        Medical              1   \n",
              "\n",
              "   EnvironmentSatisfaction  ... StandardHours  StockOptionLevel  \\\n",
              "0                        4  ...            80                 1   \n",
              "1                        1  ...            80                 1   \n",
              "2                        3  ...            80                 2   \n",
              "3                        3  ...            80                 0   \n",
              "4                        2  ...            80                 0   \n",
              "\n",
              "   TotalWorkingYears  TrainingTimesLastYear WorkLifeBalance  YearsAtCompany  \\\n",
              "0                 10                      2               3              10   \n",
              "1                  4                      3               3               4   \n",
              "2                  4                      3               3               3   \n",
              "3                 15                      1               1               6   \n",
              "4                 31                      0               3              31   \n",
              "\n",
              "  YearsInCurrentRole  YearsSinceLastPromotion  YearsWithCurrManager  Attrition  \n",
              "0                  0                        7                     8          0  \n",
              "1                  2                        0                     3          0  \n",
              "2                  2                        1                     2          0  \n",
              "3                  0                        0                     2          0  \n",
              "4                 14                        4                    10          1  \n",
              "\n",
              "[5 rows x 35 columns]"
            ],
            "text/html": [
              "\n",
              "  <div id=\"df-0cc97699-3f8e-41e2-8f48-f86dda02ea69\">\n",
              "    <div class=\"colab-df-container\">\n",
              "      <div>\n",
              "<style scoped>\n",
              "    .dataframe tbody tr th:only-of-type {\n",
              "        vertical-align: middle;\n",
              "    }\n",
              "\n",
              "    .dataframe tbody tr th {\n",
              "        vertical-align: top;\n",
              "    }\n",
              "\n",
              "    .dataframe thead th {\n",
              "        text-align: right;\n",
              "    }\n",
              "</style>\n",
              "<table border=\"1\" class=\"dataframe\">\n",
              "  <thead>\n",
              "    <tr style=\"text-align: right;\">\n",
              "      <th></th>\n",
              "      <th>id</th>\n",
              "      <th>Age</th>\n",
              "      <th>BusinessTravel</th>\n",
              "      <th>DailyRate</th>\n",
              "      <th>Department</th>\n",
              "      <th>DistanceFromHome</th>\n",
              "      <th>Education</th>\n",
              "      <th>EducationField</th>\n",
              "      <th>EmployeeCount</th>\n",
              "      <th>EnvironmentSatisfaction</th>\n",
              "      <th>...</th>\n",
              "      <th>StandardHours</th>\n",
              "      <th>StockOptionLevel</th>\n",
              "      <th>TotalWorkingYears</th>\n",
              "      <th>TrainingTimesLastYear</th>\n",
              "      <th>WorkLifeBalance</th>\n",
              "      <th>YearsAtCompany</th>\n",
              "      <th>YearsInCurrentRole</th>\n",
              "      <th>YearsSinceLastPromotion</th>\n",
              "      <th>YearsWithCurrManager</th>\n",
              "      <th>Attrition</th>\n",
              "    </tr>\n",
              "  </thead>\n",
              "  <tbody>\n",
              "    <tr>\n",
              "      <th>0</th>\n",
              "      <td>0</td>\n",
              "      <td>36</td>\n",
              "      <td>Travel_Frequently</td>\n",
              "      <td>599</td>\n",
              "      <td>Research &amp; Development</td>\n",
              "      <td>24</td>\n",
              "      <td>3</td>\n",
              "      <td>Medical</td>\n",
              "      <td>1</td>\n",
              "      <td>4</td>\n",
              "      <td>...</td>\n",
              "      <td>80</td>\n",
              "      <td>1</td>\n",
              "      <td>10</td>\n",
              "      <td>2</td>\n",
              "      <td>3</td>\n",
              "      <td>10</td>\n",
              "      <td>0</td>\n",
              "      <td>7</td>\n",
              "      <td>8</td>\n",
              "      <td>0</td>\n",
              "    </tr>\n",
              "    <tr>\n",
              "      <th>1</th>\n",
              "      <td>1</td>\n",
              "      <td>35</td>\n",
              "      <td>Travel_Rarely</td>\n",
              "      <td>921</td>\n",
              "      <td>Sales</td>\n",
              "      <td>8</td>\n",
              "      <td>3</td>\n",
              "      <td>Other</td>\n",
              "      <td>1</td>\n",
              "      <td>1</td>\n",
              "      <td>...</td>\n",
              "      <td>80</td>\n",
              "      <td>1</td>\n",
              "      <td>4</td>\n",
              "      <td>3</td>\n",
              "      <td>3</td>\n",
              "      <td>4</td>\n",
              "      <td>2</td>\n",
              "      <td>0</td>\n",
              "      <td>3</td>\n",
              "      <td>0</td>\n",
              "    </tr>\n",
              "    <tr>\n",
              "      <th>2</th>\n",
              "      <td>2</td>\n",
              "      <td>32</td>\n",
              "      <td>Travel_Rarely</td>\n",
              "      <td>718</td>\n",
              "      <td>Sales</td>\n",
              "      <td>26</td>\n",
              "      <td>3</td>\n",
              "      <td>Marketing</td>\n",
              "      <td>1</td>\n",
              "      <td>3</td>\n",
              "      <td>...</td>\n",
              "      <td>80</td>\n",
              "      <td>2</td>\n",
              "      <td>4</td>\n",
              "      <td>3</td>\n",
              "      <td>3</td>\n",
              "      <td>3</td>\n",
              "      <td>2</td>\n",
              "      <td>1</td>\n",
              "      <td>2</td>\n",
              "      <td>0</td>\n",
              "    </tr>\n",
              "    <tr>\n",
              "      <th>3</th>\n",
              "      <td>3</td>\n",
              "      <td>38</td>\n",
              "      <td>Travel_Rarely</td>\n",
              "      <td>1488</td>\n",
              "      <td>Research &amp; Development</td>\n",
              "      <td>2</td>\n",
              "      <td>3</td>\n",
              "      <td>Medical</td>\n",
              "      <td>1</td>\n",
              "      <td>3</td>\n",
              "      <td>...</td>\n",
              "      <td>80</td>\n",
              "      <td>0</td>\n",
              "      <td>15</td>\n",
              "      <td>1</td>\n",
              "      <td>1</td>\n",
              "      <td>6</td>\n",
              "      <td>0</td>\n",
              "      <td>0</td>\n",
              "      <td>2</td>\n",
              "      <td>0</td>\n",
              "    </tr>\n",
              "    <tr>\n",
              "      <th>4</th>\n",
              "      <td>4</td>\n",
              "      <td>50</td>\n",
              "      <td>Travel_Rarely</td>\n",
              "      <td>1017</td>\n",
              "      <td>Research &amp; Development</td>\n",
              "      <td>5</td>\n",
              "      <td>4</td>\n",
              "      <td>Medical</td>\n",
              "      <td>1</td>\n",
              "      <td>2</td>\n",
              "      <td>...</td>\n",
              "      <td>80</td>\n",
              "      <td>0</td>\n",
              "      <td>31</td>\n",
              "      <td>0</td>\n",
              "      <td>3</td>\n",
              "      <td>31</td>\n",
              "      <td>14</td>\n",
              "      <td>4</td>\n",
              "      <td>10</td>\n",
              "      <td>1</td>\n",
              "    </tr>\n",
              "  </tbody>\n",
              "</table>\n",
              "<p>5 rows × 35 columns</p>\n",
              "</div>\n",
              "      <button class=\"colab-df-convert\" onclick=\"convertToInteractive('df-0cc97699-3f8e-41e2-8f48-f86dda02ea69')\"\n",
              "              title=\"Convert this dataframe to an interactive table.\"\n",
              "              style=\"display:none;\">\n",
              "        \n",
              "  <svg xmlns=\"http://www.w3.org/2000/svg\" height=\"24px\"viewBox=\"0 0 24 24\"\n",
              "       width=\"24px\">\n",
              "    <path d=\"M0 0h24v24H0V0z\" fill=\"none\"/>\n",
              "    <path d=\"M18.56 5.44l.94 2.06.94-2.06 2.06-.94-2.06-.94-.94-2.06-.94 2.06-2.06.94zm-11 1L8.5 8.5l.94-2.06 2.06-.94-2.06-.94L8.5 2.5l-.94 2.06-2.06.94zm10 10l.94 2.06.94-2.06 2.06-.94-2.06-.94-.94-2.06-.94 2.06-2.06.94z\"/><path d=\"M17.41 7.96l-1.37-1.37c-.4-.4-.92-.59-1.43-.59-.52 0-1.04.2-1.43.59L10.3 9.45l-7.72 7.72c-.78.78-.78 2.05 0 2.83L4 21.41c.39.39.9.59 1.41.59.51 0 1.02-.2 1.41-.59l7.78-7.78 2.81-2.81c.8-.78.8-2.07 0-2.86zM5.41 20L4 18.59l7.72-7.72 1.47 1.35L5.41 20z\"/>\n",
              "  </svg>\n",
              "      </button>\n",
              "      \n",
              "  <style>\n",
              "    .colab-df-container {\n",
              "      display:flex;\n",
              "      flex-wrap:wrap;\n",
              "      gap: 12px;\n",
              "    }\n",
              "\n",
              "    .colab-df-convert {\n",
              "      background-color: #E8F0FE;\n",
              "      border: none;\n",
              "      border-radius: 50%;\n",
              "      cursor: pointer;\n",
              "      display: none;\n",
              "      fill: #1967D2;\n",
              "      height: 32px;\n",
              "      padding: 0 0 0 0;\n",
              "      width: 32px;\n",
              "    }\n",
              "\n",
              "    .colab-df-convert:hover {\n",
              "      background-color: #E2EBFA;\n",
              "      box-shadow: 0px 1px 2px rgba(60, 64, 67, 0.3), 0px 1px 3px 1px rgba(60, 64, 67, 0.15);\n",
              "      fill: #174EA6;\n",
              "    }\n",
              "\n",
              "    [theme=dark] .colab-df-convert {\n",
              "      background-color: #3B4455;\n",
              "      fill: #D2E3FC;\n",
              "    }\n",
              "\n",
              "    [theme=dark] .colab-df-convert:hover {\n",
              "      background-color: #434B5C;\n",
              "      box-shadow: 0px 1px 3px 1px rgba(0, 0, 0, 0.15);\n",
              "      filter: drop-shadow(0px 1px 2px rgba(0, 0, 0, 0.3));\n",
              "      fill: #FFFFFF;\n",
              "    }\n",
              "  </style>\n",
              "\n",
              "      <script>\n",
              "        const buttonEl =\n",
              "          document.querySelector('#df-0cc97699-3f8e-41e2-8f48-f86dda02ea69 button.colab-df-convert');\n",
              "        buttonEl.style.display =\n",
              "          google.colab.kernel.accessAllowed ? 'block' : 'none';\n",
              "\n",
              "        async function convertToInteractive(key) {\n",
              "          const element = document.querySelector('#df-0cc97699-3f8e-41e2-8f48-f86dda02ea69');\n",
              "          const dataTable =\n",
              "            await google.colab.kernel.invokeFunction('convertToInteractive',\n",
              "                                                     [key], {});\n",
              "          if (!dataTable) return;\n",
              "\n",
              "          const docLinkHtml = 'Like what you see? Visit the ' +\n",
              "            '<a target=\"_blank\" href=https://colab.research.google.com/notebooks/data_table.ipynb>data table notebook</a>'\n",
              "            + ' to learn more about interactive tables.';\n",
              "          element.innerHTML = '';\n",
              "          dataTable['output_type'] = 'display_data';\n",
              "          await google.colab.output.renderOutput(dataTable, element);\n",
              "          const docLink = document.createElement('div');\n",
              "          docLink.innerHTML = docLinkHtml;\n",
              "          element.appendChild(docLink);\n",
              "        }\n",
              "      </script>\n",
              "    </div>\n",
              "  </div>\n",
              "  "
            ]
          },
          "metadata": {},
          "execution_count": 4
        }
      ]
    },
    {
      "cell_type": "code",
      "source": [
        "fig = px.scatter(train, x=\"TotalWorkingYears\", y=\"Age\",\n",
        "           size=\"DailyRate\", color=\"Department\", hover_name=\"EducationField\", facet_col=\"Department\",\n",
        "           log_x=True,size_max=45,template=\"plotly_dark\")\n",
        "fig.show()"
      ],
      "metadata": {
        "colab": {
          "base_uri": "https://localhost:8080/",
          "height": 542
        },
        "id": "hWeiO421Ml3t",
        "outputId": "f6cd7ce2-d48b-4341-d7ee-dd447258a168"
      },
      "execution_count": null,
      "outputs": [
        {
          "output_type": "display_data",
          "data": {
            "text/html": [
              "<html>\n",
              "<head><meta charset=\"utf-8\" /></head>\n",
              "<body>\n",
              "    <div>            <script src=\"https://cdnjs.cloudflare.com/ajax/libs/mathjax/2.7.5/MathJax.js?config=TeX-AMS-MML_SVG\"></script><script type=\"text/javascript\">if (window.MathJax) {MathJax.Hub.Config({SVG: {font: \"STIX-Web\"}});}</script>                <script type=\"text/javascript\">window.PlotlyConfig = {MathJaxConfig: 'local'};</script>\n",
              "        <script src=\"https://cdn.plot.ly/plotly-2.8.3.min.js\"></script>                <div id=\"06efafa4-4143-4dca-a0c9-bd840f3312b8\" class=\"plotly-graph-div\" style=\"height:525px; width:100%;\"></div>            <script type=\"text/javascript\">                                    window.PLOTLYENV=window.PLOTLYENV || {};                                    if (document.getElementById(\"06efafa4-4143-4dca-a0c9-bd840f3312b8\")) {                    Plotly.newPlot(                        \"06efafa4-4143-4dca-a0c9-bd840f3312b8\",                        [{\"hovertemplate\":\"<b>%{hovertext}</b><br><br>Department=Research & Development<br>TotalWorkingYears=%{x}<br>Age=%{y}<br>DailyRate=%{marker.size}<extra></extra>\",\"hovertext\":[\"Medical\",\"Medical\",\"Medical\",\"Other\",\"Medical\",\"Life Sciences\",\"Medical\",\"Technical Degree\",\"Life Sciences\",\"Life Sciences\",\"Life Sciences\",\"Life Sciences\",\"Medical\",\"Life Sciences\",\"Technical Degree\",\"Life Sciences\",\"Medical\",\"Life Sciences\",\"Medical\",\"Life Sciences\",\"Life Sciences\",\"Medical\",\"Medical\",\"Medical\",\"Life Sciences\",\"Life Sciences\",\"Other\",\"Medical\",\"Life Sciences\",\"Medical\",\"Other\",\"Medical\",\"Life Sciences\",\"Life Sciences\",\"Other\",\"Life Sciences\",\"Medical\",\"Life Sciences\",\"Medical\",\"Life Sciences\",\"Life Sciences\",\"Other\",\"Medical\",\"Life Sciences\",\"Life Sciences\",\"Life Sciences\",\"Life Sciences\",\"Life Sciences\",\"Medical\",\"Life Sciences\",\"Life Sciences\",\"Other\",\"Medical\",\"Life Sciences\",\"Medical\",\"Medical\",\"Medical\",\"Life Sciences\",\"Medical\",\"Other\",\"Life Sciences\",\"Life Sciences\",\"Life Sciences\",\"Life Sciences\",\"Life Sciences\",\"Life Sciences\",\"Life Sciences\",\"Life Sciences\",\"Life Sciences\",\"Life Sciences\",\"Life Sciences\",\"Medical\",\"Medical\",\"Medical\",\"Medical\",\"Technical Degree\",\"Life Sciences\",\"Life Sciences\",\"Life Sciences\",\"Other\",\"Medical\",\"Medical\",\"Other\",\"Medical\",\"Medical\",\"Life Sciences\",\"Medical\",\"Life Sciences\",\"Life Sciences\",\"Medical\",\"Technical Degree\",\"Life Sciences\",\"Medical\",\"Medical\",\"Medical\",\"Medical\",\"Life Sciences\",\"Medical\",\"Life Sciences\",\"Medical\",\"Medical\",\"Life Sciences\",\"Life Sciences\",\"Life Sciences\",\"Life Sciences\",\"Life Sciences\",\"Medical\",\"Technical Degree\",\"Life Sciences\",\"Medical\",\"Medical\",\"Life Sciences\",\"Technical Degree\",\"Life Sciences\",\"Life Sciences\",\"Other\",\"Medical\",\"Life Sciences\",\"Medical\",\"Medical\",\"Medical\",\"Medical\",\"Life Sciences\",\"Life Sciences\",\"Life Sciences\",\"Medical\",\"Medical\",\"Life Sciences\",\"Life Sciences\",\"Life Sciences\",\"Medical\",\"Life Sciences\",\"Medical\",\"Medical\",\"Medical\",\"Life Sciences\",\"Life Sciences\",\"Medical\",\"Life Sciences\",\"Medical\",\"Medical\",\"Life Sciences\",\"Medical\",\"Life Sciences\",\"Technical Degree\",\"Medical\",\"Technical Degree\",\"Life Sciences\",\"Medical\",\"Life Sciences\",\"Life Sciences\",\"Technical Degree\",\"Life Sciences\",\"Medical\",\"Life Sciences\",\"Medical\",\"Life Sciences\",\"Life Sciences\",\"Medical\",\"Medical\",\"Medical\",\"Medical\",\"Medical\",\"Medical\",\"Life Sciences\",\"Medical\",\"Life Sciences\",\"Life Sciences\",\"Technical Degree\",\"Life Sciences\",\"Life Sciences\",\"Other\",\"Life Sciences\",\"Medical\",\"Other\",\"Life Sciences\",\"Medical\",\"Medical\",\"Life Sciences\",\"Life Sciences\",\"Medical\",\"Medical\",\"Technical Degree\",\"Technical Degree\",\"Medical\",\"Medical\",\"Medical\",\"Life Sciences\",\"Life Sciences\",\"Life Sciences\",\"Life Sciences\",\"Medical\",\"Life Sciences\",\"Medical\",\"Life Sciences\",\"Medical\",\"Medical\",\"Life Sciences\",\"Medical\",\"Medical\",\"Life Sciences\",\"Medical\",\"Medical\",\"Life Sciences\",\"Medical\",\"Medical\",\"Other\",\"Life Sciences\",\"Technical Degree\",\"Life Sciences\",\"Life Sciences\",\"Technical Degree\",\"Medical\",\"Other\",\"Life Sciences\",\"Medical\",\"Medical\",\"Life Sciences\",\"Medical\",\"Life Sciences\",\"Life Sciences\",\"Medical\",\"Other\",\"Life Sciences\",\"Medical\",\"Medical\",\"Medical\",\"Medical\",\"Medical\",\"Life Sciences\",\"Medical\",\"Life Sciences\",\"Medical\",\"Medical\",\"Life Sciences\",\"Life Sciences\",\"Life Sciences\",\"Medical\",\"Medical\",\"Life Sciences\",\"Technical Degree\",\"Life Sciences\",\"Medical\",\"Other\",\"Life Sciences\",\"Life Sciences\",\"Medical\",\"Life Sciences\",\"Medical\",\"Medical\",\"Life Sciences\",\"Life Sciences\",\"Medical\",\"Life Sciences\",\"Medical\",\"Medical\",\"Technical Degree\",\"Technical Degree\",\"Life Sciences\",\"Life Sciences\",\"Life Sciences\",\"Technical Degree\",\"Medical\",\"Medical\",\"Medical\",\"Medical\",\"Life Sciences\",\"Medical\",\"Life Sciences\",\"Life Sciences\",\"Life Sciences\",\"Medical\",\"Life Sciences\",\"Life Sciences\",\"Medical\",\"Life Sciences\",\"Life Sciences\",\"Medical\",\"Medical\",\"Technical Degree\",\"Life Sciences\",\"Life Sciences\",\"Medical\",\"Life Sciences\",\"Medical\",\"Medical\",\"Medical\",\"Life Sciences\",\"Life Sciences\",\"Life Sciences\",\"Other\",\"Life Sciences\",\"Medical\",\"Medical\",\"Life Sciences\",\"Medical\",\"Life Sciences\",\"Medical\",\"Life Sciences\",\"Life Sciences\",\"Medical\",\"Other\",\"Technical Degree\",\"Technical Degree\",\"Life Sciences\",\"Medical\",\"Medical\",\"Medical\",\"Medical\",\"Life Sciences\",\"Medical\",\"Medical\",\"Medical\",\"Medical\",\"Life Sciences\",\"Medical\",\"Medical\",\"Technical Degree\",\"Medical\",\"Other\",\"Medical\",\"Medical\",\"Other\",\"Other\",\"Life Sciences\",\"Other\",\"Medical\",\"Life Sciences\",\"Life Sciences\",\"Medical\",\"Medical\",\"Medical\",\"Technical Degree\",\"Life Sciences\",\"Life Sciences\",\"Medical\",\"Life Sciences\",\"Life Sciences\",\"Medical\",\"Life Sciences\",\"Medical\",\"Life Sciences\",\"Medical\",\"Medical\",\"Life Sciences\",\"Medical\",\"Life Sciences\",\"Life Sciences\",\"Life Sciences\",\"Medical\",\"Life Sciences\",\"Life Sciences\",\"Life Sciences\",\"Other\",\"Life Sciences\",\"Life Sciences\",\"Medical\",\"Other\",\"Life Sciences\",\"Medical\",\"Medical\",\"Technical Degree\",\"Life Sciences\",\"Life Sciences\",\"Medical\",\"Technical Degree\",\"Life Sciences\",\"Life Sciences\",\"Life Sciences\",\"Medical\",\"Life Sciences\",\"Medical\",\"Life Sciences\",\"Life Sciences\",\"Life Sciences\",\"Medical\",\"Life Sciences\",\"Life Sciences\",\"Life Sciences\",\"Life Sciences\",\"Life Sciences\",\"Life Sciences\",\"Medical\",\"Medical\",\"Medical\",\"Life Sciences\",\"Medical\",\"Life Sciences\",\"Other\",\"Technical Degree\",\"Life Sciences\",\"Life Sciences\",\"Medical\",\"Life Sciences\",\"Technical Degree\",\"Life Sciences\",\"Medical\",\"Life Sciences\",\"Life Sciences\",\"Life Sciences\",\"Life Sciences\",\"Life Sciences\",\"Other\",\"Medical\",\"Medical\",\"Other\",\"Medical\",\"Life Sciences\",\"Medical\",\"Technical Degree\",\"Medical\",\"Life Sciences\",\"Technical Degree\",\"Life Sciences\",\"Medical\",\"Medical\",\"Medical\",\"Life Sciences\",\"Life Sciences\",\"Medical\",\"Medical\",\"Life Sciences\",\"Life Sciences\",\"Life Sciences\",\"Medical\",\"Medical\",\"Life Sciences\",\"Medical\",\"Medical\",\"Life Sciences\",\"Life Sciences\",\"Medical\",\"Life Sciences\",\"Medical\",\"Medical\",\"Life Sciences\",\"Life Sciences\",\"Life Sciences\",\"Life Sciences\",\"Medical\",\"Technical Degree\",\"Medical\",\"Life Sciences\",\"Other\",\"Medical\",\"Life Sciences\",\"Life Sciences\",\"Life Sciences\",\"Medical\",\"Life Sciences\",\"Life Sciences\",\"Life Sciences\",\"Life Sciences\",\"Life Sciences\",\"Life Sciences\",\"Life Sciences\",\"Medical\",\"Medical\",\"Medical\",\"Life Sciences\",\"Medical\",\"Life Sciences\",\"Life Sciences\",\"Other\",\"Life Sciences\",\"Life Sciences\",\"Medical\",\"Technical Degree\",\"Life Sciences\",\"Life Sciences\",\"Life Sciences\",\"Medical\",\"Medical\",\"Medical\",\"Life Sciences\",\"Life Sciences\",\"Medical\",\"Life Sciences\",\"Life Sciences\",\"Life Sciences\",\"Other\",\"Life Sciences\",\"Other\",\"Life Sciences\",\"Medical\",\"Life Sciences\",\"Medical\",\"Medical\",\"Medical\",\"Medical\",\"Life Sciences\",\"Life Sciences\",\"Life Sciences\",\"Medical\",\"Medical\",\"Other\",\"Life Sciences\",\"Medical\",\"Medical\",\"Technical Degree\",\"Medical\",\"Life Sciences\",\"Medical\",\"Medical\",\"Life Sciences\",\"Life Sciences\",\"Medical\",\"Life Sciences\",\"Medical\",\"Life Sciences\",\"Life Sciences\",\"Technical Degree\",\"Life Sciences\",\"Technical Degree\",\"Technical Degree\",\"Medical\",\"Life Sciences\",\"Medical\",\"Life Sciences\",\"Life Sciences\",\"Medical\",\"Medical\",\"Life Sciences\",\"Life Sciences\",\"Other\",\"Medical\",\"Life Sciences\",\"Other\",\"Medical\",\"Life Sciences\",\"Life Sciences\",\"Medical\",\"Life Sciences\",\"Life Sciences\",\"Life Sciences\",\"Medical\",\"Life Sciences\",\"Life Sciences\",\"Medical\",\"Medical\",\"Technical Degree\",\"Life Sciences\",\"Life Sciences\",\"Medical\",\"Medical\",\"Life Sciences\",\"Life Sciences\",\"Life Sciences\",\"Medical\",\"Life Sciences\",\"Life Sciences\",\"Medical\",\"Medical\",\"Life Sciences\",\"Life Sciences\",\"Medical\",\"Life Sciences\",\"Medical\",\"Life Sciences\",\"Medical\",\"Life Sciences\",\"Medical\",\"Medical\",\"Life Sciences\",\"Medical\",\"Medical\",\"Medical\",\"Medical\",\"Medical\",\"Medical\",\"Medical\",\"Medical\",\"Life Sciences\",\"Life Sciences\",\"Life Sciences\",\"Life Sciences\",\"Medical\",\"Medical\",\"Medical\",\"Life Sciences\",\"Life Sciences\",\"Life Sciences\",\"Life Sciences\",\"Life Sciences\",\"Medical\",\"Medical\",\"Life Sciences\",\"Life Sciences\",\"Technical Degree\",\"Medical\",\"Life Sciences\",\"Medical\",\"Medical\",\"Medical\",\"Medical\",\"Medical\",\"Life Sciences\",\"Medical\",\"Life Sciences\",\"Life Sciences\",\"Life Sciences\",\"Life Sciences\",\"Life Sciences\",\"Medical\",\"Medical\",\"Life Sciences\",\"Technical Degree\",\"Technical Degree\",\"Medical\",\"Medical\",\"Medical\",\"Other\",\"Technical Degree\",\"Other\",\"Medical\",\"Medical\",\"Life Sciences\",\"Life Sciences\",\"Life Sciences\",\"Life Sciences\",\"Life Sciences\",\"Life Sciences\",\"Technical Degree\",\"Medical\",\"Medical\",\"Medical\",\"Medical\",\"Medical\",\"Medical\",\"Medical\",\"Medical\",\"Life Sciences\",\"Medical\",\"Other\",\"Medical\",\"Medical\",\"Life Sciences\",\"Life Sciences\",\"Other\",\"Medical\",\"Medical\",\"Other\",\"Medical\",\"Life Sciences\",\"Other\",\"Medical\",\"Medical\",\"Technical Degree\",\"Medical\",\"Life Sciences\",\"Life Sciences\",\"Medical\",\"Life Sciences\",\"Medical\",\"Life Sciences\",\"Medical\",\"Life Sciences\",\"Life Sciences\",\"Medical\",\"Life Sciences\",\"Medical\",\"Medical\",\"Medical\",\"Life Sciences\",\"Life Sciences\",\"Medical\",\"Medical\",\"Life Sciences\",\"Other\",\"Medical\",\"Technical Degree\",\"Medical\",\"Medical\",\"Life Sciences\",\"Medical\",\"Technical Degree\",\"Medical\",\"Life Sciences\",\"Life Sciences\",\"Life Sciences\",\"Life Sciences\",\"Medical\",\"Life Sciences\",\"Life Sciences\",\"Medical\",\"Medical\",\"Medical\",\"Technical Degree\",\"Life Sciences\",\"Medical\",\"Medical\",\"Medical\",\"Life Sciences\",\"Life Sciences\",\"Medical\",\"Medical\",\"Life Sciences\",\"Life Sciences\",\"Medical\",\"Medical\",\"Life Sciences\",\"Life Sciences\",\"Life Sciences\",\"Life Sciences\",\"Medical\",\"Life Sciences\",\"Life Sciences\",\"Life Sciences\",\"Life Sciences\",\"Medical\",\"Life Sciences\",\"Medical\",\"Medical\",\"Medical\",\"Medical\",\"Life Sciences\",\"Technical Degree\",\"Technical Degree\",\"Life Sciences\",\"Life Sciences\",\"Life Sciences\",\"Life Sciences\",\"Other\",\"Medical\",\"Medical\",\"Medical\",\"Technical Degree\",\"Life Sciences\",\"Medical\",\"Medical\",\"Medical\",\"Life Sciences\",\"Life Sciences\",\"Life Sciences\",\"Life Sciences\",\"Medical\",\"Medical\",\"Technical Degree\",\"Technical Degree\",\"Life Sciences\",\"Medical\",\"Life Sciences\",\"Life Sciences\",\"Medical\",\"Life Sciences\",\"Medical\",\"Other\",\"Life Sciences\",\"Medical\",\"Medical\",\"Life Sciences\",\"Other\",\"Life Sciences\",\"Medical\",\"Life Sciences\",\"Technical Degree\",\"Medical\",\"Life Sciences\",\"Life Sciences\",\"Life Sciences\",\"Medical\",\"Medical\",\"Medical\",\"Life Sciences\",\"Medical\",\"Life Sciences\",\"Life Sciences\",\"Life Sciences\",\"Technical Degree\",\"Life Sciences\",\"Life Sciences\",\"Medical\",\"Medical\",\"Life Sciences\",\"Life Sciences\",\"Medical\",\"Life Sciences\",\"Medical\",\"Medical\",\"Medical\",\"Life Sciences\",\"Life Sciences\",\"Medical\",\"Medical\",\"Technical Degree\",\"Life Sciences\",\"Medical\",\"Technical Degree\",\"Life Sciences\",\"Life Sciences\",\"Medical\",\"Medical\",\"Other\",\"Life Sciences\",\"Life Sciences\",\"Life Sciences\",\"Life Sciences\",\"Life Sciences\",\"Medical\",\"Medical\",\"Medical\",\"Medical\",\"Life Sciences\",\"Medical\",\"Life Sciences\",\"Life Sciences\",\"Life Sciences\",\"Life Sciences\",\"Life Sciences\",\"Technical Degree\",\"Life Sciences\",\"Life Sciences\",\"Life Sciences\",\"Life Sciences\",\"Life Sciences\",\"Medical\",\"Medical\",\"Life Sciences\",\"Medical\",\"Medical\",\"Medical\",\"Life Sciences\",\"Other\",\"Medical\",\"Medical\",\"Life Sciences\",\"Life Sciences\",\"Life Sciences\",\"Medical\",\"Medical\",\"Life Sciences\",\"Life Sciences\",\"Life Sciences\",\"Life Sciences\",\"Life Sciences\",\"Technical Degree\",\"Life Sciences\",\"Life Sciences\",\"Life Sciences\",\"Other\",\"Life Sciences\",\"Life Sciences\",\"Medical\",\"Medical\",\"Technical Degree\",\"Life Sciences\",\"Technical Degree\",\"Technical Degree\",\"Life Sciences\",\"Technical Degree\",\"Life Sciences\",\"Medical\",\"Technical Degree\",\"Life Sciences\",\"Medical\",\"Other\",\"Life Sciences\",\"Life Sciences\",\"Life Sciences\",\"Life Sciences\",\"Life Sciences\",\"Other\",\"Technical Degree\",\"Medical\",\"Life Sciences\",\"Life Sciences\",\"Medical\",\"Life Sciences\",\"Life Sciences\",\"Life Sciences\",\"Life Sciences\",\"Medical\",\"Medical\",\"Life Sciences\",\"Medical\",\"Life Sciences\",\"Medical\",\"Life Sciences\",\"Life Sciences\",\"Technical Degree\",\"Medical\",\"Life Sciences\",\"Technical Degree\",\"Life Sciences\",\"Life Sciences\",\"Life Sciences\",\"Life Sciences\",\"Life Sciences\",\"Medical\",\"Medical\",\"Technical Degree\",\"Life Sciences\",\"Life Sciences\",\"Medical\",\"Life Sciences\",\"Life Sciences\",\"Life Sciences\",\"Medical\",\"Technical Degree\",\"Life Sciences\",\"Life Sciences\",\"Life Sciences\",\"Life Sciences\",\"Life Sciences\",\"Life Sciences\",\"Life Sciences\",\"Life Sciences\",\"Life Sciences\",\"Medical\",\"Medical\",\"Life Sciences\",\"Medical\",\"Medical\",\"Medical\",\"Life Sciences\",\"Life Sciences\",\"Medical\",\"Medical\",\"Medical\",\"Life Sciences\",\"Medical\",\"Medical\",\"Life Sciences\",\"Life Sciences\",\"Technical Degree\",\"Medical\",\"Life Sciences\",\"Medical\",\"Technical Degree\",\"Medical\",\"Life Sciences\",\"Life Sciences\",\"Life Sciences\",\"Life Sciences\",\"Life Sciences\",\"Technical Degree\",\"Life Sciences\",\"Life Sciences\",\"Life Sciences\",\"Medical\",\"Medical\",\"Other\",\"Technical Degree\",\"Medical\",\"Life Sciences\",\"Other\",\"Technical Degree\",\"Medical\",\"Medical\",\"Life Sciences\",\"Life Sciences\",\"Technical Degree\",\"Life Sciences\",\"Medical\",\"Life Sciences\",\"Life Sciences\",\"Medical\",\"Medical\",\"Medical\",\"Medical\",\"Life Sciences\",\"Medical\",\"Life Sciences\",\"Medical\",\"Life Sciences\",\"Medical\",\"Medical\",\"Other\",\"Medical\",\"Life Sciences\",\"Other\",\"Medical\",\"Other\",\"Life Sciences\",\"Life Sciences\",\"Life Sciences\",\"Life Sciences\",\"Medical\",\"Life Sciences\",\"Life Sciences\",\"Life Sciences\",\"Medical\",\"Life Sciences\",\"Medical\",\"Life Sciences\",\"Life Sciences\",\"Technical Degree\",\"Technical Degree\",\"Life Sciences\",\"Life Sciences\",\"Life Sciences\",\"Technical Degree\",\"Medical\",\"Medical\",\"Life Sciences\",\"Other\",\"Life Sciences\",\"Other\",\"Medical\",\"Technical Degree\",\"Life Sciences\",\"Life Sciences\",\"Medical\",\"Life Sciences\",\"Life Sciences\",\"Medical\",\"Life Sciences\",\"Life Sciences\",\"Life Sciences\",\"Life Sciences\",\"Life Sciences\",\"Life Sciences\",\"Life Sciences\",\"Life Sciences\",\"Life Sciences\",\"Medical\",\"Life Sciences\",\"Life Sciences\",\"Medical\",\"Technical Degree\",\"Medical\",\"Life Sciences\",\"Life Sciences\",\"Life Sciences\",\"Life Sciences\",\"Medical\",\"Technical Degree\",\"Life Sciences\",\"Life Sciences\",\"Medical\",\"Medical\",\"Life Sciences\",\"Medical\",\"Life Sciences\",\"Medical\",\"Life Sciences\",\"Medical\",\"Life Sciences\",\"Life Sciences\",\"Medical\",\"Medical\",\"Life Sciences\",\"Medical\",\"Life Sciences\",\"Life Sciences\",\"Life Sciences\",\"Medical\",\"Other\",\"Life Sciences\",\"Life Sciences\",\"Technical Degree\",\"Other\",\"Life Sciences\",\"Life Sciences\",\"Life Sciences\",\"Life Sciences\",\"Life Sciences\",\"Medical\",\"Life Sciences\",\"Life Sciences\",\"Technical Degree\",\"Life Sciences\",\"Life Sciences\",\"Other\",\"Medical\",\"Medical\",\"Life Sciences\",\"Technical Degree\",\"Life Sciences\",\"Technical Degree\",\"Life Sciences\",\"Life Sciences\",\"Technical Degree\",\"Life Sciences\",\"Other\",\"Life Sciences\",\"Life Sciences\",\"Medical\",\"Life Sciences\",\"Medical\",\"Medical\",\"Medical\",\"Life Sciences\",\"Life Sciences\",\"Medical\",\"Other\",\"Life Sciences\",\"Medical\",\"Medical\",\"Life Sciences\",\"Life Sciences\",\"Technical Degree\",\"Medical\",\"Life Sciences\",\"Medical\",\"Medical\",\"Medical\",\"Medical\",\"Medical\",\"Life Sciences\",\"Medical\",\"Other\",\"Life Sciences\",\"Life Sciences\",\"Life Sciences\",\"Medical\",\"Life Sciences\",\"Life Sciences\",\"Life Sciences\",\"Medical\",\"Medical\",\"Life Sciences\",\"Medical\",\"Life Sciences\",\"Other\",\"Medical\",\"Life Sciences\",\"Life Sciences\",\"Life Sciences\",\"Medical\",\"Medical\",\"Life Sciences\",\"Life Sciences\",\"Medical\",\"Medical\",\"Other\",\"Medical\",\"Medical\",\"Other\",\"Life Sciences\",\"Medical\",\"Life Sciences\",\"Life Sciences\",\"Medical\",\"Medical\",\"Medical\",\"Life Sciences\",\"Life Sciences\",\"Medical\",\"Other\",\"Medical\",\"Life Sciences\",\"Medical\",\"Medical\",\"Medical\",\"Life Sciences\",\"Life Sciences\",\"Medical\",\"Technical Degree\",\"Medical\",\"Life Sciences\",\"Medical\",\"Medical\",\"Technical Degree\",\"Life Sciences\",\"Life Sciences\",\"Medical\",\"Life Sciences\",\"Medical\",\"Other\",\"Medical\",\"Medical\",\"Medical\",\"Life Sciences\",\"Medical\",\"Life Sciences\",\"Life Sciences\"],\"legendgroup\":\"Research & Development\",\"marker\":{\"color\":\"#636efa\",\"size\":[599,1488,1017,566,944,1009,806,885,694,138,1287,884,640,894,607,1495,1092,1392,1082,530,1005,1358,1276,1349,1277,300,874,1443,933,833,1001,796,1217,301,119,1469,932,809,869,1198,1427,1383,528,548,1097,319,1401,477,999,769,1339,523,1277,1003,1018,672,933,1396,465,1333,604,1206,640,1313,653,1219,1336,144,1137,1063,1403,942,571,1495,1303,1450,857,682,790,1332,672,598,1142,691,882,895,464,884,658,715,853,1136,1448,775,1319,821,1323,1288,603,835,489,462,426,688,442,466,1311,991,1211,1362,300,783,575,641,1302,1479,136,602,1377,632,652,1308,1371,549,192,329,1416,571,561,1169,735,622,990,1435,468,636,956,469,1308,147,1082,791,465,335,469,1456,397,1302,574,116,1311,370,1232,573,654,1082,1064,959,991,1157,243,571,1445,652,1370,1003,969,1125,1223,466,1429,638,1089,829,821,360,1435,1169,862,699,1199,1193,574,1082,783,397,1372,1402,1210,1325,1115,945,1256,806,1178,573,890,1224,942,1443,989,661,703,1002,977,721,590,894,629,1324,1245,572,638,1255,1498,1242,1099,722,827,155,715,1091,267,1441,130,505,723,325,806,350,1303,506,1299,996,611,661,810,1005,468,543,723,1147,548,465,1328,836,667,448,1085,583,1373,329,1084,495,495,727,394,591,1316,699,240,806,1490,1302,342,1246,617,1291,723,1339,1084,1218,964,1109,1475,916,1107,857,329,763,390,806,1334,461,586,715,955,906,1001,1294,663,1356,781,989,571,836,1476,1300,604,1401,1202,977,506,530,335,1179,1303,827,648,1312,549,861,1329,430,634,1229,461,427,1035,1157,185,1261,1084,1220,300,1245,1131,350,623,1089,809,594,882,557,477,1189,571,1112,563,581,672,117,193,645,147,374,670,265,530,408,715,605,566,818,1334,1277,984,1427,1180,672,557,501,882,740,1091,688,548,1223,1480,426,1297,798,1116,1245,482,746,1255,1116,1358,1153,921,1398,390,562,594,1242,1485,1318,805,443,1366,1303,881,895,903,653,319,916,461,1402,660,589,1445,1480,1091,438,1092,933,995,1112,874,928,949,857,1369,465,896,930,444,920,1115,1360,303,1389,495,1480,688,1378,1111,809,1329,1252,498,552,430,1373,726,678,1391,797,216,177,1354,1452,1125,1443,1112,1327,1354,966,465,1382,1300,1229,1252,1234,945,201,1398,667,950,350,933,996,1127,147,1362,472,1445,658,890,574,141,252,977,1435,1485,447,891,849,672,352,984,329,1117,885,1117,427,921,621,1168,653,878,575,630,775,130,750,1096,806,984,1319,1206,427,622,1330,1480,628,472,836,1002,946,1223,663,1351,570,775,829,587,895,1258,827,1157,1302,563,1332,734,775,1418,1448,810,532,1343,944,370,1277,1229,1401,1206,991,1302,898,587,688,604,217,181,889,1254,809,772,1252,684,775,508,300,538,469,771,933,288,1258,645,593,1120,566,604,1283,1322,976,885,1052,989,1250,1157,1396,267,1329,465,1441,526,1318,1276,640,170,1302,665,1476,534,1334,446,1134,1091,289,1434,267,1277,269,855,575,279,1334,1084,906,913,287,322,583,1107,1089,735,1180,882,682,775,921,208,575,989,1222,488,581,458,1146,1111,490,115,441,1278,1258,267,1443,810,691,1448,903,117,1220,750,804,185,534,1302,917,1146,454,645,829,1467,723,929,1423,920,981,922,267,465,1179,1400,192,1179,1223,515,1018,1147,543,911,895,756,1252,823,621,1323,591,994,1005,950,632,1362,653,1176,477,721,804,793,459,995,118,658,1098,543,835,542,240,1469,1107,515,1318,813,797,827,1157,164,995,1370,1169,718,490,440,1179,335,1076,559,549,634,688,1387,1401,1181,836,1254,1475,1206,479,921,482,1082,994,1349,1092,991,602,365,506,561,1167,882,1186,1018,1117,805,855,660,1220,933,1116,1302,216,575,326,722,1308,1334,474,1343,1283,1397,607,655,1451,556,1309,1485,622,885,855,945,1112,439,653,1376,817,1434,1018,107,1239,806,1312,534,317,504,1421,669,723,478,1448,632,1210,635,1302,1009,1401,1480,329,1239,584,719,884,1225,364,894,170,990,1018,1180,1383,852,1351,1326,1112,603,945,1082,1138,658,1125,942,135,1018,602,849,504,683,884,1490,813,541,1480,1474,1499,920,509,1206,1181,1252,618,1449,541,867,933,1089,1378,670,1198,534,804,1082,329,885,1234,618,989,1495,693,1354,471,430,647,1402,1413,1218,589,1372,1271,1111,819,555,1373,1216,1283,933,1275,1389,1126,895,1125,658,1017,1355,439,1467,1297,1351,422,989,728,147,1229,559,750,1448,658,1425,728,848,571,442,849,903,890,523,1395,802,1092,896,1018,1387,1283,1376,1337,1277,1450,1346,1448,1199,1258,571,581,1277,268,1115,1334,995,1355,636,1278,1199,1300,1373,546,1490,867,470,1138,527,1158,1373,944,1181,543,725,891,1351,983,775,130,1303,603,1475,636,1082,1469,832,884,890,1329,508,827,1441,1312,1158,322,575,895,587,616,383,805,1440,949,201,1194,1237,674,1441,1088,966,1142,3921,653,806,713,990,775,953,559,482,971,1062,959,334,607,381,1109,334,1328,693,469,1377,566,1082,1283,728,988,1082,982,807,1329,1319,1206,653,703,1092,363,949,920,548,1283,827,557,1448,813,971,1098,1354,509,1084,465,443,1441,1404,1082,635,1297,1469,544,1102,1242,589,977,956,581,799,1356,544,1411,1274,791,117,216,1055,975,1401,1402,1252,444,147,913,182,783,427,495,303,1282,1111,1322,549,1482,697,124,583,853,1038,1329,1441,806,693,593,1176,1123,1180,616,881,1125,1476,723,111,252,201,192,818,810,1234,325,1492,989,763,967,136,374,561,1443,557,841,836,1107,330,604,408,771,921,1017,983,1128,868,300,479,894,590,1093,796,1261,507,1329,430,603,217,1217,583,1308,691,581,325,867,989,776,1168,465,240,1329,1462,1490,1174,1107,562,607,543,1223,1462,796,783,1129,988,917,941,992,334,130,523,665,207,636,848,776,1276,1303,1141],\"sizemode\":\"area\",\"sizeref\":1.9362962962962964,\"symbol\":\"circle\"},\"mode\":\"markers\",\"name\":\"Research & Development\",\"showlegend\":true,\"x\":[10,15,31,6,1,6,9,10,10,4,17,6,20,4,28,21,5,10,8,18,10,8,12,10,15,5,11,13,24,1,15,16,6,16,10,0,10,10,9,6,9,10,6,12,6,23,10,1,21,13,20,8,6,7,26,21,32,33,10,1,17,1,8,1,10,19,6,5,21,22,7,5,11,17,5,6,8,6,15,6,4,8,15,17,14,3,22,27,15,4,24,17,7,12,27,10,16,30,1,9,10,10,10,9,10,14,15,1,6,8,4,8,2,10,8,9,7,8,37,18,12,5,6,9,23,15,18,9,10,21,5,9,7,9,9,7,14,21,4,20,8,11,6,10,24,10,6,10,7,5,37,11,23,6,10,23,6,8,9,8,6,20,34,9,20,4,1,10,21,12,10,5,7,8,3,8,4,3,3,26,6,8,0,7,10,10,13,18,7,17,5,32,1,10,9,7,2,6,40,6,26,9,12,14,3,10,10,3,8,20,7,10,11,10,10,36,8,10,9,3,4,6,8,19,9,11,7,17,5,20,5,6,21,9,8,11,1,9,5,8,4,10,12,8,7,8,6,19,9,20,10,10,5,10,10,28,20,4,2,3,0,12,31,20,26,17,18,11,19,9,10,21,5,33,9,16,11,14,21,6,24,7,29,2,7,16,9,5,13,0,10,6,27,10,9,8,8,7,1,6,15,6,10,17,7,10,6,1,7,10,10,6,7,7,10,30,5,21,6,5,3,5,12,9,15,10,2,1,28,8,8,9,5,10,8,16,4,10,6,4,15,9,19,15,3,1,13,1,20,7,18,16,18,22,7,2,16,6,7,7,9,8,10,10,15,11,7,4,13,10,5,6,2,11,6,4,1,8,1,6,17,13,4,24,31,10,15,5,28,3,1,9,6,1,1,12,6,10,11,3,20,10,6,6,4,4,7,19,3,1,8,7,10,4,15,8,6,17,9,21,7,18,1,21,9,7,9,25,9,18,1,24,1,15,7,5,5,3,7,17,23,8,9,29,10,10,10,13,17,9,7,10,4,6,6,12,22,18,3,4,18,7,9,1,12,26,23,8,8,4,6,31,22,17,11,4,8,4,4,1,9,1,12,12,10,8,6,7,5,13,10,9,10,4,24,3,16,10,24,8,5,29,1,6,1,1,6,4,9,1,10,3,8,8,30,13,18,25,7,6,38,5,7,8,4,17,1,12,7,22,8,22,15,1,5,7,4,13,1,1,12,28,10,22,10,5,1,10,2,14,20,17,10,9,6,16,10,23,12,1,16,1,10,1,10,22,6,9,6,20,6,30,9,1,12,10,25,4,22,9,1,2,9,6,13,5,7,26,1,1,6,9,10,5,3,13,6,10,10,10,22,5,23,7,17,14,6,18,6,15,13,7,6,41,9,8,1,1,8,7,7,7,8,15,6,1,18,7,5,10,3,3,31,7,22,8,14,7,15,10,17,3,10,5,6,1,24,19,6,1,6,10,10,6,8,10,10,10,21,10,10,14,3,6,8,1,12,10,10,12,6,30,1,10,4,2,8,12,7,7,9,16,5,7,4,1,14,13,4,1,4,18,4,14,4,5,1,29,17,8,8,21,5,6,5,18,10,11,1,10,14,21,16,7,4,7,4,5,10,8,8,8,9,24,8,6,10,8,9,10,0,6,3,10,18,28,25,10,2,6,3,8,8,15,5,21,10,9,10,10,10,21,16,21,18,8,7,7,33,12,10,6,29,9,5,17,15,1,9,8,23,8,10,15,6,8,6,5,1,5,7,6,8,12,5,9,5,1,8,19,7,20,4,3,15,10,10,4,1,8,4,10,8,5,20,25,10,10,7,10,10,28,7,16,9,10,6,9,25,0,9,15,11,3,1,6,16,9,3,22,14,1,14,4,6,8,7,5,15,9,10,7,8,7,31,9,6,3,8,7,10,23,4,19,5,4,16,33,23,10,8,6,6,5,10,18,1,1,8,10,3,10,17,10,10,17,10,16,10,9,6,9,1,12,18,8,9,7,19,10,6,10,17,35,23,6,9,14,7,4,6,12,25,7,20,7,5,1,1,20,8,15,7,4,11,21,6,25,18,0,16,1,6,1,19,10,12,21,8,9,10,9,16,9,10,8,1,1,1,11,13,12,10,10,7,6,10,0,14,24,20,6,10,5,6,8,18,18,10,8,1,9,6,20,10,3,8,26,7,10,21,16,13,12,5,9,12,4,24,18,9,8,8,6,9,13,20,13,10,6,20,12,0,26,8,10,7,12,9,8,25,10,4,28,10,10,7,5,2,16,10,24,9,6,7,5,2,28,10,10,6,16,8,27,12,9,10,10,19,6,9,13,5,4,10,1,4,8,21,9,8,16,6,13,20,29,10,2,4,1,10,5,10,25,10,19,7,10,3,18,9,13,19,12,10,11,15,6,20,10,12,19,20,5,20,28,4,7,6,20,5,23,6,3,15,8,6,1,24,4,27,1,8,6,6,10,18,10,10,4,8,8,10,6,8,10,6,16,12,1,25,6,18,10,1,5,14,5,0,12,10,6,15,7,18,10,12,6,4,27,17,5,5,28,9,6,6,7,10,6,34,10,7,12,10,5,4,8,6,18,9,16,24,8,4,0,9,28,1,2,3,23,6,23,12,10,10],\"xaxis\":\"x\",\"y\":[36,38,50,27,34,40,25,35,29,38,48,26,39,33,52,42,25,30,50,43,29,26,41,34,47,56,38,33,42,27,36,44,28,46,29,18,41,36,34,34,37,44,28,38,27,50,29,29,43,38,49,26,26,33,53,41,54,35,43,28,35,33,26,30,43,49,24,29,47,42,43,27,46,36,28,34,23,47,33,37,31,37,37,48,27,25,45,59,33,22,45,49,27,40,46,45,51,38,31,29,34,32,34,29,42,34,35,26,26,36,29,36,32,42,27,45,43,31,55,45,30,20,24,39,52,34,57,39,28,43,26,36,31,30,39,48,41,47,33,52,40,30,28,29,42,29,25,38,29,28,55,30,45,39,30,46,31,26,30,45,27,38,52,31,40,41,35,36,41,57,34,27,44,36,27,36,36,21,28,54,34,39,18,47,28,36,56,36,38,36,28,53,26,45,27,27,23,34,58,34,50,31,33,58,21,46,40,23,58,48,44,28,34,34,31,56,44,36,39,27,31,32,31,50,49,43,33,35,34,41,27,32,39,26,28,34,25,35,23,41,22,29,40,38,27,45,37,46,36,40,18,32,35,35,32,50,43,31,32,21,18,41,55,45,46,47,38,40,38,27,42,40,29,53,31,38,40,32,40,38,42,23,53,35,36,34,31,28,31,18,26,31,48,34,34,35,32,29,23,31,36,35,29,38,41,36,28,29,31,43,38,27,36,39,41,50,25,40,39,24,36,50,41,45,34,33,27,34,50,36,30,39,29,36,36,35,26,39,30,22,40,39,50,40,35,26,33,22,40,38,36,35,43,50,36,31,34,35,43,25,30,29,35,42,39,31,38,29,37,46,28,44,22,29,34,28,22,48,24,24,37,38,32,46,59,59,50,35,46,26,31,37,27,24,21,33,34,39,37,22,40,31,48,34,28,28,43,39,38,34,37,46,32,34,36,37,29,35,44,40,33,40,23,40,30,29,44,43,32,42,29,44,31,35,37,35,25,25,29,38,42,31,52,49,29,34,32,53,46,27,36,41,24,31,27,38,36,37,31,23,49,29,39,21,51,47,46,37,36,36,40,52,49,47,29,29,26,21,28,34,27,29,35,58,44,38,25,29,35,37,26,33,29,29,42,28,37,41,54,26,25,44,29,31,21,19,25,32,35,27,37,37,49,26,58,40,45,59,34,27,58,35,38,45,27,37,19,30,49,40,26,44,40,19,40,36,22,39,18,35,33,50,44,43,29,37,26,37,28,32,38,35,32,31,34,36,30,44,35,36,37,26,32,18,29,51,29,32,29,50,28,49,32,30,36,51,43,26,40,39,28,34,31,34,38,28,29,53,28,32,34,31,37,32,28,54,34,29,36,37,41,27,42,44,35,55,31,40,27,38,38,34,56,39,36,38,35,35,26,29,34,49,27,55,27,41,36,29,32,36,28,29,52,26,40,27,38,38,34,45,36,28,36,24,35,29,55,60,36,29,29,51,36,32,31,33,36,33,38,38,30,33,28,31,47,24,30,36,53,31,35,55,29,32,34,35,32,30,37,25,45,36,21,38,23,24,46,31,43,32,25,51,29,34,59,28,23,43,52,33,27,39,28,34,28,36,39,29,34,29,42,53,42,26,25,25,31,30,41,34,27,43,58,56,26,35,36,29,27,44,18,47,35,38,46,52,47,44,22,42,23,43,39,30,36,40,38,39,44,38,35,45,40,45,39,47,41,30,52,30,34,38,48,29,35,41,31,29,32,49,43,40,45,32,23,40,35,27,30,50,45,29,34,46,28,36,22,27,31,48,40,47,30,22,38,35,29,35,24,37,38,59,40,29,50,51,31,29,43,34,48,50,35,36,40,37,28,31,46,18,39,35,40,27,30,27,36,38,33,42,41,20,32,22,43,40,34,25,37,46,30,40,37,38,58,39,30,23,43,32,44,49,29,39,26,31,36,50,44,43,43,24,34,35,31,40,22,23,36,40,23,44,38,35,40,37,27,42,28,26,39,37,24,51,40,43,34,49,48,35,28,36,36,55,48,27,37,39,28,40,44,37,45,33,38,26,25,33,28,38,40,48,34,31,38,42,42,55,36,19,34,19,36,28,48,32,41,47,48,29,30,35,36,50,39,47,19,29,24,44,41,44,39,38,35,28,30,18,37,45,42,34,38,33,28,42,47,47,30,42,19,32,24,38,29,38,37,53,37,36,48,35,53,52,23,46,40,35,44,36,34,34,39,28,34,41,38,40,30,40,44,31,18,44,40,42,56,30,36,56,46,31,27,45,44,36,26,48,38,46,29,42,38,25,30,24,22,49,40,49,28,34,44,46,56,40,40,37,38,40,34,30,25,31,45,19,30,26,39,36,40,42,31,31,50,53,32,21,32,26,44,25,39,48,36,49,34,30,31,37,29,34,40,35,35,30,38,38,50,34,30,48,38,23,42,50,40,42,34,38,27,60,25,26,35,41,37,38,45,31,48,29,33,35,32,31,40,46,28,36,37,28,33,35,44,34,27,54,37,28,45,37,42,40,28,29,56,31,48,38,29,30,36,33,35,35,59,25,23,48,37,40,36,46,38,29,29,42,31,34,53,36,31,57,35,27,33,50,29,43,31,37,44,30,31,27,31,52,27,21,28,44,44,48,55,32,36],\"yaxis\":\"y\",\"type\":\"scattergl\"},{\"hovertemplate\":\"<b>%{hovertext}</b><br><br>Department=Sales<br>TotalWorkingYears=%{x}<br>Age=%{y}<br>DailyRate=%{marker.size}<extra></extra>\",\"hovertext\":[\"Other\",\"Marketing\",\"Life Sciences\",\"Life Sciences\",\"Marketing\",\"Life Sciences\",\"Life Sciences\",\"Marketing\",\"Life Sciences\",\"Life Sciences\",\"Marketing\",\"Medical\",\"Life Sciences\",\"Marketing\",\"Marketing\",\"Life Sciences\",\"Medical\",\"Marketing\",\"Life Sciences\",\"Life Sciences\",\"Marketing\",\"Life Sciences\",\"Marketing\",\"Medical\",\"Marketing\",\"Life Sciences\",\"Life Sciences\",\"Life Sciences\",\"Marketing\",\"Life Sciences\",\"Technical Degree\",\"Medical\",\"Life Sciences\",\"Life Sciences\",\"Life Sciences\",\"Life Sciences\",\"Medical\",\"Life Sciences\",\"Life Sciences\",\"Marketing\",\"Marketing\",\"Life Sciences\",\"Medical\",\"Marketing\",\"Marketing\",\"Life Sciences\",\"Life Sciences\",\"Life Sciences\",\"Life Sciences\",\"Life Sciences\",\"Life Sciences\",\"Technical Degree\",\"Life Sciences\",\"Medical\",\"Life Sciences\",\"Medical\",\"Marketing\",\"Life Sciences\",\"Life Sciences\",\"Marketing\",\"Marketing\",\"Life Sciences\",\"Marketing\",\"Marketing\",\"Medical\",\"Life Sciences\",\"Marketing\",\"Medical\",\"Life Sciences\",\"Medical\",\"Marketing\",\"Life Sciences\",\"Life Sciences\",\"Marketing\",\"Life Sciences\",\"Life Sciences\",\"Technical Degree\",\"Life Sciences\",\"Medical\",\"Life Sciences\",\"Life Sciences\",\"Life Sciences\",\"Life Sciences\",\"Marketing\",\"Medical\",\"Life Sciences\",\"Medical\",\"Life Sciences\",\"Marketing\",\"Marketing\",\"Marketing\",\"Life Sciences\",\"Life Sciences\",\"Life Sciences\",\"Life Sciences\",\"Marketing\",\"Life Sciences\",\"Technical Degree\",\"Life Sciences\",\"Marketing\",\"Life Sciences\",\"Life Sciences\",\"Medical\",\"Life Sciences\",\"Life Sciences\",\"Marketing\",\"Life Sciences\",\"Life Sciences\",\"Life Sciences\",\"Life Sciences\",\"Medical\",\"Marketing\",\"Life Sciences\",\"Life Sciences\",\"Marketing\",\"Medical\",\"Marketing\",\"Life Sciences\",\"Medical\",\"Medical\",\"Medical\",\"Life Sciences\",\"Life Sciences\",\"Life Sciences\",\"Marketing\",\"Marketing\",\"Marketing\",\"Marketing\",\"Life Sciences\",\"Marketing\",\"Life Sciences\",\"Technical Degree\",\"Technical Degree\",\"Other\",\"Other\",\"Medical\",\"Medical\",\"Marketing\",\"Life Sciences\",\"Marketing\",\"Life Sciences\",\"Marketing\",\"Marketing\",\"Life Sciences\",\"Medical\",\"Life Sciences\",\"Life Sciences\",\"Medical\",\"Life Sciences\",\"Life Sciences\",\"Medical\",\"Life Sciences\",\"Other\",\"Life Sciences\",\"Marketing\",\"Life Sciences\",\"Other\",\"Life Sciences\",\"Life Sciences\",\"Life Sciences\",\"Marketing\",\"Life Sciences\",\"Marketing\",\"Marketing\",\"Life Sciences\",\"Life Sciences\",\"Medical\",\"Marketing\",\"Medical\",\"Marketing\",\"Marketing\",\"Life Sciences\",\"Life Sciences\",\"Medical\",\"Marketing\",\"Marketing\",\"Life Sciences\",\"Life Sciences\",\"Medical\",\"Marketing\",\"Medical\",\"Medical\",\"Medical\",\"Marketing\",\"Marketing\",\"Medical\",\"Life Sciences\",\"Life Sciences\",\"Marketing\",\"Marketing\",\"Medical\",\"Medical\",\"Technical Degree\",\"Technical Degree\",\"Life Sciences\",\"Life Sciences\",\"Life Sciences\",\"Life Sciences\",\"Medical\",\"Life Sciences\",\"Medical\",\"Life Sciences\",\"Medical\",\"Life Sciences\",\"Life Sciences\",\"Life Sciences\",\"Marketing\",\"Marketing\",\"Marketing\",\"Life Sciences\",\"Medical\",\"Other\",\"Life Sciences\",\"Other\",\"Medical\",\"Medical\",\"Technical Degree\",\"Life Sciences\",\"Life Sciences\",\"Life Sciences\",\"Marketing\",\"Medical\",\"Life Sciences\",\"Life Sciences\",\"Marketing\",\"Life Sciences\",\"Life Sciences\",\"Life Sciences\",\"Life Sciences\",\"Marketing\",\"Life Sciences\",\"Medical\",\"Life Sciences\",\"Life Sciences\",\"Life Sciences\",\"Life Sciences\",\"Medical\",\"Life Sciences\",\"Marketing\",\"Technical Degree\",\"Marketing\",\"Medical\",\"Medical\",\"Marketing\",\"Marketing\",\"Medical\",\"Marketing\",\"Life Sciences\",\"Life Sciences\",\"Marketing\",\"Technical Degree\",\"Marketing\",\"Life Sciences\",\"Medical\",\"Medical\",\"Other\",\"Life Sciences\",\"Marketing\",\"Marketing\",\"Medical\",\"Marketing\",\"Marketing\",\"Life Sciences\",\"Life Sciences\",\"Medical\",\"Technical Degree\",\"Medical\",\"Life Sciences\",\"Marketing\",\"Life Sciences\",\"Life Sciences\",\"Marketing\",\"Life Sciences\",\"Medical\",\"Medical\",\"Life Sciences\",\"Marketing\",\"Marketing\",\"Marketing\",\"Medical\",\"Marketing\",\"Life Sciences\",\"Life Sciences\",\"Marketing\",\"Medical\",\"Marketing\",\"Marketing\",\"Medical\",\"Life Sciences\",\"Life Sciences\",\"Life Sciences\",\"Marketing\",\"Life Sciences\",\"Marketing\",\"Technical Degree\",\"Medical\",\"Marketing\",\"Technical Degree\",\"Marketing\",\"Marketing\",\"Marketing\",\"Life Sciences\",\"Medical\",\"Life Sciences\",\"Marketing\",\"Marketing\",\"Marketing\",\"Life Sciences\",\"Marketing\",\"Marketing\",\"Medical\",\"Life Sciences\",\"Marketing\",\"Life Sciences\",\"Marketing\",\"Life Sciences\",\"Life Sciences\",\"Life Sciences\",\"Marketing\",\"Life Sciences\",\"Marketing\",\"Marketing\",\"Marketing\",\"Life Sciences\",\"Life Sciences\",\"Marketing\",\"Marketing\",\"Other\",\"Life Sciences\",\"Life Sciences\",\"Marketing\",\"Life Sciences\",\"Life Sciences\",\"Technical Degree\",\"Marketing\",\"Marketing\",\"Medical\",\"Life Sciences\",\"Medical\",\"Life Sciences\",\"Other\",\"Marketing\",\"Life Sciences\",\"Life Sciences\",\"Other\",\"Marketing\",\"Marketing\",\"Life Sciences\",\"Marketing\",\"Technical Degree\",\"Marketing\",\"Life Sciences\",\"Marketing\",\"Marketing\",\"Life Sciences\",\"Life Sciences\",\"Life Sciences\",\"Marketing\",\"Medical\",\"Life Sciences\",\"Medical\",\"Medical\",\"Life Sciences\",\"Life Sciences\",\"Other\",\"Life Sciences\",\"Marketing\",\"Life Sciences\",\"Medical\",\"Marketing\",\"Marketing\",\"Life Sciences\",\"Marketing\",\"Marketing\",\"Marketing\",\"Life Sciences\",\"Marketing\",\"Life Sciences\",\"Medical\",\"Medical\",\"Life Sciences\",\"Life Sciences\",\"Marketing\",\"Life Sciences\",\"Life Sciences\",\"Life Sciences\",\"Other\",\"Marketing\",\"Marketing\",\"Life Sciences\",\"Life Sciences\",\"Other\",\"Marketing\",\"Marketing\",\"Marketing\",\"Technical Degree\",\"Marketing\",\"Life Sciences\",\"Marketing\",\"Life Sciences\",\"Marketing\",\"Life Sciences\",\"Medical\",\"Marketing\",\"Marketing\",\"Life Sciences\",\"Life Sciences\",\"Marketing\",\"Life Sciences\",\"Life Sciences\",\"Medical\",\"Marketing\",\"Medical\",\"Life Sciences\",\"Marketing\",\"Medical\",\"Life Sciences\",\"Life Sciences\",\"Life Sciences\",\"Marketing\",\"Medical\",\"Technical Degree\",\"Marketing\",\"Life Sciences\",\"Life Sciences\",\"Marketing\",\"Life Sciences\",\"Marketing\",\"Marketing\",\"Marketing\",\"Marketing\",\"Life Sciences\",\"Medical\",\"Medical\",\"Marketing\",\"Life Sciences\",\"Life Sciences\",\"Medical\",\"Life Sciences\",\"Marketing\",\"Life Sciences\",\"Life Sciences\",\"Life Sciences\",\"Medical\",\"Life Sciences\",\"Medical\",\"Life Sciences\",\"Marketing\",\"Life Sciences\",\"Life Sciences\",\"Marketing\",\"Medical\",\"Marketing\",\"Medical\",\"Marketing\",\"Life Sciences\",\"Technical Degree\",\"Life Sciences\",\"Medical\",\"Life Sciences\",\"Marketing\",\"Marketing\",\"Life Sciences\",\"Marketing\",\"Marketing\",\"Life Sciences\",\"Life Sciences\",\"Medical\",\"Marketing\",\"Life Sciences\",\"Marketing\"],\"legendgroup\":\"Sales\",\"marker\":{\"color\":\"#EF553B\",\"size\":[921,718,1297,746,796,228,959,154,555,1107,469,994,1179,1434,1082,1413,322,1223,1099,1082,1275,959,723,442,807,1168,1450,920,954,1283,1495,804,546,1146,359,1206,383,543,1479,750,713,304,1469,689,207,887,326,829,857,1389,301,1145,662,1237,658,1054,1329,1180,252,918,1040,1346,534,855,708,1476,706,1146,1485,117,1320,523,1463,1395,1189,697,845,1245,561,1157,775,1199,1404,325,1084,1467,942,741,1184,1456,1050,1333,835,462,1278,1499,1448,438,346,1476,835,218,458,157,217,786,1339,552,1040,1283,1402,427,1333,706,1479,530,1339,1332,625,848,334,1169,1169,1396,1356,530,1179,589,1375,736,836,395,1226,1339,970,200,1278,218,1316,991,478,1217,1225,1265,793,1075,1243,310,634,1383,1387,1157,482,756,723,1457,1204,1380,805,1109,528,662,1261,1223,706,575,1245,855,882,1372,601,337,746,119,428,1277,930,1398,983,1091,1462,1258,1189,302,827,117,465,458,1355,559,809,989,991,828,715,1381,1278,1224,1434,827,334,1131,884,526,1450,1157,991,792,827,1162,691,775,833,1179,1195,1370,664,1371,943,734,468,444,414,581,556,607,853,234,1332,945,1169,360,589,530,602,428,1297,492,1319,662,855,653,419,532,193,575,408,1398,1276,1219,1443,691,855,836,1210,891,1329,793,704,1252,465,971,1102,836,240,1015,661,942,945,663,1328,722,703,1146,1400,1476,630,950,1387,1245,625,772,1311,1351,541,1225,1277,1299,924,1266,723,855,821,638,1463,587,1258,807,895,511,772,742,342,833,538,676,1040,350,1356,750,1343,1239,722,708,923,1297,528,1242,648,1109,1282,496,478,1405,1456,410,975,616,713,119,535,635,1436,459,728,124,593,1297,408,1063,704,1034,1456,1474,648,1206,836,504,581,182,746,979,1485,1244,678,806,964,333,772,504,1096,708,1064,895,1082,1385,956,819,1373,805,853,559,1093,508,1256,216,855,827,1125,1213,685,556,1362,1189,966,1017,881,527,1220,1234,1470,115,682,1182,374,704,583,532,722,945,301,1084,1212,1372,530,1224,1211,534,634,1225,1246,829,1082,1283,1179,756,527,634,1431,526,1299,663,750,1229,1184,878,1319,852,693,1251,478,1245,986,1157,590,1387,855,1294,618,1330,527,930,1142,658,1473,1218,1425,527,1157,561,945,999,721,541,1151,216,1358,775,1059,810,444,1400,878,1225,1234,1082,1084,1189,783,945,441],\"sizemode\":\"area\",\"sizeref\":1.9362962962962964,\"symbol\":\"circle\"},\"mode\":\"markers\",\"name\":\"Sales\",\"showlegend\":true,\"x\":[4,4,18,5,2,10,1,10,10,24,4,6,9,4,6,18,13,6,9,10,9,0,31,14,10,22,16,10,6,14,10,10,3,9,7,12,8,10,7,15,5,5,6,15,26,10,15,3,10,11,8,8,13,13,1,3,10,6,23,12,30,8,1,10,12,9,2,10,1,9,28,28,7,11,16,10,10,6,7,9,8,33,10,13,13,7,1,11,12,22,7,5,9,5,4,22,6,13,10,5,2,6,2,2,10,7,1,10,21,14,8,16,10,16,26,13,6,22,12,12,14,6,5,23,13,24,10,12,5,5,9,7,9,12,15,7,14,5,13,6,6,8,10,15,10,9,6,1,22,5,11,10,5,6,21,10,10,28,9,7,15,7,31,26,10,5,10,8,5,6,22,12,1,5,1,4,6,23,15,19,10,1,13,7,10,13,21,1,14,3,4,9,38,3,7,17,5,3,10,10,4,21,6,23,15,10,2,15,10,4,15,7,10,10,18,7,6,13,10,21,23,16,4,10,7,20,16,10,1,8,17,3,9,16,8,8,5,5,6,4,9,10,5,22,5,3,10,10,19,9,9,6,6,15,11,16,14,3,12,2,10,5,7,9,3,9,6,10,2,10,24,1,4,6,6,28,29,10,13,17,9,13,9,6,26,16,10,2,10,26,2,15,9,33,9,10,15,10,2,16,9,5,9,4,3,10,15,15,19,9,15,2,10,10,6,12,34,10,10,14,15,22,10,1,13,17,16,21,19,11,3,7,21,8,17,11,13,10,7,29,8,30,12,26,10,10,1,1,10,13,6,9,6,7,10,10,22,21,10,5,6,17,26,17,4,10,9,2,10,4,8,0,14,25,19,8,9,31,6,5,12,10,17,5,15,10,10,10,14,14,25,6,5,13,7,8,28,4,15,1,15,18,11,4,13,11,10,10,18,3,7,9,8,21,10,27,14,6,9,1,20,6,10,6,9,6,11,16,22,14,6,5,10,10,7,5,8,1,8,8,15,22,10,7,15,12,22,9,6,16,16,9,3,19,6,13,8,5,14,10,2,25,7,10,36,10,3,17,25,10,10],\"xaxis\":\"x2\",\"y\":[35,32,51,29,35,29,24,35,38,52,31,27,45,33,29,39,38,33,34,34,46,27,53,32,31,41,33,29,34,34,35,41,23,32,38,41,38,31,25,36,31,27,26,47,46,29,38,31,31,29,38,26,39,31,19,35,30,34,45,45,53,39,34,35,30,39,35,41,31,31,46,31,27,29,39,30,45,35,27,45,48,55,40,52,36,38,29,19,30,46,37,32,32,28,25,40,26,51,54,50,38,24,25,20,45,27,30,31,32,36,25,43,59,36,53,31,40,40,52,30,45,30,29,60,54,45,40,30,25,26,46,35,27,30,35,32,46,33,38,24,34,37,29,40,27,51,34,23,42,24,39,32,27,27,39,31,29,46,30,28,36,36,50,46,32,24,38,35,29,27,39,34,31,33,19,26,27,41,30,50,38,19,39,28,47,31,40,20,33,35,37,55,55,21,37,33,34,21,30,31,31,39,25,46,44,32,25,34,45,55,37,30,39,36,38,33,27,48,29,40,42,36,27,46,36,40,24,36,34,32,37,30,34,46,38,27,24,21,34,32,34,28,35,30,35,33,35,30,46,32,31,36,36,38,38,38,32,28,45,21,45,32,38,36,31,34,25,41,28,30,42,19,36,27,31,59,50,35,37,36,34,52,36,33,45,35,31,40,33,46,31,40,37,52,32,38,39,29,20,37,30,34,40,28,25,35,41,38,48,46,36,21,35,46,45,36,52,31,34,42,33,49,37,32,40,37,35,41,58,37,34,29,41,40,56,36,35,31,27,50,32,55,55,46,34,40,26,28,35,29,38,46,29,40,35,34,41,39,35,28,25,33,44,36,31,38,34,28,28,29,42,29,47,55,39,36,35,59,35,26,46,35,37,33,40,41,30,34,32,32,45,33,46,31,44,31,46,44,41,29,33,39,28,34,33,29,30,38,42,27,26,35,27,51,32,48,33,33,45,29,40,34,31,27,34,32,37,35,40,34,25,33,31,39,47,29,40,30,27,40,36,50,36,49,35,33,39,32,25,36,34,27,21,38,25,36,30,28,33,40,31,46,31,41,48,36,38,47,46,30,36],\"yaxis\":\"y2\",\"type\":\"scattergl\"},{\"hovertemplate\":\"<b>%{hovertext}</b><br><br>Department=Human Resources<br>TotalWorkingYears=%{x}<br>Age=%{y}<br>DailyRate=%{marker.size}<extra></extra>\",\"hovertext\":[\"Human Resources\",\"Life Sciences\",\"Life Sciences\",\"Life Sciences\",\"Life Sciences\",\"Life Sciences\",\"Medical\",\"Medical\",\"Life Sciences\",\"Other\",\"Human Resources\",\"Life Sciences\",\"Human Resources\",\"Medical\",\"Life Sciences\",\"Technical Degree\",\"Life Sciences\",\"Life Sciences\",\"Medical\",\"Human Resources\",\"Medical\",\"Medical\",\"Human Resources\",\"Life Sciences\",\"Life Sciences\",\"Life Sciences\",\"Human Resources\",\"Life Sciences\",\"Human Resources\",\"Human Resources\",\"Life Sciences\",\"Medical\",\"Human Resources\",\"Human Resources\",\"Medical\",\"Human Resources\",\"Life Sciences\",\"Human Resources\",\"Human Resources\"],\"legendgroup\":\"Human Resources\",\"marker\":{\"color\":\"#00cc96\",\"size\":[1107,979,959,350,1377,852,832,798,436,775,1411,1489,444,1146,397,334,1194,289,1369,658,938,1164,1337,600,1239,1339,667,629,433,373,202,1229,288,950,495,855,575,988,1184],\"sizemode\":\"area\",\"sizeref\":1.9362962962962964,\"symbol\":\"circle\"},\"mode\":\"markers\",\"name\":\"Human Resources\",\"showlegend\":true,\"x\":[33,10,5,7,19,8,4,6,4,5,15,26,17,10,34,1,8,1,18,10,8,9,1,10,12,10,6,1,21,4,6,13,6,2,13,33,6,10,1],\"xaxis\":\"x3\",\"y\":[51,31,26,38,39,38,34,36,31,26,30,45,38,32,51,28,41,29,39,36,26,20,18,33,36,41,36,30,41,57,29,34,31,35,29,46,30,44,29],\"yaxis\":\"y3\",\"type\":\"scattergl\"}],                        {\"template\":{\"data\":{\"barpolar\":[{\"marker\":{\"line\":{\"color\":\"rgb(17,17,17)\",\"width\":0.5},\"pattern\":{\"fillmode\":\"overlay\",\"size\":10,\"solidity\":0.2}},\"type\":\"barpolar\"}],\"bar\":[{\"error_x\":{\"color\":\"#f2f5fa\"},\"error_y\":{\"color\":\"#f2f5fa\"},\"marker\":{\"line\":{\"color\":\"rgb(17,17,17)\",\"width\":0.5},\"pattern\":{\"fillmode\":\"overlay\",\"size\":10,\"solidity\":0.2}},\"type\":\"bar\"}],\"carpet\":[{\"aaxis\":{\"endlinecolor\":\"#A2B1C6\",\"gridcolor\":\"#506784\",\"linecolor\":\"#506784\",\"minorgridcolor\":\"#506784\",\"startlinecolor\":\"#A2B1C6\"},\"baxis\":{\"endlinecolor\":\"#A2B1C6\",\"gridcolor\":\"#506784\",\"linecolor\":\"#506784\",\"minorgridcolor\":\"#506784\",\"startlinecolor\":\"#A2B1C6\"},\"type\":\"carpet\"}],\"choropleth\":[{\"colorbar\":{\"outlinewidth\":0,\"ticks\":\"\"},\"type\":\"choropleth\"}],\"contourcarpet\":[{\"colorbar\":{\"outlinewidth\":0,\"ticks\":\"\"},\"type\":\"contourcarpet\"}],\"contour\":[{\"colorbar\":{\"outlinewidth\":0,\"ticks\":\"\"},\"colorscale\":[[0.0,\"#0d0887\"],[0.1111111111111111,\"#46039f\"],[0.2222222222222222,\"#7201a8\"],[0.3333333333333333,\"#9c179e\"],[0.4444444444444444,\"#bd3786\"],[0.5555555555555556,\"#d8576b\"],[0.6666666666666666,\"#ed7953\"],[0.7777777777777778,\"#fb9f3a\"],[0.8888888888888888,\"#fdca26\"],[1.0,\"#f0f921\"]],\"type\":\"contour\"}],\"heatmapgl\":[{\"colorbar\":{\"outlinewidth\":0,\"ticks\":\"\"},\"colorscale\":[[0.0,\"#0d0887\"],[0.1111111111111111,\"#46039f\"],[0.2222222222222222,\"#7201a8\"],[0.3333333333333333,\"#9c179e\"],[0.4444444444444444,\"#bd3786\"],[0.5555555555555556,\"#d8576b\"],[0.6666666666666666,\"#ed7953\"],[0.7777777777777778,\"#fb9f3a\"],[0.8888888888888888,\"#fdca26\"],[1.0,\"#f0f921\"]],\"type\":\"heatmapgl\"}],\"heatmap\":[{\"colorbar\":{\"outlinewidth\":0,\"ticks\":\"\"},\"colorscale\":[[0.0,\"#0d0887\"],[0.1111111111111111,\"#46039f\"],[0.2222222222222222,\"#7201a8\"],[0.3333333333333333,\"#9c179e\"],[0.4444444444444444,\"#bd3786\"],[0.5555555555555556,\"#d8576b\"],[0.6666666666666666,\"#ed7953\"],[0.7777777777777778,\"#fb9f3a\"],[0.8888888888888888,\"#fdca26\"],[1.0,\"#f0f921\"]],\"type\":\"heatmap\"}],\"histogram2dcontour\":[{\"colorbar\":{\"outlinewidth\":0,\"ticks\":\"\"},\"colorscale\":[[0.0,\"#0d0887\"],[0.1111111111111111,\"#46039f\"],[0.2222222222222222,\"#7201a8\"],[0.3333333333333333,\"#9c179e\"],[0.4444444444444444,\"#bd3786\"],[0.5555555555555556,\"#d8576b\"],[0.6666666666666666,\"#ed7953\"],[0.7777777777777778,\"#fb9f3a\"],[0.8888888888888888,\"#fdca26\"],[1.0,\"#f0f921\"]],\"type\":\"histogram2dcontour\"}],\"histogram2d\":[{\"colorbar\":{\"outlinewidth\":0,\"ticks\":\"\"},\"colorscale\":[[0.0,\"#0d0887\"],[0.1111111111111111,\"#46039f\"],[0.2222222222222222,\"#7201a8\"],[0.3333333333333333,\"#9c179e\"],[0.4444444444444444,\"#bd3786\"],[0.5555555555555556,\"#d8576b\"],[0.6666666666666666,\"#ed7953\"],[0.7777777777777778,\"#fb9f3a\"],[0.8888888888888888,\"#fdca26\"],[1.0,\"#f0f921\"]],\"type\":\"histogram2d\"}],\"histogram\":[{\"marker\":{\"pattern\":{\"fillmode\":\"overlay\",\"size\":10,\"solidity\":0.2}},\"type\":\"histogram\"}],\"mesh3d\":[{\"colorbar\":{\"outlinewidth\":0,\"ticks\":\"\"},\"type\":\"mesh3d\"}],\"parcoords\":[{\"line\":{\"colorbar\":{\"outlinewidth\":0,\"ticks\":\"\"}},\"type\":\"parcoords\"}],\"pie\":[{\"automargin\":true,\"type\":\"pie\"}],\"scatter3d\":[{\"line\":{\"colorbar\":{\"outlinewidth\":0,\"ticks\":\"\"}},\"marker\":{\"colorbar\":{\"outlinewidth\":0,\"ticks\":\"\"}},\"type\":\"scatter3d\"}],\"scattercarpet\":[{\"marker\":{\"colorbar\":{\"outlinewidth\":0,\"ticks\":\"\"}},\"type\":\"scattercarpet\"}],\"scattergeo\":[{\"marker\":{\"colorbar\":{\"outlinewidth\":0,\"ticks\":\"\"}},\"type\":\"scattergeo\"}],\"scattergl\":[{\"marker\":{\"line\":{\"color\":\"#283442\"}},\"type\":\"scattergl\"}],\"scattermapbox\":[{\"marker\":{\"colorbar\":{\"outlinewidth\":0,\"ticks\":\"\"}},\"type\":\"scattermapbox\"}],\"scatterpolargl\":[{\"marker\":{\"colorbar\":{\"outlinewidth\":0,\"ticks\":\"\"}},\"type\":\"scatterpolargl\"}],\"scatterpolar\":[{\"marker\":{\"colorbar\":{\"outlinewidth\":0,\"ticks\":\"\"}},\"type\":\"scatterpolar\"}],\"scatter\":[{\"marker\":{\"line\":{\"color\":\"#283442\"}},\"type\":\"scatter\"}],\"scatterternary\":[{\"marker\":{\"colorbar\":{\"outlinewidth\":0,\"ticks\":\"\"}},\"type\":\"scatterternary\"}],\"surface\":[{\"colorbar\":{\"outlinewidth\":0,\"ticks\":\"\"},\"colorscale\":[[0.0,\"#0d0887\"],[0.1111111111111111,\"#46039f\"],[0.2222222222222222,\"#7201a8\"],[0.3333333333333333,\"#9c179e\"],[0.4444444444444444,\"#bd3786\"],[0.5555555555555556,\"#d8576b\"],[0.6666666666666666,\"#ed7953\"],[0.7777777777777778,\"#fb9f3a\"],[0.8888888888888888,\"#fdca26\"],[1.0,\"#f0f921\"]],\"type\":\"surface\"}],\"table\":[{\"cells\":{\"fill\":{\"color\":\"#506784\"},\"line\":{\"color\":\"rgb(17,17,17)\"}},\"header\":{\"fill\":{\"color\":\"#2a3f5f\"},\"line\":{\"color\":\"rgb(17,17,17)\"}},\"type\":\"table\"}]},\"layout\":{\"annotationdefaults\":{\"arrowcolor\":\"#f2f5fa\",\"arrowhead\":0,\"arrowwidth\":1},\"autotypenumbers\":\"strict\",\"coloraxis\":{\"colorbar\":{\"outlinewidth\":0,\"ticks\":\"\"}},\"colorscale\":{\"diverging\":[[0,\"#8e0152\"],[0.1,\"#c51b7d\"],[0.2,\"#de77ae\"],[0.3,\"#f1b6da\"],[0.4,\"#fde0ef\"],[0.5,\"#f7f7f7\"],[0.6,\"#e6f5d0\"],[0.7,\"#b8e186\"],[0.8,\"#7fbc41\"],[0.9,\"#4d9221\"],[1,\"#276419\"]],\"sequential\":[[0.0,\"#0d0887\"],[0.1111111111111111,\"#46039f\"],[0.2222222222222222,\"#7201a8\"],[0.3333333333333333,\"#9c179e\"],[0.4444444444444444,\"#bd3786\"],[0.5555555555555556,\"#d8576b\"],[0.6666666666666666,\"#ed7953\"],[0.7777777777777778,\"#fb9f3a\"],[0.8888888888888888,\"#fdca26\"],[1.0,\"#f0f921\"]],\"sequentialminus\":[[0.0,\"#0d0887\"],[0.1111111111111111,\"#46039f\"],[0.2222222222222222,\"#7201a8\"],[0.3333333333333333,\"#9c179e\"],[0.4444444444444444,\"#bd3786\"],[0.5555555555555556,\"#d8576b\"],[0.6666666666666666,\"#ed7953\"],[0.7777777777777778,\"#fb9f3a\"],[0.8888888888888888,\"#fdca26\"],[1.0,\"#f0f921\"]]},\"colorway\":[\"#636efa\",\"#EF553B\",\"#00cc96\",\"#ab63fa\",\"#FFA15A\",\"#19d3f3\",\"#FF6692\",\"#B6E880\",\"#FF97FF\",\"#FECB52\"],\"font\":{\"color\":\"#f2f5fa\"},\"geo\":{\"bgcolor\":\"rgb(17,17,17)\",\"lakecolor\":\"rgb(17,17,17)\",\"landcolor\":\"rgb(17,17,17)\",\"showlakes\":true,\"showland\":true,\"subunitcolor\":\"#506784\"},\"hoverlabel\":{\"align\":\"left\"},\"hovermode\":\"closest\",\"mapbox\":{\"style\":\"dark\"},\"paper_bgcolor\":\"rgb(17,17,17)\",\"plot_bgcolor\":\"rgb(17,17,17)\",\"polar\":{\"angularaxis\":{\"gridcolor\":\"#506784\",\"linecolor\":\"#506784\",\"ticks\":\"\"},\"bgcolor\":\"rgb(17,17,17)\",\"radialaxis\":{\"gridcolor\":\"#506784\",\"linecolor\":\"#506784\",\"ticks\":\"\"}},\"scene\":{\"xaxis\":{\"backgroundcolor\":\"rgb(17,17,17)\",\"gridcolor\":\"#506784\",\"gridwidth\":2,\"linecolor\":\"#506784\",\"showbackground\":true,\"ticks\":\"\",\"zerolinecolor\":\"#C8D4E3\"},\"yaxis\":{\"backgroundcolor\":\"rgb(17,17,17)\",\"gridcolor\":\"#506784\",\"gridwidth\":2,\"linecolor\":\"#506784\",\"showbackground\":true,\"ticks\":\"\",\"zerolinecolor\":\"#C8D4E3\"},\"zaxis\":{\"backgroundcolor\":\"rgb(17,17,17)\",\"gridcolor\":\"#506784\",\"gridwidth\":2,\"linecolor\":\"#506784\",\"showbackground\":true,\"ticks\":\"\",\"zerolinecolor\":\"#C8D4E3\"}},\"shapedefaults\":{\"line\":{\"color\":\"#f2f5fa\"}},\"sliderdefaults\":{\"bgcolor\":\"#C8D4E3\",\"bordercolor\":\"rgb(17,17,17)\",\"borderwidth\":1,\"tickwidth\":0},\"ternary\":{\"aaxis\":{\"gridcolor\":\"#506784\",\"linecolor\":\"#506784\",\"ticks\":\"\"},\"baxis\":{\"gridcolor\":\"#506784\",\"linecolor\":\"#506784\",\"ticks\":\"\"},\"bgcolor\":\"rgb(17,17,17)\",\"caxis\":{\"gridcolor\":\"#506784\",\"linecolor\":\"#506784\",\"ticks\":\"\"}},\"title\":{\"x\":0.05},\"updatemenudefaults\":{\"bgcolor\":\"#506784\",\"borderwidth\":0},\"xaxis\":{\"automargin\":true,\"gridcolor\":\"#283442\",\"linecolor\":\"#506784\",\"ticks\":\"\",\"title\":{\"standoff\":15},\"zerolinecolor\":\"#283442\",\"zerolinewidth\":2},\"yaxis\":{\"automargin\":true,\"gridcolor\":\"#283442\",\"linecolor\":\"#506784\",\"ticks\":\"\",\"title\":{\"standoff\":15},\"zerolinecolor\":\"#283442\",\"zerolinewidth\":2}}},\"xaxis\":{\"anchor\":\"y\",\"domain\":[0.0,0.31999999999999995],\"title\":{\"text\":\"TotalWorkingYears\"},\"type\":\"log\"},\"yaxis\":{\"anchor\":\"x\",\"domain\":[0.0,1.0],\"title\":{\"text\":\"Age\"}},\"xaxis2\":{\"anchor\":\"y2\",\"domain\":[0.33999999999999997,0.6599999999999999],\"matches\":\"x\",\"title\":{\"text\":\"TotalWorkingYears\"},\"type\":\"log\"},\"yaxis2\":{\"anchor\":\"x2\",\"domain\":[0.0,1.0],\"matches\":\"y\",\"showticklabels\":false},\"xaxis3\":{\"anchor\":\"y3\",\"domain\":[0.6799999999999999,0.9999999999999999],\"matches\":\"x\",\"title\":{\"text\":\"TotalWorkingYears\"},\"type\":\"log\"},\"yaxis3\":{\"anchor\":\"x3\",\"domain\":[0.0,1.0],\"matches\":\"y\",\"showticklabels\":false},\"annotations\":[{\"font\":{},\"showarrow\":false,\"text\":\"Department=Research & Development\",\"x\":0.15999999999999998,\"xanchor\":\"center\",\"xref\":\"paper\",\"y\":1.0,\"yanchor\":\"bottom\",\"yref\":\"paper\"},{\"font\":{},\"showarrow\":false,\"text\":\"Department=Sales\",\"x\":0.49999999999999994,\"xanchor\":\"center\",\"xref\":\"paper\",\"y\":1.0,\"yanchor\":\"bottom\",\"yref\":\"paper\"},{\"font\":{},\"showarrow\":false,\"text\":\"Department=Human Resources\",\"x\":0.8399999999999999,\"xanchor\":\"center\",\"xref\":\"paper\",\"y\":1.0,\"yanchor\":\"bottom\",\"yref\":\"paper\"}],\"legend\":{\"title\":{\"text\":\"Department\"},\"tracegroupgap\":0,\"itemsizing\":\"constant\"},\"margin\":{\"t\":60}},                        {\"responsive\": true}                    ).then(function(){\n",
              "                            \n",
              "var gd = document.getElementById('06efafa4-4143-4dca-a0c9-bd840f3312b8');\n",
              "var x = new MutationObserver(function (mutations, observer) {{\n",
              "        var display = window.getComputedStyle(gd).display;\n",
              "        if (!display || display === 'none') {{\n",
              "            console.log([gd, 'removed!']);\n",
              "            Plotly.purge(gd);\n",
              "            observer.disconnect();\n",
              "        }}\n",
              "}});\n",
              "\n",
              "// Listen for the removal of the full notebook cells\n",
              "var notebookContainer = gd.closest('#notebook-container');\n",
              "if (notebookContainer) {{\n",
              "    x.observe(notebookContainer, {childList: true});\n",
              "}}\n",
              "\n",
              "// Listen for the clearing of the current output cell\n",
              "var outputEl = gd.closest('.output');\n",
              "if (outputEl) {{\n",
              "    x.observe(outputEl, {childList: true});\n",
              "}}\n",
              "\n",
              "                        })                };                            </script>        </div>\n",
              "</body>\n",
              "</html>"
            ]
          },
          "metadata": {}
        }
      ]
    },
    {
      "cell_type": "code",
      "source": [
        "from sklearn.model_selection import train_test_split\n",
        "from sklearn.preprocessing import StandardScaler\n",
        "from sklearn.linear_model import LogisticRegression\n",
        "from sklearn.svm import SVC\n",
        "from xgboost import XGBClassifier\n",
        "from sklearn import metrics"
      ],
      "metadata": {
        "id": "UyOzxR6nOeyM"
      },
      "execution_count": null,
      "outputs": []
    },
    {
      "cell_type": "code",
      "source": [
        "features = train[['Age', 'DailyRate','DistanceFromHome','TotalWorkingYears','TrainingTimesLastYear','YearsAtCompany','YearsInCurrentRole','YearsSinceLastPromotion','YearsWithCurrManager','TrainingTimesLastYear']]\n",
        "target = train['Attrition']\n",
        "\n",
        "scaler = StandardScaler()\n",
        "features = scaler.fit_transform(features)\n",
        "\n",
        "X_train, X_valid, Y_train, Y_valid = train_test_split(\n",
        "    features, target, test_size=0.1, random_state=2022)\n",
        "print(X_train.shape, X_valid.shape)"
      ],
      "metadata": {
        "colab": {
          "base_uri": "https://localhost:8080/"
        },
        "id": "c86v0LlIVdT9",
        "outputId": "e19aabc4-e019-4702-ae7b-9ab4c29ccd18"
      },
      "execution_count": null,
      "outputs": [
        {
          "output_type": "stream",
          "name": "stdout",
          "text": [
            "(1509, 10) (168, 10)\n"
          ]
        }
      ]
    },
    {
      "cell_type": "code",
      "source": [
        "models = [LogisticRegression(), SVC(kernel='poly', probability=True), XGBClassifier()]\n",
        "\n",
        "for i in range(3):\n",
        "  models[i].fit(X_train, Y_train)\n",
        "\n",
        "  print(f'{models[i]} : ')\n",
        "  print('Training Accuracy : ', metrics.roc_auc_score(Y_train, models[i].predict_proba(X_train)[:,1]))\n",
        "  print('Validation Accuracy : ', metrics.roc_auc_score(Y_valid, models[i].predict_proba(X_valid)[:,1]))\n",
        "  print()"
      ],
      "metadata": {
        "colab": {
          "base_uri": "https://localhost:8080/"
        },
        "id": "2rIlbC-wVN3M",
        "outputId": "1e2c6145-2a7c-4b70-db36-c16b134ce8b0"
      },
      "execution_count": null,
      "outputs": [
        {
          "output_type": "stream",
          "name": "stdout",
          "text": [
            "LogisticRegression() : \n",
            "Training Accuracy :  0.6994023248550132\n",
            "Validation Accuracy :  0.5980697384806973\n",
            "\n",
            "SVC(kernel='poly', probability=True) : \n",
            "Training Accuracy :  0.7086460294279033\n",
            "Validation Accuracy :  0.6432129514321295\n",
            "\n",
            "XGBClassifier() : \n",
            "Training Accuracy :  0.9018922158721584\n",
            "Validation Accuracy :  0.5750311332503114\n",
            "\n"
          ]
        }
      ]
    },
    {
      "cell_type": "code",
      "source": [],
      "metadata": {
        "id": "7YIpJZdiG7Qn"
      },
      "execution_count": null,
      "outputs": []
    }
  ]
}